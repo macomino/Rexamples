{
 "cells": [
  {
   "cell_type": "markdown",
   "metadata": {},
   "source": [
    "# Intro a R"
   ]
  },
  {
   "cell_type": "code",
   "execution_count": 1,
   "metadata": {},
   "outputs": [],
   "source": [
    "?history"
   ]
  },
  {
   "cell_type": "code",
   "execution_count": 2,
   "metadata": {},
   "outputs": [
    {
     "data": {
      "text/html": [
       "<pre class=language-r><code>function (max.show = 25, reverse = FALSE, pattern, ...) \n",
       "{\n",
       "<span style=white-space:pre-wrap>    file1 &lt;- tempfile(\"Rrawhist\")</span>\n",
       "<span style=white-space:pre-wrap>    savehistory(file1)</span>\n",
       "<span style=white-space:pre-wrap>    rawhist &lt;- readLines(file1)</span>\n",
       "<span style=white-space:pre-wrap>    unlink(file1)</span>\n",
       "<span style=white-space:pre-wrap>    if (!missing(pattern)) </span>\n",
       "<span style=white-space:pre-wrap>        rawhist &lt;- unique(grep(pattern, rawhist, value = TRUE, </span>\n",
       "<span style=white-space:pre-wrap>            ...))</span>\n",
       "<span style=white-space:pre-wrap>    nlines &lt;- length(rawhist)</span>\n",
       "<span style=white-space:pre-wrap>    if (nlines) {</span>\n",
       "<span style=white-space:pre-wrap>        inds &lt;- max(1, nlines - max.show):nlines</span>\n",
       "<span style=white-space:pre-wrap>        if (reverse) </span>\n",
       "<span style=white-space:pre-wrap>            inds &lt;- rev(inds)</span>\n",
       "<span style=white-space:pre-wrap>    }</span>\n",
       "<span style=white-space:pre-wrap>    else inds &lt;- integer()</span>\n",
       "<span style=white-space:pre-wrap>    file2 &lt;- tempfile(\"hist\")</span>\n",
       "<span style=white-space:pre-wrap>    writeLines(rawhist[inds], file2)</span>\n",
       "<span style=white-space:pre-wrap>    file.show(file2, title = \"R History\", delete.file = TRUE)</span>\n",
       "}</code></pre>"
      ],
      "text/latex": [
       "\\begin{minted}{r}\n",
       "function (max.show = 25, reverse = FALSE, pattern, ...) \n",
       "\\{\n",
       "    file1 <- tempfile(\"Rrawhist\")\n",
       "    savehistory(file1)\n",
       "    rawhist <- readLines(file1)\n",
       "    unlink(file1)\n",
       "    if (!missing(pattern)) \n",
       "        rawhist <- unique(grep(pattern, rawhist, value = TRUE, \n",
       "            ...))\n",
       "    nlines <- length(rawhist)\n",
       "    if (nlines) \\{\n",
       "        inds <- max(1, nlines - max.show):nlines\n",
       "        if (reverse) \n",
       "            inds <- rev(inds)\n",
       "    \\}\n",
       "    else inds <- integer()\n",
       "    file2 <- tempfile(\"hist\")\n",
       "    writeLines(rawhist{[}inds{]}, file2)\n",
       "    file.show(file2, title = \"R History\", delete.file = TRUE)\n",
       "\\}\n",
       "\\end{minted}"
      ],
      "text/markdown": [
       "```r\n",
       "function (max.show = 25, reverse = FALSE, pattern, ...) \n",
       "{\n",
       "    file1 <- tempfile(\"Rrawhist\")\n",
       "    savehistory(file1)\n",
       "    rawhist <- readLines(file1)\n",
       "    unlink(file1)\n",
       "    if (!missing(pattern)) \n",
       "        rawhist <- unique(grep(pattern, rawhist, value = TRUE, \n",
       "            ...))\n",
       "    nlines <- length(rawhist)\n",
       "    if (nlines) {\n",
       "        inds <- max(1, nlines - max.show):nlines\n",
       "        if (reverse) \n",
       "            inds <- rev(inds)\n",
       "    }\n",
       "    else inds <- integer()\n",
       "    file2 <- tempfile(\"hist\")\n",
       "    writeLines(rawhist[inds], file2)\n",
       "    file.show(file2, title = \"R History\", delete.file = TRUE)\n",
       "}\n",
       "```"
      ],
      "text/plain": [
       "function (max.show = 25, reverse = FALSE, pattern, ...) \n",
       "{\n",
       "    file1 <- tempfile(\"Rrawhist\")\n",
       "    savehistory(file1)\n",
       "    rawhist <- readLines(file1)\n",
       "    unlink(file1)\n",
       "    if (!missing(pattern)) \n",
       "        rawhist <- unique(grep(pattern, rawhist, value = TRUE, \n",
       "            ...))\n",
       "    nlines <- length(rawhist)\n",
       "    if (nlines) {\n",
       "        inds <- max(1, nlines - max.show):nlines\n",
       "        if (reverse) \n",
       "            inds <- rev(inds)\n",
       "    }\n",
       "    else inds <- integer()\n",
       "    file2 <- tempfile(\"hist\")\n",
       "    writeLines(rawhist[inds], file2)\n",
       "    file.show(file2, title = \"R History\", delete.file = TRUE)\n",
       "}\n",
       "<bytecode: 0x562ec0fef4b8>\n",
       "<environment: namespace:utils>"
      ]
     },
     "metadata": {},
     "output_type": "display_data"
    }
   ],
   "source": [
    "history"
   ]
  },
  {
   "cell_type": "code",
   "execution_count": 4,
   "metadata": {},
   "outputs": [
    {
     "data": {
      "text/html": [
       "<ol class=list-inline>\n",
       "\t<li>12</li>\n",
       "\t<li>3</li>\n",
       "\t<li>3</li>\n",
       "\t<li>2</li>\n",
       "</ol>\n"
      ],
      "text/latex": [
       "\\begin{enumerate*}\n",
       "\\item 12\n",
       "\\item 3\n",
       "\\item 3\n",
       "\\item 2\n",
       "\\end{enumerate*}\n"
      ],
      "text/markdown": [
       "1. 12\n",
       "2. 3\n",
       "3. 3\n",
       "4. 2\n",
       "\n",
       "\n"
      ],
      "text/plain": [
       "[1] 12  3  3  2"
      ]
     },
     "metadata": {},
     "output_type": "display_data"
    }
   ],
   "source": [
    "c(12, 3, 3, 2)"
   ]
  },
  {
   "cell_type": "code",
   "execution_count": 7,
   "metadata": {},
   "outputs": [],
   "source": [
    "edades <- c(12, 3, 3, 2)"
   ]
  },
  {
   "cell_type": "code",
   "execution_count": 8,
   "metadata": {},
   "outputs": [
    {
     "data": {
      "text/html": [
       "<ol class=list-inline>\n",
       "\t<li>12</li>\n",
       "\t<li>3</li>\n",
       "\t<li>3</li>\n",
       "\t<li>2</li>\n",
       "</ol>\n"
      ],
      "text/latex": [
       "\\begin{enumerate*}\n",
       "\\item 12\n",
       "\\item 3\n",
       "\\item 3\n",
       "\\item 2\n",
       "\\end{enumerate*}\n"
      ],
      "text/markdown": [
       "1. 12\n",
       "2. 3\n",
       "3. 3\n",
       "4. 2\n",
       "\n",
       "\n"
      ],
      "text/plain": [
       "[1] 12  3  3  2"
      ]
     },
     "metadata": {},
     "output_type": "display_data"
    }
   ],
   "source": [
    "edades"
   ]
  },
  {
   "cell_type": "code",
   "execution_count": 9,
   "metadata": {},
   "outputs": [
    {
     "data": {
      "text/html": [
       "20"
      ],
      "text/latex": [
       "20"
      ],
      "text/markdown": [
       "20"
      ],
      "text/plain": [
       "[1] 20"
      ]
     },
     "metadata": {},
     "output_type": "display_data"
    }
   ],
   "source": [
    "sum(edades)"
   ]
  },
  {
   "cell_type": "code",
   "execution_count": 10,
   "metadata": {},
   "outputs": [
    {
     "data": {
      "text/html": [
       "5"
      ],
      "text/latex": [
       "5"
      ],
      "text/markdown": [
       "5"
      ],
      "text/plain": [
       "[1] 5"
      ]
     },
     "metadata": {},
     "output_type": "display_data"
    }
   ],
   "source": [
    "mean(edades)"
   ]
  },
  {
   "cell_type": "code",
   "execution_count": 11,
   "metadata": {},
   "outputs": [
    {
     "data": {
      "text/html": [
       "<ol class=list-inline>\n",
       "\t<li>2</li>\n",
       "\t<li>12</li>\n",
       "</ol>\n"
      ],
      "text/latex": [
       "\\begin{enumerate*}\n",
       "\\item 2\n",
       "\\item 12\n",
       "\\end{enumerate*}\n"
      ],
      "text/markdown": [
       "1. 2\n",
       "2. 12\n",
       "\n",
       "\n"
      ],
      "text/plain": [
       "[1]  2 12"
      ]
     },
     "metadata": {},
     "output_type": "display_data"
    }
   ],
   "source": [
    "range(edades)"
   ]
  },
  {
   "cell_type": "code",
   "execution_count": 12,
   "metadata": {},
   "outputs": [
    {
     "data": {
      "text/html": [
       "6"
      ],
      "text/latex": [
       "6"
      ],
      "text/markdown": [
       "6"
      ],
      "text/plain": [
       "[1] 6"
      ]
     },
     "metadata": {},
     "output_type": "display_data"
    }
   ],
   "source": [
    "1+2+3"
   ]
  },
  {
   "cell_type": "code",
   "execution_count": 13,
   "metadata": {},
   "outputs": [
    {
     "data": {
      "text/html": [
       "<ol class=list-inline>\n",
       "\t<li>0</li>\n",
       "\t<li>1</li>\n",
       "\t<li>2</li>\n",
       "\t<li>3</li>\n",
       "\t<li>5</li>\n",
       "\t<li>6</li>\n",
       "</ol>\n"
      ],
      "text/latex": [
       "\\begin{enumerate*}\n",
       "\\item 0\n",
       "\\item 1\n",
       "\\item 2\n",
       "\\item 3\n",
       "\\item 5\n",
       "\\item 6\n",
       "\\end{enumerate*}\n"
      ],
      "text/markdown": [
       "1. 0\n",
       "2. 1\n",
       "3. 2\n",
       "4. 3\n",
       "5. 5\n",
       "6. 6\n",
       "\n",
       "\n"
      ],
      "text/plain": [
       "[1] 0 1 2 3 5 6"
      ]
     },
     "metadata": {},
     "output_type": "display_data"
    }
   ],
   "source": [
    "c(0, 1,2,3,5,6)"
   ]
  },
  {
   "cell_type": "code",
   "execution_count": 14,
   "metadata": {},
   "outputs": [
    {
     "data": {
      "text/html": [
       "<ol class=list-inline>\n",
       "\t<li>1</li>\n",
       "\t<li>2</li>\n",
       "\t<li>3</li>\n",
       "\t<li>4</li>\n",
       "\t<li>5</li>\n",
       "\t<li>6</li>\n",
       "\t<li>7</li>\n",
       "\t<li>8</li>\n",
       "\t<li>9</li>\n",
       "\t<li>10</li>\n",
       "\t<li>11</li>\n",
       "\t<li>12</li>\n",
       "\t<li>13</li>\n",
       "\t<li>14</li>\n",
       "\t<li>15</li>\n",
       "\t<li>16</li>\n",
       "\t<li>17</li>\n",
       "\t<li>18</li>\n",
       "\t<li>19</li>\n",
       "\t<li>20</li>\n",
       "</ol>\n"
      ],
      "text/latex": [
       "\\begin{enumerate*}\n",
       "\\item 1\n",
       "\\item 2\n",
       "\\item 3\n",
       "\\item 4\n",
       "\\item 5\n",
       "\\item 6\n",
       "\\item 7\n",
       "\\item 8\n",
       "\\item 9\n",
       "\\item 10\n",
       "\\item 11\n",
       "\\item 12\n",
       "\\item 13\n",
       "\\item 14\n",
       "\\item 15\n",
       "\\item 16\n",
       "\\item 17\n",
       "\\item 18\n",
       "\\item 19\n",
       "\\item 20\n",
       "\\end{enumerate*}\n"
      ],
      "text/markdown": [
       "1. 1\n",
       "2. 2\n",
       "3. 3\n",
       "4. 4\n",
       "5. 5\n",
       "6. 6\n",
       "7. 7\n",
       "8. 8\n",
       "9. 9\n",
       "10. 10\n",
       "11. 11\n",
       "12. 12\n",
       "13. 13\n",
       "14. 14\n",
       "15. 15\n",
       "16. 16\n",
       "17. 17\n",
       "18. 18\n",
       "19. 19\n",
       "20. 20\n",
       "\n",
       "\n"
      ],
      "text/plain": [
       " [1]  1  2  3  4  5  6  7  8  9 10 11 12 13 14 15 16 17 18 19 20"
      ]
     },
     "metadata": {},
     "output_type": "display_data"
    }
   ],
   "source": [
    "1:20"
   ]
  },
  {
   "cell_type": "code",
   "execution_count": 15,
   "metadata": {},
   "outputs": [],
   "source": [
    "variable = c(2,4,5)"
   ]
  },
  {
   "cell_type": "code",
   "execution_count": 16,
   "metadata": {},
   "outputs": [
    {
     "data": {
      "text/html": [
       "<ol class=list-inline>\n",
       "\t<li>2</li>\n",
       "\t<li>4</li>\n",
       "\t<li>5</li>\n",
       "</ol>\n"
      ],
      "text/latex": [
       "\\begin{enumerate*}\n",
       "\\item 2\n",
       "\\item 4\n",
       "\\item 5\n",
       "\\end{enumerate*}\n"
      ],
      "text/markdown": [
       "1. 2\n",
       "2. 4\n",
       "3. 5\n",
       "\n",
       "\n"
      ],
      "text/plain": [
       "[1] 2 4 5"
      ]
     },
     "metadata": {},
     "output_type": "display_data"
    }
   ],
   "source": [
    "variable"
   ]
  },
  {
   "cell_type": "code",
   "execution_count": 17,
   "metadata": {},
   "outputs": [],
   "source": [
    " a <- c(3,4)"
   ]
  },
  {
   "cell_type": "code",
   "execution_count": 18,
   "metadata": {},
   "outputs": [],
   "source": [
    "?seq"
   ]
  },
  {
   "cell_type": "code",
   "execution_count": 19,
   "metadata": {},
   "outputs": [
    {
     "data": {
      "text/html": [
       "FALSE"
      ],
      "text/latex": [
       "FALSE"
      ],
      "text/markdown": [
       "FALSE"
      ],
      "text/plain": [
       "[1] FALSE"
      ]
     },
     "metadata": {},
     "output_type": "display_data"
    }
   ],
   "source": [
    "5 %in% 2"
   ]
  },
  {
   "cell_type": "code",
   "execution_count": 20,
   "metadata": {},
   "outputs": [
    {
     "data": {
      "text/html": [
       "TRUE"
      ],
      "text/latex": [
       "TRUE"
      ],
      "text/markdown": [
       "TRUE"
      ],
      "text/plain": [
       "[1] TRUE"
      ]
     },
     "metadata": {},
     "output_type": "display_data"
    }
   ],
   "source": [
    "5 %in% c(3,4,5)"
   ]
  },
  {
   "cell_type": "code",
   "execution_count": 21,
   "metadata": {},
   "outputs": [
    {
     "data": {
      "text/html": [
       "TRUE"
      ],
      "text/latex": [
       "TRUE"
      ],
      "text/markdown": [
       "TRUE"
      ],
      "text/plain": [
       "[1] TRUE"
      ]
     },
     "metadata": {},
     "output_type": "display_data"
    }
   ],
   "source": [
    "c(TRUE, TRUE, FALSE) && c(TRUE, FALSE, FALSE)"
   ]
  },
  {
   "cell_type": "code",
   "execution_count": 22,
   "metadata": {},
   "outputs": [
    {
     "data": {
      "text/html": [
       "FALSE"
      ],
      "text/latex": [
       "FALSE"
      ],
      "text/markdown": [
       "FALSE"
      ],
      "text/plain": [
       "[1] FALSE"
      ]
     },
     "metadata": {},
     "output_type": "display_data"
    }
   ],
   "source": [
    "c(TRUE, TRUE, FALSE) && c(FALSE, FALSE, FALSE)"
   ]
  },
  {
   "cell_type": "code",
   "execution_count": 23,
   "metadata": {},
   "outputs": [
    {
     "name": "stdout",
     "output_type": "stream",
     "text": [
      "[1] \"x es un número postivo o cero\"\n"
     ]
    }
   ],
   "source": [
    "x <- 5\n",
    "if (x < 0) {\n",
    "  print(\"x es un número negativo\")\n",
    "} else {\n",
    "  print(\"x es un número postivo o cero\")\n",
    "}"
   ]
  },
  {
   "cell_type": "code",
   "execution_count": 24,
   "metadata": {},
   "outputs": [
    {
     "name": "stdout",
     "output_type": "stream",
     "text": [
      "[1] \"New York está en la posición 1 del vector de ciudades.\"\n",
      "[1] \"Paris está en la posición 2 del vector de ciudades.\"\n",
      "[1] \"London está en la posición 3 del vector de ciudades.\"\n",
      "[1] \"Tokyo está en la posición 4 del vector de ciudades.\"\n",
      "[1] \"Rio de Janeiro está en la posición 5 del vector de ciudades.\"\n",
      "[1] \"Cape Town está en la posición 6 del vector de ciudades.\"\n"
     ]
    }
   ],
   "source": [
    "cities <- c(\"New York\", \"Paris\", \"London\", \"Tokyo\", \"Rio de Janeiro\", \"Cape Town\")\n",
    "for (i in 1:length(cities)) {\n",
    "  print(paste(cities[i], \"está en la posición\", i, \"del vector de ciudades.\"))\n",
    "}"
   ]
  },
  {
   "cell_type": "code",
   "execution_count": 26,
   "metadata": {},
   "outputs": [
    {
     "name": "stdout",
     "output_type": "stream",
     "text": [
      "[1] \"log of 1 = 0\"\n",
      "[1] \"log of 2 = 0.693147180559945\"\n",
      "[1] \"log of 4 = 1.38629436111989\"\n"
     ]
    },
    {
     "name": "stderr",
     "output_type": "stream",
     "text": [
      "Warning message in log(input):\n",
      "“NaNs produced”"
     ]
    },
    {
     "name": "stdout",
     "output_type": "stream",
     "text": [
      "[1] \"log of -5 = NaN\"\n"
     ]
    },
    {
     "ename": "ERROR",
     "evalue": "Error in log(input): non-numeric argument to mathematical function\n",
     "output_type": "error",
     "traceback": [
      "Error in log(input): non-numeric argument to mathematical function\nTraceback:\n",
      "1. print(paste(\"log of\", input, \"=\", log(input)))",
      "2. paste(\"log of\", input, \"=\", log(input))"
     ]
    }
   ],
   "source": [
    "######################\n",
    "# Control de errores #\n",
    "######################\n",
    "inputs = list(1, 2, 4, -5, \"oops\", 0, 10)\n",
    "\n",
    "for(input in inputs) {\n",
    "  print(paste(\"log of\", input, \"=\", log(input)))\n",
    "}"
   ]
  },
  {
   "cell_type": "code",
   "execution_count": 27,
   "metadata": {},
   "outputs": [
    {
     "name": "stdout",
     "output_type": "stream",
     "text": [
      "[1] \"log of 1 = 0\"\n",
      "[1] \"log of 2 = 0.693147180559945\"\n",
      "[1] \"log of 4 = 1.38629436111989\"\n",
      "[1] \"negative argument -5\"\n",
      "[1] \"non-numeric argument oops\"\n",
      "[1] \"log of 0 = -Inf\"\n",
      "[1] \"log of 10 = 2.30258509299405\"\n"
     ]
    }
   ],
   "source": [
    "for(input in inputs) {\n",
    "  tryCatch(print(paste(\"log of\", input, \"=\", log(input))),\n",
    "           warning = function(w) { print(paste(\"negative argument\", input)); log(-input) },\n",
    "           error = function(e) { print(paste(\"non-numeric argument\", input)); NaN })\n",
    "}"
   ]
  },
  {
   "cell_type": "code",
   "execution_count": 28,
   "metadata": {},
   "outputs": [],
   "source": [
    "?tryCatch"
   ]
  },
  {
   "cell_type": "code",
   "execution_count": 31,
   "metadata": {},
   "outputs": [
    {
     "data": {
      "text/html": [
       "<ol class=list-inline>\n",
       "\t<li>'A'</li>\n",
       "\t<li>'B'</li>\n",
       "\t<li>'C'</li>\n",
       "\t<li>'D'</li>\n",
       "\t<li>'E'</li>\n",
       "\t<li>'F'</li>\n",
       "\t<li>'G'</li>\n",
       "\t<li>'H'</li>\n",
       "\t<li>'I'</li>\n",
       "\t<li>'J'</li>\n",
       "\t<li>'K'</li>\n",
       "\t<li>'L'</li>\n",
       "\t<li>'M'</li>\n",
       "\t<li>'N'</li>\n",
       "\t<li>'O'</li>\n",
       "\t<li>'P'</li>\n",
       "\t<li>'Q'</li>\n",
       "\t<li>'R'</li>\n",
       "\t<li>'S'</li>\n",
       "\t<li>'T'</li>\n",
       "\t<li>'U'</li>\n",
       "\t<li>'V'</li>\n",
       "\t<li>'W'</li>\n",
       "\t<li>'X'</li>\n",
       "\t<li>'Y'</li>\n",
       "\t<li>'Z'</li>\n",
       "</ol>\n"
      ],
      "text/latex": [
       "\\begin{enumerate*}\n",
       "\\item 'A'\n",
       "\\item 'B'\n",
       "\\item 'C'\n",
       "\\item 'D'\n",
       "\\item 'E'\n",
       "\\item 'F'\n",
       "\\item 'G'\n",
       "\\item 'H'\n",
       "\\item 'I'\n",
       "\\item 'J'\n",
       "\\item 'K'\n",
       "\\item 'L'\n",
       "\\item 'M'\n",
       "\\item 'N'\n",
       "\\item 'O'\n",
       "\\item 'P'\n",
       "\\item 'Q'\n",
       "\\item 'R'\n",
       "\\item 'S'\n",
       "\\item 'T'\n",
       "\\item 'U'\n",
       "\\item 'V'\n",
       "\\item 'W'\n",
       "\\item 'X'\n",
       "\\item 'Y'\n",
       "\\item 'Z'\n",
       "\\end{enumerate*}\n"
      ],
      "text/markdown": [
       "1. 'A'\n",
       "2. 'B'\n",
       "3. 'C'\n",
       "4. 'D'\n",
       "5. 'E'\n",
       "6. 'F'\n",
       "7. 'G'\n",
       "8. 'H'\n",
       "9. 'I'\n",
       "10. 'J'\n",
       "11. 'K'\n",
       "12. 'L'\n",
       "13. 'M'\n",
       "14. 'N'\n",
       "15. 'O'\n",
       "16. 'P'\n",
       "17. 'Q'\n",
       "18. 'R'\n",
       "19. 'S'\n",
       "20. 'T'\n",
       "21. 'U'\n",
       "22. 'V'\n",
       "23. 'W'\n",
       "24. 'X'\n",
       "25. 'Y'\n",
       "26. 'Z'\n",
       "\n",
       "\n"
      ],
      "text/plain": [
       " [1] \"A\" \"B\" \"C\" \"D\" \"E\" \"F\" \"G\" \"H\" \"I\" \"J\" \"K\" \"L\" \"M\" \"N\" \"O\" \"P\" \"Q\" \"R\" \"S\"\n",
       "[20] \"T\" \"U\" \"V\" \"W\" \"X\" \"Y\" \"Z\""
      ]
     },
     "metadata": {},
     "output_type": "display_data"
    },
    {
     "data": {
      "text/html": [
       "<ol class=list-inline>\n",
       "\t<li>'a'</li>\n",
       "\t<li>'b'</li>\n",
       "\t<li>'c'</li>\n",
       "\t<li>'d'</li>\n",
       "\t<li>'e'</li>\n",
       "\t<li>'f'</li>\n",
       "\t<li>'g'</li>\n",
       "\t<li>'h'</li>\n",
       "\t<li>'i'</li>\n",
       "\t<li>'j'</li>\n",
       "\t<li>'k'</li>\n",
       "\t<li>'l'</li>\n",
       "\t<li>'m'</li>\n",
       "\t<li>'n'</li>\n",
       "\t<li>'o'</li>\n",
       "\t<li>'p'</li>\n",
       "\t<li>'q'</li>\n",
       "\t<li>'r'</li>\n",
       "\t<li>'s'</li>\n",
       "\t<li>'t'</li>\n",
       "\t<li>'u'</li>\n",
       "\t<li>'v'</li>\n",
       "\t<li>'w'</li>\n",
       "\t<li>'x'</li>\n",
       "\t<li>'y'</li>\n",
       "\t<li>'z'</li>\n",
       "</ol>\n"
      ],
      "text/latex": [
       "\\begin{enumerate*}\n",
       "\\item 'a'\n",
       "\\item 'b'\n",
       "\\item 'c'\n",
       "\\item 'd'\n",
       "\\item 'e'\n",
       "\\item 'f'\n",
       "\\item 'g'\n",
       "\\item 'h'\n",
       "\\item 'i'\n",
       "\\item 'j'\n",
       "\\item 'k'\n",
       "\\item 'l'\n",
       "\\item 'm'\n",
       "\\item 'n'\n",
       "\\item 'o'\n",
       "\\item 'p'\n",
       "\\item 'q'\n",
       "\\item 'r'\n",
       "\\item 's'\n",
       "\\item 't'\n",
       "\\item 'u'\n",
       "\\item 'v'\n",
       "\\item 'w'\n",
       "\\item 'x'\n",
       "\\item 'y'\n",
       "\\item 'z'\n",
       "\\end{enumerate*}\n"
      ],
      "text/markdown": [
       "1. 'a'\n",
       "2. 'b'\n",
       "3. 'c'\n",
       "4. 'd'\n",
       "5. 'e'\n",
       "6. 'f'\n",
       "7. 'g'\n",
       "8. 'h'\n",
       "9. 'i'\n",
       "10. 'j'\n",
       "11. 'k'\n",
       "12. 'l'\n",
       "13. 'm'\n",
       "14. 'n'\n",
       "15. 'o'\n",
       "16. 'p'\n",
       "17. 'q'\n",
       "18. 'r'\n",
       "19. 's'\n",
       "20. 't'\n",
       "21. 'u'\n",
       "22. 'v'\n",
       "23. 'w'\n",
       "24. 'x'\n",
       "25. 'y'\n",
       "26. 'z'\n",
       "\n",
       "\n"
      ],
      "text/plain": [
       " [1] \"a\" \"b\" \"c\" \"d\" \"e\" \"f\" \"g\" \"h\" \"i\" \"j\" \"k\" \"l\" \"m\" \"n\" \"o\" \"p\" \"q\" \"r\" \"s\"\n",
       "[20] \"t\" \"u\" \"v\" \"w\" \"x\" \"y\" \"z\""
      ]
     },
     "metadata": {},
     "output_type": "display_data"
    },
    {
     "data": {
      "text/html": [
       "<ol class=list-inline>\n",
       "\t<li>'Jan'</li>\n",
       "\t<li>'Feb'</li>\n",
       "\t<li>'Mar'</li>\n",
       "\t<li>'Apr'</li>\n",
       "\t<li>'May'</li>\n",
       "\t<li>'Jun'</li>\n",
       "\t<li>'Jul'</li>\n",
       "\t<li>'Aug'</li>\n",
       "\t<li>'Sep'</li>\n",
       "\t<li>'Oct'</li>\n",
       "\t<li>'Nov'</li>\n",
       "\t<li>'Dec'</li>\n",
       "</ol>\n"
      ],
      "text/latex": [
       "\\begin{enumerate*}\n",
       "\\item 'Jan'\n",
       "\\item 'Feb'\n",
       "\\item 'Mar'\n",
       "\\item 'Apr'\n",
       "\\item 'May'\n",
       "\\item 'Jun'\n",
       "\\item 'Jul'\n",
       "\\item 'Aug'\n",
       "\\item 'Sep'\n",
       "\\item 'Oct'\n",
       "\\item 'Nov'\n",
       "\\item 'Dec'\n",
       "\\end{enumerate*}\n"
      ],
      "text/markdown": [
       "1. 'Jan'\n",
       "2. 'Feb'\n",
       "3. 'Mar'\n",
       "4. 'Apr'\n",
       "5. 'May'\n",
       "6. 'Jun'\n",
       "7. 'Jul'\n",
       "8. 'Aug'\n",
       "9. 'Sep'\n",
       "10. 'Oct'\n",
       "11. 'Nov'\n",
       "12. 'Dec'\n",
       "\n",
       "\n"
      ],
      "text/plain": [
       " [1] \"Jan\" \"Feb\" \"Mar\" \"Apr\" \"May\" \"Jun\" \"Jul\" \"Aug\" \"Sep\" \"Oct\" \"Nov\" \"Dec\""
      ]
     },
     "metadata": {},
     "output_type": "display_data"
    },
    {
     "data": {
      "text/html": [
       "<ol class=list-inline>\n",
       "\t<li>'January'</li>\n",
       "\t<li>'February'</li>\n",
       "\t<li>'March'</li>\n",
       "\t<li>'April'</li>\n",
       "\t<li>'May'</li>\n",
       "\t<li>'June'</li>\n",
       "\t<li>'July'</li>\n",
       "\t<li>'August'</li>\n",
       "\t<li>'September'</li>\n",
       "\t<li>'October'</li>\n",
       "\t<li>'November'</li>\n",
       "\t<li>'December'</li>\n",
       "</ol>\n"
      ],
      "text/latex": [
       "\\begin{enumerate*}\n",
       "\\item 'January'\n",
       "\\item 'February'\n",
       "\\item 'March'\n",
       "\\item 'April'\n",
       "\\item 'May'\n",
       "\\item 'June'\n",
       "\\item 'July'\n",
       "\\item 'August'\n",
       "\\item 'September'\n",
       "\\item 'October'\n",
       "\\item 'November'\n",
       "\\item 'December'\n",
       "\\end{enumerate*}\n"
      ],
      "text/markdown": [
       "1. 'January'\n",
       "2. 'February'\n",
       "3. 'March'\n",
       "4. 'April'\n",
       "5. 'May'\n",
       "6. 'June'\n",
       "7. 'July'\n",
       "8. 'August'\n",
       "9. 'September'\n",
       "10. 'October'\n",
       "11. 'November'\n",
       "12. 'December'\n",
       "\n",
       "\n"
      ],
      "text/plain": [
       " [1] \"January\"   \"February\"  \"March\"     \"April\"     \"May\"       \"June\"     \n",
       " [7] \"July\"      \"August\"    \"September\" \"October\"   \"November\"  \"December\" "
      ]
     },
     "metadata": {},
     "output_type": "display_data"
    },
    {
     "data": {
      "text/html": [
       "3.14159265358979"
      ],
      "text/latex": [
       "3.14159265358979"
      ],
      "text/markdown": [
       "3.14159265358979"
      ],
      "text/plain": [
       "[1] 3.141593"
      ]
     },
     "metadata": {},
     "output_type": "display_data"
    }
   ],
   "source": [
    "LETTERS\n",
    "\n",
    "letters\n",
    "\n",
    "month.abb\n",
    "\n",
    "month.name\n",
    "\n",
    "\n",
    "\n",
    "pi"
   ]
  },
  {
   "cell_type": "code",
   "execution_count": null,
   "metadata": {},
   "outputs": [],
   "source": [
    "###################################\n",
    "# Basics: operadores aritméticos  #\n",
    "###################################\n",
    "\n",
    "# Suma 5 + 5\n",
    "5+5"
   ]
  },
  {
   "cell_type": "code",
   "execution_count": 33,
   "metadata": {},
   "outputs": [
    {
     "data": {
      "text/html": [
       "0"
      ],
      "text/latex": [
       "0"
      ],
      "text/markdown": [
       "0"
      ],
      "text/plain": [
       "[1] 0"
      ]
     },
     "metadata": {},
     "output_type": "display_data"
    }
   ],
   "source": [
    "# Resta 5 - 5\n",
    "5-5\n"
   ]
  },
  {
   "cell_type": "code",
   "execution_count": 34,
   "metadata": {},
   "outputs": [
    {
     "data": {
      "text/html": [
       "15"
      ],
      "text/latex": [
       "15"
      ],
      "text/markdown": [
       "15"
      ],
      "text/plain": [
       "[1] 15"
      ]
     },
     "metadata": {},
     "output_type": "display_data"
    }
   ],
   "source": [
    "# Multiplica 3 * 5\n",
    "3*5"
   ]
  },
  {
   "cell_type": "code",
   "execution_count": 35,
   "metadata": {},
   "outputs": [
    {
     "data": {
      "text/html": [
       "5"
      ],
      "text/latex": [
       "5"
      ],
      "text/markdown": [
       "5"
      ],
      "text/plain": [
       "[1] 5"
      ]
     },
     "metadata": {},
     "output_type": "display_data"
    }
   ],
   "source": [
    "# Suma 5 +5 y divide el resultado entre 2\n",
    "(5+5)/2"
   ]
  },
  {
   "cell_type": "code",
   "execution_count": 38,
   "metadata": {},
   "outputs": [
    {
     "data": {
      "text/html": [
       "32"
      ],
      "text/latex": [
       "32"
      ],
      "text/markdown": [
       "32"
      ],
      "text/plain": [
       "[1] 32"
      ]
     },
     "metadata": {},
     "output_type": "display_data"
    }
   ],
   "source": [
    "# Calcula 2 elevado a 5\n",
    "2**5"
   ]
  },
  {
   "cell_type": "code",
   "execution_count": 39,
   "metadata": {},
   "outputs": [
    {
     "data": {
      "text/html": [
       "4"
      ],
      "text/latex": [
       "4"
      ],
      "text/markdown": [
       "4"
      ],
      "text/plain": [
       "[1] 4"
      ]
     },
     "metadata": {},
     "output_type": "display_data"
    }
   ],
   "source": [
    "# Calcula modulo de 28 entre 6\n",
    "28 %% 6"
   ]
  },
  {
   "cell_type": "code",
   "execution_count": 64,
   "metadata": {},
   "outputs": [],
   "source": [
    "###################################\n",
    "# Basics: asignación de variables #\n",
    "###################################\n",
    "\n",
    "# Asgina el valor 5 a la variable my_apples\n",
    "my_apples <- 5"
   ]
  },
  {
   "cell_type": "code",
   "execution_count": 65,
   "metadata": {},
   "outputs": [
    {
     "data": {
      "text/html": [
       "5"
      ],
      "text/latex": [
       "5"
      ],
      "text/markdown": [
       "5"
      ],
      "text/plain": [
       "[1] 5"
      ]
     },
     "metadata": {},
     "output_type": "display_data"
    }
   ],
   "source": [
    "# Muestra el contenido de la variable my_apples\n",
    "my_apples"
   ]
  },
  {
   "cell_type": "code",
   "execution_count": 67,
   "metadata": {},
   "outputs": [],
   "source": [
    "# Asgina el valor 6 a la variable my_pears\n",
    "6 -> my_pears "
   ]
  },
  {
   "cell_type": "code",
   "execution_count": 68,
   "metadata": {},
   "outputs": [
    {
     "data": {
      "text/html": [
       "6"
      ],
      "text/latex": [
       "6"
      ],
      "text/markdown": [
       "6"
      ],
      "text/plain": [
       "[1] 6"
      ]
     },
     "metadata": {},
     "output_type": "display_data"
    }
   ],
   "source": [
    "# Muestra el contenido de la variable my_pears\n",
    "my_pears"
   ]
  },
  {
   "cell_type": "code",
   "execution_count": 69,
   "metadata": {},
   "outputs": [],
   "source": [
    "# Suma peras con manzanas: crea una nueva variable my_fruit con la suma\n",
    "my_fruit <- my_pears + my_apples"
   ]
  },
  {
   "cell_type": "code",
   "execution_count": 70,
   "metadata": {},
   "outputs": [
    {
     "data": {
      "text/html": [
       "11"
      ],
      "text/latex": [
       "11"
      ],
      "text/markdown": [
       "11"
      ],
      "text/plain": [
       "[1] 11"
      ]
     },
     "metadata": {},
     "output_type": "display_data"
    }
   ],
   "source": [
    "# Muestra el número total de piezas de fruta\n",
    "my_fruit"
   ]
  },
  {
   "cell_type": "code",
   "execution_count": 71,
   "metadata": {},
   "outputs": [],
   "source": [
    "###################################\n",
    "# Basics: tipos básicos           #\n",
    "###################################\n",
    "\n",
    "# Declara una variable numérica, my_numeric, con el valor 42\n",
    "my_numeric <- 42"
   ]
  },
  {
   "cell_type": "code",
   "execution_count": 72,
   "metadata": {},
   "outputs": [],
   "source": [
    "# Declara una variable de tipo texto, my_character, con el valor \"forty-two\"\n",
    "my_character <- \"forty-two\""
   ]
  },
  {
   "cell_type": "code",
   "execution_count": 73,
   "metadata": {},
   "outputs": [],
   "source": [
    "# Declara una variable booleana, my_logical, con el valor FALSE\n",
    "my_logical <- FALSE"
   ]
  },
  {
   "cell_type": "code",
   "execution_count": 74,
   "metadata": {},
   "outputs": [
    {
     "data": {
      "text/html": [
       "'double'"
      ],
      "text/latex": [
       "'double'"
      ],
      "text/markdown": [
       "'double'"
      ],
      "text/plain": [
       "[1] \"double\""
      ]
     },
     "metadata": {},
     "output_type": "display_data"
    },
    {
     "data": {
      "text/html": [
       "'character'"
      ],
      "text/latex": [
       "'character'"
      ],
      "text/markdown": [
       "'character'"
      ],
      "text/plain": [
       "[1] \"character\""
      ]
     },
     "metadata": {},
     "output_type": "display_data"
    },
    {
     "data": {
      "text/html": [
       "'logical'"
      ],
      "text/latex": [
       "'logical'"
      ],
      "text/markdown": [
       "'logical'"
      ],
      "text/plain": [
       "[1] \"logical\""
      ]
     },
     "metadata": {},
     "output_type": "display_data"
    }
   ],
   "source": [
    "# ¿De qué tipo son?\n",
    "typeof(my_numeric)\n",
    "typeof(my_character)\n",
    "typeof(my_logical)"
   ]
  },
  {
   "cell_type": "code",
   "execution_count": 60,
   "metadata": {},
   "outputs": [
    {
     "data": {
      "text/html": [
       "'numeric'"
      ],
      "text/latex": [
       "'numeric'"
      ],
      "text/markdown": [
       "'numeric'"
      ],
      "text/plain": [
       "[1] \"numeric\""
      ]
     },
     "metadata": {},
     "output_type": "display_data"
    },
    {
     "data": {
      "text/html": [
       "'character'"
      ],
      "text/latex": [
       "'character'"
      ],
      "text/markdown": [
       "'character'"
      ],
      "text/plain": [
       "[1] \"character\""
      ]
     },
     "metadata": {},
     "output_type": "display_data"
    },
    {
     "data": {
      "text/html": [
       "'logical'"
      ],
      "text/latex": [
       "'logical'"
      ],
      "text/markdown": [
       "'logical'"
      ],
      "text/plain": [
       "[1] \"logical\""
      ]
     },
     "metadata": {},
     "output_type": "display_data"
    }
   ],
   "source": [
    "# ¿De qué clase son?\n",
    "class(my_numeric)\n",
    "class(my_character)\n",
    "class(my_logical)"
   ]
  },
  {
   "cell_type": "code",
   "execution_count": 61,
   "metadata": {},
   "outputs": [
    {
     "data": {
      "text/html": [
       "'numeric'"
      ],
      "text/latex": [
       "'numeric'"
      ],
      "text/markdown": [
       "'numeric'"
      ],
      "text/plain": [
       "[1] \"numeric\""
      ]
     },
     "metadata": {},
     "output_type": "display_data"
    },
    {
     "data": {
      "text/html": [
       "'character'"
      ],
      "text/latex": [
       "'character'"
      ],
      "text/markdown": [
       "'character'"
      ],
      "text/plain": [
       "[1] \"character\""
      ]
     },
     "metadata": {},
     "output_type": "display_data"
    },
    {
     "data": {
      "text/html": [
       "'logical'"
      ],
      "text/latex": [
       "'logical'"
      ],
      "text/markdown": [
       "'logical'"
      ],
      "text/plain": [
       "[1] \"logical\""
      ]
     },
     "metadata": {},
     "output_type": "display_data"
    }
   ],
   "source": [
    "# ¿Cuál es su modo?\n",
    "mode(my_numeric)\n",
    "mode(my_character)\n",
    "mode(my_logical)"
   ]
  },
  {
   "cell_type": "code",
   "execution_count": 75,
   "metadata": {},
   "outputs": [
    {
     "ename": "ERROR",
     "evalue": "Error in parse(text = x, srcfile = src): <text>:1:2: unexpected input\n1: 2<c2>\n     ^\n",
     "output_type": "error",
     "traceback": [
      "Error in parse(text = x, srcfile = src): <text>:1:2: unexpected input\n1: 2<c2>\n     ^\nTraceback:\n"
     ]
    }
   ],
   "source": []
  },
  {
   "cell_type": "markdown",
   "metadata": {},
   "source": [
    "# Vectores"
   ]
  },
  {
   "cell_type": "code",
   "execution_count": 76,
   "metadata": {},
   "outputs": [
    {
     "data": {
      "text/html": [
       "<ol class=list-inline>\n",
       "\t<li>FALSE</li>\n",
       "\t<li>FALSE</li>\n",
       "\t<li>FALSE</li>\n",
       "\t<li>FALSE</li>\n",
       "</ol>\n"
      ],
      "text/latex": [
       "\\begin{enumerate*}\n",
       "\\item FALSE\n",
       "\\item FALSE\n",
       "\\item FALSE\n",
       "\\item FALSE\n",
       "\\end{enumerate*}\n"
      ],
      "text/markdown": [
       "1. FALSE\n",
       "2. FALSE\n",
       "3. FALSE\n",
       "4. FALSE\n",
       "\n",
       "\n"
      ],
      "text/plain": [
       "[1] FALSE FALSE FALSE FALSE"
      ]
     },
     "metadata": {},
     "output_type": "display_data"
    }
   ],
   "source": [
    "v1 <- vector(mode = 'logical', length = 4)\n",
    "v1"
   ]
  },
  {
   "cell_type": "code",
   "execution_count": 78,
   "metadata": {},
   "outputs": [
    {
     "data": {
      "text/html": [
       "<ol class=list-inline>\n",
       "\t<li>0</li>\n",
       "\t<li>0</li>\n",
       "\t<li>0</li>\n",
       "\t<li>0</li>\n",
       "</ol>\n"
      ],
      "text/latex": [
       "\\begin{enumerate*}\n",
       "\\item 0\n",
       "\\item 0\n",
       "\\item 0\n",
       "\\item 0\n",
       "\\end{enumerate*}\n"
      ],
      "text/markdown": [
       "1. 0\n",
       "2. 0\n",
       "3. 0\n",
       "4. 0\n",
       "\n",
       "\n"
      ],
      "text/plain": [
       "[1] 0 0 0 0"
      ]
     },
     "metadata": {},
     "output_type": "display_data"
    }
   ],
   "source": [
    "v2 <- vector(mode = 'integer', length = 4)\n",
    "v2"
   ]
  },
  {
   "cell_type": "code",
   "execution_count": 79,
   "metadata": {},
   "outputs": [
    {
     "data": {
      "text/html": [
       "<ol class=list-inline>\n",
       "\t<li>0</li>\n",
       "\t<li>0</li>\n",
       "\t<li>0</li>\n",
       "\t<li>0</li>\n",
       "</ol>\n"
      ],
      "text/latex": [
       "\\begin{enumerate*}\n",
       "\\item 0\n",
       "\\item 0\n",
       "\\item 0\n",
       "\\item 0\n",
       "\\end{enumerate*}\n"
      ],
      "text/markdown": [
       "1. 0\n",
       "2. 0\n",
       "3. 0\n",
       "4. 0\n",
       "\n",
       "\n"
      ],
      "text/plain": [
       "[1] 0 0 0 0"
      ]
     },
     "metadata": {},
     "output_type": "display_data"
    }
   ],
   "source": [
    "numeric(4)"
   ]
  },
  {
   "cell_type": "code",
   "execution_count": 80,
   "metadata": {},
   "outputs": [
    {
     "data": {
      "text/html": [
       "<ol class=list-inline>\n",
       "\t<li>''</li>\n",
       "\t<li>''</li>\n",
       "\t<li>''</li>\n",
       "\t<li>''</li>\n",
       "</ol>\n"
      ],
      "text/latex": [
       "\\begin{enumerate*}\n",
       "\\item ''\n",
       "\\item ''\n",
       "\\item ''\n",
       "\\item ''\n",
       "\\end{enumerate*}\n"
      ],
      "text/markdown": [
       "1. ''\n",
       "2. ''\n",
       "3. ''\n",
       "4. ''\n",
       "\n",
       "\n"
      ],
      "text/plain": [
       "[1] \"\" \"\" \"\" \"\""
      ]
     },
     "metadata": {},
     "output_type": "display_data"
    }
   ],
   "source": [
    "character(4)"
   ]
  },
  {
   "cell_type": "code",
   "execution_count": 84,
   "metadata": {},
   "outputs": [
    {
     "data": {
      "text/html": [
       "<ol class=list-inline>\n",
       "\t<li>1</li>\n",
       "\t<li>2</li>\n",
       "\t<li>3</li>\n",
       "\t<li>4</li>\n",
       "\t<li>5</li>\n",
       "</ol>\n"
      ],
      "text/latex": [
       "\\begin{enumerate*}\n",
       "\\item 1\n",
       "\\item 2\n",
       "\\item 3\n",
       "\\item 4\n",
       "\\item 5\n",
       "\\end{enumerate*}\n"
      ],
      "text/markdown": [
       "1. 1\n",
       "2. 2\n",
       "3. 3\n",
       "4. 4\n",
       "5. 5\n",
       "\n",
       "\n"
      ],
      "text/plain": [
       "[1] 1 2 3 4 5"
      ]
     },
     "metadata": {},
     "output_type": "display_data"
    }
   ],
   "source": [
    "v3 <- 1:5\n",
    "v3"
   ]
  },
  {
   "cell_type": "code",
   "execution_count": 85,
   "metadata": {},
   "outputs": [
    {
     "data": {
      "text/html": [
       "'integer'"
      ],
      "text/latex": [
       "'integer'"
      ],
      "text/markdown": [
       "'integer'"
      ],
      "text/plain": [
       "[1] \"integer\""
      ]
     },
     "metadata": {},
     "output_type": "display_data"
    }
   ],
   "source": [
    "typeof(v3)"
   ]
  },
  {
   "cell_type": "code",
   "execution_count": 86,
   "metadata": {},
   "outputs": [
    {
     "data": {
      "text/html": [
       "<ol class=list-inline>\n",
       "\t<li>0</li>\n",
       "\t<li>0.1</li>\n",
       "\t<li>0.2</li>\n",
       "\t<li>0.3</li>\n",
       "\t<li>0.4</li>\n",
       "\t<li>0.5</li>\n",
       "\t<li>0.6</li>\n",
       "\t<li>0.7</li>\n",
       "\t<li>0.8</li>\n",
       "\t<li>0.9</li>\n",
       "\t<li>1</li>\n",
       "</ol>\n"
      ],
      "text/latex": [
       "\\begin{enumerate*}\n",
       "\\item 0\n",
       "\\item 0.1\n",
       "\\item 0.2\n",
       "\\item 0.3\n",
       "\\item 0.4\n",
       "\\item 0.5\n",
       "\\item 0.6\n",
       "\\item 0.7\n",
       "\\item 0.8\n",
       "\\item 0.9\n",
       "\\item 1\n",
       "\\end{enumerate*}\n"
      ],
      "text/markdown": [
       "1. 0\n",
       "2. 0.1\n",
       "3. 0.2\n",
       "4. 0.3\n",
       "5. 0.4\n",
       "6. 0.5\n",
       "7. 0.6\n",
       "8. 0.7\n",
       "9. 0.8\n",
       "10. 0.9\n",
       "11. 1\n",
       "\n",
       "\n"
      ],
      "text/plain": [
       " [1] 0.0 0.1 0.2 0.3 0.4 0.5 0.6 0.7 0.8 0.9 1.0"
      ]
     },
     "metadata": {},
     "output_type": "display_data"
    }
   ],
   "source": [
    "v5  <- seq(from=0, to=1, by=0.1)\n",
    "v5"
   ]
  },
  {
   "cell_type": "code",
   "execution_count": 88,
   "metadata": {},
   "outputs": [
    {
     "data": {
      "text/html": [
       "<ol class=list-inline>\n",
       "\t<li>0</li>\n",
       "\t<li>0</li>\n",
       "\t<li>0</li>\n",
       "\t<li>0</li>\n",
       "\t<li>0</li>\n",
       "\t<li>0</li>\n",
       "\t<li>0</li>\n",
       "\t<li>0</li>\n",
       "</ol>\n"
      ],
      "text/latex": [
       "\\begin{enumerate*}\n",
       "\\item 0\n",
       "\\item 0\n",
       "\\item 0\n",
       "\\item 0\n",
       "\\item 0\n",
       "\\item 0\n",
       "\\item 0\n",
       "\\item 0\n",
       "\\end{enumerate*}\n"
      ],
      "text/markdown": [
       "1. 0\n",
       "2. 0\n",
       "3. 0\n",
       "4. 0\n",
       "5. 0\n",
       "6. 0\n",
       "7. 0\n",
       "8. 0\n",
       "\n",
       "\n"
      ],
      "text/plain": [
       "[1] 0 0 0 0 0 0 0 0"
      ]
     },
     "metadata": {},
     "output_type": "display_data"
    }
   ],
   "source": [
    "v9 <- c(v1,v2)\n",
    "v9"
   ]
  },
  {
   "cell_type": "code",
   "execution_count": 89,
   "metadata": {},
   "outputs": [
    {
     "data": {
      "text/html": [
       "<dl class=dl-horizontal>\n",
       "\t<dt>a</dt>\n",
       "\t\t<dd>1</dd>\n",
       "\t<dt>b</dt>\n",
       "\t\t<dd>2</dd>\n",
       "\t<dt>c</dt>\n",
       "\t\t<dd>3</dd>\n",
       "</dl>\n"
      ],
      "text/latex": [
       "\\begin{description*}\n",
       "\\item[a] 1\n",
       "\\item[b] 2\n",
       "\\item[c] 3\n",
       "\\end{description*}\n"
      ],
      "text/markdown": [
       "a\n",
       ":   1b\n",
       ":   2c\n",
       ":   3\n",
       "\n"
      ],
      "text/plain": [
       "a b c \n",
       "1 2 3 "
      ]
     },
     "metadata": {},
     "output_type": "display_data"
    }
   ],
   "source": [
    "v10 <- c(a=1,b=2,c=3)\n",
    "v10"
   ]
  },
  {
   "cell_type": "code",
   "execution_count": 92,
   "metadata": {},
   "outputs": [
    {
     "data": {
      "text/html": [
       "<ol class=list-inline>\n",
       "\t<li>5</li>\n",
       "\t<li>7</li>\n",
       "\t<li>5</li>\n",
       "</ol>\n"
      ],
      "text/latex": [
       "\\begin{enumerate*}\n",
       "\\item 5\n",
       "\\item 7\n",
       "\\item 5\n",
       "\\end{enumerate*}\n"
      ],
      "text/markdown": [
       "1. 5\n",
       "2. 7\n",
       "3. 5\n",
       "\n",
       "\n"
      ],
      "text/plain": [
       "[1] 5 7 5"
      ]
     },
     "metadata": {},
     "output_type": "display_data"
    }
   ],
   "source": [
    "###################################\n",
    "# Vectores: Operaciones           #\n",
    "###################################\n",
    "\n",
    "a_vector <- c(1, 2, 3)\n",
    "b_vector <- c(4, 5, 2)\n",
    "\n",
    "total_vector <- a_vector + b_vector\n",
    "total_vector"
   ]
  },
  {
   "cell_type": "code",
   "execution_count": 93,
   "metadata": {},
   "outputs": [
    {
     "data": {
      "text/html": [
       "<ol class=list-inline>\n",
       "\t<li>2</li>\n",
       "\t<li>3</li>\n",
       "\t<li>4</li>\n",
       "</ol>\n"
      ],
      "text/latex": [
       "\\begin{enumerate*}\n",
       "\\item 2\n",
       "\\item 3\n",
       "\\item 4\n",
       "\\end{enumerate*}\n"
      ],
      "text/markdown": [
       "1. 2\n",
       "2. 3\n",
       "3. 4\n",
       "\n",
       "\n"
      ],
      "text/plain": [
       "[1] 2 3 4"
      ]
     },
     "metadata": {},
     "output_type": "display_data"
    }
   ],
   "source": [
    "total_vector <- a_vector + 1\n",
    "total_vector"
   ]
  },
  {
   "cell_type": "code",
   "execution_count": 94,
   "metadata": {},
   "outputs": [
    {
     "data": {
      "text/html": [
       "1"
      ],
      "text/latex": [
       "1"
      ],
      "text/markdown": [
       "1"
      ],
      "text/plain": [
       "[1] 1"
      ]
     },
     "metadata": {},
     "output_type": "display_data"
    },
    {
     "data": {
      "text/html": [
       "<ol class=list-inline>\n",
       "\t<li>1</li>\n",
       "\t<li>1</li>\n",
       "\t<li>4</li>\n",
       "\t<li>5</li>\n",
       "</ol>\n"
      ],
      "text/latex": [
       "\\begin{enumerate*}\n",
       "\\item 1\n",
       "\\item 1\n",
       "\\item 4\n",
       "\\item 5\n",
       "\\end{enumerate*}\n"
      ],
      "text/markdown": [
       "1. 1\n",
       "2. 1\n",
       "3. 4\n",
       "4. 5\n",
       "\n",
       "\n"
      ],
      "text/plain": [
       "[1] 1 1 4 5"
      ]
     },
     "metadata": {},
     "output_type": "display_data"
    },
    {
     "data": {
      "text/html": [
       "<ol class=list-inline>\n",
       "\t<li>20</li>\n",
       "\t<li>21</li>\n",
       "\t<li>22</li>\n",
       "\t<li>23</li>\n",
       "\t<li>24</li>\n",
       "\t<li>25</li>\n",
       "\t<li>26</li>\n",
       "\t<li>27</li>\n",
       "\t<li>28</li>\n",
       "\t<li>29</li>\n",
       "\t<li>30</li>\n",
       "</ol>\n"
      ],
      "text/latex": [
       "\\begin{enumerate*}\n",
       "\\item 20\n",
       "\\item 21\n",
       "\\item 22\n",
       "\\item 23\n",
       "\\item 24\n",
       "\\item 25\n",
       "\\item 26\n",
       "\\item 27\n",
       "\\item 28\n",
       "\\item 29\n",
       "\\item 30\n",
       "\\end{enumerate*}\n"
      ],
      "text/markdown": [
       "1. 20\n",
       "2. 21\n",
       "3. 22\n",
       "4. 23\n",
       "5. 24\n",
       "6. 25\n",
       "7. 26\n",
       "8. 27\n",
       "9. 28\n",
       "10. 29\n",
       "11. 30\n",
       "\n",
       "\n"
      ],
      "text/plain": [
       " [1] 20 21 22 23 24 25 26 27 28 29 30"
      ]
     },
     "metadata": {},
     "output_type": "display_data"
    },
    {
     "data": {
      "text/html": [
       "<ol class=list-inline>\n",
       "\t<li>31</li>\n",
       "\t<li>32</li>\n",
       "\t<li>33</li>\n",
       "\t<li>34</li>\n",
       "\t<li>35</li>\n",
       "\t<li>36</li>\n",
       "\t<li>37</li>\n",
       "\t<li>38</li>\n",
       "\t<li>39</li>\n",
       "\t<li>40</li>\n",
       "\t<li>41</li>\n",
       "\t<li>42</li>\n",
       "\t<li>43</li>\n",
       "\t<li>44</li>\n",
       "\t<li>45</li>\n",
       "\t<li>46</li>\n",
       "\t<li>47</li>\n",
       "\t<li>48</li>\n",
       "\t<li>49</li>\n",
       "\t<li>50</li>\n",
       "\t<li>51</li>\n",
       "\t<li>52</li>\n",
       "\t<li>53</li>\n",
       "\t<li>54</li>\n",
       "\t<li>55</li>\n",
       "\t<li>56</li>\n",
       "\t<li>57</li>\n",
       "\t<li>58</li>\n",
       "\t<li>59</li>\n",
       "\t<li>60</li>\n",
       "\t<li>61</li>\n",
       "\t<li>62</li>\n",
       "\t<li>63</li>\n",
       "\t<li>64</li>\n",
       "\t<li>65</li>\n",
       "\t<li>66</li>\n",
       "\t<li>67</li>\n",
       "\t<li>68</li>\n",
       "\t<li>69</li>\n",
       "</ol>\n"
      ],
      "text/latex": [
       "\\begin{enumerate*}\n",
       "\\item 31\n",
       "\\item 32\n",
       "\\item 33\n",
       "\\item 34\n",
       "\\item 35\n",
       "\\item 36\n",
       "\\item 37\n",
       "\\item 38\n",
       "\\item 39\n",
       "\\item 40\n",
       "\\item 41\n",
       "\\item 42\n",
       "\\item 43\n",
       "\\item 44\n",
       "\\item 45\n",
       "\\item 46\n",
       "\\item 47\n",
       "\\item 48\n",
       "\\item 49\n",
       "\\item 50\n",
       "\\item 51\n",
       "\\item 52\n",
       "\\item 53\n",
       "\\item 54\n",
       "\\item 55\n",
       "\\item 56\n",
       "\\item 57\n",
       "\\item 58\n",
       "\\item 59\n",
       "\\item 60\n",
       "\\item 61\n",
       "\\item 62\n",
       "\\item 63\n",
       "\\item 64\n",
       "\\item 65\n",
       "\\item 66\n",
       "\\item 67\n",
       "\\item 68\n",
       "\\item 69\n",
       "\\end{enumerate*}\n"
      ],
      "text/markdown": [
       "1. 31\n",
       "2. 32\n",
       "3. 33\n",
       "4. 34\n",
       "5. 35\n",
       "6. 36\n",
       "7. 37\n",
       "8. 38\n",
       "9. 39\n",
       "10. 40\n",
       "11. 41\n",
       "12. 42\n",
       "13. 43\n",
       "14. 44\n",
       "15. 45\n",
       "16. 46\n",
       "17. 47\n",
       "18. 48\n",
       "19. 49\n",
       "20. 50\n",
       "21. 51\n",
       "22. 52\n",
       "23. 53\n",
       "24. 54\n",
       "25. 55\n",
       "26. 56\n",
       "27. 57\n",
       "28. 58\n",
       "29. 59\n",
       "30. 60\n",
       "31. 61\n",
       "32. 62\n",
       "33. 63\n",
       "34. 64\n",
       "35. 65\n",
       "36. 66\n",
       "37. 67\n",
       "38. 68\n",
       "39. 69\n",
       "\n",
       "\n"
      ],
      "text/plain": [
       " [1] 31 32 33 34 35 36 37 38 39 40 41 42 43 44 45 46 47 48 49 50 51 52 53 54 55\n",
       "[26] 56 57 58 59 60 61 62 63 64 65 66 67 68 69"
      ]
     },
     "metadata": {},
     "output_type": "display_data"
    }
   ],
   "source": [
    "###################################\n",
    "# Vectores: Indexación            #\n",
    "###################################\n",
    "\n",
    "v <- 1:100\n",
    "\n",
    "# Indexando con números positivos\n",
    "v[1] # Seleccionamos el primer elemento\n",
    "v[c(1, 1, 4, 5)] # Seleccionamos el primero dos veces, el cuarto y el quinto\n",
    "v[20:30] # Obtenemos los elementos entre el índice 20 y 30\n",
    "v[70:100] <- 0 # Asignamos el valor cero a los elemenos entre los índices 70 y 100\n",
    "v[which(v > 30)] # Seleccionamos los índices de los elementos > 30"
   ]
  },
  {
   "cell_type": "code",
   "execution_count": 95,
   "metadata": {},
   "outputs": [
    {
     "data": {
      "text/html": [
       "<ol class=list-inline>\n",
       "\t<li>2</li>\n",
       "\t<li>3</li>\n",
       "\t<li>4</li>\n",
       "\t<li>5</li>\n",
       "\t<li>6</li>\n",
       "\t<li>7</li>\n",
       "\t<li>8</li>\n",
       "\t<li>9</li>\n",
       "\t<li>10</li>\n",
       "\t<li>11</li>\n",
       "\t<li>12</li>\n",
       "\t<li>13</li>\n",
       "\t<li>14</li>\n",
       "\t<li>15</li>\n",
       "\t<li>16</li>\n",
       "\t<li>17</li>\n",
       "\t<li>18</li>\n",
       "\t<li>19</li>\n",
       "\t<li>20</li>\n",
       "\t<li>21</li>\n",
       "\t<li>22</li>\n",
       "\t<li>23</li>\n",
       "\t<li>24</li>\n",
       "\t<li>25</li>\n",
       "\t<li>26</li>\n",
       "\t<li>27</li>\n",
       "\t<li>28</li>\n",
       "\t<li>29</li>\n",
       "\t<li>30</li>\n",
       "\t<li>31</li>\n",
       "\t<li>32</li>\n",
       "\t<li>33</li>\n",
       "\t<li>34</li>\n",
       "\t<li>35</li>\n",
       "\t<li>36</li>\n",
       "\t<li>37</li>\n",
       "\t<li>38</li>\n",
       "\t<li>39</li>\n",
       "\t<li>40</li>\n",
       "\t<li>41</li>\n",
       "\t<li>42</li>\n",
       "\t<li>43</li>\n",
       "\t<li>44</li>\n",
       "\t<li>45</li>\n",
       "\t<li>46</li>\n",
       "\t<li>47</li>\n",
       "\t<li>48</li>\n",
       "\t<li>49</li>\n",
       "\t<li>50</li>\n",
       "\t<li>51</li>\n",
       "\t<li>52</li>\n",
       "\t<li>53</li>\n",
       "\t<li>54</li>\n",
       "\t<li>55</li>\n",
       "\t<li>56</li>\n",
       "\t<li>57</li>\n",
       "\t<li>58</li>\n",
       "\t<li>59</li>\n",
       "\t<li>60</li>\n",
       "\t<li>61</li>\n",
       "\t<li>62</li>\n",
       "\t<li>63</li>\n",
       "\t<li>64</li>\n",
       "\t<li>65</li>\n",
       "\t<li>66</li>\n",
       "\t<li>67</li>\n",
       "\t<li>68</li>\n",
       "\t<li>69</li>\n",
       "\t<li>0</li>\n",
       "\t<li>0</li>\n",
       "\t<li>0</li>\n",
       "\t<li>0</li>\n",
       "\t<li>0</li>\n",
       "\t<li>0</li>\n",
       "\t<li>0</li>\n",
       "\t<li>0</li>\n",
       "\t<li>0</li>\n",
       "\t<li>0</li>\n",
       "\t<li>0</li>\n",
       "\t<li>0</li>\n",
       "\t<li>0</li>\n",
       "\t<li>0</li>\n",
       "\t<li>0</li>\n",
       "\t<li>0</li>\n",
       "\t<li>0</li>\n",
       "\t<li>0</li>\n",
       "\t<li>0</li>\n",
       "\t<li>0</li>\n",
       "\t<li>0</li>\n",
       "\t<li>0</li>\n",
       "\t<li>0</li>\n",
       "\t<li>0</li>\n",
       "\t<li>0</li>\n",
       "\t<li>0</li>\n",
       "\t<li>0</li>\n",
       "\t<li>0</li>\n",
       "\t<li>0</li>\n",
       "\t<li>0</li>\n",
       "\t<li>0</li>\n",
       "</ol>\n"
      ],
      "text/latex": [
       "\\begin{enumerate*}\n",
       "\\item 2\n",
       "\\item 3\n",
       "\\item 4\n",
       "\\item 5\n",
       "\\item 6\n",
       "\\item 7\n",
       "\\item 8\n",
       "\\item 9\n",
       "\\item 10\n",
       "\\item 11\n",
       "\\item 12\n",
       "\\item 13\n",
       "\\item 14\n",
       "\\item 15\n",
       "\\item 16\n",
       "\\item 17\n",
       "\\item 18\n",
       "\\item 19\n",
       "\\item 20\n",
       "\\item 21\n",
       "\\item 22\n",
       "\\item 23\n",
       "\\item 24\n",
       "\\item 25\n",
       "\\item 26\n",
       "\\item 27\n",
       "\\item 28\n",
       "\\item 29\n",
       "\\item 30\n",
       "\\item 31\n",
       "\\item 32\n",
       "\\item 33\n",
       "\\item 34\n",
       "\\item 35\n",
       "\\item 36\n",
       "\\item 37\n",
       "\\item 38\n",
       "\\item 39\n",
       "\\item 40\n",
       "\\item 41\n",
       "\\item 42\n",
       "\\item 43\n",
       "\\item 44\n",
       "\\item 45\n",
       "\\item 46\n",
       "\\item 47\n",
       "\\item 48\n",
       "\\item 49\n",
       "\\item 50\n",
       "\\item 51\n",
       "\\item 52\n",
       "\\item 53\n",
       "\\item 54\n",
       "\\item 55\n",
       "\\item 56\n",
       "\\item 57\n",
       "\\item 58\n",
       "\\item 59\n",
       "\\item 60\n",
       "\\item 61\n",
       "\\item 62\n",
       "\\item 63\n",
       "\\item 64\n",
       "\\item 65\n",
       "\\item 66\n",
       "\\item 67\n",
       "\\item 68\n",
       "\\item 69\n",
       "\\item 0\n",
       "\\item 0\n",
       "\\item 0\n",
       "\\item 0\n",
       "\\item 0\n",
       "\\item 0\n",
       "\\item 0\n",
       "\\item 0\n",
       "\\item 0\n",
       "\\item 0\n",
       "\\item 0\n",
       "\\item 0\n",
       "\\item 0\n",
       "\\item 0\n",
       "\\item 0\n",
       "\\item 0\n",
       "\\item 0\n",
       "\\item 0\n",
       "\\item 0\n",
       "\\item 0\n",
       "\\item 0\n",
       "\\item 0\n",
       "\\item 0\n",
       "\\item 0\n",
       "\\item 0\n",
       "\\item 0\n",
       "\\item 0\n",
       "\\item 0\n",
       "\\item 0\n",
       "\\item 0\n",
       "\\item 0\n",
       "\\end{enumerate*}\n"
      ],
      "text/markdown": [
       "1. 2\n",
       "2. 3\n",
       "3. 4\n",
       "4. 5\n",
       "5. 6\n",
       "6. 7\n",
       "7. 8\n",
       "8. 9\n",
       "9. 10\n",
       "10. 11\n",
       "11. 12\n",
       "12. 13\n",
       "13. 14\n",
       "14. 15\n",
       "15. 16\n",
       "16. 17\n",
       "17. 18\n",
       "18. 19\n",
       "19. 20\n",
       "20. 21\n",
       "21. 22\n",
       "22. 23\n",
       "23. 24\n",
       "24. 25\n",
       "25. 26\n",
       "26. 27\n",
       "27. 28\n",
       "28. 29\n",
       "29. 30\n",
       "30. 31\n",
       "31. 32\n",
       "32. 33\n",
       "33. 34\n",
       "34. 35\n",
       "35. 36\n",
       "36. 37\n",
       "37. 38\n",
       "38. 39\n",
       "39. 40\n",
       "40. 41\n",
       "41. 42\n",
       "42. 43\n",
       "43. 44\n",
       "44. 45\n",
       "45. 46\n",
       "46. 47\n",
       "47. 48\n",
       "48. 49\n",
       "49. 50\n",
       "50. 51\n",
       "51. 52\n",
       "52. 53\n",
       "53. 54\n",
       "54. 55\n",
       "55. 56\n",
       "56. 57\n",
       "57. 58\n",
       "58. 59\n",
       "59. 60\n",
       "60. 61\n",
       "61. 62\n",
       "62. 63\n",
       "63. 64\n",
       "64. 65\n",
       "65. 66\n",
       "66. 67\n",
       "67. 68\n",
       "68. 69\n",
       "69. 0\n",
       "70. 0\n",
       "71. 0\n",
       "72. 0\n",
       "73. 0\n",
       "74. 0\n",
       "75. 0\n",
       "76. 0\n",
       "77. 0\n",
       "78. 0\n",
       "79. 0\n",
       "80. 0\n",
       "81. 0\n",
       "82. 0\n",
       "83. 0\n",
       "84. 0\n",
       "85. 0\n",
       "86. 0\n",
       "87. 0\n",
       "88. 0\n",
       "89. 0\n",
       "90. 0\n",
       "91. 0\n",
       "92. 0\n",
       "93. 0\n",
       "94. 0\n",
       "95. 0\n",
       "96. 0\n",
       "97. 0\n",
       "98. 0\n",
       "99. 0\n",
       "\n",
       "\n"
      ],
      "text/plain": [
       " [1]  2  3  4  5  6  7  8  9 10 11 12 13 14 15 16 17 18 19 20 21 22 23 24 25 26\n",
       "[26] 27 28 29 30 31 32 33 34 35 36 37 38 39 40 41 42 43 44 45 46 47 48 49 50 51\n",
       "[51] 52 53 54 55 56 57 58 59 60 61 62 63 64 65 66 67 68 69  0  0  0  0  0  0  0\n",
       "[76]  0  0  0  0  0  0  0  0  0  0  0  0  0  0  0  0  0  0  0  0  0  0  0  0"
      ]
     },
     "metadata": {},
     "output_type": "display_data"
    },
    {
     "data": {
      "text/html": [
       "<ol class=list-inline>\n",
       "\t<li>2</li>\n",
       "\t<li>6</li>\n",
       "\t<li>7</li>\n",
       "\t<li>8</li>\n",
       "\t<li>9</li>\n",
       "\t<li>10</li>\n",
       "\t<li>11</li>\n",
       "\t<li>12</li>\n",
       "\t<li>13</li>\n",
       "\t<li>14</li>\n",
       "\t<li>15</li>\n",
       "\t<li>16</li>\n",
       "\t<li>17</li>\n",
       "\t<li>18</li>\n",
       "\t<li>19</li>\n",
       "\t<li>20</li>\n",
       "\t<li>21</li>\n",
       "\t<li>22</li>\n",
       "\t<li>23</li>\n",
       "\t<li>24</li>\n",
       "\t<li>25</li>\n",
       "\t<li>26</li>\n",
       "\t<li>27</li>\n",
       "\t<li>28</li>\n",
       "\t<li>29</li>\n",
       "\t<li>30</li>\n",
       "\t<li>31</li>\n",
       "\t<li>32</li>\n",
       "\t<li>33</li>\n",
       "\t<li>34</li>\n",
       "\t<li>35</li>\n",
       "\t<li>36</li>\n",
       "\t<li>37</li>\n",
       "\t<li>38</li>\n",
       "\t<li>39</li>\n",
       "\t<li>40</li>\n",
       "\t<li>41</li>\n",
       "\t<li>42</li>\n",
       "\t<li>43</li>\n",
       "\t<li>44</li>\n",
       "\t<li>45</li>\n",
       "\t<li>46</li>\n",
       "\t<li>47</li>\n",
       "\t<li>48</li>\n",
       "\t<li>49</li>\n",
       "\t<li>50</li>\n",
       "\t<li>51</li>\n",
       "\t<li>52</li>\n",
       "\t<li>53</li>\n",
       "\t<li>54</li>\n",
       "\t<li>55</li>\n",
       "\t<li>56</li>\n",
       "\t<li>57</li>\n",
       "\t<li>58</li>\n",
       "\t<li>59</li>\n",
       "\t<li>60</li>\n",
       "\t<li>61</li>\n",
       "\t<li>62</li>\n",
       "\t<li>63</li>\n",
       "\t<li>64</li>\n",
       "\t<li>65</li>\n",
       "\t<li>66</li>\n",
       "\t<li>67</li>\n",
       "\t<li>68</li>\n",
       "\t<li>69</li>\n",
       "\t<li>0</li>\n",
       "\t<li>0</li>\n",
       "\t<li>0</li>\n",
       "\t<li>0</li>\n",
       "\t<li>0</li>\n",
       "\t<li>0</li>\n",
       "\t<li>0</li>\n",
       "\t<li>0</li>\n",
       "\t<li>0</li>\n",
       "\t<li>0</li>\n",
       "\t<li>0</li>\n",
       "\t<li>0</li>\n",
       "\t<li>0</li>\n",
       "\t<li>0</li>\n",
       "\t<li>0</li>\n",
       "\t<li>0</li>\n",
       "\t<li>0</li>\n",
       "\t<li>0</li>\n",
       "\t<li>0</li>\n",
       "\t<li>0</li>\n",
       "\t<li>0</li>\n",
       "\t<li>0</li>\n",
       "\t<li>0</li>\n",
       "\t<li>0</li>\n",
       "\t<li>0</li>\n",
       "\t<li>0</li>\n",
       "\t<li>0</li>\n",
       "\t<li>0</li>\n",
       "\t<li>0</li>\n",
       "\t<li>0</li>\n",
       "\t<li>0</li>\n",
       "</ol>\n"
      ],
      "text/latex": [
       "\\begin{enumerate*}\n",
       "\\item 2\n",
       "\\item 6\n",
       "\\item 7\n",
       "\\item 8\n",
       "\\item 9\n",
       "\\item 10\n",
       "\\item 11\n",
       "\\item 12\n",
       "\\item 13\n",
       "\\item 14\n",
       "\\item 15\n",
       "\\item 16\n",
       "\\item 17\n",
       "\\item 18\n",
       "\\item 19\n",
       "\\item 20\n",
       "\\item 21\n",
       "\\item 22\n",
       "\\item 23\n",
       "\\item 24\n",
       "\\item 25\n",
       "\\item 26\n",
       "\\item 27\n",
       "\\item 28\n",
       "\\item 29\n",
       "\\item 30\n",
       "\\item 31\n",
       "\\item 32\n",
       "\\item 33\n",
       "\\item 34\n",
       "\\item 35\n",
       "\\item 36\n",
       "\\item 37\n",
       "\\item 38\n",
       "\\item 39\n",
       "\\item 40\n",
       "\\item 41\n",
       "\\item 42\n",
       "\\item 43\n",
       "\\item 44\n",
       "\\item 45\n",
       "\\item 46\n",
       "\\item 47\n",
       "\\item 48\n",
       "\\item 49\n",
       "\\item 50\n",
       "\\item 51\n",
       "\\item 52\n",
       "\\item 53\n",
       "\\item 54\n",
       "\\item 55\n",
       "\\item 56\n",
       "\\item 57\n",
       "\\item 58\n",
       "\\item 59\n",
       "\\item 60\n",
       "\\item 61\n",
       "\\item 62\n",
       "\\item 63\n",
       "\\item 64\n",
       "\\item 65\n",
       "\\item 66\n",
       "\\item 67\n",
       "\\item 68\n",
       "\\item 69\n",
       "\\item 0\n",
       "\\item 0\n",
       "\\item 0\n",
       "\\item 0\n",
       "\\item 0\n",
       "\\item 0\n",
       "\\item 0\n",
       "\\item 0\n",
       "\\item 0\n",
       "\\item 0\n",
       "\\item 0\n",
       "\\item 0\n",
       "\\item 0\n",
       "\\item 0\n",
       "\\item 0\n",
       "\\item 0\n",
       "\\item 0\n",
       "\\item 0\n",
       "\\item 0\n",
       "\\item 0\n",
       "\\item 0\n",
       "\\item 0\n",
       "\\item 0\n",
       "\\item 0\n",
       "\\item 0\n",
       "\\item 0\n",
       "\\item 0\n",
       "\\item 0\n",
       "\\item 0\n",
       "\\item 0\n",
       "\\item 0\n",
       "\\end{enumerate*}\n"
      ],
      "text/markdown": [
       "1. 2\n",
       "2. 6\n",
       "3. 7\n",
       "4. 8\n",
       "5. 9\n",
       "6. 10\n",
       "7. 11\n",
       "8. 12\n",
       "9. 13\n",
       "10. 14\n",
       "11. 15\n",
       "12. 16\n",
       "13. 17\n",
       "14. 18\n",
       "15. 19\n",
       "16. 20\n",
       "17. 21\n",
       "18. 22\n",
       "19. 23\n",
       "20. 24\n",
       "21. 25\n",
       "22. 26\n",
       "23. 27\n",
       "24. 28\n",
       "25. 29\n",
       "26. 30\n",
       "27. 31\n",
       "28. 32\n",
       "29. 33\n",
       "30. 34\n",
       "31. 35\n",
       "32. 36\n",
       "33. 37\n",
       "34. 38\n",
       "35. 39\n",
       "36. 40\n",
       "37. 41\n",
       "38. 42\n",
       "39. 43\n",
       "40. 44\n",
       "41. 45\n",
       "42. 46\n",
       "43. 47\n",
       "44. 48\n",
       "45. 49\n",
       "46. 50\n",
       "47. 51\n",
       "48. 52\n",
       "49. 53\n",
       "50. 54\n",
       "51. 55\n",
       "52. 56\n",
       "53. 57\n",
       "54. 58\n",
       "55. 59\n",
       "56. 60\n",
       "57. 61\n",
       "58. 62\n",
       "59. 63\n",
       "60. 64\n",
       "61. 65\n",
       "62. 66\n",
       "63. 67\n",
       "64. 68\n",
       "65. 69\n",
       "66. 0\n",
       "67. 0\n",
       "68. 0\n",
       "69. 0\n",
       "70. 0\n",
       "71. 0\n",
       "72. 0\n",
       "73. 0\n",
       "74. 0\n",
       "75. 0\n",
       "76. 0\n",
       "77. 0\n",
       "78. 0\n",
       "79. 0\n",
       "80. 0\n",
       "81. 0\n",
       "82. 0\n",
       "83. 0\n",
       "84. 0\n",
       "85. 0\n",
       "86. 0\n",
       "87. 0\n",
       "88. 0\n",
       "89. 0\n",
       "90. 0\n",
       "91. 0\n",
       "92. 0\n",
       "93. 0\n",
       "94. 0\n",
       "95. 0\n",
       "96. 0\n",
       "\n",
       "\n"
      ],
      "text/plain": [
       " [1]  2  6  7  8  9 10 11 12 13 14 15 16 17 18 19 20 21 22 23 24 25 26 27 28 29\n",
       "[26] 30 31 32 33 34 35 36 37 38 39 40 41 42 43 44 45 46 47 48 49 50 51 52 53 54\n",
       "[51] 55 56 57 58 59 60 61 62 63 64 65 66 67 68 69  0  0  0  0  0  0  0  0  0  0\n",
       "[76]  0  0  0  0  0  0  0  0  0  0  0  0  0  0  0  0  0  0  0  0  0"
      ]
     },
     "metadata": {},
     "output_type": "display_data"
    },
    {
     "data": {
      "text/html": [
       "<ol class=list-inline>\n",
       "\t<li>1</li>\n",
       "\t<li>2</li>\n",
       "\t<li>3</li>\n",
       "\t<li>4</li>\n",
       "\t<li>5</li>\n",
       "\t<li>6</li>\n",
       "\t<li>7</li>\n",
       "\t<li>8</li>\n",
       "\t<li>9</li>\n",
       "\t<li>10</li>\n",
       "\t<li>11</li>\n",
       "\t<li>12</li>\n",
       "\t<li>13</li>\n",
       "\t<li>14</li>\n",
       "\t<li>15</li>\n",
       "\t<li>16</li>\n",
       "\t<li>17</li>\n",
       "\t<li>18</li>\n",
       "\t<li>19</li>\n",
       "\t<li>20</li>\n",
       "\t<li>21</li>\n",
       "\t<li>22</li>\n",
       "\t<li>23</li>\n",
       "\t<li>24</li>\n",
       "\t<li>25</li>\n",
       "\t<li>26</li>\n",
       "\t<li>27</li>\n",
       "\t<li>28</li>\n",
       "\t<li>29</li>\n",
       "\t<li>30</li>\n",
       "\t<li>31</li>\n",
       "\t<li>32</li>\n",
       "\t<li>33</li>\n",
       "\t<li>34</li>\n",
       "\t<li>35</li>\n",
       "\t<li>36</li>\n",
       "\t<li>37</li>\n",
       "\t<li>38</li>\n",
       "\t<li>39</li>\n",
       "\t<li>40</li>\n",
       "\t<li>41</li>\n",
       "\t<li>42</li>\n",
       "\t<li>43</li>\n",
       "\t<li>44</li>\n",
       "\t<li>45</li>\n",
       "\t<li>46</li>\n",
       "\t<li>47</li>\n",
       "\t<li>48</li>\n",
       "\t<li>49</li>\n",
       "\t<li>50</li>\n",
       "\t<li>51</li>\n",
       "\t<li>52</li>\n",
       "\t<li>53</li>\n",
       "\t<li>54</li>\n",
       "\t<li>55</li>\n",
       "\t<li>56</li>\n",
       "\t<li>57</li>\n",
       "\t<li>58</li>\n",
       "\t<li>59</li>\n",
       "\t<li>60</li>\n",
       "\t<li>61</li>\n",
       "\t<li>62</li>\n",
       "\t<li>63</li>\n",
       "\t<li>64</li>\n",
       "\t<li>65</li>\n",
       "\t<li>66</li>\n",
       "\t<li>67</li>\n",
       "\t<li>68</li>\n",
       "\t<li>69</li>\n",
       "\t<li>0</li>\n",
       "\t<li>0</li>\n",
       "\t<li>0</li>\n",
       "\t<li>0</li>\n",
       "\t<li>0</li>\n",
       "\t<li>0</li>\n",
       "\t<li>0</li>\n",
       "\t<li>0</li>\n",
       "\t<li>0</li>\n",
       "\t<li>0</li>\n",
       "\t<li>0</li>\n",
       "\t<li>0</li>\n",
       "\t<li>0</li>\n",
       "\t<li>0</li>\n",
       "\t<li>0</li>\n",
       "\t<li>0</li>\n",
       "\t<li>0</li>\n",
       "\t<li>0</li>\n",
       "\t<li>0</li>\n",
       "\t<li>0</li>\n",
       "\t<li>0</li>\n",
       "\t<li>0</li>\n",
       "\t<li>0</li>\n",
       "\t<li>0</li>\n",
       "\t<li>0</li>\n",
       "\t<li>0</li>\n",
       "\t<li>0</li>\n",
       "\t<li>0</li>\n",
       "\t<li>0</li>\n",
       "\t<li>0</li>\n",
       "</ol>\n"
      ],
      "text/latex": [
       "\\begin{enumerate*}\n",
       "\\item 1\n",
       "\\item 2\n",
       "\\item 3\n",
       "\\item 4\n",
       "\\item 5\n",
       "\\item 6\n",
       "\\item 7\n",
       "\\item 8\n",
       "\\item 9\n",
       "\\item 10\n",
       "\\item 11\n",
       "\\item 12\n",
       "\\item 13\n",
       "\\item 14\n",
       "\\item 15\n",
       "\\item 16\n",
       "\\item 17\n",
       "\\item 18\n",
       "\\item 19\n",
       "\\item 20\n",
       "\\item 21\n",
       "\\item 22\n",
       "\\item 23\n",
       "\\item 24\n",
       "\\item 25\n",
       "\\item 26\n",
       "\\item 27\n",
       "\\item 28\n",
       "\\item 29\n",
       "\\item 30\n",
       "\\item 31\n",
       "\\item 32\n",
       "\\item 33\n",
       "\\item 34\n",
       "\\item 35\n",
       "\\item 36\n",
       "\\item 37\n",
       "\\item 38\n",
       "\\item 39\n",
       "\\item 40\n",
       "\\item 41\n",
       "\\item 42\n",
       "\\item 43\n",
       "\\item 44\n",
       "\\item 45\n",
       "\\item 46\n",
       "\\item 47\n",
       "\\item 48\n",
       "\\item 49\n",
       "\\item 50\n",
       "\\item 51\n",
       "\\item 52\n",
       "\\item 53\n",
       "\\item 54\n",
       "\\item 55\n",
       "\\item 56\n",
       "\\item 57\n",
       "\\item 58\n",
       "\\item 59\n",
       "\\item 60\n",
       "\\item 61\n",
       "\\item 62\n",
       "\\item 63\n",
       "\\item 64\n",
       "\\item 65\n",
       "\\item 66\n",
       "\\item 67\n",
       "\\item 68\n",
       "\\item 69\n",
       "\\item 0\n",
       "\\item 0\n",
       "\\item 0\n",
       "\\item 0\n",
       "\\item 0\n",
       "\\item 0\n",
       "\\item 0\n",
       "\\item 0\n",
       "\\item 0\n",
       "\\item 0\n",
       "\\item 0\n",
       "\\item 0\n",
       "\\item 0\n",
       "\\item 0\n",
       "\\item 0\n",
       "\\item 0\n",
       "\\item 0\n",
       "\\item 0\n",
       "\\item 0\n",
       "\\item 0\n",
       "\\item 0\n",
       "\\item 0\n",
       "\\item 0\n",
       "\\item 0\n",
       "\\item 0\n",
       "\\item 0\n",
       "\\item 0\n",
       "\\item 0\n",
       "\\item 0\n",
       "\\item 0\n",
       "\\end{enumerate*}\n"
      ],
      "text/markdown": [
       "1. 1\n",
       "2. 2\n",
       "3. 3\n",
       "4. 4\n",
       "5. 5\n",
       "6. 6\n",
       "7. 7\n",
       "8. 8\n",
       "9. 9\n",
       "10. 10\n",
       "11. 11\n",
       "12. 12\n",
       "13. 13\n",
       "14. 14\n",
       "15. 15\n",
       "16. 16\n",
       "17. 17\n",
       "18. 18\n",
       "19. 19\n",
       "20. 20\n",
       "21. 21\n",
       "22. 22\n",
       "23. 23\n",
       "24. 24\n",
       "25. 25\n",
       "26. 26\n",
       "27. 27\n",
       "28. 28\n",
       "29. 29\n",
       "30. 30\n",
       "31. 31\n",
       "32. 32\n",
       "33. 33\n",
       "34. 34\n",
       "35. 35\n",
       "36. 36\n",
       "37. 37\n",
       "38. 38\n",
       "39. 39\n",
       "40. 40\n",
       "41. 41\n",
       "42. 42\n",
       "43. 43\n",
       "44. 44\n",
       "45. 45\n",
       "46. 46\n",
       "47. 47\n",
       "48. 48\n",
       "49. 49\n",
       "50. 50\n",
       "51. 51\n",
       "52. 52\n",
       "53. 53\n",
       "54. 54\n",
       "55. 55\n",
       "56. 56\n",
       "57. 57\n",
       "58. 58\n",
       "59. 59\n",
       "60. 60\n",
       "61. 61\n",
       "62. 62\n",
       "63. 63\n",
       "64. 64\n",
       "65. 65\n",
       "66. 66\n",
       "67. 67\n",
       "68. 68\n",
       "69. 69\n",
       "70. 0\n",
       "71. 0\n",
       "72. 0\n",
       "73. 0\n",
       "74. 0\n",
       "75. 0\n",
       "76. 0\n",
       "77. 0\n",
       "78. 0\n",
       "79. 0\n",
       "80. 0\n",
       "81. 0\n",
       "82. 0\n",
       "83. 0\n",
       "84. 0\n",
       "85. 0\n",
       "86. 0\n",
       "87. 0\n",
       "88. 0\n",
       "89. 0\n",
       "90. 0\n",
       "91. 0\n",
       "92. 0\n",
       "93. 0\n",
       "94. 0\n",
       "95. 0\n",
       "96. 0\n",
       "97. 0\n",
       "98. 0\n",
       "99. 0\n",
       "\n",
       "\n"
      ],
      "text/plain": [
       " [1]  1  2  3  4  5  6  7  8  9 10 11 12 13 14 15 16 17 18 19 20 21 22 23 24 25\n",
       "[26] 26 27 28 29 30 31 32 33 34 35 36 37 38 39 40 41 42 43 44 45 46 47 48 49 50\n",
       "[51] 51 52 53 54 55 56 57 58 59 60 61 62 63 64 65 66 67 68 69  0  0  0  0  0  0\n",
       "[76]  0  0  0  0  0  0  0  0  0  0  0  0  0  0  0  0  0  0  0  0  0  0  0  0"
      ]
     },
     "metadata": {},
     "output_type": "display_data"
    }
   ],
   "source": [
    "# Indexando con números negativos\n",
    "v[-1] # Seleccionamos todos menos el primer elemento\n",
    "v[-c(1, 3, 4, 5)] # Seleccionamos todos menos el primero, el tercero, el cuarto y el quinto\n",
    "v[-length(v)] # Todos menos el último"
   ]
  },
  {
   "cell_type": "code",
   "execution_count": 97,
   "metadata": {},
   "outputs": [
    {
     "data": {
      "text/html": [
       "<ol class=list-inline>\n",
       "\t<li>1</li>\n",
       "\t<li>3</li>\n",
       "</ol>\n"
      ],
      "text/latex": [
       "\\begin{enumerate*}\n",
       "\\item 1\n",
       "\\item 3\n",
       "\\end{enumerate*}\n"
      ],
      "text/markdown": [
       "1. 1\n",
       "2. 3\n",
       "\n",
       "\n"
      ],
      "text/plain": [
       "[1] 1 3"
      ]
     },
     "metadata": {},
     "output_type": "display_data"
    },
    {
     "data": {
      "text/html": [
       "<ol class=list-inline>\n",
       "\t<li>31</li>\n",
       "\t<li>32</li>\n",
       "\t<li>33</li>\n",
       "\t<li>34</li>\n",
       "\t<li>35</li>\n",
       "\t<li>36</li>\n",
       "\t<li>37</li>\n",
       "\t<li>38</li>\n",
       "\t<li>39</li>\n",
       "\t<li>40</li>\n",
       "\t<li>41</li>\n",
       "\t<li>42</li>\n",
       "\t<li>43</li>\n",
       "\t<li>44</li>\n",
       "\t<li>45</li>\n",
       "\t<li>46</li>\n",
       "\t<li>47</li>\n",
       "\t<li>48</li>\n",
       "\t<li>49</li>\n",
       "\t<li>50</li>\n",
       "\t<li>51</li>\n",
       "\t<li>52</li>\n",
       "\t<li>53</li>\n",
       "\t<li>54</li>\n",
       "\t<li>55</li>\n",
       "\t<li>56</li>\n",
       "\t<li>57</li>\n",
       "\t<li>58</li>\n",
       "\t<li>59</li>\n",
       "\t<li>60</li>\n",
       "\t<li>61</li>\n",
       "\t<li>62</li>\n",
       "\t<li>63</li>\n",
       "\t<li>64</li>\n",
       "\t<li>65</li>\n",
       "\t<li>66</li>\n",
       "\t<li>67</li>\n",
       "\t<li>68</li>\n",
       "\t<li>69</li>\n",
       "</ol>\n"
      ],
      "text/latex": [
       "\\begin{enumerate*}\n",
       "\\item 31\n",
       "\\item 32\n",
       "\\item 33\n",
       "\\item 34\n",
       "\\item 35\n",
       "\\item 36\n",
       "\\item 37\n",
       "\\item 38\n",
       "\\item 39\n",
       "\\item 40\n",
       "\\item 41\n",
       "\\item 42\n",
       "\\item 43\n",
       "\\item 44\n",
       "\\item 45\n",
       "\\item 46\n",
       "\\item 47\n",
       "\\item 48\n",
       "\\item 49\n",
       "\\item 50\n",
       "\\item 51\n",
       "\\item 52\n",
       "\\item 53\n",
       "\\item 54\n",
       "\\item 55\n",
       "\\item 56\n",
       "\\item 57\n",
       "\\item 58\n",
       "\\item 59\n",
       "\\item 60\n",
       "\\item 61\n",
       "\\item 62\n",
       "\\item 63\n",
       "\\item 64\n",
       "\\item 65\n",
       "\\item 66\n",
       "\\item 67\n",
       "\\item 68\n",
       "\\item 69\n",
       "\\end{enumerate*}\n"
      ],
      "text/markdown": [
       "1. 31\n",
       "2. 32\n",
       "3. 33\n",
       "4. 34\n",
       "5. 35\n",
       "6. 36\n",
       "7. 37\n",
       "8. 38\n",
       "9. 39\n",
       "10. 40\n",
       "11. 41\n",
       "12. 42\n",
       "13. 43\n",
       "14. 44\n",
       "15. 45\n",
       "16. 46\n",
       "17. 47\n",
       "18. 48\n",
       "19. 49\n",
       "20. 50\n",
       "21. 51\n",
       "22. 52\n",
       "23. 53\n",
       "24. 54\n",
       "25. 55\n",
       "26. 56\n",
       "27. 57\n",
       "28. 58\n",
       "29. 59\n",
       "30. 60\n",
       "31. 61\n",
       "32. 62\n",
       "33. 63\n",
       "34. 64\n",
       "35. 65\n",
       "36. 66\n",
       "37. 67\n",
       "38. 68\n",
       "39. 69\n",
       "\n",
       "\n"
      ],
      "text/plain": [
       " [1] 31 32 33 34 35 36 37 38 39 40 41 42 43 44 45 46 47 48 49 50 51 52 53 54 55\n",
       "[26] 56 57 58 59 60 61 62 63 64 65 66 67 68 69"
      ]
     },
     "metadata": {},
     "output_type": "display_data"
    },
    {
     "data": {
      "text/html": [
       "<ol class=list-inline>\n",
       "\t<li>31</li>\n",
       "\t<li>32</li>\n",
       "\t<li>33</li>\n",
       "\t<li>34</li>\n",
       "\t<li>35</li>\n",
       "\t<li>36</li>\n",
       "\t<li>37</li>\n",
       "\t<li>38</li>\n",
       "\t<li>39</li>\n",
       "\t<li>40</li>\n",
       "\t<li>41</li>\n",
       "\t<li>42</li>\n",
       "\t<li>43</li>\n",
       "\t<li>44</li>\n",
       "\t<li>45</li>\n",
       "\t<li>46</li>\n",
       "\t<li>47</li>\n",
       "\t<li>48</li>\n",
       "\t<li>49</li>\n",
       "\t<li>50</li>\n",
       "</ol>\n"
      ],
      "text/latex": [
       "\\begin{enumerate*}\n",
       "\\item 31\n",
       "\\item 32\n",
       "\\item 33\n",
       "\\item 34\n",
       "\\item 35\n",
       "\\item 36\n",
       "\\item 37\n",
       "\\item 38\n",
       "\\item 39\n",
       "\\item 40\n",
       "\\item 41\n",
       "\\item 42\n",
       "\\item 43\n",
       "\\item 44\n",
       "\\item 45\n",
       "\\item 46\n",
       "\\item 47\n",
       "\\item 48\n",
       "\\item 49\n",
       "\\item 50\n",
       "\\end{enumerate*}\n"
      ],
      "text/markdown": [
       "1. 31\n",
       "2. 32\n",
       "3. 33\n",
       "4. 34\n",
       "5. 35\n",
       "6. 36\n",
       "7. 37\n",
       "8. 38\n",
       "9. 39\n",
       "10. 40\n",
       "11. 41\n",
       "12. 42\n",
       "13. 43\n",
       "14. 44\n",
       "15. 45\n",
       "16. 46\n",
       "17. 47\n",
       "18. 48\n",
       "19. 49\n",
       "20. 50\n",
       "\n",
       "\n"
      ],
      "text/plain": [
       " [1] 31 32 33 34 35 36 37 38 39 40 41 42 43 44 45 46 47 48 49 50"
      ]
     },
     "metadata": {},
     "output_type": "display_data"
    },
    {
     "data": {
      "text/html": [
       "<ol class=list-inline>\n",
       "\t<li>0</li>\n",
       "\t<li>0</li>\n",
       "\t<li>0</li>\n",
       "\t<li>0</li>\n",
       "\t<li>0</li>\n",
       "\t<li>0</li>\n",
       "\t<li>0</li>\n",
       "\t<li>0</li>\n",
       "\t<li>0</li>\n",
       "\t<li>0</li>\n",
       "\t<li>0</li>\n",
       "\t<li>0</li>\n",
       "\t<li>0</li>\n",
       "\t<li>0</li>\n",
       "\t<li>0</li>\n",
       "\t<li>0</li>\n",
       "\t<li>0</li>\n",
       "\t<li>0</li>\n",
       "\t<li>0</li>\n",
       "\t<li>0</li>\n",
       "\t<li>0</li>\n",
       "\t<li>0</li>\n",
       "\t<li>0</li>\n",
       "\t<li>0</li>\n",
       "\t<li>0</li>\n",
       "\t<li>0</li>\n",
       "\t<li>0</li>\n",
       "\t<li>0</li>\n",
       "\t<li>0</li>\n",
       "\t<li>0</li>\n",
       "\t<li>0</li>\n",
       "</ol>\n"
      ],
      "text/latex": [
       "\\begin{enumerate*}\n",
       "\\item 0\n",
       "\\item 0\n",
       "\\item 0\n",
       "\\item 0\n",
       "\\item 0\n",
       "\\item 0\n",
       "\\item 0\n",
       "\\item 0\n",
       "\\item 0\n",
       "\\item 0\n",
       "\\item 0\n",
       "\\item 0\n",
       "\\item 0\n",
       "\\item 0\n",
       "\\item 0\n",
       "\\item 0\n",
       "\\item 0\n",
       "\\item 0\n",
       "\\item 0\n",
       "\\item 0\n",
       "\\item 0\n",
       "\\item 0\n",
       "\\item 0\n",
       "\\item 0\n",
       "\\item 0\n",
       "\\item 0\n",
       "\\item 0\n",
       "\\item 0\n",
       "\\item 0\n",
       "\\item 0\n",
       "\\item 0\n",
       "\\end{enumerate*}\n"
      ],
      "text/markdown": [
       "1. 0\n",
       "2. 0\n",
       "3. 0\n",
       "4. 0\n",
       "5. 0\n",
       "6. 0\n",
       "7. 0\n",
       "8. 0\n",
       "9. 0\n",
       "10. 0\n",
       "11. 0\n",
       "12. 0\n",
       "13. 0\n",
       "14. 0\n",
       "15. 0\n",
       "16. 0\n",
       "17. 0\n",
       "18. 0\n",
       "19. 0\n",
       "20. 0\n",
       "21. 0\n",
       "22. 0\n",
       "23. 0\n",
       "24. 0\n",
       "25. 0\n",
       "26. 0\n",
       "27. 0\n",
       "28. 0\n",
       "29. 0\n",
       "30. 0\n",
       "31. 0\n",
       "\n",
       "\n"
      ],
      "text/plain": [
       " [1] 0 0 0 0 0 0 0 0 0 0 0 0 0 0 0 0 0 0 0 0 0 0 0 0 0 0 0 0 0 0 0"
      ]
     },
     "metadata": {},
     "output_type": "display_data"
    },
    {
     "data": {
      "text/html": [
       "<ol class=list-inline>\n",
       "\t<li>10</li>\n",
       "\t<li>20</li>\n",
       "\t<li>30</li>\n",
       "</ol>\n"
      ],
      "text/latex": [
       "\\begin{enumerate*}\n",
       "\\item 10\n",
       "\\item 20\n",
       "\\item 30\n",
       "\\end{enumerate*}\n"
      ],
      "text/markdown": [
       "1. 10\n",
       "2. 20\n",
       "3. 30\n",
       "\n",
       "\n"
      ],
      "text/plain": [
       "[1] 10 20 30"
      ]
     },
     "metadata": {},
     "output_type": "display_data"
    }
   ],
   "source": [
    "# Indexando con vectores lógicos o expresiones booleanas\n",
    "v0 <- v[1:5]\n",
    "v0[c(TRUE, FALSE, TRUE, FALSE, FALSE)] # Seleccionamos el primero y el tercero\n",
    "v[v > 30] # Todos los > 30\n",
    "v[v > 30 & v <= 50] # Todos los > 30 y <= 50\n",
    "v[v == 0] # Todos los 0\n",
    "v[v %in% c(10, 20, 30)] # Seleccionamos los elementos del vector que están en un conjunto dado (10, 20 y 30)"
   ]
  },
  {
   "cell_type": "code",
   "execution_count": 101,
   "metadata": {},
   "outputs": [
    {
     "data": {
      "text/html": [
       "<ol class=list-inline>\n",
       "\t<li>31</li>\n",
       "\t<li>32</li>\n",
       "\t<li>33</li>\n",
       "\t<li>34</li>\n",
       "\t<li>35</li>\n",
       "\t<li>36</li>\n",
       "\t<li>37</li>\n",
       "\t<li>38</li>\n",
       "\t<li>39</li>\n",
       "\t<li>40</li>\n",
       "\t<li>41</li>\n",
       "\t<li>42</li>\n",
       "\t<li>43</li>\n",
       "\t<li>44</li>\n",
       "\t<li>45</li>\n",
       "\t<li>46</li>\n",
       "\t<li>47</li>\n",
       "\t<li>48</li>\n",
       "\t<li>49</li>\n",
       "\t<li>50</li>\n",
       "\t<li>51</li>\n",
       "\t<li>52</li>\n",
       "\t<li>53</li>\n",
       "\t<li>54</li>\n",
       "\t<li>55</li>\n",
       "\t<li>56</li>\n",
       "\t<li>57</li>\n",
       "\t<li>58</li>\n",
       "\t<li>59</li>\n",
       "\t<li>60</li>\n",
       "\t<li>61</li>\n",
       "\t<li>62</li>\n",
       "\t<li>63</li>\n",
       "\t<li>64</li>\n",
       "\t<li>65</li>\n",
       "\t<li>66</li>\n",
       "\t<li>67</li>\n",
       "\t<li>68</li>\n",
       "\t<li>69</li>\n",
       "</ol>\n"
      ],
      "text/latex": [
       "\\begin{enumerate*}\n",
       "\\item 31\n",
       "\\item 32\n",
       "\\item 33\n",
       "\\item 34\n",
       "\\item 35\n",
       "\\item 36\n",
       "\\item 37\n",
       "\\item 38\n",
       "\\item 39\n",
       "\\item 40\n",
       "\\item 41\n",
       "\\item 42\n",
       "\\item 43\n",
       "\\item 44\n",
       "\\item 45\n",
       "\\item 46\n",
       "\\item 47\n",
       "\\item 48\n",
       "\\item 49\n",
       "\\item 50\n",
       "\\item 51\n",
       "\\item 52\n",
       "\\item 53\n",
       "\\item 54\n",
       "\\item 55\n",
       "\\item 56\n",
       "\\item 57\n",
       "\\item 58\n",
       "\\item 59\n",
       "\\item 60\n",
       "\\item 61\n",
       "\\item 62\n",
       "\\item 63\n",
       "\\item 64\n",
       "\\item 65\n",
       "\\item 66\n",
       "\\item 67\n",
       "\\item 68\n",
       "\\item 69\n",
       "\\end{enumerate*}\n"
      ],
      "text/markdown": [
       "1. 31\n",
       "2. 32\n",
       "3. 33\n",
       "4. 34\n",
       "5. 35\n",
       "6. 36\n",
       "7. 37\n",
       "8. 38\n",
       "9. 39\n",
       "10. 40\n",
       "11. 41\n",
       "12. 42\n",
       "13. 43\n",
       "14. 44\n",
       "15. 45\n",
       "16. 46\n",
       "17. 47\n",
       "18. 48\n",
       "19. 49\n",
       "20. 50\n",
       "21. 51\n",
       "22. 52\n",
       "23. 53\n",
       "24. 54\n",
       "25. 55\n",
       "26. 56\n",
       "27. 57\n",
       "28. 58\n",
       "29. 59\n",
       "30. 60\n",
       "31. 61\n",
       "32. 62\n",
       "33. 63\n",
       "34. 64\n",
       "35. 65\n",
       "36. 66\n",
       "37. 67\n",
       "38. 68\n",
       "39. 69\n",
       "\n",
       "\n"
      ],
      "text/plain": [
       " [1] 31 32 33 34 35 36 37 38 39 40 41 42 43 44 45 46 47 48 49 50 51 52 53 54 55\n",
       "[26] 56 57 58 59 60 61 62 63 64 65 66 67 68 69"
      ]
     },
     "metadata": {},
     "output_type": "display_data"
    }
   ],
   "source": [
    "v[which(v>30)]"
   ]
  },
  {
   "cell_type": "code",
   "execution_count": 98,
   "metadata": {},
   "outputs": [
    {
     "data": {
      "text/html": [
       "<strong>alpha:</strong> 1"
      ],
      "text/latex": [
       "\\textbf{alpha:} 1"
      ],
      "text/markdown": [
       "**alpha:** 1"
      ],
      "text/plain": [
       "alpha \n",
       "    1 "
      ]
     },
     "metadata": {},
     "output_type": "display_data"
    },
    {
     "data": {
      "text/html": [
       "<dl class=dl-horizontal>\n",
       "\t<dt>delta</dt>\n",
       "\t\t<dd>4</dd>\n",
       "\t<dt>omega</dt>\n",
       "\t\t<dd>5</dd>\n",
       "</dl>\n"
      ],
      "text/latex": [
       "\\begin{description*}\n",
       "\\item[delta] 4\n",
       "\\item[omega] 5\n",
       "\\end{description*}\n"
      ],
      "text/markdown": [
       "delta\n",
       ":   4omega\n",
       ":   5\n",
       "\n"
      ],
      "text/plain": [
       "delta omega \n",
       "    4     5 "
      ]
     },
     "metadata": {},
     "output_type": "display_data"
    }
   ],
   "source": [
    "# Indexando por nombre\n",
    "names(v0) <- c(\"alpha\", \"beta\", \"gamma\", \"delta\", \"omega\")\n",
    "v0[\"alpha\"]\n",
    "\n",
    "v0[\"beta\"] <- 500\n",
    "v0[c(\"delta\", \"omega\")]"
   ]
  },
  {
   "cell_type": "code",
   "execution_count": 99,
   "metadata": {},
   "outputs": [
    {
     "data": {
      "text/html": [
       "<dl class=dl-horizontal>\n",
       "\t<dt>beta</dt>\n",
       "\t\t<dd>500</dd>\n",
       "\t<dt>gamma</dt>\n",
       "\t\t<dd>3</dd>\n",
       "\t<dt>delta</dt>\n",
       "\t\t<dd>4</dd>\n",
       "</dl>\n"
      ],
      "text/latex": [
       "\\begin{description*}\n",
       "\\item[beta] 500\n",
       "\\item[gamma] 3\n",
       "\\item[delta] 4\n",
       "\\end{description*}\n"
      ],
      "text/markdown": [
       "beta\n",
       ":   500gamma\n",
       ":   3delta\n",
       ":   4\n",
       "\n"
      ],
      "text/plain": [
       " beta gamma delta \n",
       "  500     3     4 "
      ]
     },
     "metadata": {},
     "output_type": "display_data"
    }
   ],
   "source": [
    "v0[!(names(v0) %in% c(\"alpha\", \"omega\"))]"
   ]
  },
  {
   "cell_type": "code",
   "execution_count": 106,
   "metadata": {},
   "outputs": [],
   "source": [
    "###################################\n",
    "# Vectores                        #\n",
    "###################################\n",
    "\n",
    "# Crea dos vectores numéricos que representen las ganancias y pérdidas de la semana.\n",
    "# For poker_vector:\n",
    "#   On Monday you won 140$\n",
    "#   Tuesday you lost 50$\n",
    "#   Wednesday you won 20$\n",
    "#   Thursday you lost 120$\n",
    "#   Friday you won 240$\n",
    "  \n",
    "# For roulette_vector:\n",
    "#   On Monday you lost 24$\n",
    "#   Tuesday you lost 50$\n",
    "#   Wednesday you won 100$\n",
    "#   Thursday you lost 350$\n",
    "#   Friday you won 10$\n",
    "\n",
    "# Vector con las ganancias en el poker de lunes a viernes\n",
    "poker_vector  <- c(140,-50,20,-120,240)\n",
    "\n",
    "# Vector con las ganancias en la ruleta de lunes a viernes\n",
    "roulette_vector  <- c(-24,-50,100,-350,10)"
   ]
  },
  {
   "cell_type": "code",
   "execution_count": 111,
   "metadata": {},
   "outputs": [
    {
     "data": {
      "text/html": [
       "<dl class=dl-horizontal>\n",
       "\t<dt>lunes</dt>\n",
       "\t\t<dd>140</dd>\n",
       "\t<dt>martes</dt>\n",
       "\t\t<dd>-50</dd>\n",
       "\t<dt>miercoles</dt>\n",
       "\t\t<dd>20</dd>\n",
       "\t<dt>jueves</dt>\n",
       "\t\t<dd>-120</dd>\n",
       "\t<dt>viernes</dt>\n",
       "\t\t<dd>240</dd>\n",
       "</dl>\n"
      ],
      "text/latex": [
       "\\begin{description*}\n",
       "\\item[lunes] 140\n",
       "\\item[martes] -50\n",
       "\\item[miercoles] 20\n",
       "\\item[jueves] -120\n",
       "\\item[viernes] 240\n",
       "\\end{description*}\n"
      ],
      "text/markdown": [
       "lunes\n",
       ":   140martes\n",
       ":   -50miercoles\n",
       ":   20jueves\n",
       ":   -120viernes\n",
       ":   240\n",
       "\n"
      ],
      "text/plain": [
       "    lunes    martes miercoles    jueves   viernes \n",
       "      140       -50        20      -120       240 "
      ]
     },
     "metadata": {},
     "output_type": "display_data"
    },
    {
     "data": {
      "text/html": [
       "<dl class=dl-horizontal>\n",
       "\t<dt>lunes</dt>\n",
       "\t\t<dd>-24</dd>\n",
       "\t<dt>martes</dt>\n",
       "\t\t<dd>-50</dd>\n",
       "\t<dt>miercoles</dt>\n",
       "\t\t<dd>100</dd>\n",
       "\t<dt>jueves</dt>\n",
       "\t\t<dd>-350</dd>\n",
       "\t<dt>viernes</dt>\n",
       "\t\t<dd>10</dd>\n",
       "</dl>\n"
      ],
      "text/latex": [
       "\\begin{description*}\n",
       "\\item[lunes] -24\n",
       "\\item[martes] -50\n",
       "\\item[miercoles] 100\n",
       "\\item[jueves] -350\n",
       "\\item[viernes] 10\n",
       "\\end{description*}\n"
      ],
      "text/markdown": [
       "lunes\n",
       ":   -24martes\n",
       ":   -50miercoles\n",
       ":   100jueves\n",
       ":   -350viernes\n",
       ":   10\n",
       "\n"
      ],
      "text/plain": [
       "    lunes    martes miercoles    jueves   viernes \n",
       "      -24       -50       100      -350        10 "
      ]
     },
     "metadata": {},
     "output_type": "display_data"
    }
   ],
   "source": [
    "# Crea un vector con los días de la semana y asignalo como nombre a los elementos de los vectores anteriores\n",
    "days_vector <- c('lunes', 'martes','miercoles','jueves','viernes')\n",
    "names(poker_vector) <- c(days_vector )\n",
    "names(roulette_vector) <- c(days_vector )\n",
    "poker_vector\n",
    "roulette_vector"
   ]
  },
  {
   "cell_type": "code",
   "execution_count": 112,
   "metadata": {},
   "outputs": [
    {
     "data": {
      "text/html": [
       "<dl class=dl-horizontal>\n",
       "\t<dt>lunes</dt>\n",
       "\t\t<dd>116</dd>\n",
       "\t<dt>martes</dt>\n",
       "\t\t<dd>-100</dd>\n",
       "\t<dt>miercoles</dt>\n",
       "\t\t<dd>120</dd>\n",
       "\t<dt>jueves</dt>\n",
       "\t\t<dd>-470</dd>\n",
       "\t<dt>viernes</dt>\n",
       "\t\t<dd>250</dd>\n",
       "</dl>\n"
      ],
      "text/latex": [
       "\\begin{description*}\n",
       "\\item[lunes] 116\n",
       "\\item[martes] -100\n",
       "\\item[miercoles] 120\n",
       "\\item[jueves] -470\n",
       "\\item[viernes] 250\n",
       "\\end{description*}\n"
      ],
      "text/markdown": [
       "lunes\n",
       ":   116martes\n",
       ":   -100miercoles\n",
       ":   120jueves\n",
       ":   -470viernes\n",
       ":   250\n",
       "\n"
      ],
      "text/plain": [
       "    lunes    martes miercoles    jueves   viernes \n",
       "      116      -100       120      -470       250 "
      ]
     },
     "metadata": {},
     "output_type": "display_data"
    }
   ],
   "source": [
    "# Calcula el total de ganancias diario\n",
    "total_daily <- poker_vector + roulette_vector\n",
    "total_daily"
   ]
  },
  {
   "cell_type": "code",
   "execution_count": 113,
   "metadata": {},
   "outputs": [
    {
     "data": {
      "text/html": [
       "230"
      ],
      "text/latex": [
       "230"
      ],
      "text/markdown": [
       "230"
      ],
      "text/plain": [
       "[1] 230"
      ]
     },
     "metadata": {},
     "output_type": "display_data"
    }
   ],
   "source": [
    "# Calcula el total de ganancias en el poker\n",
    "total_poker <- sum(poker_vector)\n",
    "total_poker"
   ]
  },
  {
   "cell_type": "code",
   "execution_count": 115,
   "metadata": {},
   "outputs": [
    {
     "data": {
      "text/html": [
       "-314"
      ],
      "text/latex": [
       "-314"
      ],
      "text/markdown": [
       "-314"
      ],
      "text/plain": [
       "[1] -314"
      ]
     },
     "metadata": {},
     "output_type": "display_data"
    }
   ],
   "source": [
    "# Calcula el total de ganancias en la ruleta\n",
    "total_roulette <- sum(roulette_vector)\n",
    "total_roulette"
   ]
  },
  {
   "cell_type": "code",
   "execution_count": 116,
   "metadata": {},
   "outputs": [
    {
     "data": {
      "text/html": [
       "-84"
      ],
      "text/latex": [
       "-84"
      ],
      "text/markdown": [
       "-84"
      ],
      "text/plain": [
       "[1] -84"
      ]
     },
     "metadata": {},
     "output_type": "display_data"
    }
   ],
   "source": [
    "# Calcula el total de la semana\n",
    "total_week <- sum(poker_vector + roulette_vector)\n",
    "total_week"
   ]
  },
  {
   "cell_type": "code",
   "execution_count": 120,
   "metadata": {},
   "outputs": [
    {
     "data": {
      "text/html": [
       "120"
      ],
      "text/latex": [
       "120"
      ],
      "text/markdown": [
       "120"
      ],
      "text/plain": [
       "[1] 120"
      ]
     },
     "metadata": {},
     "output_type": "display_data"
    }
   ],
   "source": [
    "# Selecciona las ganancias del miércoles en el poker (por índice y por nombre)\n",
    "poker_wednesday <- sum(poker_vector[1] + roulette_vector[1])\n",
    "poker_wednesday <- sum(poker_vector['miercoles'] + roulette_vector['miercoles'])\n",
    "poker_wednesday"
   ]
  },
  {
   "cell_type": "code",
   "execution_count": 132,
   "metadata": {},
   "outputs": [
    {
     "data": {
      "text/html": [
       "<dl class=dl-horizontal>\n",
       "\t<dt>lunes</dt>\n",
       "\t\t<dd>TRUE</dd>\n",
       "\t<dt>martes</dt>\n",
       "\t\t<dd>FALSE</dd>\n",
       "\t<dt>miercoles</dt>\n",
       "\t\t<dd>TRUE</dd>\n",
       "\t<dt>jueves</dt>\n",
       "\t\t<dd>FALSE</dd>\n",
       "\t<dt>viernes</dt>\n",
       "\t\t<dd>TRUE</dd>\n",
       "</dl>\n"
      ],
      "text/latex": [
       "\\begin{description*}\n",
       "\\item[lunes] TRUE\n",
       "\\item[martes] FALSE\n",
       "\\item[miercoles] TRUE\n",
       "\\item[jueves] FALSE\n",
       "\\item[viernes] TRUE\n",
       "\\end{description*}\n"
      ],
      "text/markdown": [
       "lunes\n",
       ":   TRUEmartes\n",
       ":   FALSEmiercoles\n",
       ":   TRUEjueves\n",
       ":   FALSEviernes\n",
       ":   TRUE\n",
       "\n"
      ],
      "text/plain": [
       "    lunes    martes miercoles    jueves   viernes \n",
       "     TRUE     FALSE      TRUE     FALSE      TRUE "
      ]
     },
     "metadata": {},
     "output_type": "display_data"
    }
   ],
   "source": [
    "poker_vector > 0"
   ]
  },
  {
   "cell_type": "code",
   "execution_count": 134,
   "metadata": {},
   "outputs": [
    {
     "data": {
      "text/html": [
       "-150"
      ],
      "text/latex": [
       "-150"
      ],
      "text/markdown": [
       "-150"
      ],
      "text/plain": [
       "[1] -150"
      ]
     },
     "metadata": {},
     "output_type": "display_data"
    }
   ],
   "source": [
    "# Selecciona las ganancias del martes, miércoles y jueves en el poker (por índice y por nombre)\n",
    "poker_midweek <- sum(poker_vector[c(2,3,4)])\n",
    "poker_midweek <- sum(poker_vector[c('martes','miercoles','jueves')])\n",
    "poker_midweek"
   ]
  },
  {
   "cell_type": "code",
   "execution_count": 135,
   "metadata": {},
   "outputs": [
    {
     "data": {
      "text/html": [
       "-200"
      ],
      "text/latex": [
       "-200"
      ],
      "text/markdown": [
       "-200"
      ],
      "text/plain": [
       "[1] -200"
      ]
     },
     "metadata": {},
     "output_type": "display_data"
    }
   ],
   "source": [
    "# Selecciona las ganancias desde el martes al viernes en la ruleta\n",
    "roulette_selection_vector <- sum(poker_vector[c(2,3,4,5)] + roulette_vector[c(2,3,4,5)])\n",
    "roulette_selection_vector"
   ]
  },
  {
   "cell_type": "code",
   "execution_count": 138,
   "metadata": {},
   "outputs": [
    {
     "data": {
      "text/html": [
       "36.6666666666667"
      ],
      "text/latex": [
       "36.6666666666667"
      ],
      "text/markdown": [
       "36.6666666666667"
      ],
      "text/plain": [
       "[1] 36.66667"
      ]
     },
     "metadata": {},
     "output_type": "display_data"
    }
   ],
   "source": [
    "# Calcula la media de ganancias en el poker el lunes, martes y miércoles\n",
    "average_midweek_gain <- mean(poker_vector[c(1:3)])\n",
    "average_midweek_gain"
   ]
  },
  {
   "cell_type": "code",
   "execution_count": 139,
   "metadata": {},
   "outputs": [
    {
     "data": {
      "text/html": [
       "<ol class=list-inline>\n",
       "\t<li>'lunes'</li>\n",
       "\t<li>'miercoles'</li>\n",
       "\t<li>'viernes'</li>\n",
       "</ol>\n"
      ],
      "text/latex": [
       "\\begin{enumerate*}\n",
       "\\item 'lunes'\n",
       "\\item 'miercoles'\n",
       "\\item 'viernes'\n",
       "\\end{enumerate*}\n"
      ],
      "text/markdown": [
       "1. 'lunes'\n",
       "2. 'miercoles'\n",
       "3. 'viernes'\n",
       "\n",
       "\n"
      ],
      "text/plain": [
       "[1] \"lunes\"     \"miercoles\" \"viernes\"  "
      ]
     },
     "metadata": {},
     "output_type": "display_data"
    }
   ],
   "source": [
    "# ¿Qué días de la semana hubo ganancias al poker?\n",
    "selection_vector <- names(poker_vector[poker_vector > 0])\n",
    "selection_vector"
   ]
  },
  {
   "cell_type": "code",
   "execution_count": 142,
   "metadata": {},
   "outputs": [
    {
     "data": {
      "text/html": [
       "<dl class=dl-horizontal>\n",
       "\t<dt>lunes</dt>\n",
       "\t\t<dd>140</dd>\n",
       "\t<dt>miercoles</dt>\n",
       "\t\t<dd>20</dd>\n",
       "\t<dt>viernes</dt>\n",
       "\t\t<dd>240</dd>\n",
       "</dl>\n"
      ],
      "text/latex": [
       "\\begin{description*}\n",
       "\\item[lunes] 140\n",
       "\\item[miercoles] 20\n",
       "\\item[viernes] 240\n",
       "\\end{description*}\n"
      ],
      "text/markdown": [
       "lunes\n",
       ":   140miercoles\n",
       ":   20viernes\n",
       ":   240\n",
       "\n"
      ],
      "text/plain": [
       "    lunes miercoles   viernes \n",
       "      140        20       240 "
      ]
     },
     "metadata": {},
     "output_type": "display_data"
    }
   ],
   "source": [
    "# Haz la selección anterior sobre el vector con los datos del poker (prueba a introducir directamente la expresión para indexar)\n",
    "poker_winning_days <- poker_vector[selection_vector]\n",
    "poker_winning_days "
   ]
  },
  {
   "cell_type": "code",
   "execution_count": 141,
   "metadata": {},
   "outputs": [
    {
     "data": {
      "text/html": [
       "<dl class=dl-horizontal>\n",
       "\t<dt>lunes</dt>\n",
       "\t\t<dd>-24</dd>\n",
       "\t<dt>miercoles</dt>\n",
       "\t\t<dd>100</dd>\n",
       "\t<dt>viernes</dt>\n",
       "\t\t<dd>10</dd>\n",
       "</dl>\n"
      ],
      "text/latex": [
       "\\begin{description*}\n",
       "\\item[lunes] -24\n",
       "\\item[miercoles] 100\n",
       "\\item[viernes] 10\n",
       "\\end{description*}\n"
      ],
      "text/markdown": [
       "lunes\n",
       ":   -24miercoles\n",
       ":   100viernes\n",
       ":   10\n",
       "\n"
      ],
      "text/plain": [
       "    lunes miercoles   viernes \n",
       "      -24       100        10 "
      ]
     },
     "metadata": {},
     "output_type": "display_data"
    }
   ],
   "source": [
    "# Repite lo mismo sobre el vector con los datos de la ruleta\n",
    "roulette_winning_days <- roulette_vector[selection_vector]\n",
    "roulette_winning_days"
   ]
  },
  {
   "cell_type": "markdown",
   "metadata": {},
   "source": [
    "# Dataframes "
   ]
  },
  {
   "cell_type": "code",
   "execution_count": 1,
   "metadata": {},
   "outputs": [
    {
     "data": {
      "text/html": [
       "<table>\n",
       "<thead><tr><th scope=col>col1</th><th scope=col>col2</th></tr></thead>\n",
       "<tbody>\n",
       "\t<tr><td> 1</td><td>a </td></tr>\n",
       "\t<tr><td> 2</td><td>b </td></tr>\n",
       "\t<tr><td> 3</td><td>c </td></tr>\n",
       "\t<tr><td> 4</td><td>d </td></tr>\n",
       "\t<tr><td> 5</td><td>e </td></tr>\n",
       "\t<tr><td> 6</td><td>f </td></tr>\n",
       "\t<tr><td> 7</td><td>g </td></tr>\n",
       "\t<tr><td> 8</td><td>h </td></tr>\n",
       "\t<tr><td> 9</td><td>i </td></tr>\n",
       "\t<tr><td>10</td><td>j </td></tr>\n",
       "</tbody>\n",
       "</table>\n"
      ],
      "text/latex": [
       "\\begin{tabular}{r|ll}\n",
       " col1 & col2\\\\\n",
       "\\hline\n",
       "\t  1 & a \\\\\n",
       "\t  2 & b \\\\\n",
       "\t  3 & c \\\\\n",
       "\t  4 & d \\\\\n",
       "\t  5 & e \\\\\n",
       "\t  6 & f \\\\\n",
       "\t  7 & g \\\\\n",
       "\t  8 & h \\\\\n",
       "\t  9 & i \\\\\n",
       "\t 10 & j \\\\\n",
       "\\end{tabular}\n"
      ],
      "text/markdown": [
       "\n",
       "col1 | col2 | \n",
       "|---|---|---|---|---|---|---|---|---|---|\n",
       "|  1 | a  | \n",
       "|  2 | b  | \n",
       "|  3 | c  | \n",
       "|  4 | d  | \n",
       "|  5 | e  | \n",
       "|  6 | f  | \n",
       "|  7 | g  | \n",
       "|  8 | h  | \n",
       "|  9 | i  | \n",
       "| 10 | j  | \n",
       "\n",
       "\n"
      ],
      "text/plain": [
       "   col1 col2\n",
       "1   1   a   \n",
       "2   2   b   \n",
       "3   3   c   \n",
       "4   4   d   \n",
       "5   5   e   \n",
       "6   6   f   \n",
       "7   7   g   \n",
       "8   8   h   \n",
       "9   9   i   \n",
       "10 10   j   "
      ]
     },
     "metadata": {},
     "output_type": "display_data"
    }
   ],
   "source": [
    "empty <- data.frame()\n",
    "\n",
    "# A partir de dos vectores\n",
    "c1 <- 1:10 # vector de enteros\n",
    "c2 <- letters[1:10] # vector de strings\n",
    "df <- data.frame(col1 = c1, col2 = c2)\n",
    "df"
   ]
  },
  {
   "cell_type": "code",
   "execution_count": 2,
   "metadata": {},
   "outputs": [
    {
     "data": {
      "text/html": [
       "<table>\n",
       "<thead><tr><th></th><th scope=col>mpg</th><th scope=col>cyl</th><th scope=col>disp</th><th scope=col>hp</th><th scope=col>drat</th><th scope=col>wt</th><th scope=col>qsec</th><th scope=col>vs</th><th scope=col>am</th><th scope=col>gear</th><th scope=col>carb</th></tr></thead>\n",
       "<tbody>\n",
       "\t<tr><th scope=row>Mazda RX4</th><td>21.0 </td><td>6    </td><td>160  </td><td>110  </td><td>3.90 </td><td>2.620</td><td>16.46</td><td>0    </td><td>1    </td><td>4    </td><td>4    </td></tr>\n",
       "\t<tr><th scope=row>Mazda RX4 Wag</th><td>21.0 </td><td>6    </td><td>160  </td><td>110  </td><td>3.90 </td><td>2.875</td><td>17.02</td><td>0    </td><td>1    </td><td>4    </td><td>4    </td></tr>\n",
       "\t<tr><th scope=row>Datsun 710</th><td>22.8 </td><td>4    </td><td>108  </td><td> 93  </td><td>3.85 </td><td>2.320</td><td>18.61</td><td>1    </td><td>1    </td><td>4    </td><td>1    </td></tr>\n",
       "\t<tr><th scope=row>Hornet 4 Drive</th><td>21.4 </td><td>6    </td><td>258  </td><td>110  </td><td>3.08 </td><td>3.215</td><td>19.44</td><td>1    </td><td>0    </td><td>3    </td><td>1    </td></tr>\n",
       "\t<tr><th scope=row>Hornet Sportabout</th><td>18.7 </td><td>8    </td><td>360  </td><td>175  </td><td>3.15 </td><td>3.440</td><td>17.02</td><td>0    </td><td>0    </td><td>3    </td><td>2    </td></tr>\n",
       "\t<tr><th scope=row>Valiant</th><td>18.1 </td><td>6    </td><td>225  </td><td>105  </td><td>2.76 </td><td>3.460</td><td>20.22</td><td>1    </td><td>0    </td><td>3    </td><td>1    </td></tr>\n",
       "</tbody>\n",
       "</table>\n"
      ],
      "text/latex": [
       "\\begin{tabular}{r|lllllllllll}\n",
       "  & mpg & cyl & disp & hp & drat & wt & qsec & vs & am & gear & carb\\\\\n",
       "\\hline\n",
       "\tMazda RX4 & 21.0  & 6     & 160   & 110   & 3.90  & 2.620 & 16.46 & 0     & 1     & 4     & 4    \\\\\n",
       "\tMazda RX4 Wag & 21.0  & 6     & 160   & 110   & 3.90  & 2.875 & 17.02 & 0     & 1     & 4     & 4    \\\\\n",
       "\tDatsun 710 & 22.8  & 4     & 108   &  93   & 3.85  & 2.320 & 18.61 & 1     & 1     & 4     & 1    \\\\\n",
       "\tHornet 4 Drive & 21.4  & 6     & 258   & 110   & 3.08  & 3.215 & 19.44 & 1     & 0     & 3     & 1    \\\\\n",
       "\tHornet Sportabout & 18.7  & 8     & 360   & 175   & 3.15  & 3.440 & 17.02 & 0     & 0     & 3     & 2    \\\\\n",
       "\tValiant & 18.1  & 6     & 225   & 105   & 2.76  & 3.460 & 20.22 & 1     & 0     & 3     & 1    \\\\\n",
       "\\end{tabular}\n"
      ],
      "text/markdown": [
       "\n",
       "| <!--/--> | mpg | cyl | disp | hp | drat | wt | qsec | vs | am | gear | carb | \n",
       "|---|---|---|---|---|---|\n",
       "| Mazda RX4 | 21.0  | 6     | 160   | 110   | 3.90  | 2.620 | 16.46 | 0     | 1     | 4     | 4     | \n",
       "| Mazda RX4 Wag | 21.0  | 6     | 160   | 110   | 3.90  | 2.875 | 17.02 | 0     | 1     | 4     | 4     | \n",
       "| Datsun 710 | 22.8  | 4     | 108   |  93   | 3.85  | 2.320 | 18.61 | 1     | 1     | 4     | 1     | \n",
       "| Hornet 4 Drive | 21.4  | 6     | 258   | 110   | 3.08  | 3.215 | 19.44 | 1     | 0     | 3     | 1     | \n",
       "| Hornet Sportabout | 18.7  | 8     | 360   | 175   | 3.15  | 3.440 | 17.02 | 0     | 0     | 3     | 2     | \n",
       "| Valiant | 18.1  | 6     | 225   | 105   | 2.76  | 3.460 | 20.22 | 1     | 0     | 3     | 1     | \n",
       "\n",
       "\n"
      ],
      "text/plain": [
       "                  mpg  cyl disp hp  drat wt    qsec  vs am gear carb\n",
       "Mazda RX4         21.0 6   160  110 3.90 2.620 16.46 0  1  4    4   \n",
       "Mazda RX4 Wag     21.0 6   160  110 3.90 2.875 17.02 0  1  4    4   \n",
       "Datsun 710        22.8 4   108   93 3.85 2.320 18.61 1  1  4    1   \n",
       "Hornet 4 Drive    21.4 6   258  110 3.08 3.215 19.44 1  0  3    1   \n",
       "Hornet Sportabout 18.7 8   360  175 3.15 3.440 17.02 0  0  3    2   \n",
       "Valiant           18.1 6   225  105 2.76 3.460 20.22 1  0  3    1   "
      ]
     },
     "metadata": {},
     "output_type": "display_data"
    },
    {
     "data": {
      "text/html": [
       "<table>\n",
       "<thead><tr><th></th><th scope=col>mpg</th><th scope=col>cyl</th><th scope=col>disp</th><th scope=col>hp</th><th scope=col>drat</th><th scope=col>wt</th><th scope=col>qsec</th><th scope=col>vs</th><th scope=col>am</th><th scope=col>gear</th><th scope=col>carb</th></tr></thead>\n",
       "<tbody>\n",
       "\t<tr><th scope=row>Mazda RX4</th><td>21.0 </td><td>6    </td><td>160.0</td><td>110  </td><td>3.90 </td><td>2.620</td><td>16.46</td><td>0    </td><td>1    </td><td>4    </td><td>4    </td></tr>\n",
       "\t<tr><th scope=row>Mazda RX4 Wag</th><td>21.0 </td><td>6    </td><td>160.0</td><td>110  </td><td>3.90 </td><td>2.875</td><td>17.02</td><td>0    </td><td>1    </td><td>4    </td><td>4    </td></tr>\n",
       "\t<tr><th scope=row>Datsun 710</th><td>22.8 </td><td>4    </td><td>108.0</td><td> 93  </td><td>3.85 </td><td>2.320</td><td>18.61</td><td>1    </td><td>1    </td><td>4    </td><td>1    </td></tr>\n",
       "\t<tr><th scope=row>Hornet 4 Drive</th><td>21.4 </td><td>6    </td><td>258.0</td><td>110  </td><td>3.08 </td><td>3.215</td><td>19.44</td><td>1    </td><td>0    </td><td>3    </td><td>1    </td></tr>\n",
       "\t<tr><th scope=row>Hornet Sportabout</th><td>18.7 </td><td>8    </td><td>360.0</td><td>175  </td><td>3.15 </td><td>3.440</td><td>17.02</td><td>0    </td><td>0    </td><td>3    </td><td>2    </td></tr>\n",
       "\t<tr><th scope=row>Valiant</th><td>18.1 </td><td>6    </td><td>225.0</td><td>105  </td><td>2.76 </td><td>3.460</td><td>20.22</td><td>1    </td><td>0    </td><td>3    </td><td>1    </td></tr>\n",
       "\t<tr><th scope=row>Duster 360</th><td>14.3 </td><td>8    </td><td>360.0</td><td>245  </td><td>3.21 </td><td>3.570</td><td>15.84</td><td>0    </td><td>0    </td><td>3    </td><td>4    </td></tr>\n",
       "\t<tr><th scope=row>Merc 240D</th><td>24.4 </td><td>4    </td><td>146.7</td><td> 62  </td><td>3.69 </td><td>3.190</td><td>20.00</td><td>1    </td><td>0    </td><td>4    </td><td>2    </td></tr>\n",
       "\t<tr><th scope=row>Merc 230</th><td>22.8 </td><td>4    </td><td>140.8</td><td> 95  </td><td>3.92 </td><td>3.150</td><td>22.90</td><td>1    </td><td>0    </td><td>4    </td><td>2    </td></tr>\n",
       "\t<tr><th scope=row>Merc 280</th><td>19.2 </td><td>6    </td><td>167.6</td><td>123  </td><td>3.92 </td><td>3.440</td><td>18.30</td><td>1    </td><td>0    </td><td>4    </td><td>4    </td></tr>\n",
       "</tbody>\n",
       "</table>\n"
      ],
      "text/latex": [
       "\\begin{tabular}{r|lllllllllll}\n",
       "  & mpg & cyl & disp & hp & drat & wt & qsec & vs & am & gear & carb\\\\\n",
       "\\hline\n",
       "\tMazda RX4 & 21.0  & 6     & 160.0 & 110   & 3.90  & 2.620 & 16.46 & 0     & 1     & 4     & 4    \\\\\n",
       "\tMazda RX4 Wag & 21.0  & 6     & 160.0 & 110   & 3.90  & 2.875 & 17.02 & 0     & 1     & 4     & 4    \\\\\n",
       "\tDatsun 710 & 22.8  & 4     & 108.0 &  93   & 3.85  & 2.320 & 18.61 & 1     & 1     & 4     & 1    \\\\\n",
       "\tHornet 4 Drive & 21.4  & 6     & 258.0 & 110   & 3.08  & 3.215 & 19.44 & 1     & 0     & 3     & 1    \\\\\n",
       "\tHornet Sportabout & 18.7  & 8     & 360.0 & 175   & 3.15  & 3.440 & 17.02 & 0     & 0     & 3     & 2    \\\\\n",
       "\tValiant & 18.1  & 6     & 225.0 & 105   & 2.76  & 3.460 & 20.22 & 1     & 0     & 3     & 1    \\\\\n",
       "\tDuster 360 & 14.3  & 8     & 360.0 & 245   & 3.21  & 3.570 & 15.84 & 0     & 0     & 3     & 4    \\\\\n",
       "\tMerc 240D & 24.4  & 4     & 146.7 &  62   & 3.69  & 3.190 & 20.00 & 1     & 0     & 4     & 2    \\\\\n",
       "\tMerc 230 & 22.8  & 4     & 140.8 &  95   & 3.92  & 3.150 & 22.90 & 1     & 0     & 4     & 2    \\\\\n",
       "\tMerc 280 & 19.2  & 6     & 167.6 & 123   & 3.92  & 3.440 & 18.30 & 1     & 0     & 4     & 4    \\\\\n",
       "\\end{tabular}\n"
      ],
      "text/markdown": [
       "\n",
       "| <!--/--> | mpg | cyl | disp | hp | drat | wt | qsec | vs | am | gear | carb | \n",
       "|---|---|---|---|---|---|---|---|---|---|\n",
       "| Mazda RX4 | 21.0  | 6     | 160.0 | 110   | 3.90  | 2.620 | 16.46 | 0     | 1     | 4     | 4     | \n",
       "| Mazda RX4 Wag | 21.0  | 6     | 160.0 | 110   | 3.90  | 2.875 | 17.02 | 0     | 1     | 4     | 4     | \n",
       "| Datsun 710 | 22.8  | 4     | 108.0 |  93   | 3.85  | 2.320 | 18.61 | 1     | 1     | 4     | 1     | \n",
       "| Hornet 4 Drive | 21.4  | 6     | 258.0 | 110   | 3.08  | 3.215 | 19.44 | 1     | 0     | 3     | 1     | \n",
       "| Hornet Sportabout | 18.7  | 8     | 360.0 | 175   | 3.15  | 3.440 | 17.02 | 0     | 0     | 3     | 2     | \n",
       "| Valiant | 18.1  | 6     | 225.0 | 105   | 2.76  | 3.460 | 20.22 | 1     | 0     | 3     | 1     | \n",
       "| Duster 360 | 14.3  | 8     | 360.0 | 245   | 3.21  | 3.570 | 15.84 | 0     | 0     | 3     | 4     | \n",
       "| Merc 240D | 24.4  | 4     | 146.7 |  62   | 3.69  | 3.190 | 20.00 | 1     | 0     | 4     | 2     | \n",
       "| Merc 230 | 22.8  | 4     | 140.8 |  95   | 3.92  | 3.150 | 22.90 | 1     | 0     | 4     | 2     | \n",
       "| Merc 280 | 19.2  | 6     | 167.6 | 123   | 3.92  | 3.440 | 18.30 | 1     | 0     | 4     | 4     | \n",
       "\n",
       "\n"
      ],
      "text/plain": [
       "                  mpg  cyl disp  hp  drat wt    qsec  vs am gear carb\n",
       "Mazda RX4         21.0 6   160.0 110 3.90 2.620 16.46 0  1  4    4   \n",
       "Mazda RX4 Wag     21.0 6   160.0 110 3.90 2.875 17.02 0  1  4    4   \n",
       "Datsun 710        22.8 4   108.0  93 3.85 2.320 18.61 1  1  4    1   \n",
       "Hornet 4 Drive    21.4 6   258.0 110 3.08 3.215 19.44 1  0  3    1   \n",
       "Hornet Sportabout 18.7 8   360.0 175 3.15 3.440 17.02 0  0  3    2   \n",
       "Valiant           18.1 6   225.0 105 2.76 3.460 20.22 1  0  3    1   \n",
       "Duster 360        14.3 8   360.0 245 3.21 3.570 15.84 0  0  3    4   \n",
       "Merc 240D         24.4 4   146.7  62 3.69 3.190 20.00 1  0  4    2   \n",
       "Merc 230          22.8 4   140.8  95 3.92 3.150 22.90 1  0  4    2   \n",
       "Merc 280          19.2 6   167.6 123 3.92 3.440 18.30 1  0  4    4   "
      ]
     },
     "metadata": {},
     "output_type": "display_data"
    },
    {
     "data": {
      "text/html": [
       "<table>\n",
       "<thead><tr><th></th><th scope=col>mpg</th><th scope=col>cyl</th><th scope=col>disp</th><th scope=col>hp</th><th scope=col>drat</th><th scope=col>wt</th><th scope=col>qsec</th><th scope=col>vs</th><th scope=col>am</th><th scope=col>gear</th><th scope=col>carb</th></tr></thead>\n",
       "<tbody>\n",
       "\t<tr><th scope=row>Mazda RX4</th><td>21.0 </td><td>6    </td><td>160.0</td><td>110  </td><td>3.90 </td><td>2.620</td><td>16.46</td><td>0    </td><td>1    </td><td>4    </td><td>4    </td></tr>\n",
       "\t<tr><th scope=row>Mazda RX4 Wag</th><td>21.0 </td><td>6    </td><td>160.0</td><td>110  </td><td>3.90 </td><td>2.875</td><td>17.02</td><td>0    </td><td>1    </td><td>4    </td><td>4    </td></tr>\n",
       "\t<tr><th scope=row>Datsun 710</th><td>22.8 </td><td>4    </td><td>108.0</td><td> 93  </td><td>3.85 </td><td>2.320</td><td>18.61</td><td>1    </td><td>1    </td><td>4    </td><td>1    </td></tr>\n",
       "\t<tr><th scope=row>Hornet 4 Drive</th><td>21.4 </td><td>6    </td><td>258.0</td><td>110  </td><td>3.08 </td><td>3.215</td><td>19.44</td><td>1    </td><td>0    </td><td>3    </td><td>1    </td></tr>\n",
       "\t<tr><th scope=row>Hornet Sportabout</th><td>18.7 </td><td>8    </td><td>360.0</td><td>175  </td><td>3.15 </td><td>3.440</td><td>17.02</td><td>0    </td><td>0    </td><td>3    </td><td>2    </td></tr>\n",
       "\t<tr><th scope=row>Valiant</th><td>18.1 </td><td>6    </td><td>225.0</td><td>105  </td><td>2.76 </td><td>3.460</td><td>20.22</td><td>1    </td><td>0    </td><td>3    </td><td>1    </td></tr>\n",
       "\t<tr><th scope=row>Duster 360</th><td>14.3 </td><td>8    </td><td>360.0</td><td>245  </td><td>3.21 </td><td>3.570</td><td>15.84</td><td>0    </td><td>0    </td><td>3    </td><td>4    </td></tr>\n",
       "\t<tr><th scope=row>Merc 240D</th><td>24.4 </td><td>4    </td><td>146.7</td><td> 62  </td><td>3.69 </td><td>3.190</td><td>20.00</td><td>1    </td><td>0    </td><td>4    </td><td>2    </td></tr>\n",
       "\t<tr><th scope=row>Merc 230</th><td>22.8 </td><td>4    </td><td>140.8</td><td> 95  </td><td>3.92 </td><td>3.150</td><td>22.90</td><td>1    </td><td>0    </td><td>4    </td><td>2    </td></tr>\n",
       "\t<tr><th scope=row>Merc 280</th><td>19.2 </td><td>6    </td><td>167.6</td><td>123  </td><td>3.92 </td><td>3.440</td><td>18.30</td><td>1    </td><td>0    </td><td>4    </td><td>4    </td></tr>\n",
       "\t<tr><th scope=row>Merc 280C</th><td>17.8 </td><td>6    </td><td>167.6</td><td>123  </td><td>3.92 </td><td>3.440</td><td>18.90</td><td>1    </td><td>0    </td><td>4    </td><td>4    </td></tr>\n",
       "\t<tr><th scope=row>Merc 450SE</th><td>16.4 </td><td>8    </td><td>275.8</td><td>180  </td><td>3.07 </td><td>4.070</td><td>17.40</td><td>0    </td><td>0    </td><td>3    </td><td>3    </td></tr>\n",
       "\t<tr><th scope=row>Merc 450SL</th><td>17.3 </td><td>8    </td><td>275.8</td><td>180  </td><td>3.07 </td><td>3.730</td><td>17.60</td><td>0    </td><td>0    </td><td>3    </td><td>3    </td></tr>\n",
       "\t<tr><th scope=row>Merc 450SLC</th><td>15.2 </td><td>8    </td><td>275.8</td><td>180  </td><td>3.07 </td><td>3.780</td><td>18.00</td><td>0    </td><td>0    </td><td>3    </td><td>3    </td></tr>\n",
       "\t<tr><th scope=row>Cadillac Fleetwood</th><td>10.4 </td><td>8    </td><td>472.0</td><td>205  </td><td>2.93 </td><td>5.250</td><td>17.98</td><td>0    </td><td>0    </td><td>3    </td><td>4    </td></tr>\n",
       "\t<tr><th scope=row>Lincoln Continental</th><td>10.4 </td><td>8    </td><td>460.0</td><td>215  </td><td>3.00 </td><td>5.424</td><td>17.82</td><td>0    </td><td>0    </td><td>3    </td><td>4    </td></tr>\n",
       "\t<tr><th scope=row>Chrysler Imperial</th><td>14.7 </td><td>8    </td><td>440.0</td><td>230  </td><td>3.23 </td><td>5.345</td><td>17.42</td><td>0    </td><td>0    </td><td>3    </td><td>4    </td></tr>\n",
       "\t<tr><th scope=row>Fiat 128</th><td>32.4 </td><td>4    </td><td> 78.7</td><td> 66  </td><td>4.08 </td><td>2.200</td><td>19.47</td><td>1    </td><td>1    </td><td>4    </td><td>1    </td></tr>\n",
       "\t<tr><th scope=row>Honda Civic</th><td>30.4 </td><td>4    </td><td> 75.7</td><td> 52  </td><td>4.93 </td><td>1.615</td><td>18.52</td><td>1    </td><td>1    </td><td>4    </td><td>2    </td></tr>\n",
       "\t<tr><th scope=row>Toyota Corolla</th><td>33.9 </td><td>4    </td><td> 71.1</td><td> 65  </td><td>4.22 </td><td>1.835</td><td>19.90</td><td>1    </td><td>1    </td><td>4    </td><td>1    </td></tr>\n",
       "\t<tr><th scope=row>Toyota Corona</th><td>21.5 </td><td>4    </td><td>120.1</td><td> 97  </td><td>3.70 </td><td>2.465</td><td>20.01</td><td>1    </td><td>0    </td><td>3    </td><td>1    </td></tr>\n",
       "\t<tr><th scope=row>Dodge Challenger</th><td>15.5 </td><td>8    </td><td>318.0</td><td>150  </td><td>2.76 </td><td>3.520</td><td>16.87</td><td>0    </td><td>0    </td><td>3    </td><td>2    </td></tr>\n",
       "</tbody>\n",
       "</table>\n"
      ],
      "text/latex": [
       "\\begin{tabular}{r|lllllllllll}\n",
       "  & mpg & cyl & disp & hp & drat & wt & qsec & vs & am & gear & carb\\\\\n",
       "\\hline\n",
       "\tMazda RX4 & 21.0  & 6     & 160.0 & 110   & 3.90  & 2.620 & 16.46 & 0     & 1     & 4     & 4    \\\\\n",
       "\tMazda RX4 Wag & 21.0  & 6     & 160.0 & 110   & 3.90  & 2.875 & 17.02 & 0     & 1     & 4     & 4    \\\\\n",
       "\tDatsun 710 & 22.8  & 4     & 108.0 &  93   & 3.85  & 2.320 & 18.61 & 1     & 1     & 4     & 1    \\\\\n",
       "\tHornet 4 Drive & 21.4  & 6     & 258.0 & 110   & 3.08  & 3.215 & 19.44 & 1     & 0     & 3     & 1    \\\\\n",
       "\tHornet Sportabout & 18.7  & 8     & 360.0 & 175   & 3.15  & 3.440 & 17.02 & 0     & 0     & 3     & 2    \\\\\n",
       "\tValiant & 18.1  & 6     & 225.0 & 105   & 2.76  & 3.460 & 20.22 & 1     & 0     & 3     & 1    \\\\\n",
       "\tDuster 360 & 14.3  & 8     & 360.0 & 245   & 3.21  & 3.570 & 15.84 & 0     & 0     & 3     & 4    \\\\\n",
       "\tMerc 240D & 24.4  & 4     & 146.7 &  62   & 3.69  & 3.190 & 20.00 & 1     & 0     & 4     & 2    \\\\\n",
       "\tMerc 230 & 22.8  & 4     & 140.8 &  95   & 3.92  & 3.150 & 22.90 & 1     & 0     & 4     & 2    \\\\\n",
       "\tMerc 280 & 19.2  & 6     & 167.6 & 123   & 3.92  & 3.440 & 18.30 & 1     & 0     & 4     & 4    \\\\\n",
       "\tMerc 280C & 17.8  & 6     & 167.6 & 123   & 3.92  & 3.440 & 18.90 & 1     & 0     & 4     & 4    \\\\\n",
       "\tMerc 450SE & 16.4  & 8     & 275.8 & 180   & 3.07  & 4.070 & 17.40 & 0     & 0     & 3     & 3    \\\\\n",
       "\tMerc 450SL & 17.3  & 8     & 275.8 & 180   & 3.07  & 3.730 & 17.60 & 0     & 0     & 3     & 3    \\\\\n",
       "\tMerc 450SLC & 15.2  & 8     & 275.8 & 180   & 3.07  & 3.780 & 18.00 & 0     & 0     & 3     & 3    \\\\\n",
       "\tCadillac Fleetwood & 10.4  & 8     & 472.0 & 205   & 2.93  & 5.250 & 17.98 & 0     & 0     & 3     & 4    \\\\\n",
       "\tLincoln Continental & 10.4  & 8     & 460.0 & 215   & 3.00  & 5.424 & 17.82 & 0     & 0     & 3     & 4    \\\\\n",
       "\tChrysler Imperial & 14.7  & 8     & 440.0 & 230   & 3.23  & 5.345 & 17.42 & 0     & 0     & 3     & 4    \\\\\n",
       "\tFiat 128 & 32.4  & 4     &  78.7 &  66   & 4.08  & 2.200 & 19.47 & 1     & 1     & 4     & 1    \\\\\n",
       "\tHonda Civic & 30.4  & 4     &  75.7 &  52   & 4.93  & 1.615 & 18.52 & 1     & 1     & 4     & 2    \\\\\n",
       "\tToyota Corolla & 33.9  & 4     &  71.1 &  65   & 4.22  & 1.835 & 19.90 & 1     & 1     & 4     & 1    \\\\\n",
       "\tToyota Corona & 21.5  & 4     & 120.1 &  97   & 3.70  & 2.465 & 20.01 & 1     & 0     & 3     & 1    \\\\\n",
       "\tDodge Challenger & 15.5  & 8     & 318.0 & 150   & 2.76  & 3.520 & 16.87 & 0     & 0     & 3     & 2    \\\\\n",
       "\\end{tabular}\n"
      ],
      "text/markdown": [
       "\n",
       "| <!--/--> | mpg | cyl | disp | hp | drat | wt | qsec | vs | am | gear | carb | \n",
       "|---|---|---|---|---|---|---|---|---|---|---|---|---|---|---|---|---|---|---|---|---|---|\n",
       "| Mazda RX4 | 21.0  | 6     | 160.0 | 110   | 3.90  | 2.620 | 16.46 | 0     | 1     | 4     | 4     | \n",
       "| Mazda RX4 Wag | 21.0  | 6     | 160.0 | 110   | 3.90  | 2.875 | 17.02 | 0     | 1     | 4     | 4     | \n",
       "| Datsun 710 | 22.8  | 4     | 108.0 |  93   | 3.85  | 2.320 | 18.61 | 1     | 1     | 4     | 1     | \n",
       "| Hornet 4 Drive | 21.4  | 6     | 258.0 | 110   | 3.08  | 3.215 | 19.44 | 1     | 0     | 3     | 1     | \n",
       "| Hornet Sportabout | 18.7  | 8     | 360.0 | 175   | 3.15  | 3.440 | 17.02 | 0     | 0     | 3     | 2     | \n",
       "| Valiant | 18.1  | 6     | 225.0 | 105   | 2.76  | 3.460 | 20.22 | 1     | 0     | 3     | 1     | \n",
       "| Duster 360 | 14.3  | 8     | 360.0 | 245   | 3.21  | 3.570 | 15.84 | 0     | 0     | 3     | 4     | \n",
       "| Merc 240D | 24.4  | 4     | 146.7 |  62   | 3.69  | 3.190 | 20.00 | 1     | 0     | 4     | 2     | \n",
       "| Merc 230 | 22.8  | 4     | 140.8 |  95   | 3.92  | 3.150 | 22.90 | 1     | 0     | 4     | 2     | \n",
       "| Merc 280 | 19.2  | 6     | 167.6 | 123   | 3.92  | 3.440 | 18.30 | 1     | 0     | 4     | 4     | \n",
       "| Merc 280C | 17.8  | 6     | 167.6 | 123   | 3.92  | 3.440 | 18.90 | 1     | 0     | 4     | 4     | \n",
       "| Merc 450SE | 16.4  | 8     | 275.8 | 180   | 3.07  | 4.070 | 17.40 | 0     | 0     | 3     | 3     | \n",
       "| Merc 450SL | 17.3  | 8     | 275.8 | 180   | 3.07  | 3.730 | 17.60 | 0     | 0     | 3     | 3     | \n",
       "| Merc 450SLC | 15.2  | 8     | 275.8 | 180   | 3.07  | 3.780 | 18.00 | 0     | 0     | 3     | 3     | \n",
       "| Cadillac Fleetwood | 10.4  | 8     | 472.0 | 205   | 2.93  | 5.250 | 17.98 | 0     | 0     | 3     | 4     | \n",
       "| Lincoln Continental | 10.4  | 8     | 460.0 | 215   | 3.00  | 5.424 | 17.82 | 0     | 0     | 3     | 4     | \n",
       "| Chrysler Imperial | 14.7  | 8     | 440.0 | 230   | 3.23  | 5.345 | 17.42 | 0     | 0     | 3     | 4     | \n",
       "| Fiat 128 | 32.4  | 4     |  78.7 |  66   | 4.08  | 2.200 | 19.47 | 1     | 1     | 4     | 1     | \n",
       "| Honda Civic | 30.4  | 4     |  75.7 |  52   | 4.93  | 1.615 | 18.52 | 1     | 1     | 4     | 2     | \n",
       "| Toyota Corolla | 33.9  | 4     |  71.1 |  65   | 4.22  | 1.835 | 19.90 | 1     | 1     | 4     | 1     | \n",
       "| Toyota Corona | 21.5  | 4     | 120.1 |  97   | 3.70  | 2.465 | 20.01 | 1     | 0     | 3     | 1     | \n",
       "| Dodge Challenger | 15.5  | 8     | 318.0 | 150   | 2.76  | 3.520 | 16.87 | 0     | 0     | 3     | 2     | \n",
       "\n",
       "\n"
      ],
      "text/plain": [
       "                    mpg  cyl disp  hp  drat wt    qsec  vs am gear carb\n",
       "Mazda RX4           21.0 6   160.0 110 3.90 2.620 16.46 0  1  4    4   \n",
       "Mazda RX4 Wag       21.0 6   160.0 110 3.90 2.875 17.02 0  1  4    4   \n",
       "Datsun 710          22.8 4   108.0  93 3.85 2.320 18.61 1  1  4    1   \n",
       "Hornet 4 Drive      21.4 6   258.0 110 3.08 3.215 19.44 1  0  3    1   \n",
       "Hornet Sportabout   18.7 8   360.0 175 3.15 3.440 17.02 0  0  3    2   \n",
       "Valiant             18.1 6   225.0 105 2.76 3.460 20.22 1  0  3    1   \n",
       "Duster 360          14.3 8   360.0 245 3.21 3.570 15.84 0  0  3    4   \n",
       "Merc 240D           24.4 4   146.7  62 3.69 3.190 20.00 1  0  4    2   \n",
       "Merc 230            22.8 4   140.8  95 3.92 3.150 22.90 1  0  4    2   \n",
       "Merc 280            19.2 6   167.6 123 3.92 3.440 18.30 1  0  4    4   \n",
       "Merc 280C           17.8 6   167.6 123 3.92 3.440 18.90 1  0  4    4   \n",
       "Merc 450SE          16.4 8   275.8 180 3.07 4.070 17.40 0  0  3    3   \n",
       "Merc 450SL          17.3 8   275.8 180 3.07 3.730 17.60 0  0  3    3   \n",
       "Merc 450SLC         15.2 8   275.8 180 3.07 3.780 18.00 0  0  3    3   \n",
       "Cadillac Fleetwood  10.4 8   472.0 205 2.93 5.250 17.98 0  0  3    4   \n",
       "Lincoln Continental 10.4 8   460.0 215 3.00 5.424 17.82 0  0  3    4   \n",
       "Chrysler Imperial   14.7 8   440.0 230 3.23 5.345 17.42 0  0  3    4   \n",
       "Fiat 128            32.4 4    78.7  66 4.08 2.200 19.47 1  1  4    1   \n",
       "Honda Civic         30.4 4    75.7  52 4.93 1.615 18.52 1  1  4    2   \n",
       "Toyota Corolla      33.9 4    71.1  65 4.22 1.835 19.90 1  1  4    1   \n",
       "Toyota Corona       21.5 4   120.1  97 3.70 2.465 20.01 1  0  3    1   \n",
       "Dodge Challenger    15.5 8   318.0 150 2.76 3.520 16.87 0  0  3    2   "
      ]
     },
     "metadata": {},
     "output_type": "display_data"
    }
   ],
   "source": [
    "# Análisis exploratorio\n",
    "head(mtcars)\n",
    "head(mtcars, 10)\n",
    "head(mtcars, -10)"
   ]
  },
  {
   "cell_type": "code",
   "execution_count": 3,
   "metadata": {},
   "outputs": [
    {
     "data": {
      "text/html": [
       "<table>\n",
       "<thead><tr><th></th><th scope=col>mpg</th><th scope=col>cyl</th><th scope=col>disp</th><th scope=col>hp</th><th scope=col>drat</th><th scope=col>wt</th><th scope=col>qsec</th><th scope=col>vs</th><th scope=col>am</th><th scope=col>gear</th><th scope=col>carb</th></tr></thead>\n",
       "<tbody>\n",
       "\t<tr><th scope=row>Porsche 914-2</th><td>26.0 </td><td>4    </td><td>120.3</td><td> 91  </td><td>4.43 </td><td>2.140</td><td>16.7 </td><td>0    </td><td>1    </td><td>5    </td><td>2    </td></tr>\n",
       "\t<tr><th scope=row>Lotus Europa</th><td>30.4 </td><td>4    </td><td> 95.1</td><td>113  </td><td>3.77 </td><td>1.513</td><td>16.9 </td><td>1    </td><td>1    </td><td>5    </td><td>2    </td></tr>\n",
       "\t<tr><th scope=row>Ford Pantera L</th><td>15.8 </td><td>8    </td><td>351.0</td><td>264  </td><td>4.22 </td><td>3.170</td><td>14.5 </td><td>0    </td><td>1    </td><td>5    </td><td>4    </td></tr>\n",
       "\t<tr><th scope=row>Ferrari Dino</th><td>19.7 </td><td>6    </td><td>145.0</td><td>175  </td><td>3.62 </td><td>2.770</td><td>15.5 </td><td>0    </td><td>1    </td><td>5    </td><td>6    </td></tr>\n",
       "\t<tr><th scope=row>Maserati Bora</th><td>15.0 </td><td>8    </td><td>301.0</td><td>335  </td><td>3.54 </td><td>3.570</td><td>14.6 </td><td>0    </td><td>1    </td><td>5    </td><td>8    </td></tr>\n",
       "\t<tr><th scope=row>Volvo 142E</th><td>21.4 </td><td>4    </td><td>121.0</td><td>109  </td><td>4.11 </td><td>2.780</td><td>18.6 </td><td>1    </td><td>1    </td><td>4    </td><td>2    </td></tr>\n",
       "</tbody>\n",
       "</table>\n"
      ],
      "text/latex": [
       "\\begin{tabular}{r|lllllllllll}\n",
       "  & mpg & cyl & disp & hp & drat & wt & qsec & vs & am & gear & carb\\\\\n",
       "\\hline\n",
       "\tPorsche 914-2 & 26.0  & 4     & 120.3 &  91   & 4.43  & 2.140 & 16.7  & 0     & 1     & 5     & 2    \\\\\n",
       "\tLotus Europa & 30.4  & 4     &  95.1 & 113   & 3.77  & 1.513 & 16.9  & 1     & 1     & 5     & 2    \\\\\n",
       "\tFord Pantera L & 15.8  & 8     & 351.0 & 264   & 4.22  & 3.170 & 14.5  & 0     & 1     & 5     & 4    \\\\\n",
       "\tFerrari Dino & 19.7  & 6     & 145.0 & 175   & 3.62  & 2.770 & 15.5  & 0     & 1     & 5     & 6    \\\\\n",
       "\tMaserati Bora & 15.0  & 8     & 301.0 & 335   & 3.54  & 3.570 & 14.6  & 0     & 1     & 5     & 8    \\\\\n",
       "\tVolvo 142E & 21.4  & 4     & 121.0 & 109   & 4.11  & 2.780 & 18.6  & 1     & 1     & 4     & 2    \\\\\n",
       "\\end{tabular}\n"
      ],
      "text/markdown": [
       "\n",
       "| <!--/--> | mpg | cyl | disp | hp | drat | wt | qsec | vs | am | gear | carb | \n",
       "|---|---|---|---|---|---|\n",
       "| Porsche 914-2 | 26.0  | 4     | 120.3 |  91   | 4.43  | 2.140 | 16.7  | 0     | 1     | 5     | 2     | \n",
       "| Lotus Europa | 30.4  | 4     |  95.1 | 113   | 3.77  | 1.513 | 16.9  | 1     | 1     | 5     | 2     | \n",
       "| Ford Pantera L | 15.8  | 8     | 351.0 | 264   | 4.22  | 3.170 | 14.5  | 0     | 1     | 5     | 4     | \n",
       "| Ferrari Dino | 19.7  | 6     | 145.0 | 175   | 3.62  | 2.770 | 15.5  | 0     | 1     | 5     | 6     | \n",
       "| Maserati Bora | 15.0  | 8     | 301.0 | 335   | 3.54  | 3.570 | 14.6  | 0     | 1     | 5     | 8     | \n",
       "| Volvo 142E | 21.4  | 4     | 121.0 | 109   | 4.11  | 2.780 | 18.6  | 1     | 1     | 4     | 2     | \n",
       "\n",
       "\n"
      ],
      "text/plain": [
       "               mpg  cyl disp  hp  drat wt    qsec vs am gear carb\n",
       "Porsche 914-2  26.0 4   120.3  91 4.43 2.140 16.7 0  1  5    2   \n",
       "Lotus Europa   30.4 4    95.1 113 3.77 1.513 16.9 1  1  5    2   \n",
       "Ford Pantera L 15.8 8   351.0 264 4.22 3.170 14.5 0  1  5    4   \n",
       "Ferrari Dino   19.7 6   145.0 175 3.62 2.770 15.5 0  1  5    6   \n",
       "Maserati Bora  15.0 8   301.0 335 3.54 3.570 14.6 0  1  5    8   \n",
       "Volvo 142E     21.4 4   121.0 109 4.11 2.780 18.6 1  1  4    2   "
      ]
     },
     "metadata": {},
     "output_type": "display_data"
    },
    {
     "data": {
      "text/html": [
       "<table>\n",
       "<thead><tr><th></th><th scope=col>mpg</th><th scope=col>cyl</th><th scope=col>disp</th><th scope=col>hp</th><th scope=col>drat</th><th scope=col>wt</th><th scope=col>qsec</th><th scope=col>vs</th><th scope=col>am</th><th scope=col>gear</th><th scope=col>carb</th></tr></thead>\n",
       "<tbody>\n",
       "\t<tr><th scope=row>AMC Javelin</th><td>15.2 </td><td>8    </td><td>304.0</td><td>150  </td><td>3.15 </td><td>3.435</td><td>17.30</td><td>0    </td><td>0    </td><td>3    </td><td>2    </td></tr>\n",
       "\t<tr><th scope=row>Camaro Z28</th><td>13.3 </td><td>8    </td><td>350.0</td><td>245  </td><td>3.73 </td><td>3.840</td><td>15.41</td><td>0    </td><td>0    </td><td>3    </td><td>4    </td></tr>\n",
       "\t<tr><th scope=row>Pontiac Firebird</th><td>19.2 </td><td>8    </td><td>400.0</td><td>175  </td><td>3.08 </td><td>3.845</td><td>17.05</td><td>0    </td><td>0    </td><td>3    </td><td>2    </td></tr>\n",
       "\t<tr><th scope=row>Fiat X1-9</th><td>27.3 </td><td>4    </td><td> 79.0</td><td> 66  </td><td>4.08 </td><td>1.935</td><td>18.90</td><td>1    </td><td>1    </td><td>4    </td><td>1    </td></tr>\n",
       "\t<tr><th scope=row>Porsche 914-2</th><td>26.0 </td><td>4    </td><td>120.3</td><td> 91  </td><td>4.43 </td><td>2.140</td><td>16.70</td><td>0    </td><td>1    </td><td>5    </td><td>2    </td></tr>\n",
       "\t<tr><th scope=row>Lotus Europa</th><td>30.4 </td><td>4    </td><td> 95.1</td><td>113  </td><td>3.77 </td><td>1.513</td><td>16.90</td><td>1    </td><td>1    </td><td>5    </td><td>2    </td></tr>\n",
       "\t<tr><th scope=row>Ford Pantera L</th><td>15.8 </td><td>8    </td><td>351.0</td><td>264  </td><td>4.22 </td><td>3.170</td><td>14.50</td><td>0    </td><td>1    </td><td>5    </td><td>4    </td></tr>\n",
       "\t<tr><th scope=row>Ferrari Dino</th><td>19.7 </td><td>6    </td><td>145.0</td><td>175  </td><td>3.62 </td><td>2.770</td><td>15.50</td><td>0    </td><td>1    </td><td>5    </td><td>6    </td></tr>\n",
       "\t<tr><th scope=row>Maserati Bora</th><td>15.0 </td><td>8    </td><td>301.0</td><td>335  </td><td>3.54 </td><td>3.570</td><td>14.60</td><td>0    </td><td>1    </td><td>5    </td><td>8    </td></tr>\n",
       "\t<tr><th scope=row>Volvo 142E</th><td>21.4 </td><td>4    </td><td>121.0</td><td>109  </td><td>4.11 </td><td>2.780</td><td>18.60</td><td>1    </td><td>1    </td><td>4    </td><td>2    </td></tr>\n",
       "</tbody>\n",
       "</table>\n"
      ],
      "text/latex": [
       "\\begin{tabular}{r|lllllllllll}\n",
       "  & mpg & cyl & disp & hp & drat & wt & qsec & vs & am & gear & carb\\\\\n",
       "\\hline\n",
       "\tAMC Javelin & 15.2  & 8     & 304.0 & 150   & 3.15  & 3.435 & 17.30 & 0     & 0     & 3     & 2    \\\\\n",
       "\tCamaro Z28 & 13.3  & 8     & 350.0 & 245   & 3.73  & 3.840 & 15.41 & 0     & 0     & 3     & 4    \\\\\n",
       "\tPontiac Firebird & 19.2  & 8     & 400.0 & 175   & 3.08  & 3.845 & 17.05 & 0     & 0     & 3     & 2    \\\\\n",
       "\tFiat X1-9 & 27.3  & 4     &  79.0 &  66   & 4.08  & 1.935 & 18.90 & 1     & 1     & 4     & 1    \\\\\n",
       "\tPorsche 914-2 & 26.0  & 4     & 120.3 &  91   & 4.43  & 2.140 & 16.70 & 0     & 1     & 5     & 2    \\\\\n",
       "\tLotus Europa & 30.4  & 4     &  95.1 & 113   & 3.77  & 1.513 & 16.90 & 1     & 1     & 5     & 2    \\\\\n",
       "\tFord Pantera L & 15.8  & 8     & 351.0 & 264   & 4.22  & 3.170 & 14.50 & 0     & 1     & 5     & 4    \\\\\n",
       "\tFerrari Dino & 19.7  & 6     & 145.0 & 175   & 3.62  & 2.770 & 15.50 & 0     & 1     & 5     & 6    \\\\\n",
       "\tMaserati Bora & 15.0  & 8     & 301.0 & 335   & 3.54  & 3.570 & 14.60 & 0     & 1     & 5     & 8    \\\\\n",
       "\tVolvo 142E & 21.4  & 4     & 121.0 & 109   & 4.11  & 2.780 & 18.60 & 1     & 1     & 4     & 2    \\\\\n",
       "\\end{tabular}\n"
      ],
      "text/markdown": [
       "\n",
       "| <!--/--> | mpg | cyl | disp | hp | drat | wt | qsec | vs | am | gear | carb | \n",
       "|---|---|---|---|---|---|---|---|---|---|\n",
       "| AMC Javelin | 15.2  | 8     | 304.0 | 150   | 3.15  | 3.435 | 17.30 | 0     | 0     | 3     | 2     | \n",
       "| Camaro Z28 | 13.3  | 8     | 350.0 | 245   | 3.73  | 3.840 | 15.41 | 0     | 0     | 3     | 4     | \n",
       "| Pontiac Firebird | 19.2  | 8     | 400.0 | 175   | 3.08  | 3.845 | 17.05 | 0     | 0     | 3     | 2     | \n",
       "| Fiat X1-9 | 27.3  | 4     |  79.0 |  66   | 4.08  | 1.935 | 18.90 | 1     | 1     | 4     | 1     | \n",
       "| Porsche 914-2 | 26.0  | 4     | 120.3 |  91   | 4.43  | 2.140 | 16.70 | 0     | 1     | 5     | 2     | \n",
       "| Lotus Europa | 30.4  | 4     |  95.1 | 113   | 3.77  | 1.513 | 16.90 | 1     | 1     | 5     | 2     | \n",
       "| Ford Pantera L | 15.8  | 8     | 351.0 | 264   | 4.22  | 3.170 | 14.50 | 0     | 1     | 5     | 4     | \n",
       "| Ferrari Dino | 19.7  | 6     | 145.0 | 175   | 3.62  | 2.770 | 15.50 | 0     | 1     | 5     | 6     | \n",
       "| Maserati Bora | 15.0  | 8     | 301.0 | 335   | 3.54  | 3.570 | 14.60 | 0     | 1     | 5     | 8     | \n",
       "| Volvo 142E | 21.4  | 4     | 121.0 | 109   | 4.11  | 2.780 | 18.60 | 1     | 1     | 4     | 2     | \n",
       "\n",
       "\n"
      ],
      "text/plain": [
       "                 mpg  cyl disp  hp  drat wt    qsec  vs am gear carb\n",
       "AMC Javelin      15.2 8   304.0 150 3.15 3.435 17.30 0  0  3    2   \n",
       "Camaro Z28       13.3 8   350.0 245 3.73 3.840 15.41 0  0  3    4   \n",
       "Pontiac Firebird 19.2 8   400.0 175 3.08 3.845 17.05 0  0  3    2   \n",
       "Fiat X1-9        27.3 4    79.0  66 4.08 1.935 18.90 1  1  4    1   \n",
       "Porsche 914-2    26.0 4   120.3  91 4.43 2.140 16.70 0  1  5    2   \n",
       "Lotus Europa     30.4 4    95.1 113 3.77 1.513 16.90 1  1  5    2   \n",
       "Ford Pantera L   15.8 8   351.0 264 4.22 3.170 14.50 0  1  5    4   \n",
       "Ferrari Dino     19.7 6   145.0 175 3.62 2.770 15.50 0  1  5    6   \n",
       "Maserati Bora    15.0 8   301.0 335 3.54 3.570 14.60 0  1  5    8   \n",
       "Volvo 142E       21.4 4   121.0 109 4.11 2.780 18.60 1  1  4    2   "
      ]
     },
     "metadata": {},
     "output_type": "display_data"
    },
    {
     "data": {
      "text/html": [
       "<table>\n",
       "<thead><tr><th></th><th scope=col>mpg</th><th scope=col>cyl</th><th scope=col>disp</th><th scope=col>hp</th><th scope=col>drat</th><th scope=col>wt</th><th scope=col>qsec</th><th scope=col>vs</th><th scope=col>am</th><th scope=col>gear</th><th scope=col>carb</th></tr></thead>\n",
       "<tbody>\n",
       "\t<tr><th scope=row>Merc 280C</th><td>17.8 </td><td>6    </td><td>167.6</td><td>123  </td><td>3.92 </td><td>3.440</td><td>18.90</td><td>1    </td><td>0    </td><td>4    </td><td>4    </td></tr>\n",
       "\t<tr><th scope=row>Merc 450SE</th><td>16.4 </td><td>8    </td><td>275.8</td><td>180  </td><td>3.07 </td><td>4.070</td><td>17.40</td><td>0    </td><td>0    </td><td>3    </td><td>3    </td></tr>\n",
       "\t<tr><th scope=row>Merc 450SL</th><td>17.3 </td><td>8    </td><td>275.8</td><td>180  </td><td>3.07 </td><td>3.730</td><td>17.60</td><td>0    </td><td>0    </td><td>3    </td><td>3    </td></tr>\n",
       "\t<tr><th scope=row>Merc 450SLC</th><td>15.2 </td><td>8    </td><td>275.8</td><td>180  </td><td>3.07 </td><td>3.780</td><td>18.00</td><td>0    </td><td>0    </td><td>3    </td><td>3    </td></tr>\n",
       "\t<tr><th scope=row>Cadillac Fleetwood</th><td>10.4 </td><td>8    </td><td>472.0</td><td>205  </td><td>2.93 </td><td>5.250</td><td>17.98</td><td>0    </td><td>0    </td><td>3    </td><td>4    </td></tr>\n",
       "\t<tr><th scope=row>Lincoln Continental</th><td>10.4 </td><td>8    </td><td>460.0</td><td>215  </td><td>3.00 </td><td>5.424</td><td>17.82</td><td>0    </td><td>0    </td><td>3    </td><td>4    </td></tr>\n",
       "\t<tr><th scope=row>Chrysler Imperial</th><td>14.7 </td><td>8    </td><td>440.0</td><td>230  </td><td>3.23 </td><td>5.345</td><td>17.42</td><td>0    </td><td>0    </td><td>3    </td><td>4    </td></tr>\n",
       "\t<tr><th scope=row>Fiat 128</th><td>32.4 </td><td>4    </td><td> 78.7</td><td> 66  </td><td>4.08 </td><td>2.200</td><td>19.47</td><td>1    </td><td>1    </td><td>4    </td><td>1    </td></tr>\n",
       "\t<tr><th scope=row>Honda Civic</th><td>30.4 </td><td>4    </td><td> 75.7</td><td> 52  </td><td>4.93 </td><td>1.615</td><td>18.52</td><td>1    </td><td>1    </td><td>4    </td><td>2    </td></tr>\n",
       "\t<tr><th scope=row>Toyota Corolla</th><td>33.9 </td><td>4    </td><td> 71.1</td><td> 65  </td><td>4.22 </td><td>1.835</td><td>19.90</td><td>1    </td><td>1    </td><td>4    </td><td>1    </td></tr>\n",
       "\t<tr><th scope=row>Toyota Corona</th><td>21.5 </td><td>4    </td><td>120.1</td><td> 97  </td><td>3.70 </td><td>2.465</td><td>20.01</td><td>1    </td><td>0    </td><td>3    </td><td>1    </td></tr>\n",
       "\t<tr><th scope=row>Dodge Challenger</th><td>15.5 </td><td>8    </td><td>318.0</td><td>150  </td><td>2.76 </td><td>3.520</td><td>16.87</td><td>0    </td><td>0    </td><td>3    </td><td>2    </td></tr>\n",
       "\t<tr><th scope=row>AMC Javelin</th><td>15.2 </td><td>8    </td><td>304.0</td><td>150  </td><td>3.15 </td><td>3.435</td><td>17.30</td><td>0    </td><td>0    </td><td>3    </td><td>2    </td></tr>\n",
       "\t<tr><th scope=row>Camaro Z28</th><td>13.3 </td><td>8    </td><td>350.0</td><td>245  </td><td>3.73 </td><td>3.840</td><td>15.41</td><td>0    </td><td>0    </td><td>3    </td><td>4    </td></tr>\n",
       "\t<tr><th scope=row>Pontiac Firebird</th><td>19.2 </td><td>8    </td><td>400.0</td><td>175  </td><td>3.08 </td><td>3.845</td><td>17.05</td><td>0    </td><td>0    </td><td>3    </td><td>2    </td></tr>\n",
       "\t<tr><th scope=row>Fiat X1-9</th><td>27.3 </td><td>4    </td><td> 79.0</td><td> 66  </td><td>4.08 </td><td>1.935</td><td>18.90</td><td>1    </td><td>1    </td><td>4    </td><td>1    </td></tr>\n",
       "\t<tr><th scope=row>Porsche 914-2</th><td>26.0 </td><td>4    </td><td>120.3</td><td> 91  </td><td>4.43 </td><td>2.140</td><td>16.70</td><td>0    </td><td>1    </td><td>5    </td><td>2    </td></tr>\n",
       "\t<tr><th scope=row>Lotus Europa</th><td>30.4 </td><td>4    </td><td> 95.1</td><td>113  </td><td>3.77 </td><td>1.513</td><td>16.90</td><td>1    </td><td>1    </td><td>5    </td><td>2    </td></tr>\n",
       "\t<tr><th scope=row>Ford Pantera L</th><td>15.8 </td><td>8    </td><td>351.0</td><td>264  </td><td>4.22 </td><td>3.170</td><td>14.50</td><td>0    </td><td>1    </td><td>5    </td><td>4    </td></tr>\n",
       "\t<tr><th scope=row>Ferrari Dino</th><td>19.7 </td><td>6    </td><td>145.0</td><td>175  </td><td>3.62 </td><td>2.770</td><td>15.50</td><td>0    </td><td>1    </td><td>5    </td><td>6    </td></tr>\n",
       "\t<tr><th scope=row>Maserati Bora</th><td>15.0 </td><td>8    </td><td>301.0</td><td>335  </td><td>3.54 </td><td>3.570</td><td>14.60</td><td>0    </td><td>1    </td><td>5    </td><td>8    </td></tr>\n",
       "\t<tr><th scope=row>Volvo 142E</th><td>21.4 </td><td>4    </td><td>121.0</td><td>109  </td><td>4.11 </td><td>2.780</td><td>18.60</td><td>1    </td><td>1    </td><td>4    </td><td>2    </td></tr>\n",
       "</tbody>\n",
       "</table>\n"
      ],
      "text/latex": [
       "\\begin{tabular}{r|lllllllllll}\n",
       "  & mpg & cyl & disp & hp & drat & wt & qsec & vs & am & gear & carb\\\\\n",
       "\\hline\n",
       "\tMerc 280C & 17.8  & 6     & 167.6 & 123   & 3.92  & 3.440 & 18.90 & 1     & 0     & 4     & 4    \\\\\n",
       "\tMerc 450SE & 16.4  & 8     & 275.8 & 180   & 3.07  & 4.070 & 17.40 & 0     & 0     & 3     & 3    \\\\\n",
       "\tMerc 450SL & 17.3  & 8     & 275.8 & 180   & 3.07  & 3.730 & 17.60 & 0     & 0     & 3     & 3    \\\\\n",
       "\tMerc 450SLC & 15.2  & 8     & 275.8 & 180   & 3.07  & 3.780 & 18.00 & 0     & 0     & 3     & 3    \\\\\n",
       "\tCadillac Fleetwood & 10.4  & 8     & 472.0 & 205   & 2.93  & 5.250 & 17.98 & 0     & 0     & 3     & 4    \\\\\n",
       "\tLincoln Continental & 10.4  & 8     & 460.0 & 215   & 3.00  & 5.424 & 17.82 & 0     & 0     & 3     & 4    \\\\\n",
       "\tChrysler Imperial & 14.7  & 8     & 440.0 & 230   & 3.23  & 5.345 & 17.42 & 0     & 0     & 3     & 4    \\\\\n",
       "\tFiat 128 & 32.4  & 4     &  78.7 &  66   & 4.08  & 2.200 & 19.47 & 1     & 1     & 4     & 1    \\\\\n",
       "\tHonda Civic & 30.4  & 4     &  75.7 &  52   & 4.93  & 1.615 & 18.52 & 1     & 1     & 4     & 2    \\\\\n",
       "\tToyota Corolla & 33.9  & 4     &  71.1 &  65   & 4.22  & 1.835 & 19.90 & 1     & 1     & 4     & 1    \\\\\n",
       "\tToyota Corona & 21.5  & 4     & 120.1 &  97   & 3.70  & 2.465 & 20.01 & 1     & 0     & 3     & 1    \\\\\n",
       "\tDodge Challenger & 15.5  & 8     & 318.0 & 150   & 2.76  & 3.520 & 16.87 & 0     & 0     & 3     & 2    \\\\\n",
       "\tAMC Javelin & 15.2  & 8     & 304.0 & 150   & 3.15  & 3.435 & 17.30 & 0     & 0     & 3     & 2    \\\\\n",
       "\tCamaro Z28 & 13.3  & 8     & 350.0 & 245   & 3.73  & 3.840 & 15.41 & 0     & 0     & 3     & 4    \\\\\n",
       "\tPontiac Firebird & 19.2  & 8     & 400.0 & 175   & 3.08  & 3.845 & 17.05 & 0     & 0     & 3     & 2    \\\\\n",
       "\tFiat X1-9 & 27.3  & 4     &  79.0 &  66   & 4.08  & 1.935 & 18.90 & 1     & 1     & 4     & 1    \\\\\n",
       "\tPorsche 914-2 & 26.0  & 4     & 120.3 &  91   & 4.43  & 2.140 & 16.70 & 0     & 1     & 5     & 2    \\\\\n",
       "\tLotus Europa & 30.4  & 4     &  95.1 & 113   & 3.77  & 1.513 & 16.90 & 1     & 1     & 5     & 2    \\\\\n",
       "\tFord Pantera L & 15.8  & 8     & 351.0 & 264   & 4.22  & 3.170 & 14.50 & 0     & 1     & 5     & 4    \\\\\n",
       "\tFerrari Dino & 19.7  & 6     & 145.0 & 175   & 3.62  & 2.770 & 15.50 & 0     & 1     & 5     & 6    \\\\\n",
       "\tMaserati Bora & 15.0  & 8     & 301.0 & 335   & 3.54  & 3.570 & 14.60 & 0     & 1     & 5     & 8    \\\\\n",
       "\tVolvo 142E & 21.4  & 4     & 121.0 & 109   & 4.11  & 2.780 & 18.60 & 1     & 1     & 4     & 2    \\\\\n",
       "\\end{tabular}\n"
      ],
      "text/markdown": [
       "\n",
       "| <!--/--> | mpg | cyl | disp | hp | drat | wt | qsec | vs | am | gear | carb | \n",
       "|---|---|---|---|---|---|---|---|---|---|---|---|---|---|---|---|---|---|---|---|---|---|\n",
       "| Merc 280C | 17.8  | 6     | 167.6 | 123   | 3.92  | 3.440 | 18.90 | 1     | 0     | 4     | 4     | \n",
       "| Merc 450SE | 16.4  | 8     | 275.8 | 180   | 3.07  | 4.070 | 17.40 | 0     | 0     | 3     | 3     | \n",
       "| Merc 450SL | 17.3  | 8     | 275.8 | 180   | 3.07  | 3.730 | 17.60 | 0     | 0     | 3     | 3     | \n",
       "| Merc 450SLC | 15.2  | 8     | 275.8 | 180   | 3.07  | 3.780 | 18.00 | 0     | 0     | 3     | 3     | \n",
       "| Cadillac Fleetwood | 10.4  | 8     | 472.0 | 205   | 2.93  | 5.250 | 17.98 | 0     | 0     | 3     | 4     | \n",
       "| Lincoln Continental | 10.4  | 8     | 460.0 | 215   | 3.00  | 5.424 | 17.82 | 0     | 0     | 3     | 4     | \n",
       "| Chrysler Imperial | 14.7  | 8     | 440.0 | 230   | 3.23  | 5.345 | 17.42 | 0     | 0     | 3     | 4     | \n",
       "| Fiat 128 | 32.4  | 4     |  78.7 |  66   | 4.08  | 2.200 | 19.47 | 1     | 1     | 4     | 1     | \n",
       "| Honda Civic | 30.4  | 4     |  75.7 |  52   | 4.93  | 1.615 | 18.52 | 1     | 1     | 4     | 2     | \n",
       "| Toyota Corolla | 33.9  | 4     |  71.1 |  65   | 4.22  | 1.835 | 19.90 | 1     | 1     | 4     | 1     | \n",
       "| Toyota Corona | 21.5  | 4     | 120.1 |  97   | 3.70  | 2.465 | 20.01 | 1     | 0     | 3     | 1     | \n",
       "| Dodge Challenger | 15.5  | 8     | 318.0 | 150   | 2.76  | 3.520 | 16.87 | 0     | 0     | 3     | 2     | \n",
       "| AMC Javelin | 15.2  | 8     | 304.0 | 150   | 3.15  | 3.435 | 17.30 | 0     | 0     | 3     | 2     | \n",
       "| Camaro Z28 | 13.3  | 8     | 350.0 | 245   | 3.73  | 3.840 | 15.41 | 0     | 0     | 3     | 4     | \n",
       "| Pontiac Firebird | 19.2  | 8     | 400.0 | 175   | 3.08  | 3.845 | 17.05 | 0     | 0     | 3     | 2     | \n",
       "| Fiat X1-9 | 27.3  | 4     |  79.0 |  66   | 4.08  | 1.935 | 18.90 | 1     | 1     | 4     | 1     | \n",
       "| Porsche 914-2 | 26.0  | 4     | 120.3 |  91   | 4.43  | 2.140 | 16.70 | 0     | 1     | 5     | 2     | \n",
       "| Lotus Europa | 30.4  | 4     |  95.1 | 113   | 3.77  | 1.513 | 16.90 | 1     | 1     | 5     | 2     | \n",
       "| Ford Pantera L | 15.8  | 8     | 351.0 | 264   | 4.22  | 3.170 | 14.50 | 0     | 1     | 5     | 4     | \n",
       "| Ferrari Dino | 19.7  | 6     | 145.0 | 175   | 3.62  | 2.770 | 15.50 | 0     | 1     | 5     | 6     | \n",
       "| Maserati Bora | 15.0  | 8     | 301.0 | 335   | 3.54  | 3.570 | 14.60 | 0     | 1     | 5     | 8     | \n",
       "| Volvo 142E | 21.4  | 4     | 121.0 | 109   | 4.11  | 2.780 | 18.60 | 1     | 1     | 4     | 2     | \n",
       "\n",
       "\n"
      ],
      "text/plain": [
       "                    mpg  cyl disp  hp  drat wt    qsec  vs am gear carb\n",
       "Merc 280C           17.8 6   167.6 123 3.92 3.440 18.90 1  0  4    4   \n",
       "Merc 450SE          16.4 8   275.8 180 3.07 4.070 17.40 0  0  3    3   \n",
       "Merc 450SL          17.3 8   275.8 180 3.07 3.730 17.60 0  0  3    3   \n",
       "Merc 450SLC         15.2 8   275.8 180 3.07 3.780 18.00 0  0  3    3   \n",
       "Cadillac Fleetwood  10.4 8   472.0 205 2.93 5.250 17.98 0  0  3    4   \n",
       "Lincoln Continental 10.4 8   460.0 215 3.00 5.424 17.82 0  0  3    4   \n",
       "Chrysler Imperial   14.7 8   440.0 230 3.23 5.345 17.42 0  0  3    4   \n",
       "Fiat 128            32.4 4    78.7  66 4.08 2.200 19.47 1  1  4    1   \n",
       "Honda Civic         30.4 4    75.7  52 4.93 1.615 18.52 1  1  4    2   \n",
       "Toyota Corolla      33.9 4    71.1  65 4.22 1.835 19.90 1  1  4    1   \n",
       "Toyota Corona       21.5 4   120.1  97 3.70 2.465 20.01 1  0  3    1   \n",
       "Dodge Challenger    15.5 8   318.0 150 2.76 3.520 16.87 0  0  3    2   \n",
       "AMC Javelin         15.2 8   304.0 150 3.15 3.435 17.30 0  0  3    2   \n",
       "Camaro Z28          13.3 8   350.0 245 3.73 3.840 15.41 0  0  3    4   \n",
       "Pontiac Firebird    19.2 8   400.0 175 3.08 3.845 17.05 0  0  3    2   \n",
       "Fiat X1-9           27.3 4    79.0  66 4.08 1.935 18.90 1  1  4    1   \n",
       "Porsche 914-2       26.0 4   120.3  91 4.43 2.140 16.70 0  1  5    2   \n",
       "Lotus Europa        30.4 4    95.1 113 3.77 1.513 16.90 1  1  5    2   \n",
       "Ford Pantera L      15.8 8   351.0 264 4.22 3.170 14.50 0  1  5    4   \n",
       "Ferrari Dino        19.7 6   145.0 175 3.62 2.770 15.50 0  1  5    6   \n",
       "Maserati Bora       15.0 8   301.0 335 3.54 3.570 14.60 0  1  5    8   \n",
       "Volvo 142E          21.4 4   121.0 109 4.11 2.780 18.60 1  1  4    2   "
      ]
     },
     "metadata": {},
     "output_type": "display_data"
    }
   ],
   "source": [
    "tail(mtcars)\n",
    "tail(mtcars, 10)\n",
    "tail(mtcars, -10)"
   ]
  },
  {
   "cell_type": "code",
   "execution_count": 4,
   "metadata": {},
   "outputs": [
    {
     "name": "stdout",
     "output_type": "stream",
     "text": [
      "'data.frame':\t32 obs. of  11 variables:\n",
      " $ mpg : num  21 21 22.8 21.4 18.7 18.1 14.3 24.4 22.8 19.2 ...\n",
      " $ cyl : num  6 6 4 6 8 6 8 4 4 6 ...\n",
      " $ disp: num  160 160 108 258 360 ...\n",
      " $ hp  : num  110 110 93 110 175 105 245 62 95 123 ...\n",
      " $ drat: num  3.9 3.9 3.85 3.08 3.15 2.76 3.21 3.69 3.92 3.92 ...\n",
      " $ wt  : num  2.62 2.88 2.32 3.21 3.44 ...\n",
      " $ qsec: num  16.5 17 18.6 19.4 17 ...\n",
      " $ vs  : num  0 0 1 1 0 1 0 1 1 1 ...\n",
      " $ am  : num  1 1 1 0 0 0 0 0 0 0 ...\n",
      " $ gear: num  4 4 4 3 3 3 3 4 4 4 ...\n",
      " $ carb: num  4 4 1 1 2 1 4 2 2 4 ...\n"
     ]
    }
   ],
   "source": [
    "str(mtcars)"
   ]
  },
  {
   "cell_type": "code",
   "execution_count": 5,
   "metadata": {},
   "outputs": [
    {
     "data": {
      "text/plain": [
       "      mpg             cyl             disp             hp       \n",
       " Min.   :10.40   Min.   :4.000   Min.   : 71.1   Min.   : 52.0  \n",
       " 1st Qu.:15.43   1st Qu.:4.000   1st Qu.:120.8   1st Qu.: 96.5  \n",
       " Median :19.20   Median :6.000   Median :196.3   Median :123.0  \n",
       " Mean   :20.09   Mean   :6.188   Mean   :230.7   Mean   :146.7  \n",
       " 3rd Qu.:22.80   3rd Qu.:8.000   3rd Qu.:326.0   3rd Qu.:180.0  \n",
       " Max.   :33.90   Max.   :8.000   Max.   :472.0   Max.   :335.0  \n",
       "      drat             wt             qsec             vs        \n",
       " Min.   :2.760   Min.   :1.513   Min.   :14.50   Min.   :0.0000  \n",
       " 1st Qu.:3.080   1st Qu.:2.581   1st Qu.:16.89   1st Qu.:0.0000  \n",
       " Median :3.695   Median :3.325   Median :17.71   Median :0.0000  \n",
       " Mean   :3.597   Mean   :3.217   Mean   :17.85   Mean   :0.4375  \n",
       " 3rd Qu.:3.920   3rd Qu.:3.610   3rd Qu.:18.90   3rd Qu.:1.0000  \n",
       " Max.   :4.930   Max.   :5.424   Max.   :22.90   Max.   :1.0000  \n",
       "       am              gear            carb      \n",
       " Min.   :0.0000   Min.   :3.000   Min.   :1.000  \n",
       " 1st Qu.:0.0000   1st Qu.:3.000   1st Qu.:2.000  \n",
       " Median :0.0000   Median :4.000   Median :2.000  \n",
       " Mean   :0.4062   Mean   :3.688   Mean   :2.812  \n",
       " 3rd Qu.:1.0000   3rd Qu.:4.000   3rd Qu.:4.000  \n",
       " Max.   :1.0000   Max.   :5.000   Max.   :8.000  "
      ]
     },
     "metadata": {},
     "output_type": "display_data"
    }
   ],
   "source": [
    "summary(mtcars)"
   ]
  },
  {
   "cell_type": "code",
   "execution_count": 6,
   "metadata": {},
   "outputs": [],
   "source": [
    "df <- rbind(mtcars, data.frame(mpg = 22, cyl = 5, disp = 202, hp = 100, drat = 2.56, wt = 3.1, \n",
    "                               qsec = 15, vs = 1, am = 0, gear =5, carb = 4, row.names=c(\"seat\")))"
   ]
  },
  {
   "cell_type": "code",
   "execution_count": 7,
   "metadata": {},
   "outputs": [
    {
     "data": {
      "text/html": [
       "<table>\n",
       "<thead><tr><th></th><th scope=col>mpg</th><th scope=col>cyl</th><th scope=col>disp</th><th scope=col>hp</th><th scope=col>drat</th><th scope=col>wt</th><th scope=col>qsec</th><th scope=col>vs</th><th scope=col>am</th><th scope=col>gear</th><th scope=col>carb</th></tr></thead>\n",
       "<tbody>\n",
       "\t<tr><th scope=row>Mazda RX4</th><td>21.0 </td><td>6    </td><td>160.0</td><td>110  </td><td>3.90 </td><td>2.620</td><td>16.46</td><td>0    </td><td>1    </td><td>4    </td><td>4    </td></tr>\n",
       "\t<tr><th scope=row>Mazda RX4 Wag</th><td>21.0 </td><td>6    </td><td>160.0</td><td>110  </td><td>3.90 </td><td>2.875</td><td>17.02</td><td>0    </td><td>1    </td><td>4    </td><td>4    </td></tr>\n",
       "\t<tr><th scope=row>Datsun 710</th><td>22.8 </td><td>4    </td><td>108.0</td><td> 93  </td><td>3.85 </td><td>2.320</td><td>18.61</td><td>1    </td><td>1    </td><td>4    </td><td>1    </td></tr>\n",
       "\t<tr><th scope=row>Hornet 4 Drive</th><td>21.4 </td><td>6    </td><td>258.0</td><td>110  </td><td>3.08 </td><td>3.215</td><td>19.44</td><td>1    </td><td>0    </td><td>3    </td><td>1    </td></tr>\n",
       "\t<tr><th scope=row>Hornet Sportabout</th><td>18.7 </td><td>8    </td><td>360.0</td><td>175  </td><td>3.15 </td><td>3.440</td><td>17.02</td><td>0    </td><td>0    </td><td>3    </td><td>2    </td></tr>\n",
       "\t<tr><th scope=row>Valiant</th><td>18.1 </td><td>6    </td><td>225.0</td><td>105  </td><td>2.76 </td><td>3.460</td><td>20.22</td><td>1    </td><td>0    </td><td>3    </td><td>1    </td></tr>\n",
       "\t<tr><th scope=row>Duster 360</th><td>14.3 </td><td>8    </td><td>360.0</td><td>245  </td><td>3.21 </td><td>3.570</td><td>15.84</td><td>0    </td><td>0    </td><td>3    </td><td>4    </td></tr>\n",
       "\t<tr><th scope=row>Merc 240D</th><td>24.4 </td><td>4    </td><td>146.7</td><td> 62  </td><td>3.69 </td><td>3.190</td><td>20.00</td><td>1    </td><td>0    </td><td>4    </td><td>2    </td></tr>\n",
       "\t<tr><th scope=row>Merc 230</th><td>22.8 </td><td>4    </td><td>140.8</td><td> 95  </td><td>3.92 </td><td>3.150</td><td>22.90</td><td>1    </td><td>0    </td><td>4    </td><td>2    </td></tr>\n",
       "\t<tr><th scope=row>Merc 280</th><td>19.2 </td><td>6    </td><td>167.6</td><td>123  </td><td>3.92 </td><td>3.440</td><td>18.30</td><td>1    </td><td>0    </td><td>4    </td><td>4    </td></tr>\n",
       "\t<tr><th scope=row>Merc 280C</th><td>17.8 </td><td>6    </td><td>167.6</td><td>123  </td><td>3.92 </td><td>3.440</td><td>18.90</td><td>1    </td><td>0    </td><td>4    </td><td>4    </td></tr>\n",
       "\t<tr><th scope=row>Merc 450SE</th><td>16.4 </td><td>8    </td><td>275.8</td><td>180  </td><td>3.07 </td><td>4.070</td><td>17.40</td><td>0    </td><td>0    </td><td>3    </td><td>3    </td></tr>\n",
       "\t<tr><th scope=row>Merc 450SL</th><td>17.3 </td><td>8    </td><td>275.8</td><td>180  </td><td>3.07 </td><td>3.730</td><td>17.60</td><td>0    </td><td>0    </td><td>3    </td><td>3    </td></tr>\n",
       "\t<tr><th scope=row>Merc 450SLC</th><td>15.2 </td><td>8    </td><td>275.8</td><td>180  </td><td>3.07 </td><td>3.780</td><td>18.00</td><td>0    </td><td>0    </td><td>3    </td><td>3    </td></tr>\n",
       "\t<tr><th scope=row>Cadillac Fleetwood</th><td>10.4 </td><td>8    </td><td>472.0</td><td>205  </td><td>2.93 </td><td>5.250</td><td>17.98</td><td>0    </td><td>0    </td><td>3    </td><td>4    </td></tr>\n",
       "\t<tr><th scope=row>Lincoln Continental</th><td>10.4 </td><td>8    </td><td>460.0</td><td>215  </td><td>3.00 </td><td>5.424</td><td>17.82</td><td>0    </td><td>0    </td><td>3    </td><td>4    </td></tr>\n",
       "\t<tr><th scope=row>Chrysler Imperial</th><td>14.7 </td><td>8    </td><td>440.0</td><td>230  </td><td>3.23 </td><td>5.345</td><td>17.42</td><td>0    </td><td>0    </td><td>3    </td><td>4    </td></tr>\n",
       "\t<tr><th scope=row>Fiat 128</th><td>32.4 </td><td>4    </td><td> 78.7</td><td> 66  </td><td>4.08 </td><td>2.200</td><td>19.47</td><td>1    </td><td>1    </td><td>4    </td><td>1    </td></tr>\n",
       "\t<tr><th scope=row>Honda Civic</th><td>30.4 </td><td>4    </td><td> 75.7</td><td> 52  </td><td>4.93 </td><td>1.615</td><td>18.52</td><td>1    </td><td>1    </td><td>4    </td><td>2    </td></tr>\n",
       "\t<tr><th scope=row>Toyota Corolla</th><td>33.9 </td><td>4    </td><td> 71.1</td><td> 65  </td><td>4.22 </td><td>1.835</td><td>19.90</td><td>1    </td><td>1    </td><td>4    </td><td>1    </td></tr>\n",
       "\t<tr><th scope=row>Toyota Corona</th><td>21.5 </td><td>4    </td><td>120.1</td><td> 97  </td><td>3.70 </td><td>2.465</td><td>20.01</td><td>1    </td><td>0    </td><td>3    </td><td>1    </td></tr>\n",
       "\t<tr><th scope=row>Dodge Challenger</th><td>15.5 </td><td>8    </td><td>318.0</td><td>150  </td><td>2.76 </td><td>3.520</td><td>16.87</td><td>0    </td><td>0    </td><td>3    </td><td>2    </td></tr>\n",
       "\t<tr><th scope=row>AMC Javelin</th><td>15.2 </td><td>8    </td><td>304.0</td><td>150  </td><td>3.15 </td><td>3.435</td><td>17.30</td><td>0    </td><td>0    </td><td>3    </td><td>2    </td></tr>\n",
       "\t<tr><th scope=row>Camaro Z28</th><td>13.3 </td><td>8    </td><td>350.0</td><td>245  </td><td>3.73 </td><td>3.840</td><td>15.41</td><td>0    </td><td>0    </td><td>3    </td><td>4    </td></tr>\n",
       "\t<tr><th scope=row>Pontiac Firebird</th><td>19.2 </td><td>8    </td><td>400.0</td><td>175  </td><td>3.08 </td><td>3.845</td><td>17.05</td><td>0    </td><td>0    </td><td>3    </td><td>2    </td></tr>\n",
       "\t<tr><th scope=row>Fiat X1-9</th><td>27.3 </td><td>4    </td><td> 79.0</td><td> 66  </td><td>4.08 </td><td>1.935</td><td>18.90</td><td>1    </td><td>1    </td><td>4    </td><td>1    </td></tr>\n",
       "\t<tr><th scope=row>Porsche 914-2</th><td>26.0 </td><td>4    </td><td>120.3</td><td> 91  </td><td>4.43 </td><td>2.140</td><td>16.70</td><td>0    </td><td>1    </td><td>5    </td><td>2    </td></tr>\n",
       "\t<tr><th scope=row>Lotus Europa</th><td>30.4 </td><td>4    </td><td> 95.1</td><td>113  </td><td>3.77 </td><td>1.513</td><td>16.90</td><td>1    </td><td>1    </td><td>5    </td><td>2    </td></tr>\n",
       "\t<tr><th scope=row>Ford Pantera L</th><td>15.8 </td><td>8    </td><td>351.0</td><td>264  </td><td>4.22 </td><td>3.170</td><td>14.50</td><td>0    </td><td>1    </td><td>5    </td><td>4    </td></tr>\n",
       "\t<tr><th scope=row>Ferrari Dino</th><td>19.7 </td><td>6    </td><td>145.0</td><td>175  </td><td>3.62 </td><td>2.770</td><td>15.50</td><td>0    </td><td>1    </td><td>5    </td><td>6    </td></tr>\n",
       "\t<tr><th scope=row>Maserati Bora</th><td>15.0 </td><td>8    </td><td>301.0</td><td>335  </td><td>3.54 </td><td>3.570</td><td>14.60</td><td>0    </td><td>1    </td><td>5    </td><td>8    </td></tr>\n",
       "\t<tr><th scope=row>Volvo 142E</th><td>21.4 </td><td>4    </td><td>121.0</td><td>109  </td><td>4.11 </td><td>2.780</td><td>18.60</td><td>1    </td><td>1    </td><td>4    </td><td>2    </td></tr>\n",
       "\t<tr><th scope=row>seat</th><td>22.0 </td><td>5    </td><td>202.0</td><td>100  </td><td>2.56 </td><td>3.100</td><td>15.00</td><td>1    </td><td>0    </td><td>5    </td><td>4    </td></tr>\n",
       "</tbody>\n",
       "</table>\n"
      ],
      "text/latex": [
       "\\begin{tabular}{r|lllllllllll}\n",
       "  & mpg & cyl & disp & hp & drat & wt & qsec & vs & am & gear & carb\\\\\n",
       "\\hline\n",
       "\tMazda RX4 & 21.0  & 6     & 160.0 & 110   & 3.90  & 2.620 & 16.46 & 0     & 1     & 4     & 4    \\\\\n",
       "\tMazda RX4 Wag & 21.0  & 6     & 160.0 & 110   & 3.90  & 2.875 & 17.02 & 0     & 1     & 4     & 4    \\\\\n",
       "\tDatsun 710 & 22.8  & 4     & 108.0 &  93   & 3.85  & 2.320 & 18.61 & 1     & 1     & 4     & 1    \\\\\n",
       "\tHornet 4 Drive & 21.4  & 6     & 258.0 & 110   & 3.08  & 3.215 & 19.44 & 1     & 0     & 3     & 1    \\\\\n",
       "\tHornet Sportabout & 18.7  & 8     & 360.0 & 175   & 3.15  & 3.440 & 17.02 & 0     & 0     & 3     & 2    \\\\\n",
       "\tValiant & 18.1  & 6     & 225.0 & 105   & 2.76  & 3.460 & 20.22 & 1     & 0     & 3     & 1    \\\\\n",
       "\tDuster 360 & 14.3  & 8     & 360.0 & 245   & 3.21  & 3.570 & 15.84 & 0     & 0     & 3     & 4    \\\\\n",
       "\tMerc 240D & 24.4  & 4     & 146.7 &  62   & 3.69  & 3.190 & 20.00 & 1     & 0     & 4     & 2    \\\\\n",
       "\tMerc 230 & 22.8  & 4     & 140.8 &  95   & 3.92  & 3.150 & 22.90 & 1     & 0     & 4     & 2    \\\\\n",
       "\tMerc 280 & 19.2  & 6     & 167.6 & 123   & 3.92  & 3.440 & 18.30 & 1     & 0     & 4     & 4    \\\\\n",
       "\tMerc 280C & 17.8  & 6     & 167.6 & 123   & 3.92  & 3.440 & 18.90 & 1     & 0     & 4     & 4    \\\\\n",
       "\tMerc 450SE & 16.4  & 8     & 275.8 & 180   & 3.07  & 4.070 & 17.40 & 0     & 0     & 3     & 3    \\\\\n",
       "\tMerc 450SL & 17.3  & 8     & 275.8 & 180   & 3.07  & 3.730 & 17.60 & 0     & 0     & 3     & 3    \\\\\n",
       "\tMerc 450SLC & 15.2  & 8     & 275.8 & 180   & 3.07  & 3.780 & 18.00 & 0     & 0     & 3     & 3    \\\\\n",
       "\tCadillac Fleetwood & 10.4  & 8     & 472.0 & 205   & 2.93  & 5.250 & 17.98 & 0     & 0     & 3     & 4    \\\\\n",
       "\tLincoln Continental & 10.4  & 8     & 460.0 & 215   & 3.00  & 5.424 & 17.82 & 0     & 0     & 3     & 4    \\\\\n",
       "\tChrysler Imperial & 14.7  & 8     & 440.0 & 230   & 3.23  & 5.345 & 17.42 & 0     & 0     & 3     & 4    \\\\\n",
       "\tFiat 128 & 32.4  & 4     &  78.7 &  66   & 4.08  & 2.200 & 19.47 & 1     & 1     & 4     & 1    \\\\\n",
       "\tHonda Civic & 30.4  & 4     &  75.7 &  52   & 4.93  & 1.615 & 18.52 & 1     & 1     & 4     & 2    \\\\\n",
       "\tToyota Corolla & 33.9  & 4     &  71.1 &  65   & 4.22  & 1.835 & 19.90 & 1     & 1     & 4     & 1    \\\\\n",
       "\tToyota Corona & 21.5  & 4     & 120.1 &  97   & 3.70  & 2.465 & 20.01 & 1     & 0     & 3     & 1    \\\\\n",
       "\tDodge Challenger & 15.5  & 8     & 318.0 & 150   & 2.76  & 3.520 & 16.87 & 0     & 0     & 3     & 2    \\\\\n",
       "\tAMC Javelin & 15.2  & 8     & 304.0 & 150   & 3.15  & 3.435 & 17.30 & 0     & 0     & 3     & 2    \\\\\n",
       "\tCamaro Z28 & 13.3  & 8     & 350.0 & 245   & 3.73  & 3.840 & 15.41 & 0     & 0     & 3     & 4    \\\\\n",
       "\tPontiac Firebird & 19.2  & 8     & 400.0 & 175   & 3.08  & 3.845 & 17.05 & 0     & 0     & 3     & 2    \\\\\n",
       "\tFiat X1-9 & 27.3  & 4     &  79.0 &  66   & 4.08  & 1.935 & 18.90 & 1     & 1     & 4     & 1    \\\\\n",
       "\tPorsche 914-2 & 26.0  & 4     & 120.3 &  91   & 4.43  & 2.140 & 16.70 & 0     & 1     & 5     & 2    \\\\\n",
       "\tLotus Europa & 30.4  & 4     &  95.1 & 113   & 3.77  & 1.513 & 16.90 & 1     & 1     & 5     & 2    \\\\\n",
       "\tFord Pantera L & 15.8  & 8     & 351.0 & 264   & 4.22  & 3.170 & 14.50 & 0     & 1     & 5     & 4    \\\\\n",
       "\tFerrari Dino & 19.7  & 6     & 145.0 & 175   & 3.62  & 2.770 & 15.50 & 0     & 1     & 5     & 6    \\\\\n",
       "\tMaserati Bora & 15.0  & 8     & 301.0 & 335   & 3.54  & 3.570 & 14.60 & 0     & 1     & 5     & 8    \\\\\n",
       "\tVolvo 142E & 21.4  & 4     & 121.0 & 109   & 4.11  & 2.780 & 18.60 & 1     & 1     & 4     & 2    \\\\\n",
       "\tseat & 22.0  & 5     & 202.0 & 100   & 2.56  & 3.100 & 15.00 & 1     & 0     & 5     & 4    \\\\\n",
       "\\end{tabular}\n"
      ],
      "text/markdown": [
       "\n",
       "| <!--/--> | mpg | cyl | disp | hp | drat | wt | qsec | vs | am | gear | carb | \n",
       "|---|---|---|---|---|---|---|---|---|---|---|---|---|---|---|---|---|---|---|---|---|---|---|---|---|---|---|---|---|---|---|---|---|\n",
       "| Mazda RX4 | 21.0  | 6     | 160.0 | 110   | 3.90  | 2.620 | 16.46 | 0     | 1     | 4     | 4     | \n",
       "| Mazda RX4 Wag | 21.0  | 6     | 160.0 | 110   | 3.90  | 2.875 | 17.02 | 0     | 1     | 4     | 4     | \n",
       "| Datsun 710 | 22.8  | 4     | 108.0 |  93   | 3.85  | 2.320 | 18.61 | 1     | 1     | 4     | 1     | \n",
       "| Hornet 4 Drive | 21.4  | 6     | 258.0 | 110   | 3.08  | 3.215 | 19.44 | 1     | 0     | 3     | 1     | \n",
       "| Hornet Sportabout | 18.7  | 8     | 360.0 | 175   | 3.15  | 3.440 | 17.02 | 0     | 0     | 3     | 2     | \n",
       "| Valiant | 18.1  | 6     | 225.0 | 105   | 2.76  | 3.460 | 20.22 | 1     | 0     | 3     | 1     | \n",
       "| Duster 360 | 14.3  | 8     | 360.0 | 245   | 3.21  | 3.570 | 15.84 | 0     | 0     | 3     | 4     | \n",
       "| Merc 240D | 24.4  | 4     | 146.7 |  62   | 3.69  | 3.190 | 20.00 | 1     | 0     | 4     | 2     | \n",
       "| Merc 230 | 22.8  | 4     | 140.8 |  95   | 3.92  | 3.150 | 22.90 | 1     | 0     | 4     | 2     | \n",
       "| Merc 280 | 19.2  | 6     | 167.6 | 123   | 3.92  | 3.440 | 18.30 | 1     | 0     | 4     | 4     | \n",
       "| Merc 280C | 17.8  | 6     | 167.6 | 123   | 3.92  | 3.440 | 18.90 | 1     | 0     | 4     | 4     | \n",
       "| Merc 450SE | 16.4  | 8     | 275.8 | 180   | 3.07  | 4.070 | 17.40 | 0     | 0     | 3     | 3     | \n",
       "| Merc 450SL | 17.3  | 8     | 275.8 | 180   | 3.07  | 3.730 | 17.60 | 0     | 0     | 3     | 3     | \n",
       "| Merc 450SLC | 15.2  | 8     | 275.8 | 180   | 3.07  | 3.780 | 18.00 | 0     | 0     | 3     | 3     | \n",
       "| Cadillac Fleetwood | 10.4  | 8     | 472.0 | 205   | 2.93  | 5.250 | 17.98 | 0     | 0     | 3     | 4     | \n",
       "| Lincoln Continental | 10.4  | 8     | 460.0 | 215   | 3.00  | 5.424 | 17.82 | 0     | 0     | 3     | 4     | \n",
       "| Chrysler Imperial | 14.7  | 8     | 440.0 | 230   | 3.23  | 5.345 | 17.42 | 0     | 0     | 3     | 4     | \n",
       "| Fiat 128 | 32.4  | 4     |  78.7 |  66   | 4.08  | 2.200 | 19.47 | 1     | 1     | 4     | 1     | \n",
       "| Honda Civic | 30.4  | 4     |  75.7 |  52   | 4.93  | 1.615 | 18.52 | 1     | 1     | 4     | 2     | \n",
       "| Toyota Corolla | 33.9  | 4     |  71.1 |  65   | 4.22  | 1.835 | 19.90 | 1     | 1     | 4     | 1     | \n",
       "| Toyota Corona | 21.5  | 4     | 120.1 |  97   | 3.70  | 2.465 | 20.01 | 1     | 0     | 3     | 1     | \n",
       "| Dodge Challenger | 15.5  | 8     | 318.0 | 150   | 2.76  | 3.520 | 16.87 | 0     | 0     | 3     | 2     | \n",
       "| AMC Javelin | 15.2  | 8     | 304.0 | 150   | 3.15  | 3.435 | 17.30 | 0     | 0     | 3     | 2     | \n",
       "| Camaro Z28 | 13.3  | 8     | 350.0 | 245   | 3.73  | 3.840 | 15.41 | 0     | 0     | 3     | 4     | \n",
       "| Pontiac Firebird | 19.2  | 8     | 400.0 | 175   | 3.08  | 3.845 | 17.05 | 0     | 0     | 3     | 2     | \n",
       "| Fiat X1-9 | 27.3  | 4     |  79.0 |  66   | 4.08  | 1.935 | 18.90 | 1     | 1     | 4     | 1     | \n",
       "| Porsche 914-2 | 26.0  | 4     | 120.3 |  91   | 4.43  | 2.140 | 16.70 | 0     | 1     | 5     | 2     | \n",
       "| Lotus Europa | 30.4  | 4     |  95.1 | 113   | 3.77  | 1.513 | 16.90 | 1     | 1     | 5     | 2     | \n",
       "| Ford Pantera L | 15.8  | 8     | 351.0 | 264   | 4.22  | 3.170 | 14.50 | 0     | 1     | 5     | 4     | \n",
       "| Ferrari Dino | 19.7  | 6     | 145.0 | 175   | 3.62  | 2.770 | 15.50 | 0     | 1     | 5     | 6     | \n",
       "| Maserati Bora | 15.0  | 8     | 301.0 | 335   | 3.54  | 3.570 | 14.60 | 0     | 1     | 5     | 8     | \n",
       "| Volvo 142E | 21.4  | 4     | 121.0 | 109   | 4.11  | 2.780 | 18.60 | 1     | 1     | 4     | 2     | \n",
       "| seat | 22.0  | 5     | 202.0 | 100   | 2.56  | 3.100 | 15.00 | 1     | 0     | 5     | 4     | \n",
       "\n",
       "\n"
      ],
      "text/plain": [
       "                    mpg  cyl disp  hp  drat wt    qsec  vs am gear carb\n",
       "Mazda RX4           21.0 6   160.0 110 3.90 2.620 16.46 0  1  4    4   \n",
       "Mazda RX4 Wag       21.0 6   160.0 110 3.90 2.875 17.02 0  1  4    4   \n",
       "Datsun 710          22.8 4   108.0  93 3.85 2.320 18.61 1  1  4    1   \n",
       "Hornet 4 Drive      21.4 6   258.0 110 3.08 3.215 19.44 1  0  3    1   \n",
       "Hornet Sportabout   18.7 8   360.0 175 3.15 3.440 17.02 0  0  3    2   \n",
       "Valiant             18.1 6   225.0 105 2.76 3.460 20.22 1  0  3    1   \n",
       "Duster 360          14.3 8   360.0 245 3.21 3.570 15.84 0  0  3    4   \n",
       "Merc 240D           24.4 4   146.7  62 3.69 3.190 20.00 1  0  4    2   \n",
       "Merc 230            22.8 4   140.8  95 3.92 3.150 22.90 1  0  4    2   \n",
       "Merc 280            19.2 6   167.6 123 3.92 3.440 18.30 1  0  4    4   \n",
       "Merc 280C           17.8 6   167.6 123 3.92 3.440 18.90 1  0  4    4   \n",
       "Merc 450SE          16.4 8   275.8 180 3.07 4.070 17.40 0  0  3    3   \n",
       "Merc 450SL          17.3 8   275.8 180 3.07 3.730 17.60 0  0  3    3   \n",
       "Merc 450SLC         15.2 8   275.8 180 3.07 3.780 18.00 0  0  3    3   \n",
       "Cadillac Fleetwood  10.4 8   472.0 205 2.93 5.250 17.98 0  0  3    4   \n",
       "Lincoln Continental 10.4 8   460.0 215 3.00 5.424 17.82 0  0  3    4   \n",
       "Chrysler Imperial   14.7 8   440.0 230 3.23 5.345 17.42 0  0  3    4   \n",
       "Fiat 128            32.4 4    78.7  66 4.08 2.200 19.47 1  1  4    1   \n",
       "Honda Civic         30.4 4    75.7  52 4.93 1.615 18.52 1  1  4    2   \n",
       "Toyota Corolla      33.9 4    71.1  65 4.22 1.835 19.90 1  1  4    1   \n",
       "Toyota Corona       21.5 4   120.1  97 3.70 2.465 20.01 1  0  3    1   \n",
       "Dodge Challenger    15.5 8   318.0 150 2.76 3.520 16.87 0  0  3    2   \n",
       "AMC Javelin         15.2 8   304.0 150 3.15 3.435 17.30 0  0  3    2   \n",
       "Camaro Z28          13.3 8   350.0 245 3.73 3.840 15.41 0  0  3    4   \n",
       "Pontiac Firebird    19.2 8   400.0 175 3.08 3.845 17.05 0  0  3    2   \n",
       "Fiat X1-9           27.3 4    79.0  66 4.08 1.935 18.90 1  1  4    1   \n",
       "Porsche 914-2       26.0 4   120.3  91 4.43 2.140 16.70 0  1  5    2   \n",
       "Lotus Europa        30.4 4    95.1 113 3.77 1.513 16.90 1  1  5    2   \n",
       "Ford Pantera L      15.8 8   351.0 264 4.22 3.170 14.50 0  1  5    4   \n",
       "Ferrari Dino        19.7 6   145.0 175 3.62 2.770 15.50 0  1  5    6   \n",
       "Maserati Bora       15.0 8   301.0 335 3.54 3.570 14.60 0  1  5    8   \n",
       "Volvo 142E          21.4 4   121.0 109 4.11 2.780 18.60 1  1  4    2   \n",
       "seat                22.0 5   202.0 100 2.56 3.100 15.00 1  0  5    4   "
      ]
     },
     "metadata": {},
     "output_type": "display_data"
    }
   ],
   "source": [
    "df"
   ]
  },
  {
   "cell_type": "code",
   "execution_count": 11,
   "metadata": {},
   "outputs": [
    {
     "data": {
      "text/html": [
       "<ol class=list-inline>\n",
       "\t<li>1</li>\n",
       "\t<li>1</li>\n",
       "\t<li>1</li>\n",
       "</ol>\n"
      ],
      "text/latex": [
       "\\begin{enumerate*}\n",
       "\\item 1\n",
       "\\item 1\n",
       "\\item 1\n",
       "\\end{enumerate*}\n"
      ],
      "text/markdown": [
       "1. 1\n",
       "2. 1\n",
       "3. 1\n",
       "\n",
       "\n"
      ],
      "text/plain": [
       "[1] 1 1 1"
      ]
     },
     "metadata": {},
     "output_type": "display_data"
    }
   ],
   "source": [
    "rep(1, 3)"
   ]
  },
  {
   "cell_type": "code",
   "execution_count": 12,
   "metadata": {},
   "outputs": [
    {
     "data": {
      "text/html": [
       "33"
      ],
      "text/latex": [
       "33"
      ],
      "text/markdown": [
       "33"
      ],
      "text/plain": [
       "[1] 33"
      ]
     },
     "metadata": {},
     "output_type": "display_data"
    }
   ],
   "source": [
    "nrow(df)"
   ]
  },
  {
   "cell_type": "code",
   "execution_count": 14,
   "metadata": {},
   "outputs": [
    {
     "data": {
      "text/html": [
       "<table>\n",
       "<thead><tr><th></th><th scope=col>mpg</th><th scope=col>cyl</th><th scope=col>disp</th><th scope=col>hp</th><th scope=col>drat</th><th scope=col>wt</th><th scope=col>qsec</th><th scope=col>vs</th><th scope=col>am</th><th scope=col>gear</th><th scope=col>carb</th><th scope=col>newcolumn</th><th scope=col>copyofhp</th><th scope=col>hp.gear</th><th scope=col>v</th><th scope=col>v</th><th scope=col>v</th></tr></thead>\n",
       "<tbody>\n",
       "\t<tr><th scope=row>Mazda RX4</th><td>21.0    </td><td>6       </td><td>160.0   </td><td>110     </td><td>3.90    </td><td>2.620   </td><td>16.46   </td><td>0       </td><td>1       </td><td>4       </td><td>4       </td><td>1       </td><td>110     </td><td>27.50000</td><td>88      </td><td> 1      </td><td> 1      </td></tr>\n",
       "\t<tr><th scope=row>Mazda RX4 Wag</th><td>21.0    </td><td>6       </td><td>160.0   </td><td>110     </td><td>3.90    </td><td>2.875   </td><td>17.02   </td><td>0       </td><td>1       </td><td>4       </td><td>4       </td><td>1       </td><td>110     </td><td>27.50000</td><td> 2      </td><td> 2      </td><td> 2      </td></tr>\n",
       "\t<tr><th scope=row>Datsun 710</th><td>22.8    </td><td>4       </td><td>108.0   </td><td> 93     </td><td>3.85    </td><td>2.320   </td><td>18.61   </td><td>1       </td><td>1       </td><td>4       </td><td>1       </td><td>1       </td><td> 93     </td><td>23.25000</td><td> 3      </td><td> 3      </td><td> 3      </td></tr>\n",
       "\t<tr><th scope=row>Hornet 4 Drive</th><td>21.4    </td><td>6       </td><td>258.0   </td><td>110     </td><td>3.08    </td><td>3.215   </td><td>19.44   </td><td>1       </td><td>0       </td><td>3       </td><td>1       </td><td>1       </td><td>110     </td><td>36.66667</td><td> 4      </td><td> 4      </td><td> 4      </td></tr>\n",
       "\t<tr><th scope=row>Hornet Sportabout</th><td>18.7    </td><td>8       </td><td>360.0   </td><td>175     </td><td>3.15    </td><td>3.440   </td><td>17.02   </td><td>0       </td><td>0       </td><td>3       </td><td>2       </td><td>1       </td><td>175     </td><td>58.33333</td><td> 5      </td><td> 5      </td><td> 5      </td></tr>\n",
       "\t<tr><th scope=row>Valiant</th><td>18.1    </td><td>6       </td><td>225.0   </td><td>105     </td><td>2.76    </td><td>3.460   </td><td>20.22   </td><td>1       </td><td>0       </td><td>3       </td><td>1       </td><td>1       </td><td>105     </td><td>35.00000</td><td> 6      </td><td> 6      </td><td> 6      </td></tr>\n",
       "\t<tr><th scope=row>Duster 360</th><td>14.3    </td><td>8       </td><td>360.0   </td><td>245     </td><td>3.21    </td><td>3.570   </td><td>15.84   </td><td>0       </td><td>0       </td><td>3       </td><td>4       </td><td>1       </td><td>245     </td><td>81.66667</td><td> 7      </td><td> 7      </td><td> 7      </td></tr>\n",
       "\t<tr><th scope=row>Merc 240D</th><td>24.4    </td><td>4       </td><td>146.7   </td><td> 62     </td><td>3.69    </td><td>3.190   </td><td>20.00   </td><td>1       </td><td>0       </td><td>4       </td><td>2       </td><td>1       </td><td> 62     </td><td>15.50000</td><td> 8      </td><td> 8      </td><td> 8      </td></tr>\n",
       "\t<tr><th scope=row>Merc 230</th><td>22.8    </td><td>4       </td><td>140.8   </td><td> 95     </td><td>3.92    </td><td>3.150   </td><td>22.90   </td><td>1       </td><td>0       </td><td>4       </td><td>2       </td><td>1       </td><td> 95     </td><td>23.75000</td><td> 9      </td><td> 9      </td><td> 9      </td></tr>\n",
       "\t<tr><th scope=row>Merc 280</th><td>19.2    </td><td>6       </td><td>167.6   </td><td>123     </td><td>3.92    </td><td>3.440   </td><td>18.30   </td><td>1       </td><td>0       </td><td>4       </td><td>4       </td><td>1       </td><td>123     </td><td>30.75000</td><td>10      </td><td>10      </td><td>10      </td></tr>\n",
       "\t<tr><th scope=row>Merc 280C</th><td>17.8    </td><td>6       </td><td>167.6   </td><td>123     </td><td>3.92    </td><td>3.440   </td><td>18.90   </td><td>1       </td><td>0       </td><td>4       </td><td>4       </td><td>1       </td><td>123     </td><td>30.75000</td><td>11      </td><td>11      </td><td>11      </td></tr>\n",
       "\t<tr><th scope=row>Merc 450SE</th><td>16.4    </td><td>8       </td><td>275.8   </td><td>180     </td><td>3.07    </td><td>4.070   </td><td>17.40   </td><td>0       </td><td>0       </td><td>3       </td><td>3       </td><td>1       </td><td>180     </td><td>60.00000</td><td>12      </td><td>12      </td><td>12      </td></tr>\n",
       "\t<tr><th scope=row>Merc 450SL</th><td>17.3    </td><td>8       </td><td>275.8   </td><td>180     </td><td>3.07    </td><td>3.730   </td><td>17.60   </td><td>0       </td><td>0       </td><td>3       </td><td>3       </td><td>1       </td><td>180     </td><td>60.00000</td><td>13      </td><td>13      </td><td>13      </td></tr>\n",
       "\t<tr><th scope=row>Merc 450SLC</th><td>15.2    </td><td>8       </td><td>275.8   </td><td>180     </td><td>3.07    </td><td>3.780   </td><td>18.00   </td><td>0       </td><td>0       </td><td>3       </td><td>3       </td><td>1       </td><td>180     </td><td>60.00000</td><td>14      </td><td>14      </td><td>14      </td></tr>\n",
       "\t<tr><th scope=row>Cadillac Fleetwood</th><td>10.4    </td><td>8       </td><td>472.0   </td><td>205     </td><td>2.93    </td><td>5.250   </td><td>17.98   </td><td>0       </td><td>0       </td><td>3       </td><td>4       </td><td>1       </td><td>205     </td><td>68.33333</td><td>15      </td><td>15      </td><td>15      </td></tr>\n",
       "\t<tr><th scope=row>Lincoln Continental</th><td>10.4    </td><td>8       </td><td>460.0   </td><td>215     </td><td>3.00    </td><td>5.424   </td><td>17.82   </td><td>0       </td><td>0       </td><td>3       </td><td>4       </td><td>1       </td><td>215     </td><td>71.66667</td><td>16      </td><td>16      </td><td>16      </td></tr>\n",
       "\t<tr><th scope=row>Chrysler Imperial</th><td>14.7    </td><td>8       </td><td>440.0   </td><td>230     </td><td>3.23    </td><td>5.345   </td><td>17.42   </td><td>0       </td><td>0       </td><td>3       </td><td>4       </td><td>1       </td><td>230     </td><td>76.66667</td><td>17      </td><td>17      </td><td>17      </td></tr>\n",
       "\t<tr><th scope=row>Fiat 128</th><td>32.4    </td><td>4       </td><td> 78.7   </td><td> 66     </td><td>4.08    </td><td>2.200   </td><td>19.47   </td><td>1       </td><td>1       </td><td>4       </td><td>1       </td><td>1       </td><td> 66     </td><td>16.50000</td><td>18      </td><td>18      </td><td>18      </td></tr>\n",
       "\t<tr><th scope=row>Honda Civic</th><td>30.4    </td><td>4       </td><td> 75.7   </td><td> 52     </td><td>4.93    </td><td>1.615   </td><td>18.52   </td><td>1       </td><td>1       </td><td>4       </td><td>2       </td><td>1       </td><td> 52     </td><td>13.00000</td><td>19      </td><td>19      </td><td>19      </td></tr>\n",
       "\t<tr><th scope=row>Toyota Corolla</th><td>33.9    </td><td>4       </td><td> 71.1   </td><td> 65     </td><td>4.22    </td><td>1.835   </td><td>19.90   </td><td>1       </td><td>1       </td><td>4       </td><td>1       </td><td>1       </td><td> 65     </td><td>16.25000</td><td>20      </td><td>20      </td><td>20      </td></tr>\n",
       "\t<tr><th scope=row>Toyota Corona</th><td>21.5    </td><td>4       </td><td>120.1   </td><td> 97     </td><td>3.70    </td><td>2.465   </td><td>20.01   </td><td>1       </td><td>0       </td><td>3       </td><td>1       </td><td>1       </td><td> 97     </td><td>32.33333</td><td>21      </td><td>21      </td><td>21      </td></tr>\n",
       "\t<tr><th scope=row>Dodge Challenger</th><td>15.5    </td><td>8       </td><td>318.0   </td><td>150     </td><td>2.76    </td><td>3.520   </td><td>16.87   </td><td>0       </td><td>0       </td><td>3       </td><td>2       </td><td>1       </td><td>150     </td><td>50.00000</td><td>22      </td><td>22      </td><td>22      </td></tr>\n",
       "\t<tr><th scope=row>AMC Javelin</th><td>15.2    </td><td>8       </td><td>304.0   </td><td>150     </td><td>3.15    </td><td>3.435   </td><td>17.30   </td><td>0       </td><td>0       </td><td>3       </td><td>2       </td><td>1       </td><td>150     </td><td>50.00000</td><td>23      </td><td>23      </td><td>23      </td></tr>\n",
       "\t<tr><th scope=row>Camaro Z28</th><td>13.3    </td><td>8       </td><td>350.0   </td><td>245     </td><td>3.73    </td><td>3.840   </td><td>15.41   </td><td>0       </td><td>0       </td><td>3       </td><td>4       </td><td>1       </td><td>245     </td><td>81.66667</td><td>24      </td><td>24      </td><td>24      </td></tr>\n",
       "\t<tr><th scope=row>Pontiac Firebird</th><td>19.2    </td><td>8       </td><td>400.0   </td><td>175     </td><td>3.08    </td><td>3.845   </td><td>17.05   </td><td>0       </td><td>0       </td><td>3       </td><td>2       </td><td>1       </td><td>175     </td><td>58.33333</td><td>25      </td><td>25      </td><td>25      </td></tr>\n",
       "\t<tr><th scope=row>Fiat X1-9</th><td>27.3    </td><td>4       </td><td> 79.0   </td><td> 66     </td><td>4.08    </td><td>1.935   </td><td>18.90   </td><td>1       </td><td>1       </td><td>4       </td><td>1       </td><td>1       </td><td> 66     </td><td>16.50000</td><td>26      </td><td>26      </td><td>26      </td></tr>\n",
       "\t<tr><th scope=row>Porsche 914-2</th><td>26.0    </td><td>4       </td><td>120.3   </td><td> 91     </td><td>4.43    </td><td>2.140   </td><td>16.70   </td><td>0       </td><td>1       </td><td>5       </td><td>2       </td><td>1       </td><td> 91     </td><td>18.20000</td><td>27      </td><td>27      </td><td>27      </td></tr>\n",
       "\t<tr><th scope=row>Lotus Europa</th><td>30.4    </td><td>4       </td><td> 95.1   </td><td>113     </td><td>3.77    </td><td>1.513   </td><td>16.90   </td><td>1       </td><td>1       </td><td>5       </td><td>2       </td><td>1       </td><td>113     </td><td>22.60000</td><td>28      </td><td>28      </td><td>28      </td></tr>\n",
       "\t<tr><th scope=row>Ford Pantera L</th><td>15.8    </td><td>8       </td><td>351.0   </td><td>264     </td><td>4.22    </td><td>3.170   </td><td>14.50   </td><td>0       </td><td>1       </td><td>5       </td><td>4       </td><td>1       </td><td>264     </td><td>52.80000</td><td>29      </td><td>29      </td><td>29      </td></tr>\n",
       "\t<tr><th scope=row>Ferrari Dino</th><td>19.7    </td><td>6       </td><td>145.0   </td><td>175     </td><td>3.62    </td><td>2.770   </td><td>15.50   </td><td>0       </td><td>1       </td><td>5       </td><td>6       </td><td>1       </td><td>175     </td><td>35.00000</td><td>30      </td><td>30      </td><td>30      </td></tr>\n",
       "\t<tr><th scope=row>Maserati Bora</th><td>15.0    </td><td>8       </td><td>301.0   </td><td>335     </td><td>3.54    </td><td>3.570   </td><td>14.60   </td><td>0       </td><td>1       </td><td>5       </td><td>8       </td><td>1       </td><td>335     </td><td>67.00000</td><td>31      </td><td>31      </td><td>31      </td></tr>\n",
       "\t<tr><th scope=row>Volvo 142E</th><td>21.4    </td><td>4       </td><td>121.0   </td><td>109     </td><td>4.11    </td><td>2.780   </td><td>18.60   </td><td>1       </td><td>1       </td><td>4       </td><td>2       </td><td>1       </td><td>109     </td><td>27.25000</td><td>32      </td><td>32      </td><td>32      </td></tr>\n",
       "\t<tr><th scope=row>seat</th><td>22.0    </td><td>5       </td><td>202.0   </td><td>100     </td><td>2.56    </td><td>3.100   </td><td>15.00   </td><td>1       </td><td>0       </td><td>5       </td><td>4       </td><td>1       </td><td>100     </td><td>20.00000</td><td>33      </td><td>33      </td><td>33      </td></tr>\n",
       "</tbody>\n",
       "</table>\n"
      ],
      "text/latex": [
       "\\begin{tabular}{r|lllllllllllllllll}\n",
       "  & mpg & cyl & disp & hp & drat & wt & qsec & vs & am & gear & carb & newcolumn & copyofhp & hp.gear & v & v & v\\\\\n",
       "\\hline\n",
       "\tMazda RX4 & 21.0     & 6        & 160.0    & 110      & 3.90     & 2.620    & 16.46    & 0        & 1        & 4        & 4        & 1        & 110      & 27.50000 & 88       &  1       &  1      \\\\\n",
       "\tMazda RX4 Wag & 21.0     & 6        & 160.0    & 110      & 3.90     & 2.875    & 17.02    & 0        & 1        & 4        & 4        & 1        & 110      & 27.50000 &  2       &  2       &  2      \\\\\n",
       "\tDatsun 710 & 22.8     & 4        & 108.0    &  93      & 3.85     & 2.320    & 18.61    & 1        & 1        & 4        & 1        & 1        &  93      & 23.25000 &  3       &  3       &  3      \\\\\n",
       "\tHornet 4 Drive & 21.4     & 6        & 258.0    & 110      & 3.08     & 3.215    & 19.44    & 1        & 0        & 3        & 1        & 1        & 110      & 36.66667 &  4       &  4       &  4      \\\\\n",
       "\tHornet Sportabout & 18.7     & 8        & 360.0    & 175      & 3.15     & 3.440    & 17.02    & 0        & 0        & 3        & 2        & 1        & 175      & 58.33333 &  5       &  5       &  5      \\\\\n",
       "\tValiant & 18.1     & 6        & 225.0    & 105      & 2.76     & 3.460    & 20.22    & 1        & 0        & 3        & 1        & 1        & 105      & 35.00000 &  6       &  6       &  6      \\\\\n",
       "\tDuster 360 & 14.3     & 8        & 360.0    & 245      & 3.21     & 3.570    & 15.84    & 0        & 0        & 3        & 4        & 1        & 245      & 81.66667 &  7       &  7       &  7      \\\\\n",
       "\tMerc 240D & 24.4     & 4        & 146.7    &  62      & 3.69     & 3.190    & 20.00    & 1        & 0        & 4        & 2        & 1        &  62      & 15.50000 &  8       &  8       &  8      \\\\\n",
       "\tMerc 230 & 22.8     & 4        & 140.8    &  95      & 3.92     & 3.150    & 22.90    & 1        & 0        & 4        & 2        & 1        &  95      & 23.75000 &  9       &  9       &  9      \\\\\n",
       "\tMerc 280 & 19.2     & 6        & 167.6    & 123      & 3.92     & 3.440    & 18.30    & 1        & 0        & 4        & 4        & 1        & 123      & 30.75000 & 10       & 10       & 10      \\\\\n",
       "\tMerc 280C & 17.8     & 6        & 167.6    & 123      & 3.92     & 3.440    & 18.90    & 1        & 0        & 4        & 4        & 1        & 123      & 30.75000 & 11       & 11       & 11      \\\\\n",
       "\tMerc 450SE & 16.4     & 8        & 275.8    & 180      & 3.07     & 4.070    & 17.40    & 0        & 0        & 3        & 3        & 1        & 180      & 60.00000 & 12       & 12       & 12      \\\\\n",
       "\tMerc 450SL & 17.3     & 8        & 275.8    & 180      & 3.07     & 3.730    & 17.60    & 0        & 0        & 3        & 3        & 1        & 180      & 60.00000 & 13       & 13       & 13      \\\\\n",
       "\tMerc 450SLC & 15.2     & 8        & 275.8    & 180      & 3.07     & 3.780    & 18.00    & 0        & 0        & 3        & 3        & 1        & 180      & 60.00000 & 14       & 14       & 14      \\\\\n",
       "\tCadillac Fleetwood & 10.4     & 8        & 472.0    & 205      & 2.93     & 5.250    & 17.98    & 0        & 0        & 3        & 4        & 1        & 205      & 68.33333 & 15       & 15       & 15      \\\\\n",
       "\tLincoln Continental & 10.4     & 8        & 460.0    & 215      & 3.00     & 5.424    & 17.82    & 0        & 0        & 3        & 4        & 1        & 215      & 71.66667 & 16       & 16       & 16      \\\\\n",
       "\tChrysler Imperial & 14.7     & 8        & 440.0    & 230      & 3.23     & 5.345    & 17.42    & 0        & 0        & 3        & 4        & 1        & 230      & 76.66667 & 17       & 17       & 17      \\\\\n",
       "\tFiat 128 & 32.4     & 4        &  78.7    &  66      & 4.08     & 2.200    & 19.47    & 1        & 1        & 4        & 1        & 1        &  66      & 16.50000 & 18       & 18       & 18      \\\\\n",
       "\tHonda Civic & 30.4     & 4        &  75.7    &  52      & 4.93     & 1.615    & 18.52    & 1        & 1        & 4        & 2        & 1        &  52      & 13.00000 & 19       & 19       & 19      \\\\\n",
       "\tToyota Corolla & 33.9     & 4        &  71.1    &  65      & 4.22     & 1.835    & 19.90    & 1        & 1        & 4        & 1        & 1        &  65      & 16.25000 & 20       & 20       & 20      \\\\\n",
       "\tToyota Corona & 21.5     & 4        & 120.1    &  97      & 3.70     & 2.465    & 20.01    & 1        & 0        & 3        & 1        & 1        &  97      & 32.33333 & 21       & 21       & 21      \\\\\n",
       "\tDodge Challenger & 15.5     & 8        & 318.0    & 150      & 2.76     & 3.520    & 16.87    & 0        & 0        & 3        & 2        & 1        & 150      & 50.00000 & 22       & 22       & 22      \\\\\n",
       "\tAMC Javelin & 15.2     & 8        & 304.0    & 150      & 3.15     & 3.435    & 17.30    & 0        & 0        & 3        & 2        & 1        & 150      & 50.00000 & 23       & 23       & 23      \\\\\n",
       "\tCamaro Z28 & 13.3     & 8        & 350.0    & 245      & 3.73     & 3.840    & 15.41    & 0        & 0        & 3        & 4        & 1        & 245      & 81.66667 & 24       & 24       & 24      \\\\\n",
       "\tPontiac Firebird & 19.2     & 8        & 400.0    & 175      & 3.08     & 3.845    & 17.05    & 0        & 0        & 3        & 2        & 1        & 175      & 58.33333 & 25       & 25       & 25      \\\\\n",
       "\tFiat X1-9 & 27.3     & 4        &  79.0    &  66      & 4.08     & 1.935    & 18.90    & 1        & 1        & 4        & 1        & 1        &  66      & 16.50000 & 26       & 26       & 26      \\\\\n",
       "\tPorsche 914-2 & 26.0     & 4        & 120.3    &  91      & 4.43     & 2.140    & 16.70    & 0        & 1        & 5        & 2        & 1        &  91      & 18.20000 & 27       & 27       & 27      \\\\\n",
       "\tLotus Europa & 30.4     & 4        &  95.1    & 113      & 3.77     & 1.513    & 16.90    & 1        & 1        & 5        & 2        & 1        & 113      & 22.60000 & 28       & 28       & 28      \\\\\n",
       "\tFord Pantera L & 15.8     & 8        & 351.0    & 264      & 4.22     & 3.170    & 14.50    & 0        & 1        & 5        & 4        & 1        & 264      & 52.80000 & 29       & 29       & 29      \\\\\n",
       "\tFerrari Dino & 19.7     & 6        & 145.0    & 175      & 3.62     & 2.770    & 15.50    & 0        & 1        & 5        & 6        & 1        & 175      & 35.00000 & 30       & 30       & 30      \\\\\n",
       "\tMaserati Bora & 15.0     & 8        & 301.0    & 335      & 3.54     & 3.570    & 14.60    & 0        & 1        & 5        & 8        & 1        & 335      & 67.00000 & 31       & 31       & 31      \\\\\n",
       "\tVolvo 142E & 21.4     & 4        & 121.0    & 109      & 4.11     & 2.780    & 18.60    & 1        & 1        & 4        & 2        & 1        & 109      & 27.25000 & 32       & 32       & 32      \\\\\n",
       "\tseat & 22.0     & 5        & 202.0    & 100      & 2.56     & 3.100    & 15.00    & 1        & 0        & 5        & 4        & 1        & 100      & 20.00000 & 33       & 33       & 33      \\\\\n",
       "\\end{tabular}\n"
      ],
      "text/markdown": [
       "\n",
       "| <!--/--> | mpg | cyl | disp | hp | drat | wt | qsec | vs | am | gear | carb | newcolumn | copyofhp | hp.gear | v | v | v | \n",
       "|---|---|---|---|---|---|---|---|---|---|---|---|---|---|---|---|---|---|---|---|---|---|---|---|---|---|---|---|---|---|---|---|---|\n",
       "| Mazda RX4 | 21.0     | 6        | 160.0    | 110      | 3.90     | 2.620    | 16.46    | 0        | 1        | 4        | 4        | 1        | 110      | 27.50000 | 88       |  1       |  1       | \n",
       "| Mazda RX4 Wag | 21.0     | 6        | 160.0    | 110      | 3.90     | 2.875    | 17.02    | 0        | 1        | 4        | 4        | 1        | 110      | 27.50000 |  2       |  2       |  2       | \n",
       "| Datsun 710 | 22.8     | 4        | 108.0    |  93      | 3.85     | 2.320    | 18.61    | 1        | 1        | 4        | 1        | 1        |  93      | 23.25000 |  3       |  3       |  3       | \n",
       "| Hornet 4 Drive | 21.4     | 6        | 258.0    | 110      | 3.08     | 3.215    | 19.44    | 1        | 0        | 3        | 1        | 1        | 110      | 36.66667 |  4       |  4       |  4       | \n",
       "| Hornet Sportabout | 18.7     | 8        | 360.0    | 175      | 3.15     | 3.440    | 17.02    | 0        | 0        | 3        | 2        | 1        | 175      | 58.33333 |  5       |  5       |  5       | \n",
       "| Valiant | 18.1     | 6        | 225.0    | 105      | 2.76     | 3.460    | 20.22    | 1        | 0        | 3        | 1        | 1        | 105      | 35.00000 |  6       |  6       |  6       | \n",
       "| Duster 360 | 14.3     | 8        | 360.0    | 245      | 3.21     | 3.570    | 15.84    | 0        | 0        | 3        | 4        | 1        | 245      | 81.66667 |  7       |  7       |  7       | \n",
       "| Merc 240D | 24.4     | 4        | 146.7    |  62      | 3.69     | 3.190    | 20.00    | 1        | 0        | 4        | 2        | 1        |  62      | 15.50000 |  8       |  8       |  8       | \n",
       "| Merc 230 | 22.8     | 4        | 140.8    |  95      | 3.92     | 3.150    | 22.90    | 1        | 0        | 4        | 2        | 1        |  95      | 23.75000 |  9       |  9       |  9       | \n",
       "| Merc 280 | 19.2     | 6        | 167.6    | 123      | 3.92     | 3.440    | 18.30    | 1        | 0        | 4        | 4        | 1        | 123      | 30.75000 | 10       | 10       | 10       | \n",
       "| Merc 280C | 17.8     | 6        | 167.6    | 123      | 3.92     | 3.440    | 18.90    | 1        | 0        | 4        | 4        | 1        | 123      | 30.75000 | 11       | 11       | 11       | \n",
       "| Merc 450SE | 16.4     | 8        | 275.8    | 180      | 3.07     | 4.070    | 17.40    | 0        | 0        | 3        | 3        | 1        | 180      | 60.00000 | 12       | 12       | 12       | \n",
       "| Merc 450SL | 17.3     | 8        | 275.8    | 180      | 3.07     | 3.730    | 17.60    | 0        | 0        | 3        | 3        | 1        | 180      | 60.00000 | 13       | 13       | 13       | \n",
       "| Merc 450SLC | 15.2     | 8        | 275.8    | 180      | 3.07     | 3.780    | 18.00    | 0        | 0        | 3        | 3        | 1        | 180      | 60.00000 | 14       | 14       | 14       | \n",
       "| Cadillac Fleetwood | 10.4     | 8        | 472.0    | 205      | 2.93     | 5.250    | 17.98    | 0        | 0        | 3        | 4        | 1        | 205      | 68.33333 | 15       | 15       | 15       | \n",
       "| Lincoln Continental | 10.4     | 8        | 460.0    | 215      | 3.00     | 5.424    | 17.82    | 0        | 0        | 3        | 4        | 1        | 215      | 71.66667 | 16       | 16       | 16       | \n",
       "| Chrysler Imperial | 14.7     | 8        | 440.0    | 230      | 3.23     | 5.345    | 17.42    | 0        | 0        | 3        | 4        | 1        | 230      | 76.66667 | 17       | 17       | 17       | \n",
       "| Fiat 128 | 32.4     | 4        |  78.7    |  66      | 4.08     | 2.200    | 19.47    | 1        | 1        | 4        | 1        | 1        |  66      | 16.50000 | 18       | 18       | 18       | \n",
       "| Honda Civic | 30.4     | 4        |  75.7    |  52      | 4.93     | 1.615    | 18.52    | 1        | 1        | 4        | 2        | 1        |  52      | 13.00000 | 19       | 19       | 19       | \n",
       "| Toyota Corolla | 33.9     | 4        |  71.1    |  65      | 4.22     | 1.835    | 19.90    | 1        | 1        | 4        | 1        | 1        |  65      | 16.25000 | 20       | 20       | 20       | \n",
       "| Toyota Corona | 21.5     | 4        | 120.1    |  97      | 3.70     | 2.465    | 20.01    | 1        | 0        | 3        | 1        | 1        |  97      | 32.33333 | 21       | 21       | 21       | \n",
       "| Dodge Challenger | 15.5     | 8        | 318.0    | 150      | 2.76     | 3.520    | 16.87    | 0        | 0        | 3        | 2        | 1        | 150      | 50.00000 | 22       | 22       | 22       | \n",
       "| AMC Javelin | 15.2     | 8        | 304.0    | 150      | 3.15     | 3.435    | 17.30    | 0        | 0        | 3        | 2        | 1        | 150      | 50.00000 | 23       | 23       | 23       | \n",
       "| Camaro Z28 | 13.3     | 8        | 350.0    | 245      | 3.73     | 3.840    | 15.41    | 0        | 0        | 3        | 4        | 1        | 245      | 81.66667 | 24       | 24       | 24       | \n",
       "| Pontiac Firebird | 19.2     | 8        | 400.0    | 175      | 3.08     | 3.845    | 17.05    | 0        | 0        | 3        | 2        | 1        | 175      | 58.33333 | 25       | 25       | 25       | \n",
       "| Fiat X1-9 | 27.3     | 4        |  79.0    |  66      | 4.08     | 1.935    | 18.90    | 1        | 1        | 4        | 1        | 1        |  66      | 16.50000 | 26       | 26       | 26       | \n",
       "| Porsche 914-2 | 26.0     | 4        | 120.3    |  91      | 4.43     | 2.140    | 16.70    | 0        | 1        | 5        | 2        | 1        |  91      | 18.20000 | 27       | 27       | 27       | \n",
       "| Lotus Europa | 30.4     | 4        |  95.1    | 113      | 3.77     | 1.513    | 16.90    | 1        | 1        | 5        | 2        | 1        | 113      | 22.60000 | 28       | 28       | 28       | \n",
       "| Ford Pantera L | 15.8     | 8        | 351.0    | 264      | 4.22     | 3.170    | 14.50    | 0        | 1        | 5        | 4        | 1        | 264      | 52.80000 | 29       | 29       | 29       | \n",
       "| Ferrari Dino | 19.7     | 6        | 145.0    | 175      | 3.62     | 2.770    | 15.50    | 0        | 1        | 5        | 6        | 1        | 175      | 35.00000 | 30       | 30       | 30       | \n",
       "| Maserati Bora | 15.0     | 8        | 301.0    | 335      | 3.54     | 3.570    | 14.60    | 0        | 1        | 5        | 8        | 1        | 335      | 67.00000 | 31       | 31       | 31       | \n",
       "| Volvo 142E | 21.4     | 4        | 121.0    | 109      | 4.11     | 2.780    | 18.60    | 1        | 1        | 4        | 2        | 1        | 109      | 27.25000 | 32       | 32       | 32       | \n",
       "| seat | 22.0     | 5        | 202.0    | 100      | 2.56     | 3.100    | 15.00    | 1        | 0        | 5        | 4        | 1        | 100      | 20.00000 | 33       | 33       | 33       | \n",
       "\n",
       "\n"
      ],
      "text/plain": [
       "                    mpg  cyl disp  hp  drat wt    qsec  vs am gear carb\n",
       "Mazda RX4           21.0 6   160.0 110 3.90 2.620 16.46 0  1  4    4   \n",
       "Mazda RX4 Wag       21.0 6   160.0 110 3.90 2.875 17.02 0  1  4    4   \n",
       "Datsun 710          22.8 4   108.0  93 3.85 2.320 18.61 1  1  4    1   \n",
       "Hornet 4 Drive      21.4 6   258.0 110 3.08 3.215 19.44 1  0  3    1   \n",
       "Hornet Sportabout   18.7 8   360.0 175 3.15 3.440 17.02 0  0  3    2   \n",
       "Valiant             18.1 6   225.0 105 2.76 3.460 20.22 1  0  3    1   \n",
       "Duster 360          14.3 8   360.0 245 3.21 3.570 15.84 0  0  3    4   \n",
       "Merc 240D           24.4 4   146.7  62 3.69 3.190 20.00 1  0  4    2   \n",
       "Merc 230            22.8 4   140.8  95 3.92 3.150 22.90 1  0  4    2   \n",
       "Merc 280            19.2 6   167.6 123 3.92 3.440 18.30 1  0  4    4   \n",
       "Merc 280C           17.8 6   167.6 123 3.92 3.440 18.90 1  0  4    4   \n",
       "Merc 450SE          16.4 8   275.8 180 3.07 4.070 17.40 0  0  3    3   \n",
       "Merc 450SL          17.3 8   275.8 180 3.07 3.730 17.60 0  0  3    3   \n",
       "Merc 450SLC         15.2 8   275.8 180 3.07 3.780 18.00 0  0  3    3   \n",
       "Cadillac Fleetwood  10.4 8   472.0 205 2.93 5.250 17.98 0  0  3    4   \n",
       "Lincoln Continental 10.4 8   460.0 215 3.00 5.424 17.82 0  0  3    4   \n",
       "Chrysler Imperial   14.7 8   440.0 230 3.23 5.345 17.42 0  0  3    4   \n",
       "Fiat 128            32.4 4    78.7  66 4.08 2.200 19.47 1  1  4    1   \n",
       "Honda Civic         30.4 4    75.7  52 4.93 1.615 18.52 1  1  4    2   \n",
       "Toyota Corolla      33.9 4    71.1  65 4.22 1.835 19.90 1  1  4    1   \n",
       "Toyota Corona       21.5 4   120.1  97 3.70 2.465 20.01 1  0  3    1   \n",
       "Dodge Challenger    15.5 8   318.0 150 2.76 3.520 16.87 0  0  3    2   \n",
       "AMC Javelin         15.2 8   304.0 150 3.15 3.435 17.30 0  0  3    2   \n",
       "Camaro Z28          13.3 8   350.0 245 3.73 3.840 15.41 0  0  3    4   \n",
       "Pontiac Firebird    19.2 8   400.0 175 3.08 3.845 17.05 0  0  3    2   \n",
       "Fiat X1-9           27.3 4    79.0  66 4.08 1.935 18.90 1  1  4    1   \n",
       "Porsche 914-2       26.0 4   120.3  91 4.43 2.140 16.70 0  1  5    2   \n",
       "Lotus Europa        30.4 4    95.1 113 3.77 1.513 16.90 1  1  5    2   \n",
       "Ford Pantera L      15.8 8   351.0 264 4.22 3.170 14.50 0  1  5    4   \n",
       "Ferrari Dino        19.7 6   145.0 175 3.62 2.770 15.50 0  1  5    6   \n",
       "Maserati Bora       15.0 8   301.0 335 3.54 3.570 14.60 0  1  5    8   \n",
       "Volvo 142E          21.4 4   121.0 109 4.11 2.780 18.60 1  1  4    2   \n",
       "seat                22.0 5   202.0 100 2.56 3.100 15.00 1  0  5    4   \n",
       "                    newcolumn copyofhp hp.gear  v  v  v \n",
       "Mazda RX4           1         110      27.50000 88  1  1\n",
       "Mazda RX4 Wag       1         110      27.50000  2  2  2\n",
       "Datsun 710          1          93      23.25000  3  3  3\n",
       "Hornet 4 Drive      1         110      36.66667  4  4  4\n",
       "Hornet Sportabout   1         175      58.33333  5  5  5\n",
       "Valiant             1         105      35.00000  6  6  6\n",
       "Duster 360          1         245      81.66667  7  7  7\n",
       "Merc 240D           1          62      15.50000  8  8  8\n",
       "Merc 230            1          95      23.75000  9  9  9\n",
       "Merc 280            1         123      30.75000 10 10 10\n",
       "Merc 280C           1         123      30.75000 11 11 11\n",
       "Merc 450SE          1         180      60.00000 12 12 12\n",
       "Merc 450SL          1         180      60.00000 13 13 13\n",
       "Merc 450SLC         1         180      60.00000 14 14 14\n",
       "Cadillac Fleetwood  1         205      68.33333 15 15 15\n",
       "Lincoln Continental 1         215      71.66667 16 16 16\n",
       "Chrysler Imperial   1         230      76.66667 17 17 17\n",
       "Fiat 128            1          66      16.50000 18 18 18\n",
       "Honda Civic         1          52      13.00000 19 19 19\n",
       "Toyota Corolla      1          65      16.25000 20 20 20\n",
       "Toyota Corona       1          97      32.33333 21 21 21\n",
       "Dodge Challenger    1         150      50.00000 22 22 22\n",
       "AMC Javelin         1         150      50.00000 23 23 23\n",
       "Camaro Z28          1         245      81.66667 24 24 24\n",
       "Pontiac Firebird    1         175      58.33333 25 25 25\n",
       "Fiat X1-9           1          66      16.50000 26 26 26\n",
       "Porsche 914-2       1          91      18.20000 27 27 27\n",
       "Lotus Europa        1         113      22.60000 28 28 28\n",
       "Ford Pantera L      1         264      52.80000 29 29 29\n",
       "Ferrari Dino        1         175      35.00000 30 30 30\n",
       "Maserati Bora       1         335      67.00000 31 31 31\n",
       "Volvo 142E          1         109      27.25000 32 32 32\n",
       "seat                1         100      20.00000 33 33 33"
      ]
     },
     "metadata": {},
     "output_type": "display_data"
    }
   ],
   "source": [
    "df[1,'v']  <- 88\n",
    "df"
   ]
  },
  {
   "cell_type": "code",
   "execution_count": 13,
   "metadata": {},
   "outputs": [
    {
     "data": {
      "text/html": [
       "<table>\n",
       "<thead><tr><th></th><th scope=col>mpg</th><th scope=col>cyl</th><th scope=col>disp</th><th scope=col>hp</th><th scope=col>drat</th><th scope=col>wt</th><th scope=col>qsec</th><th scope=col>vs</th><th scope=col>am</th><th scope=col>gear</th><th scope=col>carb</th><th scope=col>newcolumn</th><th scope=col>copyofhp</th><th scope=col>hp.gear</th><th scope=col>v</th><th scope=col>v</th><th scope=col>v</th></tr></thead>\n",
       "<tbody>\n",
       "\t<tr><th scope=row>Mazda RX4</th><td>21.0    </td><td>6       </td><td>160.0   </td><td>110     </td><td>3.90    </td><td>2.620   </td><td>16.46   </td><td>0       </td><td>1       </td><td>4       </td><td>4       </td><td>1       </td><td>110     </td><td>27.50000</td><td> 1      </td><td> 1      </td><td> 1      </td></tr>\n",
       "\t<tr><th scope=row>Mazda RX4 Wag</th><td>21.0    </td><td>6       </td><td>160.0   </td><td>110     </td><td>3.90    </td><td>2.875   </td><td>17.02   </td><td>0       </td><td>1       </td><td>4       </td><td>4       </td><td>1       </td><td>110     </td><td>27.50000</td><td> 2      </td><td> 2      </td><td> 2      </td></tr>\n",
       "\t<tr><th scope=row>Datsun 710</th><td>22.8    </td><td>4       </td><td>108.0   </td><td> 93     </td><td>3.85    </td><td>2.320   </td><td>18.61   </td><td>1       </td><td>1       </td><td>4       </td><td>1       </td><td>1       </td><td> 93     </td><td>23.25000</td><td> 3      </td><td> 3      </td><td> 3      </td></tr>\n",
       "\t<tr><th scope=row>Hornet 4 Drive</th><td>21.4    </td><td>6       </td><td>258.0   </td><td>110     </td><td>3.08    </td><td>3.215   </td><td>19.44   </td><td>1       </td><td>0       </td><td>3       </td><td>1       </td><td>1       </td><td>110     </td><td>36.66667</td><td> 4      </td><td> 4      </td><td> 4      </td></tr>\n",
       "\t<tr><th scope=row>Hornet Sportabout</th><td>18.7    </td><td>8       </td><td>360.0   </td><td>175     </td><td>3.15    </td><td>3.440   </td><td>17.02   </td><td>0       </td><td>0       </td><td>3       </td><td>2       </td><td>1       </td><td>175     </td><td>58.33333</td><td> 5      </td><td> 5      </td><td> 5      </td></tr>\n",
       "\t<tr><th scope=row>Valiant</th><td>18.1    </td><td>6       </td><td>225.0   </td><td>105     </td><td>2.76    </td><td>3.460   </td><td>20.22   </td><td>1       </td><td>0       </td><td>3       </td><td>1       </td><td>1       </td><td>105     </td><td>35.00000</td><td> 6      </td><td> 6      </td><td> 6      </td></tr>\n",
       "\t<tr><th scope=row>Duster 360</th><td>14.3    </td><td>8       </td><td>360.0   </td><td>245     </td><td>3.21    </td><td>3.570   </td><td>15.84   </td><td>0       </td><td>0       </td><td>3       </td><td>4       </td><td>1       </td><td>245     </td><td>81.66667</td><td> 7      </td><td> 7      </td><td> 7      </td></tr>\n",
       "\t<tr><th scope=row>Merc 240D</th><td>24.4    </td><td>4       </td><td>146.7   </td><td> 62     </td><td>3.69    </td><td>3.190   </td><td>20.00   </td><td>1       </td><td>0       </td><td>4       </td><td>2       </td><td>1       </td><td> 62     </td><td>15.50000</td><td> 8      </td><td> 8      </td><td> 8      </td></tr>\n",
       "\t<tr><th scope=row>Merc 230</th><td>22.8    </td><td>4       </td><td>140.8   </td><td> 95     </td><td>3.92    </td><td>3.150   </td><td>22.90   </td><td>1       </td><td>0       </td><td>4       </td><td>2       </td><td>1       </td><td> 95     </td><td>23.75000</td><td> 9      </td><td> 9      </td><td> 9      </td></tr>\n",
       "\t<tr><th scope=row>Merc 280</th><td>19.2    </td><td>6       </td><td>167.6   </td><td>123     </td><td>3.92    </td><td>3.440   </td><td>18.30   </td><td>1       </td><td>0       </td><td>4       </td><td>4       </td><td>1       </td><td>123     </td><td>30.75000</td><td>10      </td><td>10      </td><td>10      </td></tr>\n",
       "\t<tr><th scope=row>Merc 280C</th><td>17.8    </td><td>6       </td><td>167.6   </td><td>123     </td><td>3.92    </td><td>3.440   </td><td>18.90   </td><td>1       </td><td>0       </td><td>4       </td><td>4       </td><td>1       </td><td>123     </td><td>30.75000</td><td>11      </td><td>11      </td><td>11      </td></tr>\n",
       "\t<tr><th scope=row>Merc 450SE</th><td>16.4    </td><td>8       </td><td>275.8   </td><td>180     </td><td>3.07    </td><td>4.070   </td><td>17.40   </td><td>0       </td><td>0       </td><td>3       </td><td>3       </td><td>1       </td><td>180     </td><td>60.00000</td><td>12      </td><td>12      </td><td>12      </td></tr>\n",
       "\t<tr><th scope=row>Merc 450SL</th><td>17.3    </td><td>8       </td><td>275.8   </td><td>180     </td><td>3.07    </td><td>3.730   </td><td>17.60   </td><td>0       </td><td>0       </td><td>3       </td><td>3       </td><td>1       </td><td>180     </td><td>60.00000</td><td>13      </td><td>13      </td><td>13      </td></tr>\n",
       "\t<tr><th scope=row>Merc 450SLC</th><td>15.2    </td><td>8       </td><td>275.8   </td><td>180     </td><td>3.07    </td><td>3.780   </td><td>18.00   </td><td>0       </td><td>0       </td><td>3       </td><td>3       </td><td>1       </td><td>180     </td><td>60.00000</td><td>14      </td><td>14      </td><td>14      </td></tr>\n",
       "\t<tr><th scope=row>Cadillac Fleetwood</th><td>10.4    </td><td>8       </td><td>472.0   </td><td>205     </td><td>2.93    </td><td>5.250   </td><td>17.98   </td><td>0       </td><td>0       </td><td>3       </td><td>4       </td><td>1       </td><td>205     </td><td>68.33333</td><td>15      </td><td>15      </td><td>15      </td></tr>\n",
       "\t<tr><th scope=row>Lincoln Continental</th><td>10.4    </td><td>8       </td><td>460.0   </td><td>215     </td><td>3.00    </td><td>5.424   </td><td>17.82   </td><td>0       </td><td>0       </td><td>3       </td><td>4       </td><td>1       </td><td>215     </td><td>71.66667</td><td>16      </td><td>16      </td><td>16      </td></tr>\n",
       "\t<tr><th scope=row>Chrysler Imperial</th><td>14.7    </td><td>8       </td><td>440.0   </td><td>230     </td><td>3.23    </td><td>5.345   </td><td>17.42   </td><td>0       </td><td>0       </td><td>3       </td><td>4       </td><td>1       </td><td>230     </td><td>76.66667</td><td>17      </td><td>17      </td><td>17      </td></tr>\n",
       "\t<tr><th scope=row>Fiat 128</th><td>32.4    </td><td>4       </td><td> 78.7   </td><td> 66     </td><td>4.08    </td><td>2.200   </td><td>19.47   </td><td>1       </td><td>1       </td><td>4       </td><td>1       </td><td>1       </td><td> 66     </td><td>16.50000</td><td>18      </td><td>18      </td><td>18      </td></tr>\n",
       "\t<tr><th scope=row>Honda Civic</th><td>30.4    </td><td>4       </td><td> 75.7   </td><td> 52     </td><td>4.93    </td><td>1.615   </td><td>18.52   </td><td>1       </td><td>1       </td><td>4       </td><td>2       </td><td>1       </td><td> 52     </td><td>13.00000</td><td>19      </td><td>19      </td><td>19      </td></tr>\n",
       "\t<tr><th scope=row>Toyota Corolla</th><td>33.9    </td><td>4       </td><td> 71.1   </td><td> 65     </td><td>4.22    </td><td>1.835   </td><td>19.90   </td><td>1       </td><td>1       </td><td>4       </td><td>1       </td><td>1       </td><td> 65     </td><td>16.25000</td><td>20      </td><td>20      </td><td>20      </td></tr>\n",
       "\t<tr><th scope=row>Toyota Corona</th><td>21.5    </td><td>4       </td><td>120.1   </td><td> 97     </td><td>3.70    </td><td>2.465   </td><td>20.01   </td><td>1       </td><td>0       </td><td>3       </td><td>1       </td><td>1       </td><td> 97     </td><td>32.33333</td><td>21      </td><td>21      </td><td>21      </td></tr>\n",
       "\t<tr><th scope=row>Dodge Challenger</th><td>15.5    </td><td>8       </td><td>318.0   </td><td>150     </td><td>2.76    </td><td>3.520   </td><td>16.87   </td><td>0       </td><td>0       </td><td>3       </td><td>2       </td><td>1       </td><td>150     </td><td>50.00000</td><td>22      </td><td>22      </td><td>22      </td></tr>\n",
       "\t<tr><th scope=row>AMC Javelin</th><td>15.2    </td><td>8       </td><td>304.0   </td><td>150     </td><td>3.15    </td><td>3.435   </td><td>17.30   </td><td>0       </td><td>0       </td><td>3       </td><td>2       </td><td>1       </td><td>150     </td><td>50.00000</td><td>23      </td><td>23      </td><td>23      </td></tr>\n",
       "\t<tr><th scope=row>Camaro Z28</th><td>13.3    </td><td>8       </td><td>350.0   </td><td>245     </td><td>3.73    </td><td>3.840   </td><td>15.41   </td><td>0       </td><td>0       </td><td>3       </td><td>4       </td><td>1       </td><td>245     </td><td>81.66667</td><td>24      </td><td>24      </td><td>24      </td></tr>\n",
       "\t<tr><th scope=row>Pontiac Firebird</th><td>19.2    </td><td>8       </td><td>400.0   </td><td>175     </td><td>3.08    </td><td>3.845   </td><td>17.05   </td><td>0       </td><td>0       </td><td>3       </td><td>2       </td><td>1       </td><td>175     </td><td>58.33333</td><td>25      </td><td>25      </td><td>25      </td></tr>\n",
       "\t<tr><th scope=row>Fiat X1-9</th><td>27.3    </td><td>4       </td><td> 79.0   </td><td> 66     </td><td>4.08    </td><td>1.935   </td><td>18.90   </td><td>1       </td><td>1       </td><td>4       </td><td>1       </td><td>1       </td><td> 66     </td><td>16.50000</td><td>26      </td><td>26      </td><td>26      </td></tr>\n",
       "\t<tr><th scope=row>Porsche 914-2</th><td>26.0    </td><td>4       </td><td>120.3   </td><td> 91     </td><td>4.43    </td><td>2.140   </td><td>16.70   </td><td>0       </td><td>1       </td><td>5       </td><td>2       </td><td>1       </td><td> 91     </td><td>18.20000</td><td>27      </td><td>27      </td><td>27      </td></tr>\n",
       "\t<tr><th scope=row>Lotus Europa</th><td>30.4    </td><td>4       </td><td> 95.1   </td><td>113     </td><td>3.77    </td><td>1.513   </td><td>16.90   </td><td>1       </td><td>1       </td><td>5       </td><td>2       </td><td>1       </td><td>113     </td><td>22.60000</td><td>28      </td><td>28      </td><td>28      </td></tr>\n",
       "\t<tr><th scope=row>Ford Pantera L</th><td>15.8    </td><td>8       </td><td>351.0   </td><td>264     </td><td>4.22    </td><td>3.170   </td><td>14.50   </td><td>0       </td><td>1       </td><td>5       </td><td>4       </td><td>1       </td><td>264     </td><td>52.80000</td><td>29      </td><td>29      </td><td>29      </td></tr>\n",
       "\t<tr><th scope=row>Ferrari Dino</th><td>19.7    </td><td>6       </td><td>145.0   </td><td>175     </td><td>3.62    </td><td>2.770   </td><td>15.50   </td><td>0       </td><td>1       </td><td>5       </td><td>6       </td><td>1       </td><td>175     </td><td>35.00000</td><td>30      </td><td>30      </td><td>30      </td></tr>\n",
       "\t<tr><th scope=row>Maserati Bora</th><td>15.0    </td><td>8       </td><td>301.0   </td><td>335     </td><td>3.54    </td><td>3.570   </td><td>14.60   </td><td>0       </td><td>1       </td><td>5       </td><td>8       </td><td>1       </td><td>335     </td><td>67.00000</td><td>31      </td><td>31      </td><td>31      </td></tr>\n",
       "\t<tr><th scope=row>Volvo 142E</th><td>21.4    </td><td>4       </td><td>121.0   </td><td>109     </td><td>4.11    </td><td>2.780   </td><td>18.60   </td><td>1       </td><td>1       </td><td>4       </td><td>2       </td><td>1       </td><td>109     </td><td>27.25000</td><td>32      </td><td>32      </td><td>32      </td></tr>\n",
       "\t<tr><th scope=row>seat</th><td>22.0    </td><td>5       </td><td>202.0   </td><td>100     </td><td>2.56    </td><td>3.100   </td><td>15.00   </td><td>1       </td><td>0       </td><td>5       </td><td>4       </td><td>1       </td><td>100     </td><td>20.00000</td><td>33      </td><td>33      </td><td>33      </td></tr>\n",
       "</tbody>\n",
       "</table>\n"
      ],
      "text/latex": [
       "\\begin{tabular}{r|lllllllllllllllll}\n",
       "  & mpg & cyl & disp & hp & drat & wt & qsec & vs & am & gear & carb & newcolumn & copyofhp & hp.gear & v & v & v\\\\\n",
       "\\hline\n",
       "\tMazda RX4 & 21.0     & 6        & 160.0    & 110      & 3.90     & 2.620    & 16.46    & 0        & 1        & 4        & 4        & 1        & 110      & 27.50000 &  1       &  1       &  1      \\\\\n",
       "\tMazda RX4 Wag & 21.0     & 6        & 160.0    & 110      & 3.90     & 2.875    & 17.02    & 0        & 1        & 4        & 4        & 1        & 110      & 27.50000 &  2       &  2       &  2      \\\\\n",
       "\tDatsun 710 & 22.8     & 4        & 108.0    &  93      & 3.85     & 2.320    & 18.61    & 1        & 1        & 4        & 1        & 1        &  93      & 23.25000 &  3       &  3       &  3      \\\\\n",
       "\tHornet 4 Drive & 21.4     & 6        & 258.0    & 110      & 3.08     & 3.215    & 19.44    & 1        & 0        & 3        & 1        & 1        & 110      & 36.66667 &  4       &  4       &  4      \\\\\n",
       "\tHornet Sportabout & 18.7     & 8        & 360.0    & 175      & 3.15     & 3.440    & 17.02    & 0        & 0        & 3        & 2        & 1        & 175      & 58.33333 &  5       &  5       &  5      \\\\\n",
       "\tValiant & 18.1     & 6        & 225.0    & 105      & 2.76     & 3.460    & 20.22    & 1        & 0        & 3        & 1        & 1        & 105      & 35.00000 &  6       &  6       &  6      \\\\\n",
       "\tDuster 360 & 14.3     & 8        & 360.0    & 245      & 3.21     & 3.570    & 15.84    & 0        & 0        & 3        & 4        & 1        & 245      & 81.66667 &  7       &  7       &  7      \\\\\n",
       "\tMerc 240D & 24.4     & 4        & 146.7    &  62      & 3.69     & 3.190    & 20.00    & 1        & 0        & 4        & 2        & 1        &  62      & 15.50000 &  8       &  8       &  8      \\\\\n",
       "\tMerc 230 & 22.8     & 4        & 140.8    &  95      & 3.92     & 3.150    & 22.90    & 1        & 0        & 4        & 2        & 1        &  95      & 23.75000 &  9       &  9       &  9      \\\\\n",
       "\tMerc 280 & 19.2     & 6        & 167.6    & 123      & 3.92     & 3.440    & 18.30    & 1        & 0        & 4        & 4        & 1        & 123      & 30.75000 & 10       & 10       & 10      \\\\\n",
       "\tMerc 280C & 17.8     & 6        & 167.6    & 123      & 3.92     & 3.440    & 18.90    & 1        & 0        & 4        & 4        & 1        & 123      & 30.75000 & 11       & 11       & 11      \\\\\n",
       "\tMerc 450SE & 16.4     & 8        & 275.8    & 180      & 3.07     & 4.070    & 17.40    & 0        & 0        & 3        & 3        & 1        & 180      & 60.00000 & 12       & 12       & 12      \\\\\n",
       "\tMerc 450SL & 17.3     & 8        & 275.8    & 180      & 3.07     & 3.730    & 17.60    & 0        & 0        & 3        & 3        & 1        & 180      & 60.00000 & 13       & 13       & 13      \\\\\n",
       "\tMerc 450SLC & 15.2     & 8        & 275.8    & 180      & 3.07     & 3.780    & 18.00    & 0        & 0        & 3        & 3        & 1        & 180      & 60.00000 & 14       & 14       & 14      \\\\\n",
       "\tCadillac Fleetwood & 10.4     & 8        & 472.0    & 205      & 2.93     & 5.250    & 17.98    & 0        & 0        & 3        & 4        & 1        & 205      & 68.33333 & 15       & 15       & 15      \\\\\n",
       "\tLincoln Continental & 10.4     & 8        & 460.0    & 215      & 3.00     & 5.424    & 17.82    & 0        & 0        & 3        & 4        & 1        & 215      & 71.66667 & 16       & 16       & 16      \\\\\n",
       "\tChrysler Imperial & 14.7     & 8        & 440.0    & 230      & 3.23     & 5.345    & 17.42    & 0        & 0        & 3        & 4        & 1        & 230      & 76.66667 & 17       & 17       & 17      \\\\\n",
       "\tFiat 128 & 32.4     & 4        &  78.7    &  66      & 4.08     & 2.200    & 19.47    & 1        & 1        & 4        & 1        & 1        &  66      & 16.50000 & 18       & 18       & 18      \\\\\n",
       "\tHonda Civic & 30.4     & 4        &  75.7    &  52      & 4.93     & 1.615    & 18.52    & 1        & 1        & 4        & 2        & 1        &  52      & 13.00000 & 19       & 19       & 19      \\\\\n",
       "\tToyota Corolla & 33.9     & 4        &  71.1    &  65      & 4.22     & 1.835    & 19.90    & 1        & 1        & 4        & 1        & 1        &  65      & 16.25000 & 20       & 20       & 20      \\\\\n",
       "\tToyota Corona & 21.5     & 4        & 120.1    &  97      & 3.70     & 2.465    & 20.01    & 1        & 0        & 3        & 1        & 1        &  97      & 32.33333 & 21       & 21       & 21      \\\\\n",
       "\tDodge Challenger & 15.5     & 8        & 318.0    & 150      & 2.76     & 3.520    & 16.87    & 0        & 0        & 3        & 2        & 1        & 150      & 50.00000 & 22       & 22       & 22      \\\\\n",
       "\tAMC Javelin & 15.2     & 8        & 304.0    & 150      & 3.15     & 3.435    & 17.30    & 0        & 0        & 3        & 2        & 1        & 150      & 50.00000 & 23       & 23       & 23      \\\\\n",
       "\tCamaro Z28 & 13.3     & 8        & 350.0    & 245      & 3.73     & 3.840    & 15.41    & 0        & 0        & 3        & 4        & 1        & 245      & 81.66667 & 24       & 24       & 24      \\\\\n",
       "\tPontiac Firebird & 19.2     & 8        & 400.0    & 175      & 3.08     & 3.845    & 17.05    & 0        & 0        & 3        & 2        & 1        & 175      & 58.33333 & 25       & 25       & 25      \\\\\n",
       "\tFiat X1-9 & 27.3     & 4        &  79.0    &  66      & 4.08     & 1.935    & 18.90    & 1        & 1        & 4        & 1        & 1        &  66      & 16.50000 & 26       & 26       & 26      \\\\\n",
       "\tPorsche 914-2 & 26.0     & 4        & 120.3    &  91      & 4.43     & 2.140    & 16.70    & 0        & 1        & 5        & 2        & 1        &  91      & 18.20000 & 27       & 27       & 27      \\\\\n",
       "\tLotus Europa & 30.4     & 4        &  95.1    & 113      & 3.77     & 1.513    & 16.90    & 1        & 1        & 5        & 2        & 1        & 113      & 22.60000 & 28       & 28       & 28      \\\\\n",
       "\tFord Pantera L & 15.8     & 8        & 351.0    & 264      & 4.22     & 3.170    & 14.50    & 0        & 1        & 5        & 4        & 1        & 264      & 52.80000 & 29       & 29       & 29      \\\\\n",
       "\tFerrari Dino & 19.7     & 6        & 145.0    & 175      & 3.62     & 2.770    & 15.50    & 0        & 1        & 5        & 6        & 1        & 175      & 35.00000 & 30       & 30       & 30      \\\\\n",
       "\tMaserati Bora & 15.0     & 8        & 301.0    & 335      & 3.54     & 3.570    & 14.60    & 0        & 1        & 5        & 8        & 1        & 335      & 67.00000 & 31       & 31       & 31      \\\\\n",
       "\tVolvo 142E & 21.4     & 4        & 121.0    & 109      & 4.11     & 2.780    & 18.60    & 1        & 1        & 4        & 2        & 1        & 109      & 27.25000 & 32       & 32       & 32      \\\\\n",
       "\tseat & 22.0     & 5        & 202.0    & 100      & 2.56     & 3.100    & 15.00    & 1        & 0        & 5        & 4        & 1        & 100      & 20.00000 & 33       & 33       & 33      \\\\\n",
       "\\end{tabular}\n"
      ],
      "text/markdown": [
       "\n",
       "| <!--/--> | mpg | cyl | disp | hp | drat | wt | qsec | vs | am | gear | carb | newcolumn | copyofhp | hp.gear | v | v | v | \n",
       "|---|---|---|---|---|---|---|---|---|---|---|---|---|---|---|---|---|---|---|---|---|---|---|---|---|---|---|---|---|---|---|---|---|\n",
       "| Mazda RX4 | 21.0     | 6        | 160.0    | 110      | 3.90     | 2.620    | 16.46    | 0        | 1        | 4        | 4        | 1        | 110      | 27.50000 |  1       |  1       |  1       | \n",
       "| Mazda RX4 Wag | 21.0     | 6        | 160.0    | 110      | 3.90     | 2.875    | 17.02    | 0        | 1        | 4        | 4        | 1        | 110      | 27.50000 |  2       |  2       |  2       | \n",
       "| Datsun 710 | 22.8     | 4        | 108.0    |  93      | 3.85     | 2.320    | 18.61    | 1        | 1        | 4        | 1        | 1        |  93      | 23.25000 |  3       |  3       |  3       | \n",
       "| Hornet 4 Drive | 21.4     | 6        | 258.0    | 110      | 3.08     | 3.215    | 19.44    | 1        | 0        | 3        | 1        | 1        | 110      | 36.66667 |  4       |  4       |  4       | \n",
       "| Hornet Sportabout | 18.7     | 8        | 360.0    | 175      | 3.15     | 3.440    | 17.02    | 0        | 0        | 3        | 2        | 1        | 175      | 58.33333 |  5       |  5       |  5       | \n",
       "| Valiant | 18.1     | 6        | 225.0    | 105      | 2.76     | 3.460    | 20.22    | 1        | 0        | 3        | 1        | 1        | 105      | 35.00000 |  6       |  6       |  6       | \n",
       "| Duster 360 | 14.3     | 8        | 360.0    | 245      | 3.21     | 3.570    | 15.84    | 0        | 0        | 3        | 4        | 1        | 245      | 81.66667 |  7       |  7       |  7       | \n",
       "| Merc 240D | 24.4     | 4        | 146.7    |  62      | 3.69     | 3.190    | 20.00    | 1        | 0        | 4        | 2        | 1        |  62      | 15.50000 |  8       |  8       |  8       | \n",
       "| Merc 230 | 22.8     | 4        | 140.8    |  95      | 3.92     | 3.150    | 22.90    | 1        | 0        | 4        | 2        | 1        |  95      | 23.75000 |  9       |  9       |  9       | \n",
       "| Merc 280 | 19.2     | 6        | 167.6    | 123      | 3.92     | 3.440    | 18.30    | 1        | 0        | 4        | 4        | 1        | 123      | 30.75000 | 10       | 10       | 10       | \n",
       "| Merc 280C | 17.8     | 6        | 167.6    | 123      | 3.92     | 3.440    | 18.90    | 1        | 0        | 4        | 4        | 1        | 123      | 30.75000 | 11       | 11       | 11       | \n",
       "| Merc 450SE | 16.4     | 8        | 275.8    | 180      | 3.07     | 4.070    | 17.40    | 0        | 0        | 3        | 3        | 1        | 180      | 60.00000 | 12       | 12       | 12       | \n",
       "| Merc 450SL | 17.3     | 8        | 275.8    | 180      | 3.07     | 3.730    | 17.60    | 0        | 0        | 3        | 3        | 1        | 180      | 60.00000 | 13       | 13       | 13       | \n",
       "| Merc 450SLC | 15.2     | 8        | 275.8    | 180      | 3.07     | 3.780    | 18.00    | 0        | 0        | 3        | 3        | 1        | 180      | 60.00000 | 14       | 14       | 14       | \n",
       "| Cadillac Fleetwood | 10.4     | 8        | 472.0    | 205      | 2.93     | 5.250    | 17.98    | 0        | 0        | 3        | 4        | 1        | 205      | 68.33333 | 15       | 15       | 15       | \n",
       "| Lincoln Continental | 10.4     | 8        | 460.0    | 215      | 3.00     | 5.424    | 17.82    | 0        | 0        | 3        | 4        | 1        | 215      | 71.66667 | 16       | 16       | 16       | \n",
       "| Chrysler Imperial | 14.7     | 8        | 440.0    | 230      | 3.23     | 5.345    | 17.42    | 0        | 0        | 3        | 4        | 1        | 230      | 76.66667 | 17       | 17       | 17       | \n",
       "| Fiat 128 | 32.4     | 4        |  78.7    |  66      | 4.08     | 2.200    | 19.47    | 1        | 1        | 4        | 1        | 1        |  66      | 16.50000 | 18       | 18       | 18       | \n",
       "| Honda Civic | 30.4     | 4        |  75.7    |  52      | 4.93     | 1.615    | 18.52    | 1        | 1        | 4        | 2        | 1        |  52      | 13.00000 | 19       | 19       | 19       | \n",
       "| Toyota Corolla | 33.9     | 4        |  71.1    |  65      | 4.22     | 1.835    | 19.90    | 1        | 1        | 4        | 1        | 1        |  65      | 16.25000 | 20       | 20       | 20       | \n",
       "| Toyota Corona | 21.5     | 4        | 120.1    |  97      | 3.70     | 2.465    | 20.01    | 1        | 0        | 3        | 1        | 1        |  97      | 32.33333 | 21       | 21       | 21       | \n",
       "| Dodge Challenger | 15.5     | 8        | 318.0    | 150      | 2.76     | 3.520    | 16.87    | 0        | 0        | 3        | 2        | 1        | 150      | 50.00000 | 22       | 22       | 22       | \n",
       "| AMC Javelin | 15.2     | 8        | 304.0    | 150      | 3.15     | 3.435    | 17.30    | 0        | 0        | 3        | 2        | 1        | 150      | 50.00000 | 23       | 23       | 23       | \n",
       "| Camaro Z28 | 13.3     | 8        | 350.0    | 245      | 3.73     | 3.840    | 15.41    | 0        | 0        | 3        | 4        | 1        | 245      | 81.66667 | 24       | 24       | 24       | \n",
       "| Pontiac Firebird | 19.2     | 8        | 400.0    | 175      | 3.08     | 3.845    | 17.05    | 0        | 0        | 3        | 2        | 1        | 175      | 58.33333 | 25       | 25       | 25       | \n",
       "| Fiat X1-9 | 27.3     | 4        |  79.0    |  66      | 4.08     | 1.935    | 18.90    | 1        | 1        | 4        | 1        | 1        |  66      | 16.50000 | 26       | 26       | 26       | \n",
       "| Porsche 914-2 | 26.0     | 4        | 120.3    |  91      | 4.43     | 2.140    | 16.70    | 0        | 1        | 5        | 2        | 1        |  91      | 18.20000 | 27       | 27       | 27       | \n",
       "| Lotus Europa | 30.4     | 4        |  95.1    | 113      | 3.77     | 1.513    | 16.90    | 1        | 1        | 5        | 2        | 1        | 113      | 22.60000 | 28       | 28       | 28       | \n",
       "| Ford Pantera L | 15.8     | 8        | 351.0    | 264      | 4.22     | 3.170    | 14.50    | 0        | 1        | 5        | 4        | 1        | 264      | 52.80000 | 29       | 29       | 29       | \n",
       "| Ferrari Dino | 19.7     | 6        | 145.0    | 175      | 3.62     | 2.770    | 15.50    | 0        | 1        | 5        | 6        | 1        | 175      | 35.00000 | 30       | 30       | 30       | \n",
       "| Maserati Bora | 15.0     | 8        | 301.0    | 335      | 3.54     | 3.570    | 14.60    | 0        | 1        | 5        | 8        | 1        | 335      | 67.00000 | 31       | 31       | 31       | \n",
       "| Volvo 142E | 21.4     | 4        | 121.0    | 109      | 4.11     | 2.780    | 18.60    | 1        | 1        | 4        | 2        | 1        | 109      | 27.25000 | 32       | 32       | 32       | \n",
       "| seat | 22.0     | 5        | 202.0    | 100      | 2.56     | 3.100    | 15.00    | 1        | 0        | 5        | 4        | 1        | 100      | 20.00000 | 33       | 33       | 33       | \n",
       "\n",
       "\n"
      ],
      "text/plain": [
       "                    mpg  cyl disp  hp  drat wt    qsec  vs am gear carb\n",
       "Mazda RX4           21.0 6   160.0 110 3.90 2.620 16.46 0  1  4    4   \n",
       "Mazda RX4 Wag       21.0 6   160.0 110 3.90 2.875 17.02 0  1  4    4   \n",
       "Datsun 710          22.8 4   108.0  93 3.85 2.320 18.61 1  1  4    1   \n",
       "Hornet 4 Drive      21.4 6   258.0 110 3.08 3.215 19.44 1  0  3    1   \n",
       "Hornet Sportabout   18.7 8   360.0 175 3.15 3.440 17.02 0  0  3    2   \n",
       "Valiant             18.1 6   225.0 105 2.76 3.460 20.22 1  0  3    1   \n",
       "Duster 360          14.3 8   360.0 245 3.21 3.570 15.84 0  0  3    4   \n",
       "Merc 240D           24.4 4   146.7  62 3.69 3.190 20.00 1  0  4    2   \n",
       "Merc 230            22.8 4   140.8  95 3.92 3.150 22.90 1  0  4    2   \n",
       "Merc 280            19.2 6   167.6 123 3.92 3.440 18.30 1  0  4    4   \n",
       "Merc 280C           17.8 6   167.6 123 3.92 3.440 18.90 1  0  4    4   \n",
       "Merc 450SE          16.4 8   275.8 180 3.07 4.070 17.40 0  0  3    3   \n",
       "Merc 450SL          17.3 8   275.8 180 3.07 3.730 17.60 0  0  3    3   \n",
       "Merc 450SLC         15.2 8   275.8 180 3.07 3.780 18.00 0  0  3    3   \n",
       "Cadillac Fleetwood  10.4 8   472.0 205 2.93 5.250 17.98 0  0  3    4   \n",
       "Lincoln Continental 10.4 8   460.0 215 3.00 5.424 17.82 0  0  3    4   \n",
       "Chrysler Imperial   14.7 8   440.0 230 3.23 5.345 17.42 0  0  3    4   \n",
       "Fiat 128            32.4 4    78.7  66 4.08 2.200 19.47 1  1  4    1   \n",
       "Honda Civic         30.4 4    75.7  52 4.93 1.615 18.52 1  1  4    2   \n",
       "Toyota Corolla      33.9 4    71.1  65 4.22 1.835 19.90 1  1  4    1   \n",
       "Toyota Corona       21.5 4   120.1  97 3.70 2.465 20.01 1  0  3    1   \n",
       "Dodge Challenger    15.5 8   318.0 150 2.76 3.520 16.87 0  0  3    2   \n",
       "AMC Javelin         15.2 8   304.0 150 3.15 3.435 17.30 0  0  3    2   \n",
       "Camaro Z28          13.3 8   350.0 245 3.73 3.840 15.41 0  0  3    4   \n",
       "Pontiac Firebird    19.2 8   400.0 175 3.08 3.845 17.05 0  0  3    2   \n",
       "Fiat X1-9           27.3 4    79.0  66 4.08 1.935 18.90 1  1  4    1   \n",
       "Porsche 914-2       26.0 4   120.3  91 4.43 2.140 16.70 0  1  5    2   \n",
       "Lotus Europa        30.4 4    95.1 113 3.77 1.513 16.90 1  1  5    2   \n",
       "Ford Pantera L      15.8 8   351.0 264 4.22 3.170 14.50 0  1  5    4   \n",
       "Ferrari Dino        19.7 6   145.0 175 3.62 2.770 15.50 0  1  5    6   \n",
       "Maserati Bora       15.0 8   301.0 335 3.54 3.570 14.60 0  1  5    8   \n",
       "Volvo 142E          21.4 4   121.0 109 4.11 2.780 18.60 1  1  4    2   \n",
       "seat                22.0 5   202.0 100 2.56 3.100 15.00 1  0  5    4   \n",
       "                    newcolumn copyofhp hp.gear  v  v  v \n",
       "Mazda RX4           1         110      27.50000  1  1  1\n",
       "Mazda RX4 Wag       1         110      27.50000  2  2  2\n",
       "Datsun 710          1          93      23.25000  3  3  3\n",
       "Hornet 4 Drive      1         110      36.66667  4  4  4\n",
       "Hornet Sportabout   1         175      58.33333  5  5  5\n",
       "Valiant             1         105      35.00000  6  6  6\n",
       "Duster 360          1         245      81.66667  7  7  7\n",
       "Merc 240D           1          62      15.50000  8  8  8\n",
       "Merc 230            1          95      23.75000  9  9  9\n",
       "Merc 280            1         123      30.75000 10 10 10\n",
       "Merc 280C           1         123      30.75000 11 11 11\n",
       "Merc 450SE          1         180      60.00000 12 12 12\n",
       "Merc 450SL          1         180      60.00000 13 13 13\n",
       "Merc 450SLC         1         180      60.00000 14 14 14\n",
       "Cadillac Fleetwood  1         205      68.33333 15 15 15\n",
       "Lincoln Continental 1         215      71.66667 16 16 16\n",
       "Chrysler Imperial   1         230      76.66667 17 17 17\n",
       "Fiat 128            1          66      16.50000 18 18 18\n",
       "Honda Civic         1          52      13.00000 19 19 19\n",
       "Toyota Corolla      1          65      16.25000 20 20 20\n",
       "Toyota Corona       1          97      32.33333 21 21 21\n",
       "Dodge Challenger    1         150      50.00000 22 22 22\n",
       "AMC Javelin         1         150      50.00000 23 23 23\n",
       "Camaro Z28          1         245      81.66667 24 24 24\n",
       "Pontiac Firebird    1         175      58.33333 25 25 25\n",
       "Fiat X1-9           1          66      16.50000 26 26 26\n",
       "Porsche 914-2       1          91      18.20000 27 27 27\n",
       "Lotus Europa        1         113      22.60000 28 28 28\n",
       "Ford Pantera L      1         264      52.80000 29 29 29\n",
       "Ferrari Dino        1         175      35.00000 30 30 30\n",
       "Maserati Bora       1         335      67.00000 31 31 31\n",
       "Volvo 142E          1         109      27.25000 32 32 32\n",
       "seat                1         100      20.00000 33 33 33"
      ]
     },
     "metadata": {},
     "output_type": "display_data"
    }
   ],
   "source": [
    "# Añadir columnas\n",
    "df$newcolumn <- rep(1, nrow(df))\n",
    "df[, 'copyofhp'] <- df$hp\n",
    "df$hp.gear <- df$hp / df$gear\n",
    "v <- 1:nrow(df)\n",
    "df <- cbind(df, v)\n",
    "df"
   ]
  },
  {
   "cell_type": "code",
   "execution_count": 15,
   "metadata": {},
   "outputs": [
    {
     "name": "stdout",
     "output_type": "stream",
     "text": [
      "'data.frame':\t32 obs. of  11 variables:\n",
      " $ mpg : num  21 21 22.8 21.4 18.7 18.1 14.3 24.4 22.8 19.2 ...\n",
      " $ cyl : num  6 6 4 6 8 6 8 4 4 6 ...\n",
      " $ disp: num  160 160 108 258 360 ...\n",
      " $ hp  : num  110 110 93 110 175 105 245 62 95 123 ...\n",
      " $ drat: num  3.9 3.9 3.85 3.08 3.15 2.76 3.21 3.69 3.92 3.92 ...\n",
      " $ wt  : num  2.62 2.88 2.32 3.21 3.44 ...\n",
      " $ qsec: num  16.5 17 18.6 19.4 17 ...\n",
      " $ vs  : num  0 0 1 1 0 1 0 1 1 1 ...\n",
      " $ am  : num  1 1 1 0 0 0 0 0 0 0 ...\n",
      " $ gear: num  4 4 4 3 3 3 3 4 4 4 ...\n",
      " $ carb: num  4 4 1 1 2 1 4 2 2 4 ...\n"
     ]
    },
    {
     "data": {
      "text/html": [
       "8"
      ],
      "text/latex": [
       "8"
      ],
      "text/markdown": [
       "8"
      ],
      "text/plain": [
       "[1] 8"
      ]
     },
     "metadata": {},
     "output_type": "display_data"
    },
    {
     "data": {
      "text/html": [
       "<table>\n",
       "<thead><tr><th></th><th scope=col>mpg</th><th scope=col>cyl</th></tr></thead>\n",
       "<tbody>\n",
       "\t<tr><th scope=row>Mazda RX4</th><td>21.0</td><td>6   </td></tr>\n",
       "\t<tr><th scope=row>Mazda RX4 Wag</th><td>21.0</td><td>6   </td></tr>\n",
       "\t<tr><th scope=row>Datsun 710</th><td>22.8</td><td>4   </td></tr>\n",
       "\t<tr><th scope=row>Hornet 4 Drive</th><td>21.4</td><td>6   </td></tr>\n",
       "\t<tr><th scope=row>Hornet Sportabout</th><td>18.7</td><td>8   </td></tr>\n",
       "</tbody>\n",
       "</table>\n"
      ],
      "text/latex": [
       "\\begin{tabular}{r|ll}\n",
       "  & mpg & cyl\\\\\n",
       "\\hline\n",
       "\tMazda RX4 & 21.0 & 6   \\\\\n",
       "\tMazda RX4 Wag & 21.0 & 6   \\\\\n",
       "\tDatsun 710 & 22.8 & 4   \\\\\n",
       "\tHornet 4 Drive & 21.4 & 6   \\\\\n",
       "\tHornet Sportabout & 18.7 & 8   \\\\\n",
       "\\end{tabular}\n"
      ],
      "text/markdown": [
       "\n",
       "| <!--/--> | mpg | cyl | \n",
       "|---|---|---|---|---|\n",
       "| Mazda RX4 | 21.0 | 6    | \n",
       "| Mazda RX4 Wag | 21.0 | 6    | \n",
       "| Datsun 710 | 22.8 | 4    | \n",
       "| Hornet 4 Drive | 21.4 | 6    | \n",
       "| Hornet Sportabout | 18.7 | 8    | \n",
       "\n",
       "\n"
      ],
      "text/plain": [
       "                  mpg  cyl\n",
       "Mazda RX4         21.0 6  \n",
       "Mazda RX4 Wag     21.0 6  \n",
       "Datsun 710        22.8 4  \n",
       "Hornet 4 Drive    21.4 6  \n",
       "Hornet Sportabout 18.7 8  "
      ]
     },
     "metadata": {},
     "output_type": "display_data"
    },
    {
     "data": {
      "text/html": [
       "<table>\n",
       "<thead><tr><th></th><th scope=col>gear</th><th scope=col>am</th></tr></thead>\n",
       "<tbody>\n",
       "\t<tr><th scope=row>Mazda RX4</th><td>4</td><td>1</td></tr>\n",
       "\t<tr><th scope=row>Mazda RX4 Wag</th><td>4</td><td>1</td></tr>\n",
       "</tbody>\n",
       "</table>\n"
      ],
      "text/latex": [
       "\\begin{tabular}{r|ll}\n",
       "  & gear & am\\\\\n",
       "\\hline\n",
       "\tMazda RX4 & 4 & 1\\\\\n",
       "\tMazda RX4 Wag & 4 & 1\\\\\n",
       "\\end{tabular}\n"
      ],
      "text/markdown": [
       "\n",
       "| <!--/--> | gear | am | \n",
       "|---|---|\n",
       "| Mazda RX4 | 4 | 1 | \n",
       "| Mazda RX4 Wag | 4 | 1 | \n",
       "\n",
       "\n"
      ],
      "text/plain": [
       "              gear am\n",
       "Mazda RX4     4    1 \n",
       "Mazda RX4 Wag 4    1 "
      ]
     },
     "metadata": {},
     "output_type": "display_data"
    },
    {
     "data": {
      "text/html": [
       "<table>\n",
       "<thead><tr><th></th><th scope=col>gear</th><th scope=col>am</th></tr></thead>\n",
       "<tbody>\n",
       "\t<tr><th scope=row>Mazda RX4</th><td>0</td><td>0</td></tr>\n",
       "\t<tr><th scope=row>Mazda RX4 Wag</th><td>0</td><td>0</td></tr>\n",
       "</tbody>\n",
       "</table>\n"
      ],
      "text/latex": [
       "\\begin{tabular}{r|ll}\n",
       "  & gear & am\\\\\n",
       "\\hline\n",
       "\tMazda RX4 & 0 & 0\\\\\n",
       "\tMazda RX4 Wag & 0 & 0\\\\\n",
       "\\end{tabular}\n"
      ],
      "text/markdown": [
       "\n",
       "| <!--/--> | gear | am | \n",
       "|---|---|\n",
       "| Mazda RX4 | 0 | 0 | \n",
       "| Mazda RX4 Wag | 0 | 0 | \n",
       "\n",
       "\n"
      ],
      "text/plain": [
       "              gear am\n",
       "Mazda RX4     0    0 \n",
       "Mazda RX4 Wag 0    0 "
      ]
     },
     "metadata": {},
     "output_type": "display_data"
    }
   ],
   "source": [
    "###################################\n",
    "# Data frames: Indexación         #\n",
    "###################################\n",
    "\n",
    "# Indexando celdas\n",
    "df <- data.frame(mtcars)\n",
    "str(df)\n",
    "df[5, 2] # Obtiene una única celda\n",
    "df[1:5, 1:2] # Obtiene varias celdas\n",
    "df[1:2, c(\"gear\", \"am\")]\n",
    "df[1:2, c(\"gear\", \"am\")] <- 0 # Asignación de celdas\n",
    "df[1:2, c(\"gear\", \"am\")]"
   ]
  },
  {
   "cell_type": "code",
   "execution_count": 16,
   "metadata": {},
   "outputs": [
    {
     "data": {
      "text/html": [
       "<table>\n",
       "<thead><tr><th></th><th scope=col>mpg</th><th scope=col>cyl</th><th scope=col>disp</th><th scope=col>hp</th><th scope=col>drat</th><th scope=col>wt</th><th scope=col>qsec</th><th scope=col>vs</th><th scope=col>am</th><th scope=col>gear</th><th scope=col>carb</th></tr></thead>\n",
       "<tbody>\n",
       "\t<tr><th scope=row>Mazda RX4</th><td>21   </td><td>6    </td><td>160  </td><td>110  </td><td>3.9  </td><td>2.62 </td><td>16.46</td><td>0    </td><td>0    </td><td>0    </td><td>4    </td></tr>\n",
       "</tbody>\n",
       "</table>\n"
      ],
      "text/latex": [
       "\\begin{tabular}{r|lllllllllll}\n",
       "  & mpg & cyl & disp & hp & drat & wt & qsec & vs & am & gear & carb\\\\\n",
       "\\hline\n",
       "\tMazda RX4 & 21    & 6     & 160   & 110   & 3.9   & 2.62  & 16.46 & 0     & 0     & 0     & 4    \\\\\n",
       "\\end{tabular}\n"
      ],
      "text/markdown": [
       "\n",
       "| <!--/--> | mpg | cyl | disp | hp | drat | wt | qsec | vs | am | gear | carb | \n",
       "|---|\n",
       "| Mazda RX4 | 21    | 6     | 160   | 110   | 3.9   | 2.62  | 16.46 | 0     | 0     | 0     | 4     | \n",
       "\n",
       "\n"
      ],
      "text/plain": [
       "          mpg cyl disp hp  drat wt   qsec  vs am gear carb\n",
       "Mazda RX4 21  6   160  110 3.9  2.62 16.46 0  0  0    4   "
      ]
     },
     "metadata": {},
     "output_type": "display_data"
    },
    {
     "data": {
      "text/html": [
       "<table>\n",
       "<thead><tr><th></th><th scope=col>mpg</th><th scope=col>cyl</th><th scope=col>disp</th><th scope=col>hp</th><th scope=col>drat</th><th scope=col>wt</th><th scope=col>qsec</th><th scope=col>vs</th><th scope=col>am</th><th scope=col>gear</th><th scope=col>carb</th></tr></thead>\n",
       "<tbody>\n",
       "\t<tr><th scope=row>Mazda RX4</th><td>21.0 </td><td>6    </td><td>160.0</td><td>110  </td><td>3.90 </td><td>2.620</td><td>16.46</td><td>0    </td><td>0    </td><td>0    </td><td>4    </td></tr>\n",
       "\t<tr><th scope=row>Mazda RX4 Wag</th><td>21.0 </td><td>6    </td><td>160.0</td><td>110  </td><td>3.90 </td><td>2.875</td><td>17.02</td><td>0    </td><td>0    </td><td>0    </td><td>4    </td></tr>\n",
       "\t<tr><th scope=row>Datsun 710</th><td>22.8 </td><td>4    </td><td>108.0</td><td> 93  </td><td>3.85 </td><td>2.320</td><td>18.61</td><td>1    </td><td>1    </td><td>4    </td><td>1    </td></tr>\n",
       "\t<tr><th scope=row>Hornet 4 Drive</th><td>21.4 </td><td>6    </td><td>258.0</td><td>110  </td><td>3.08 </td><td>3.215</td><td>19.44</td><td>1    </td><td>0    </td><td>3    </td><td>1    </td></tr>\n",
       "\t<tr><th scope=row>Hornet Sportabout</th><td>18.7 </td><td>8    </td><td>360.0</td><td>175  </td><td>3.15 </td><td>3.440</td><td>17.02</td><td>0    </td><td>0    </td><td>3    </td><td>2    </td></tr>\n",
       "\t<tr><th scope=row>Valiant</th><td>18.1 </td><td>6    </td><td>225.0</td><td>105  </td><td>2.76 </td><td>3.460</td><td>20.22</td><td>1    </td><td>0    </td><td>3    </td><td>1    </td></tr>\n",
       "\t<tr><th scope=row>Duster 360</th><td>14.3 </td><td>8    </td><td>360.0</td><td>245  </td><td>3.21 </td><td>3.570</td><td>15.84</td><td>0    </td><td>0    </td><td>3    </td><td>4    </td></tr>\n",
       "\t<tr><th scope=row>Merc 240D</th><td>24.4 </td><td>4    </td><td>146.7</td><td> 62  </td><td>3.69 </td><td>3.190</td><td>20.00</td><td>1    </td><td>0    </td><td>4    </td><td>2    </td></tr>\n",
       "\t<tr><th scope=row>Merc 230</th><td>22.8 </td><td>4    </td><td>140.8</td><td> 95  </td><td>3.92 </td><td>3.150</td><td>22.90</td><td>1    </td><td>0    </td><td>4    </td><td>2    </td></tr>\n",
       "\t<tr><th scope=row>Merc 280</th><td>19.2 </td><td>6    </td><td>167.6</td><td>123  </td><td>3.92 </td><td>3.440</td><td>18.30</td><td>1    </td><td>0    </td><td>4    </td><td>4    </td></tr>\n",
       "\t<tr><th scope=row>Merc 280C</th><td>17.8 </td><td>6    </td><td>167.6</td><td>123  </td><td>3.92 </td><td>3.440</td><td>18.90</td><td>1    </td><td>0    </td><td>4    </td><td>4    </td></tr>\n",
       "\t<tr><th scope=row>Merc 450SE</th><td>16.4 </td><td>8    </td><td>275.8</td><td>180  </td><td>3.07 </td><td>4.070</td><td>17.40</td><td>0    </td><td>0    </td><td>3    </td><td>3    </td></tr>\n",
       "\t<tr><th scope=row>Merc 450SL</th><td>17.3 </td><td>8    </td><td>275.8</td><td>180  </td><td>3.07 </td><td>3.730</td><td>17.60</td><td>0    </td><td>0    </td><td>3    </td><td>3    </td></tr>\n",
       "\t<tr><th scope=row>Merc 450SLC</th><td>15.2 </td><td>8    </td><td>275.8</td><td>180  </td><td>3.07 </td><td>3.780</td><td>18.00</td><td>0    </td><td>0    </td><td>3    </td><td>3    </td></tr>\n",
       "\t<tr><th scope=row>Cadillac Fleetwood</th><td>10.4 </td><td>8    </td><td>472.0</td><td>205  </td><td>2.93 </td><td>5.250</td><td>17.98</td><td>0    </td><td>0    </td><td>3    </td><td>4    </td></tr>\n",
       "\t<tr><th scope=row>Lincoln Continental</th><td>10.4 </td><td>8    </td><td>460.0</td><td>215  </td><td>3.00 </td><td>5.424</td><td>17.82</td><td>0    </td><td>0    </td><td>3    </td><td>4    </td></tr>\n",
       "\t<tr><th scope=row>Chrysler Imperial</th><td>14.7 </td><td>8    </td><td>440.0</td><td>230  </td><td>3.23 </td><td>5.345</td><td>17.42</td><td>0    </td><td>0    </td><td>3    </td><td>4    </td></tr>\n",
       "\t<tr><th scope=row>Fiat 128</th><td>32.4 </td><td>4    </td><td> 78.7</td><td> 66  </td><td>4.08 </td><td>2.200</td><td>19.47</td><td>1    </td><td>1    </td><td>4    </td><td>1    </td></tr>\n",
       "\t<tr><th scope=row>Honda Civic</th><td>30.4 </td><td>4    </td><td> 75.7</td><td> 52  </td><td>4.93 </td><td>1.615</td><td>18.52</td><td>1    </td><td>1    </td><td>4    </td><td>2    </td></tr>\n",
       "\t<tr><th scope=row>Toyota Corolla</th><td>33.9 </td><td>4    </td><td> 71.1</td><td> 65  </td><td>4.22 </td><td>1.835</td><td>19.90</td><td>1    </td><td>1    </td><td>4    </td><td>1    </td></tr>\n",
       "\t<tr><th scope=row>Toyota Corona</th><td>21.5 </td><td>4    </td><td>120.1</td><td> 97  </td><td>3.70 </td><td>2.465</td><td>20.01</td><td>1    </td><td>0    </td><td>3    </td><td>1    </td></tr>\n",
       "\t<tr><th scope=row>Dodge Challenger</th><td>15.5 </td><td>8    </td><td>318.0</td><td>150  </td><td>2.76 </td><td>3.520</td><td>16.87</td><td>0    </td><td>0    </td><td>3    </td><td>2    </td></tr>\n",
       "\t<tr><th scope=row>AMC Javelin</th><td>15.2 </td><td>8    </td><td>304.0</td><td>150  </td><td>3.15 </td><td>3.435</td><td>17.30</td><td>0    </td><td>0    </td><td>3    </td><td>2    </td></tr>\n",
       "\t<tr><th scope=row>Camaro Z28</th><td>13.3 </td><td>8    </td><td>350.0</td><td>245  </td><td>3.73 </td><td>3.840</td><td>15.41</td><td>0    </td><td>0    </td><td>3    </td><td>4    </td></tr>\n",
       "\t<tr><th scope=row>Pontiac Firebird</th><td>19.2 </td><td>8    </td><td>400.0</td><td>175  </td><td>3.08 </td><td>3.845</td><td>17.05</td><td>0    </td><td>0    </td><td>3    </td><td>2    </td></tr>\n",
       "\t<tr><th scope=row>Fiat X1-9</th><td>27.3 </td><td>4    </td><td> 79.0</td><td> 66  </td><td>4.08 </td><td>1.935</td><td>18.90</td><td>1    </td><td>1    </td><td>4    </td><td>1    </td></tr>\n",
       "\t<tr><th scope=row>Porsche 914-2</th><td>26.0 </td><td>4    </td><td>120.3</td><td> 91  </td><td>4.43 </td><td>2.140</td><td>16.70</td><td>0    </td><td>1    </td><td>5    </td><td>2    </td></tr>\n",
       "\t<tr><th scope=row>Lotus Europa</th><td>30.4 </td><td>4    </td><td> 95.1</td><td>113  </td><td>3.77 </td><td>1.513</td><td>16.90</td><td>1    </td><td>1    </td><td>5    </td><td>2    </td></tr>\n",
       "\t<tr><th scope=row>Ford Pantera L</th><td>15.8 </td><td>8    </td><td>351.0</td><td>264  </td><td>4.22 </td><td>3.170</td><td>14.50</td><td>0    </td><td>1    </td><td>5    </td><td>4    </td></tr>\n",
       "\t<tr><th scope=row>Ferrari Dino</th><td>19.7 </td><td>6    </td><td>145.0</td><td>175  </td><td>3.62 </td><td>2.770</td><td>15.50</td><td>0    </td><td>1    </td><td>5    </td><td>6    </td></tr>\n",
       "\t<tr><th scope=row>Maserati Bora</th><td>15.0 </td><td>8    </td><td>301.0</td><td>335  </td><td>3.54 </td><td>3.570</td><td>14.60</td><td>0    </td><td>1    </td><td>5    </td><td>8    </td></tr>\n",
       "</tbody>\n",
       "</table>\n"
      ],
      "text/latex": [
       "\\begin{tabular}{r|lllllllllll}\n",
       "  & mpg & cyl & disp & hp & drat & wt & qsec & vs & am & gear & carb\\\\\n",
       "\\hline\n",
       "\tMazda RX4 & 21.0  & 6     & 160.0 & 110   & 3.90  & 2.620 & 16.46 & 0     & 0     & 0     & 4    \\\\\n",
       "\tMazda RX4 Wag & 21.0  & 6     & 160.0 & 110   & 3.90  & 2.875 & 17.02 & 0     & 0     & 0     & 4    \\\\\n",
       "\tDatsun 710 & 22.8  & 4     & 108.0 &  93   & 3.85  & 2.320 & 18.61 & 1     & 1     & 4     & 1    \\\\\n",
       "\tHornet 4 Drive & 21.4  & 6     & 258.0 & 110   & 3.08  & 3.215 & 19.44 & 1     & 0     & 3     & 1    \\\\\n",
       "\tHornet Sportabout & 18.7  & 8     & 360.0 & 175   & 3.15  & 3.440 & 17.02 & 0     & 0     & 3     & 2    \\\\\n",
       "\tValiant & 18.1  & 6     & 225.0 & 105   & 2.76  & 3.460 & 20.22 & 1     & 0     & 3     & 1    \\\\\n",
       "\tDuster 360 & 14.3  & 8     & 360.0 & 245   & 3.21  & 3.570 & 15.84 & 0     & 0     & 3     & 4    \\\\\n",
       "\tMerc 240D & 24.4  & 4     & 146.7 &  62   & 3.69  & 3.190 & 20.00 & 1     & 0     & 4     & 2    \\\\\n",
       "\tMerc 230 & 22.8  & 4     & 140.8 &  95   & 3.92  & 3.150 & 22.90 & 1     & 0     & 4     & 2    \\\\\n",
       "\tMerc 280 & 19.2  & 6     & 167.6 & 123   & 3.92  & 3.440 & 18.30 & 1     & 0     & 4     & 4    \\\\\n",
       "\tMerc 280C & 17.8  & 6     & 167.6 & 123   & 3.92  & 3.440 & 18.90 & 1     & 0     & 4     & 4    \\\\\n",
       "\tMerc 450SE & 16.4  & 8     & 275.8 & 180   & 3.07  & 4.070 & 17.40 & 0     & 0     & 3     & 3    \\\\\n",
       "\tMerc 450SL & 17.3  & 8     & 275.8 & 180   & 3.07  & 3.730 & 17.60 & 0     & 0     & 3     & 3    \\\\\n",
       "\tMerc 450SLC & 15.2  & 8     & 275.8 & 180   & 3.07  & 3.780 & 18.00 & 0     & 0     & 3     & 3    \\\\\n",
       "\tCadillac Fleetwood & 10.4  & 8     & 472.0 & 205   & 2.93  & 5.250 & 17.98 & 0     & 0     & 3     & 4    \\\\\n",
       "\tLincoln Continental & 10.4  & 8     & 460.0 & 215   & 3.00  & 5.424 & 17.82 & 0     & 0     & 3     & 4    \\\\\n",
       "\tChrysler Imperial & 14.7  & 8     & 440.0 & 230   & 3.23  & 5.345 & 17.42 & 0     & 0     & 3     & 4    \\\\\n",
       "\tFiat 128 & 32.4  & 4     &  78.7 &  66   & 4.08  & 2.200 & 19.47 & 1     & 1     & 4     & 1    \\\\\n",
       "\tHonda Civic & 30.4  & 4     &  75.7 &  52   & 4.93  & 1.615 & 18.52 & 1     & 1     & 4     & 2    \\\\\n",
       "\tToyota Corolla & 33.9  & 4     &  71.1 &  65   & 4.22  & 1.835 & 19.90 & 1     & 1     & 4     & 1    \\\\\n",
       "\tToyota Corona & 21.5  & 4     & 120.1 &  97   & 3.70  & 2.465 & 20.01 & 1     & 0     & 3     & 1    \\\\\n",
       "\tDodge Challenger & 15.5  & 8     & 318.0 & 150   & 2.76  & 3.520 & 16.87 & 0     & 0     & 3     & 2    \\\\\n",
       "\tAMC Javelin & 15.2  & 8     & 304.0 & 150   & 3.15  & 3.435 & 17.30 & 0     & 0     & 3     & 2    \\\\\n",
       "\tCamaro Z28 & 13.3  & 8     & 350.0 & 245   & 3.73  & 3.840 & 15.41 & 0     & 0     & 3     & 4    \\\\\n",
       "\tPontiac Firebird & 19.2  & 8     & 400.0 & 175   & 3.08  & 3.845 & 17.05 & 0     & 0     & 3     & 2    \\\\\n",
       "\tFiat X1-9 & 27.3  & 4     &  79.0 &  66   & 4.08  & 1.935 & 18.90 & 1     & 1     & 4     & 1    \\\\\n",
       "\tPorsche 914-2 & 26.0  & 4     & 120.3 &  91   & 4.43  & 2.140 & 16.70 & 0     & 1     & 5     & 2    \\\\\n",
       "\tLotus Europa & 30.4  & 4     &  95.1 & 113   & 3.77  & 1.513 & 16.90 & 1     & 1     & 5     & 2    \\\\\n",
       "\tFord Pantera L & 15.8  & 8     & 351.0 & 264   & 4.22  & 3.170 & 14.50 & 0     & 1     & 5     & 4    \\\\\n",
       "\tFerrari Dino & 19.7  & 6     & 145.0 & 175   & 3.62  & 2.770 & 15.50 & 0     & 1     & 5     & 6    \\\\\n",
       "\tMaserati Bora & 15.0  & 8     & 301.0 & 335   & 3.54  & 3.570 & 14.60 & 0     & 1     & 5     & 8    \\\\\n",
       "\\end{tabular}\n"
      ],
      "text/markdown": [
       "\n",
       "| <!--/--> | mpg | cyl | disp | hp | drat | wt | qsec | vs | am | gear | carb | \n",
       "|---|---|---|---|---|---|---|---|---|---|---|---|---|---|---|---|---|---|---|---|---|---|---|---|---|---|---|---|---|---|---|\n",
       "| Mazda RX4 | 21.0  | 6     | 160.0 | 110   | 3.90  | 2.620 | 16.46 | 0     | 0     | 0     | 4     | \n",
       "| Mazda RX4 Wag | 21.0  | 6     | 160.0 | 110   | 3.90  | 2.875 | 17.02 | 0     | 0     | 0     | 4     | \n",
       "| Datsun 710 | 22.8  | 4     | 108.0 |  93   | 3.85  | 2.320 | 18.61 | 1     | 1     | 4     | 1     | \n",
       "| Hornet 4 Drive | 21.4  | 6     | 258.0 | 110   | 3.08  | 3.215 | 19.44 | 1     | 0     | 3     | 1     | \n",
       "| Hornet Sportabout | 18.7  | 8     | 360.0 | 175   | 3.15  | 3.440 | 17.02 | 0     | 0     | 3     | 2     | \n",
       "| Valiant | 18.1  | 6     | 225.0 | 105   | 2.76  | 3.460 | 20.22 | 1     | 0     | 3     | 1     | \n",
       "| Duster 360 | 14.3  | 8     | 360.0 | 245   | 3.21  | 3.570 | 15.84 | 0     | 0     | 3     | 4     | \n",
       "| Merc 240D | 24.4  | 4     | 146.7 |  62   | 3.69  | 3.190 | 20.00 | 1     | 0     | 4     | 2     | \n",
       "| Merc 230 | 22.8  | 4     | 140.8 |  95   | 3.92  | 3.150 | 22.90 | 1     | 0     | 4     | 2     | \n",
       "| Merc 280 | 19.2  | 6     | 167.6 | 123   | 3.92  | 3.440 | 18.30 | 1     | 0     | 4     | 4     | \n",
       "| Merc 280C | 17.8  | 6     | 167.6 | 123   | 3.92  | 3.440 | 18.90 | 1     | 0     | 4     | 4     | \n",
       "| Merc 450SE | 16.4  | 8     | 275.8 | 180   | 3.07  | 4.070 | 17.40 | 0     | 0     | 3     | 3     | \n",
       "| Merc 450SL | 17.3  | 8     | 275.8 | 180   | 3.07  | 3.730 | 17.60 | 0     | 0     | 3     | 3     | \n",
       "| Merc 450SLC | 15.2  | 8     | 275.8 | 180   | 3.07  | 3.780 | 18.00 | 0     | 0     | 3     | 3     | \n",
       "| Cadillac Fleetwood | 10.4  | 8     | 472.0 | 205   | 2.93  | 5.250 | 17.98 | 0     | 0     | 3     | 4     | \n",
       "| Lincoln Continental | 10.4  | 8     | 460.0 | 215   | 3.00  | 5.424 | 17.82 | 0     | 0     | 3     | 4     | \n",
       "| Chrysler Imperial | 14.7  | 8     | 440.0 | 230   | 3.23  | 5.345 | 17.42 | 0     | 0     | 3     | 4     | \n",
       "| Fiat 128 | 32.4  | 4     |  78.7 |  66   | 4.08  | 2.200 | 19.47 | 1     | 1     | 4     | 1     | \n",
       "| Honda Civic | 30.4  | 4     |  75.7 |  52   | 4.93  | 1.615 | 18.52 | 1     | 1     | 4     | 2     | \n",
       "| Toyota Corolla | 33.9  | 4     |  71.1 |  65   | 4.22  | 1.835 | 19.90 | 1     | 1     | 4     | 1     | \n",
       "| Toyota Corona | 21.5  | 4     | 120.1 |  97   | 3.70  | 2.465 | 20.01 | 1     | 0     | 3     | 1     | \n",
       "| Dodge Challenger | 15.5  | 8     | 318.0 | 150   | 2.76  | 3.520 | 16.87 | 0     | 0     | 3     | 2     | \n",
       "| AMC Javelin | 15.2  | 8     | 304.0 | 150   | 3.15  | 3.435 | 17.30 | 0     | 0     | 3     | 2     | \n",
       "| Camaro Z28 | 13.3  | 8     | 350.0 | 245   | 3.73  | 3.840 | 15.41 | 0     | 0     | 3     | 4     | \n",
       "| Pontiac Firebird | 19.2  | 8     | 400.0 | 175   | 3.08  | 3.845 | 17.05 | 0     | 0     | 3     | 2     | \n",
       "| Fiat X1-9 | 27.3  | 4     |  79.0 |  66   | 4.08  | 1.935 | 18.90 | 1     | 1     | 4     | 1     | \n",
       "| Porsche 914-2 | 26.0  | 4     | 120.3 |  91   | 4.43  | 2.140 | 16.70 | 0     | 1     | 5     | 2     | \n",
       "| Lotus Europa | 30.4  | 4     |  95.1 | 113   | 3.77  | 1.513 | 16.90 | 1     | 1     | 5     | 2     | \n",
       "| Ford Pantera L | 15.8  | 8     | 351.0 | 264   | 4.22  | 3.170 | 14.50 | 0     | 1     | 5     | 4     | \n",
       "| Ferrari Dino | 19.7  | 6     | 145.0 | 175   | 3.62  | 2.770 | 15.50 | 0     | 1     | 5     | 6     | \n",
       "| Maserati Bora | 15.0  | 8     | 301.0 | 335   | 3.54  | 3.570 | 14.60 | 0     | 1     | 5     | 8     | \n",
       "\n",
       "\n"
      ],
      "text/plain": [
       "                    mpg  cyl disp  hp  drat wt    qsec  vs am gear carb\n",
       "Mazda RX4           21.0 6   160.0 110 3.90 2.620 16.46 0  0  0    4   \n",
       "Mazda RX4 Wag       21.0 6   160.0 110 3.90 2.875 17.02 0  0  0    4   \n",
       "Datsun 710          22.8 4   108.0  93 3.85 2.320 18.61 1  1  4    1   \n",
       "Hornet 4 Drive      21.4 6   258.0 110 3.08 3.215 19.44 1  0  3    1   \n",
       "Hornet Sportabout   18.7 8   360.0 175 3.15 3.440 17.02 0  0  3    2   \n",
       "Valiant             18.1 6   225.0 105 2.76 3.460 20.22 1  0  3    1   \n",
       "Duster 360          14.3 8   360.0 245 3.21 3.570 15.84 0  0  3    4   \n",
       "Merc 240D           24.4 4   146.7  62 3.69 3.190 20.00 1  0  4    2   \n",
       "Merc 230            22.8 4   140.8  95 3.92 3.150 22.90 1  0  4    2   \n",
       "Merc 280            19.2 6   167.6 123 3.92 3.440 18.30 1  0  4    4   \n",
       "Merc 280C           17.8 6   167.6 123 3.92 3.440 18.90 1  0  4    4   \n",
       "Merc 450SE          16.4 8   275.8 180 3.07 4.070 17.40 0  0  3    3   \n",
       "Merc 450SL          17.3 8   275.8 180 3.07 3.730 17.60 0  0  3    3   \n",
       "Merc 450SLC         15.2 8   275.8 180 3.07 3.780 18.00 0  0  3    3   \n",
       "Cadillac Fleetwood  10.4 8   472.0 205 2.93 5.250 17.98 0  0  3    4   \n",
       "Lincoln Continental 10.4 8   460.0 215 3.00 5.424 17.82 0  0  3    4   \n",
       "Chrysler Imperial   14.7 8   440.0 230 3.23 5.345 17.42 0  0  3    4   \n",
       "Fiat 128            32.4 4    78.7  66 4.08 2.200 19.47 1  1  4    1   \n",
       "Honda Civic         30.4 4    75.7  52 4.93 1.615 18.52 1  1  4    2   \n",
       "Toyota Corolla      33.9 4    71.1  65 4.22 1.835 19.90 1  1  4    1   \n",
       "Toyota Corona       21.5 4   120.1  97 3.70 2.465 20.01 1  0  3    1   \n",
       "Dodge Challenger    15.5 8   318.0 150 2.76 3.520 16.87 0  0  3    2   \n",
       "AMC Javelin         15.2 8   304.0 150 3.15 3.435 17.30 0  0  3    2   \n",
       "Camaro Z28          13.3 8   350.0 245 3.73 3.840 15.41 0  0  3    4   \n",
       "Pontiac Firebird    19.2 8   400.0 175 3.08 3.845 17.05 0  0  3    2   \n",
       "Fiat X1-9           27.3 4    79.0  66 4.08 1.935 18.90 1  1  4    1   \n",
       "Porsche 914-2       26.0 4   120.3  91 4.43 2.140 16.70 0  1  5    2   \n",
       "Lotus Europa        30.4 4    95.1 113 3.77 1.513 16.90 1  1  5    2   \n",
       "Ford Pantera L      15.8 8   351.0 264 4.22 3.170 14.50 0  1  5    4   \n",
       "Ferrari Dino        19.7 6   145.0 175 3.62 2.770 15.50 0  1  5    6   \n",
       "Maserati Bora       15.0 8   301.0 335 3.54 3.570 14.60 0  1  5    8   "
      ]
     },
     "metadata": {},
     "output_type": "display_data"
    },
    {
     "data": {
      "text/html": [
       "<table>\n",
       "<thead><tr><th></th><th scope=col>mpg</th><th scope=col>cyl</th><th scope=col>disp</th><th scope=col>hp</th><th scope=col>drat</th><th scope=col>wt</th><th scope=col>qsec</th><th scope=col>vs</th><th scope=col>am</th><th scope=col>gear</th><th scope=col>carb</th></tr></thead>\n",
       "<tbody>\n",
       "\t<tr><th scope=row>Mazda RX4</th><td>21.0 </td><td>6    </td><td>160  </td><td>110  </td><td>3.90 </td><td>2.620</td><td>16.46</td><td>0    </td><td>0    </td><td>0    </td><td>4    </td></tr>\n",
       "\t<tr><th scope=row>Mazda RX4 Wag</th><td>21.0 </td><td>6    </td><td>160  </td><td>110  </td><td>3.90 </td><td>2.875</td><td>17.02</td><td>0    </td><td>0    </td><td>0    </td><td>4    </td></tr>\n",
       "\t<tr><th scope=row>Datsun 710</th><td>22.8 </td><td>4    </td><td>108  </td><td> 93  </td><td>3.85 </td><td>2.320</td><td>18.61</td><td>1    </td><td>1    </td><td>4    </td><td>1    </td></tr>\n",
       "\t<tr><th scope=row>Hornet 4 Drive</th><td>21.4 </td><td>6    </td><td>258  </td><td>110  </td><td>3.08 </td><td>3.215</td><td>19.44</td><td>1    </td><td>0    </td><td>3    </td><td>1    </td></tr>\n",
       "\t<tr><th scope=row>Hornet Sportabout</th><td>18.7 </td><td>8    </td><td>360  </td><td>175  </td><td>3.15 </td><td>3.440</td><td>17.02</td><td>0    </td><td>0    </td><td>3    </td><td>2    </td></tr>\n",
       "</tbody>\n",
       "</table>\n"
      ],
      "text/latex": [
       "\\begin{tabular}{r|lllllllllll}\n",
       "  & mpg & cyl & disp & hp & drat & wt & qsec & vs & am & gear & carb\\\\\n",
       "\\hline\n",
       "\tMazda RX4 & 21.0  & 6     & 160   & 110   & 3.90  & 2.620 & 16.46 & 0     & 0     & 0     & 4    \\\\\n",
       "\tMazda RX4 Wag & 21.0  & 6     & 160   & 110   & 3.90  & 2.875 & 17.02 & 0     & 0     & 0     & 4    \\\\\n",
       "\tDatsun 710 & 22.8  & 4     & 108   &  93   & 3.85  & 2.320 & 18.61 & 1     & 1     & 4     & 1    \\\\\n",
       "\tHornet 4 Drive & 21.4  & 6     & 258   & 110   & 3.08  & 3.215 & 19.44 & 1     & 0     & 3     & 1    \\\\\n",
       "\tHornet Sportabout & 18.7  & 8     & 360   & 175   & 3.15  & 3.440 & 17.02 & 0     & 0     & 3     & 2    \\\\\n",
       "\\end{tabular}\n"
      ],
      "text/markdown": [
       "\n",
       "| <!--/--> | mpg | cyl | disp | hp | drat | wt | qsec | vs | am | gear | carb | \n",
       "|---|---|---|---|---|\n",
       "| Mazda RX4 | 21.0  | 6     | 160   | 110   | 3.90  | 2.620 | 16.46 | 0     | 0     | 0     | 4     | \n",
       "| Mazda RX4 Wag | 21.0  | 6     | 160   | 110   | 3.90  | 2.875 | 17.02 | 0     | 0     | 0     | 4     | \n",
       "| Datsun 710 | 22.8  | 4     | 108   |  93   | 3.85  | 2.320 | 18.61 | 1     | 1     | 4     | 1     | \n",
       "| Hornet 4 Drive | 21.4  | 6     | 258   | 110   | 3.08  | 3.215 | 19.44 | 1     | 0     | 3     | 1     | \n",
       "| Hornet Sportabout | 18.7  | 8     | 360   | 175   | 3.15  | 3.440 | 17.02 | 0     | 0     | 3     | 2     | \n",
       "\n",
       "\n"
      ],
      "text/plain": [
       "                  mpg  cyl disp hp  drat wt    qsec  vs am gear carb\n",
       "Mazda RX4         21.0 6   160  110 3.90 2.620 16.46 0  0  0    4   \n",
       "Mazda RX4 Wag     21.0 6   160  110 3.90 2.875 17.02 0  0  0    4   \n",
       "Datsun 710        22.8 4   108   93 3.85 2.320 18.61 1  1  4    1   \n",
       "Hornet 4 Drive    21.4 6   258  110 3.08 3.215 19.44 1  0  3    1   \n",
       "Hornet Sportabout 18.7 8   360  175 3.15 3.440 17.02 0  0  3    2   "
      ]
     },
     "metadata": {},
     "output_type": "display_data"
    },
    {
     "data": {
      "text/html": [
       "<table>\n",
       "<thead><tr><th></th><th scope=col>mpg</th><th scope=col>cyl</th><th scope=col>disp</th><th scope=col>hp</th><th scope=col>drat</th><th scope=col>wt</th><th scope=col>qsec</th><th scope=col>vs</th><th scope=col>am</th><th scope=col>gear</th><th scope=col>carb</th></tr></thead>\n",
       "<tbody>\n",
       "\t<tr><th scope=row>Hornet Sportabout</th><td>18.7 </td><td>8    </td><td>360.0</td><td>175  </td><td>3.15 </td><td>3.440</td><td>17.02</td><td>0    </td><td>0    </td><td>3    </td><td>2    </td></tr>\n",
       "\t<tr><th scope=row>Merc 450SE</th><td>16.4 </td><td>8    </td><td>275.8</td><td>180  </td><td>3.07 </td><td>4.070</td><td>17.40</td><td>0    </td><td>0    </td><td>3    </td><td>3    </td></tr>\n",
       "\t<tr><th scope=row>Merc 450SL</th><td>17.3 </td><td>8    </td><td>275.8</td><td>180  </td><td>3.07 </td><td>3.730</td><td>17.60</td><td>0    </td><td>0    </td><td>3    </td><td>3    </td></tr>\n",
       "\t<tr><th scope=row>Merc 450SLC</th><td>15.2 </td><td>8    </td><td>275.8</td><td>180  </td><td>3.07 </td><td>3.780</td><td>18.00</td><td>0    </td><td>0    </td><td>3    </td><td>3    </td></tr>\n",
       "\t<tr><th scope=row>Pontiac Firebird</th><td>19.2 </td><td>8    </td><td>400.0</td><td>175  </td><td>3.08 </td><td>3.845</td><td>17.05</td><td>0    </td><td>0    </td><td>3    </td><td>2    </td></tr>\n",
       "\t<tr><th scope=row>Ferrari Dino</th><td>19.7 </td><td>6    </td><td>145.0</td><td>175  </td><td>3.62 </td><td>2.770</td><td>15.50</td><td>0    </td><td>1    </td><td>5    </td><td>6    </td></tr>\n",
       "</tbody>\n",
       "</table>\n"
      ],
      "text/latex": [
       "\\begin{tabular}{r|lllllllllll}\n",
       "  & mpg & cyl & disp & hp & drat & wt & qsec & vs & am & gear & carb\\\\\n",
       "\\hline\n",
       "\tHornet Sportabout & 18.7  & 8     & 360.0 & 175   & 3.15  & 3.440 & 17.02 & 0     & 0     & 3     & 2    \\\\\n",
       "\tMerc 450SE & 16.4  & 8     & 275.8 & 180   & 3.07  & 4.070 & 17.40 & 0     & 0     & 3     & 3    \\\\\n",
       "\tMerc 450SL & 17.3  & 8     & 275.8 & 180   & 3.07  & 3.730 & 17.60 & 0     & 0     & 3     & 3    \\\\\n",
       "\tMerc 450SLC & 15.2  & 8     & 275.8 & 180   & 3.07  & 3.780 & 18.00 & 0     & 0     & 3     & 3    \\\\\n",
       "\tPontiac Firebird & 19.2  & 8     & 400.0 & 175   & 3.08  & 3.845 & 17.05 & 0     & 0     & 3     & 2    \\\\\n",
       "\tFerrari Dino & 19.7  & 6     & 145.0 & 175   & 3.62  & 2.770 & 15.50 & 0     & 1     & 5     & 6    \\\\\n",
       "\\end{tabular}\n"
      ],
      "text/markdown": [
       "\n",
       "| <!--/--> | mpg | cyl | disp | hp | drat | wt | qsec | vs | am | gear | carb | \n",
       "|---|---|---|---|---|---|\n",
       "| Hornet Sportabout | 18.7  | 8     | 360.0 | 175   | 3.15  | 3.440 | 17.02 | 0     | 0     | 3     | 2     | \n",
       "| Merc 450SE | 16.4  | 8     | 275.8 | 180   | 3.07  | 4.070 | 17.40 | 0     | 0     | 3     | 3     | \n",
       "| Merc 450SL | 17.3  | 8     | 275.8 | 180   | 3.07  | 3.730 | 17.60 | 0     | 0     | 3     | 3     | \n",
       "| Merc 450SLC | 15.2  | 8     | 275.8 | 180   | 3.07  | 3.780 | 18.00 | 0     | 0     | 3     | 3     | \n",
       "| Pontiac Firebird | 19.2  | 8     | 400.0 | 175   | 3.08  | 3.845 | 17.05 | 0     | 0     | 3     | 2     | \n",
       "| Ferrari Dino | 19.7  | 6     | 145.0 | 175   | 3.62  | 2.770 | 15.50 | 0     | 1     | 5     | 6     | \n",
       "\n",
       "\n"
      ],
      "text/plain": [
       "                  mpg  cyl disp  hp  drat wt    qsec  vs am gear carb\n",
       "Hornet Sportabout 18.7 8   360.0 175 3.15 3.440 17.02 0  0  3    2   \n",
       "Merc 450SE        16.4 8   275.8 180 3.07 4.070 17.40 0  0  3    3   \n",
       "Merc 450SL        17.3 8   275.8 180 3.07 3.730 17.60 0  0  3    3   \n",
       "Merc 450SLC       15.2 8   275.8 180 3.07 3.780 18.00 0  0  3    3   \n",
       "Pontiac Firebird  19.2 8   400.0 175 3.08 3.845 17.05 0  0  3    2   \n",
       "Ferrari Dino      19.7 6   145.0 175 3.62 2.770 15.50 0  1  5    6   "
      ]
     },
     "metadata": {},
     "output_type": "display_data"
    },
    {
     "data": {
      "text/html": [
       "<table>\n",
       "<thead><tr><th></th><th scope=col>mpg</th><th scope=col>cyl</th><th scope=col>disp</th><th scope=col>hp</th><th scope=col>drat</th><th scope=col>wt</th><th scope=col>qsec</th><th scope=col>vs</th><th scope=col>am</th><th scope=col>gear</th><th scope=col>carb</th></tr></thead>\n",
       "<tbody>\n",
       "\t<tr><th scope=row>Hornet Sportabout</th><td>18.7 </td><td>8    </td><td>360.0</td><td>175  </td><td>3.15 </td><td>3.440</td><td>17.02</td><td>0    </td><td>0    </td><td>3    </td><td>2    </td></tr>\n",
       "\t<tr><th scope=row>Merc 450SE</th><td>16.4 </td><td>8    </td><td>275.8</td><td>180  </td><td>3.07 </td><td>4.070</td><td>17.40</td><td>0    </td><td>0    </td><td>3    </td><td>3    </td></tr>\n",
       "\t<tr><th scope=row>Merc 450SL</th><td>17.3 </td><td>8    </td><td>275.8</td><td>180  </td><td>3.07 </td><td>3.730</td><td>17.60</td><td>0    </td><td>0    </td><td>3    </td><td>3    </td></tr>\n",
       "\t<tr><th scope=row>Merc 450SLC</th><td>15.2 </td><td>8    </td><td>275.8</td><td>180  </td><td>3.07 </td><td>3.780</td><td>18.00</td><td>0    </td><td>0    </td><td>3    </td><td>3    </td></tr>\n",
       "\t<tr><th scope=row>Pontiac Firebird</th><td>19.2 </td><td>8    </td><td>400.0</td><td>175  </td><td>3.08 </td><td>3.845</td><td>17.05</td><td>0    </td><td>0    </td><td>3    </td><td>2    </td></tr>\n",
       "\t<tr><th scope=row>Ferrari Dino</th><td>19.7 </td><td>6    </td><td>145.0</td><td>175  </td><td>3.62 </td><td>2.770</td><td>15.50</td><td>0    </td><td>1    </td><td>5    </td><td>6    </td></tr>\n",
       "</tbody>\n",
       "</table>\n"
      ],
      "text/latex": [
       "\\begin{tabular}{r|lllllllllll}\n",
       "  & mpg & cyl & disp & hp & drat & wt & qsec & vs & am & gear & carb\\\\\n",
       "\\hline\n",
       "\tHornet Sportabout & 18.7  & 8     & 360.0 & 175   & 3.15  & 3.440 & 17.02 & 0     & 0     & 3     & 2    \\\\\n",
       "\tMerc 450SE & 16.4  & 8     & 275.8 & 180   & 3.07  & 4.070 & 17.40 & 0     & 0     & 3     & 3    \\\\\n",
       "\tMerc 450SL & 17.3  & 8     & 275.8 & 180   & 3.07  & 3.730 & 17.60 & 0     & 0     & 3     & 3    \\\\\n",
       "\tMerc 450SLC & 15.2  & 8     & 275.8 & 180   & 3.07  & 3.780 & 18.00 & 0     & 0     & 3     & 3    \\\\\n",
       "\tPontiac Firebird & 19.2  & 8     & 400.0 & 175   & 3.08  & 3.845 & 17.05 & 0     & 0     & 3     & 2    \\\\\n",
       "\tFerrari Dino & 19.7  & 6     & 145.0 & 175   & 3.62  & 2.770 & 15.50 & 0     & 1     & 5     & 6    \\\\\n",
       "\\end{tabular}\n"
      ],
      "text/markdown": [
       "\n",
       "| <!--/--> | mpg | cyl | disp | hp | drat | wt | qsec | vs | am | gear | carb | \n",
       "|---|---|---|---|---|---|\n",
       "| Hornet Sportabout | 18.7  | 8     | 360.0 | 175   | 3.15  | 3.440 | 17.02 | 0     | 0     | 3     | 2     | \n",
       "| Merc 450SE | 16.4  | 8     | 275.8 | 180   | 3.07  | 4.070 | 17.40 | 0     | 0     | 3     | 3     | \n",
       "| Merc 450SL | 17.3  | 8     | 275.8 | 180   | 3.07  | 3.730 | 17.60 | 0     | 0     | 3     | 3     | \n",
       "| Merc 450SLC | 15.2  | 8     | 275.8 | 180   | 3.07  | 3.780 | 18.00 | 0     | 0     | 3     | 3     | \n",
       "| Pontiac Firebird | 19.2  | 8     | 400.0 | 175   | 3.08  | 3.845 | 17.05 | 0     | 0     | 3     | 2     | \n",
       "| Ferrari Dino | 19.7  | 6     | 145.0 | 175   | 3.62  | 2.770 | 15.50 | 0     | 1     | 5     | 6     | \n",
       "\n",
       "\n"
      ],
      "text/plain": [
       "                  mpg  cyl disp  hp  drat wt    qsec  vs am gear carb\n",
       "Hornet Sportabout 18.7 8   360.0 175 3.15 3.440 17.02 0  0  3    2   \n",
       "Merc 450SE        16.4 8   275.8 180 3.07 4.070 17.40 0  0  3    3   \n",
       "Merc 450SL        17.3 8   275.8 180 3.07 3.730 17.60 0  0  3    3   \n",
       "Merc 450SLC       15.2 8   275.8 180 3.07 3.780 18.00 0  0  3    3   \n",
       "Pontiac Firebird  19.2 8   400.0 175 3.08 3.845 17.05 0  0  3    2   \n",
       "Ferrari Dino      19.7 6   145.0 175 3.62 2.770 15.50 0  1  5    6   "
      ]
     },
     "metadata": {},
     "output_type": "display_data"
    }
   ],
   "source": [
    "# Indexando filas (siempre devuelve data frames)\n",
    "df[1, ]\n",
    "df[-nrow(df), ]\n",
    "df[1:5, ]\n",
    "df[(df$hp > 150 & df$hp < 200), ]\n",
    "subset(df, hp > 150 & hp < 200)\n",
    "\n",
    "vrow <- as.numeric(as.vector(df[1, ])) # Convertimos el resultados de la indexación en vector"
   ]
  },
  {
   "cell_type": "code",
   "execution_count": 17,
   "metadata": {},
   "outputs": [
    {
     "data": {
      "text/html": [
       "<ol class=list-inline>\n",
       "\t<li>110</li>\n",
       "\t<li>110</li>\n",
       "\t<li>93</li>\n",
       "\t<li>110</li>\n",
       "\t<li>175</li>\n",
       "\t<li>105</li>\n",
       "\t<li>245</li>\n",
       "\t<li>62</li>\n",
       "\t<li>95</li>\n",
       "\t<li>123</li>\n",
       "\t<li>123</li>\n",
       "\t<li>180</li>\n",
       "\t<li>180</li>\n",
       "\t<li>180</li>\n",
       "\t<li>205</li>\n",
       "\t<li>215</li>\n",
       "\t<li>230</li>\n",
       "\t<li>66</li>\n",
       "\t<li>52</li>\n",
       "\t<li>65</li>\n",
       "\t<li>97</li>\n",
       "\t<li>150</li>\n",
       "\t<li>150</li>\n",
       "\t<li>245</li>\n",
       "\t<li>175</li>\n",
       "\t<li>66</li>\n",
       "\t<li>91</li>\n",
       "\t<li>113</li>\n",
       "\t<li>264</li>\n",
       "\t<li>175</li>\n",
       "\t<li>335</li>\n",
       "\t<li>109</li>\n",
       "</ol>\n"
      ],
      "text/latex": [
       "\\begin{enumerate*}\n",
       "\\item 110\n",
       "\\item 110\n",
       "\\item 93\n",
       "\\item 110\n",
       "\\item 175\n",
       "\\item 105\n",
       "\\item 245\n",
       "\\item 62\n",
       "\\item 95\n",
       "\\item 123\n",
       "\\item 123\n",
       "\\item 180\n",
       "\\item 180\n",
       "\\item 180\n",
       "\\item 205\n",
       "\\item 215\n",
       "\\item 230\n",
       "\\item 66\n",
       "\\item 52\n",
       "\\item 65\n",
       "\\item 97\n",
       "\\item 150\n",
       "\\item 150\n",
       "\\item 245\n",
       "\\item 175\n",
       "\\item 66\n",
       "\\item 91\n",
       "\\item 113\n",
       "\\item 264\n",
       "\\item 175\n",
       "\\item 335\n",
       "\\item 109\n",
       "\\end{enumerate*}\n"
      ],
      "text/markdown": [
       "1. 110\n",
       "2. 110\n",
       "3. 93\n",
       "4. 110\n",
       "5. 175\n",
       "6. 105\n",
       "7. 245\n",
       "8. 62\n",
       "9. 95\n",
       "10. 123\n",
       "11. 123\n",
       "12. 180\n",
       "13. 180\n",
       "14. 180\n",
       "15. 205\n",
       "16. 215\n",
       "17. 230\n",
       "18. 66\n",
       "19. 52\n",
       "20. 65\n",
       "21. 97\n",
       "22. 150\n",
       "23. 150\n",
       "24. 245\n",
       "25. 175\n",
       "26. 66\n",
       "27. 91\n",
       "28. 113\n",
       "29. 264\n",
       "30. 175\n",
       "31. 335\n",
       "32. 109\n",
       "\n",
       "\n"
      ],
      "text/plain": [
       " [1] 110 110  93 110 175 105 245  62  95 123 123 180 180 180 205 215 230  66  52\n",
       "[20]  65  97 150 150 245 175  66  91 113 264 175 335 109"
      ]
     },
     "metadata": {},
     "output_type": "display_data"
    }
   ],
   "source": [
    "# Indexando columnas\n",
    "df$hp # Devuelve un vector"
   ]
  },
  {
   "cell_type": "code",
   "execution_count": 18,
   "metadata": {},
   "outputs": [
    {
     "data": {
      "text/html": [
       "<ol class=list-inline>\n",
       "\t<li>110</li>\n",
       "\t<li>110</li>\n",
       "\t<li>93</li>\n",
       "\t<li>110</li>\n",
       "\t<li>175</li>\n",
       "\t<li>105</li>\n",
       "\t<li>245</li>\n",
       "\t<li>62</li>\n",
       "\t<li>95</li>\n",
       "\t<li>123</li>\n",
       "\t<li>123</li>\n",
       "\t<li>180</li>\n",
       "\t<li>180</li>\n",
       "\t<li>180</li>\n",
       "\t<li>205</li>\n",
       "\t<li>215</li>\n",
       "\t<li>230</li>\n",
       "\t<li>66</li>\n",
       "\t<li>52</li>\n",
       "\t<li>65</li>\n",
       "\t<li>97</li>\n",
       "\t<li>150</li>\n",
       "\t<li>150</li>\n",
       "\t<li>245</li>\n",
       "\t<li>175</li>\n",
       "\t<li>66</li>\n",
       "\t<li>91</li>\n",
       "\t<li>113</li>\n",
       "\t<li>264</li>\n",
       "\t<li>175</li>\n",
       "\t<li>335</li>\n",
       "\t<li>109</li>\n",
       "</ol>\n"
      ],
      "text/latex": [
       "\\begin{enumerate*}\n",
       "\\item 110\n",
       "\\item 110\n",
       "\\item 93\n",
       "\\item 110\n",
       "\\item 175\n",
       "\\item 105\n",
       "\\item 245\n",
       "\\item 62\n",
       "\\item 95\n",
       "\\item 123\n",
       "\\item 123\n",
       "\\item 180\n",
       "\\item 180\n",
       "\\item 180\n",
       "\\item 205\n",
       "\\item 215\n",
       "\\item 230\n",
       "\\item 66\n",
       "\\item 52\n",
       "\\item 65\n",
       "\\item 97\n",
       "\\item 150\n",
       "\\item 150\n",
       "\\item 245\n",
       "\\item 175\n",
       "\\item 66\n",
       "\\item 91\n",
       "\\item 113\n",
       "\\item 264\n",
       "\\item 175\n",
       "\\item 335\n",
       "\\item 109\n",
       "\\end{enumerate*}\n"
      ],
      "text/markdown": [
       "1. 110\n",
       "2. 110\n",
       "3. 93\n",
       "4. 110\n",
       "5. 175\n",
       "6. 105\n",
       "7. 245\n",
       "8. 62\n",
       "9. 95\n",
       "10. 123\n",
       "11. 123\n",
       "12. 180\n",
       "13. 180\n",
       "14. 180\n",
       "15. 205\n",
       "16. 215\n",
       "17. 230\n",
       "18. 66\n",
       "19. 52\n",
       "20. 65\n",
       "21. 97\n",
       "22. 150\n",
       "23. 150\n",
       "24. 245\n",
       "25. 175\n",
       "26. 66\n",
       "27. 91\n",
       "28. 113\n",
       "29. 264\n",
       "30. 175\n",
       "31. 335\n",
       "32. 109\n",
       "\n",
       "\n"
      ],
      "text/plain": [
       " [1] 110 110  93 110 175 105 245  62  95 123 123 180 180 180 205 215 230  66  52\n",
       "[20]  65  97 150 150 245 175  66  91 113 264 175 335 109"
      ]
     },
     "metadata": {},
     "output_type": "display_data"
    }
   ],
   "source": [
    "df[, \"hp\"] # Devuelve un vector"
   ]
  },
  {
   "cell_type": "code",
   "execution_count": 19,
   "metadata": {},
   "outputs": [
    {
     "data": {
      "text/html": [
       "<ol class=list-inline>\n",
       "\t<li>110</li>\n",
       "\t<li>110</li>\n",
       "\t<li>93</li>\n",
       "\t<li>110</li>\n",
       "\t<li>175</li>\n",
       "\t<li>105</li>\n",
       "\t<li>245</li>\n",
       "\t<li>62</li>\n",
       "\t<li>95</li>\n",
       "\t<li>123</li>\n",
       "\t<li>123</li>\n",
       "\t<li>180</li>\n",
       "\t<li>180</li>\n",
       "\t<li>180</li>\n",
       "\t<li>205</li>\n",
       "\t<li>215</li>\n",
       "\t<li>230</li>\n",
       "\t<li>66</li>\n",
       "\t<li>52</li>\n",
       "\t<li>65</li>\n",
       "\t<li>97</li>\n",
       "\t<li>150</li>\n",
       "\t<li>150</li>\n",
       "\t<li>245</li>\n",
       "\t<li>175</li>\n",
       "\t<li>66</li>\n",
       "\t<li>91</li>\n",
       "\t<li>113</li>\n",
       "\t<li>264</li>\n",
       "\t<li>175</li>\n",
       "\t<li>335</li>\n",
       "\t<li>109</li>\n",
       "</ol>\n"
      ],
      "text/latex": [
       "\\begin{enumerate*}\n",
       "\\item 110\n",
       "\\item 110\n",
       "\\item 93\n",
       "\\item 110\n",
       "\\item 175\n",
       "\\item 105\n",
       "\\item 245\n",
       "\\item 62\n",
       "\\item 95\n",
       "\\item 123\n",
       "\\item 123\n",
       "\\item 180\n",
       "\\item 180\n",
       "\\item 180\n",
       "\\item 205\n",
       "\\item 215\n",
       "\\item 230\n",
       "\\item 66\n",
       "\\item 52\n",
       "\\item 65\n",
       "\\item 97\n",
       "\\item 150\n",
       "\\item 150\n",
       "\\item 245\n",
       "\\item 175\n",
       "\\item 66\n",
       "\\item 91\n",
       "\\item 113\n",
       "\\item 264\n",
       "\\item 175\n",
       "\\item 335\n",
       "\\item 109\n",
       "\\end{enumerate*}\n"
      ],
      "text/markdown": [
       "1. 110\n",
       "2. 110\n",
       "3. 93\n",
       "4. 110\n",
       "5. 175\n",
       "6. 105\n",
       "7. 245\n",
       "8. 62\n",
       "9. 95\n",
       "10. 123\n",
       "11. 123\n",
       "12. 180\n",
       "13. 180\n",
       "14. 180\n",
       "15. 205\n",
       "16. 215\n",
       "17. 230\n",
       "18. 66\n",
       "19. 52\n",
       "20. 65\n",
       "21. 97\n",
       "22. 150\n",
       "23. 150\n",
       "24. 245\n",
       "25. 175\n",
       "26. 66\n",
       "27. 91\n",
       "28. 113\n",
       "29. 264\n",
       "30. 175\n",
       "31. 335\n",
       "32. 109\n",
       "\n",
       "\n"
      ],
      "text/plain": [
       " [1] 110 110  93 110 175 105 245  62  95 123 123 180 180 180 205 215 230  66  52\n",
       "[20]  65  97 150 150 245 175  66  91 113 264 175 335 109"
      ]
     },
     "metadata": {},
     "output_type": "display_data"
    }
   ],
   "source": [
    "df[, 4] # Devuelve un vector"
   ]
  },
  {
   "cell_type": "code",
   "execution_count": 20,
   "metadata": {},
   "outputs": [
    {
     "data": {
      "text/html": [
       "<table>\n",
       "<thead><tr><th></th><th scope=col>hp</th></tr></thead>\n",
       "<tbody>\n",
       "\t<tr><th scope=row>Mazda RX4</th><td>110</td></tr>\n",
       "\t<tr><th scope=row>Mazda RX4 Wag</th><td>110</td></tr>\n",
       "\t<tr><th scope=row>Datsun 710</th><td> 93</td></tr>\n",
       "\t<tr><th scope=row>Hornet 4 Drive</th><td>110</td></tr>\n",
       "\t<tr><th scope=row>Hornet Sportabout</th><td>175</td></tr>\n",
       "\t<tr><th scope=row>Valiant</th><td>105</td></tr>\n",
       "\t<tr><th scope=row>Duster 360</th><td>245</td></tr>\n",
       "\t<tr><th scope=row>Merc 240D</th><td> 62</td></tr>\n",
       "\t<tr><th scope=row>Merc 230</th><td> 95</td></tr>\n",
       "\t<tr><th scope=row>Merc 280</th><td>123</td></tr>\n",
       "\t<tr><th scope=row>Merc 280C</th><td>123</td></tr>\n",
       "\t<tr><th scope=row>Merc 450SE</th><td>180</td></tr>\n",
       "\t<tr><th scope=row>Merc 450SL</th><td>180</td></tr>\n",
       "\t<tr><th scope=row>Merc 450SLC</th><td>180</td></tr>\n",
       "\t<tr><th scope=row>Cadillac Fleetwood</th><td>205</td></tr>\n",
       "\t<tr><th scope=row>Lincoln Continental</th><td>215</td></tr>\n",
       "\t<tr><th scope=row>Chrysler Imperial</th><td>230</td></tr>\n",
       "\t<tr><th scope=row>Fiat 128</th><td> 66</td></tr>\n",
       "\t<tr><th scope=row>Honda Civic</th><td> 52</td></tr>\n",
       "\t<tr><th scope=row>Toyota Corolla</th><td> 65</td></tr>\n",
       "\t<tr><th scope=row>Toyota Corona</th><td> 97</td></tr>\n",
       "\t<tr><th scope=row>Dodge Challenger</th><td>150</td></tr>\n",
       "\t<tr><th scope=row>AMC Javelin</th><td>150</td></tr>\n",
       "\t<tr><th scope=row>Camaro Z28</th><td>245</td></tr>\n",
       "\t<tr><th scope=row>Pontiac Firebird</th><td>175</td></tr>\n",
       "\t<tr><th scope=row>Fiat X1-9</th><td> 66</td></tr>\n",
       "\t<tr><th scope=row>Porsche 914-2</th><td> 91</td></tr>\n",
       "\t<tr><th scope=row>Lotus Europa</th><td>113</td></tr>\n",
       "\t<tr><th scope=row>Ford Pantera L</th><td>264</td></tr>\n",
       "\t<tr><th scope=row>Ferrari Dino</th><td>175</td></tr>\n",
       "\t<tr><th scope=row>Maserati Bora</th><td>335</td></tr>\n",
       "\t<tr><th scope=row>Volvo 142E</th><td>109</td></tr>\n",
       "</tbody>\n",
       "</table>\n"
      ],
      "text/latex": [
       "\\begin{tabular}{r|l}\n",
       "  & hp\\\\\n",
       "\\hline\n",
       "\tMazda RX4 & 110\\\\\n",
       "\tMazda RX4 Wag & 110\\\\\n",
       "\tDatsun 710 &  93\\\\\n",
       "\tHornet 4 Drive & 110\\\\\n",
       "\tHornet Sportabout & 175\\\\\n",
       "\tValiant & 105\\\\\n",
       "\tDuster 360 & 245\\\\\n",
       "\tMerc 240D &  62\\\\\n",
       "\tMerc 230 &  95\\\\\n",
       "\tMerc 280 & 123\\\\\n",
       "\tMerc 280C & 123\\\\\n",
       "\tMerc 450SE & 180\\\\\n",
       "\tMerc 450SL & 180\\\\\n",
       "\tMerc 450SLC & 180\\\\\n",
       "\tCadillac Fleetwood & 205\\\\\n",
       "\tLincoln Continental & 215\\\\\n",
       "\tChrysler Imperial & 230\\\\\n",
       "\tFiat 128 &  66\\\\\n",
       "\tHonda Civic &  52\\\\\n",
       "\tToyota Corolla &  65\\\\\n",
       "\tToyota Corona &  97\\\\\n",
       "\tDodge Challenger & 150\\\\\n",
       "\tAMC Javelin & 150\\\\\n",
       "\tCamaro Z28 & 245\\\\\n",
       "\tPontiac Firebird & 175\\\\\n",
       "\tFiat X1-9 &  66\\\\\n",
       "\tPorsche 914-2 &  91\\\\\n",
       "\tLotus Europa & 113\\\\\n",
       "\tFord Pantera L & 264\\\\\n",
       "\tFerrari Dino & 175\\\\\n",
       "\tMaserati Bora & 335\\\\\n",
       "\tVolvo 142E & 109\\\\\n",
       "\\end{tabular}\n"
      ],
      "text/markdown": [
       "\n",
       "| <!--/--> | hp | \n",
       "|---|---|---|---|---|---|---|---|---|---|---|---|---|---|---|---|---|---|---|---|---|---|---|---|---|---|---|---|---|---|---|---|\n",
       "| Mazda RX4 | 110 | \n",
       "| Mazda RX4 Wag | 110 | \n",
       "| Datsun 710 |  93 | \n",
       "| Hornet 4 Drive | 110 | \n",
       "| Hornet Sportabout | 175 | \n",
       "| Valiant | 105 | \n",
       "| Duster 360 | 245 | \n",
       "| Merc 240D |  62 | \n",
       "| Merc 230 |  95 | \n",
       "| Merc 280 | 123 | \n",
       "| Merc 280C | 123 | \n",
       "| Merc 450SE | 180 | \n",
       "| Merc 450SL | 180 | \n",
       "| Merc 450SLC | 180 | \n",
       "| Cadillac Fleetwood | 205 | \n",
       "| Lincoln Continental | 215 | \n",
       "| Chrysler Imperial | 230 | \n",
       "| Fiat 128 |  66 | \n",
       "| Honda Civic |  52 | \n",
       "| Toyota Corolla |  65 | \n",
       "| Toyota Corona |  97 | \n",
       "| Dodge Challenger | 150 | \n",
       "| AMC Javelin | 150 | \n",
       "| Camaro Z28 | 245 | \n",
       "| Pontiac Firebird | 175 | \n",
       "| Fiat X1-9 |  66 | \n",
       "| Porsche 914-2 |  91 | \n",
       "| Lotus Europa | 113 | \n",
       "| Ford Pantera L | 264 | \n",
       "| Ferrari Dino | 175 | \n",
       "| Maserati Bora | 335 | \n",
       "| Volvo 142E | 109 | \n",
       "\n",
       "\n"
      ],
      "text/plain": [
       "                    hp \n",
       "Mazda RX4           110\n",
       "Mazda RX4 Wag       110\n",
       "Datsun 710           93\n",
       "Hornet 4 Drive      110\n",
       "Hornet Sportabout   175\n",
       "Valiant             105\n",
       "Duster 360          245\n",
       "Merc 240D            62\n",
       "Merc 230             95\n",
       "Merc 280            123\n",
       "Merc 280C           123\n",
       "Merc 450SE          180\n",
       "Merc 450SL          180\n",
       "Merc 450SLC         180\n",
       "Cadillac Fleetwood  205\n",
       "Lincoln Continental 215\n",
       "Chrysler Imperial   230\n",
       "Fiat 128             66\n",
       "Honda Civic          52\n",
       "Toyota Corolla       65\n",
       "Toyota Corona        97\n",
       "Dodge Challenger    150\n",
       "AMC Javelin         150\n",
       "Camaro Z28          245\n",
       "Pontiac Firebird    175\n",
       "Fiat X1-9            66\n",
       "Porsche 914-2        91\n",
       "Lotus Europa        113\n",
       "Ford Pantera L      264\n",
       "Ferrari Dino        175\n",
       "Maserati Bora       335\n",
       "Volvo 142E          109"
      ]
     },
     "metadata": {},
     "output_type": "display_data"
    }
   ],
   "source": [
    "df[\"hp\"] # Devuelve un data frame con una columna"
   ]
  },
  {
   "cell_type": "code",
   "execution_count": 21,
   "metadata": {},
   "outputs": [
    {
     "data": {
      "text/html": [
       "<table>\n",
       "<thead><tr><th></th><th scope=col>hp</th></tr></thead>\n",
       "<tbody>\n",
       "\t<tr><th scope=row>Mazda RX4</th><td>110</td></tr>\n",
       "\t<tr><th scope=row>Mazda RX4 Wag</th><td>110</td></tr>\n",
       "\t<tr><th scope=row>Datsun 710</th><td> 93</td></tr>\n",
       "\t<tr><th scope=row>Hornet 4 Drive</th><td>110</td></tr>\n",
       "\t<tr><th scope=row>Hornet Sportabout</th><td>175</td></tr>\n",
       "\t<tr><th scope=row>Valiant</th><td>105</td></tr>\n",
       "\t<tr><th scope=row>Duster 360</th><td>245</td></tr>\n",
       "\t<tr><th scope=row>Merc 240D</th><td> 62</td></tr>\n",
       "\t<tr><th scope=row>Merc 230</th><td> 95</td></tr>\n",
       "\t<tr><th scope=row>Merc 280</th><td>123</td></tr>\n",
       "\t<tr><th scope=row>Merc 280C</th><td>123</td></tr>\n",
       "\t<tr><th scope=row>Merc 450SE</th><td>180</td></tr>\n",
       "\t<tr><th scope=row>Merc 450SL</th><td>180</td></tr>\n",
       "\t<tr><th scope=row>Merc 450SLC</th><td>180</td></tr>\n",
       "\t<tr><th scope=row>Cadillac Fleetwood</th><td>205</td></tr>\n",
       "\t<tr><th scope=row>Lincoln Continental</th><td>215</td></tr>\n",
       "\t<tr><th scope=row>Chrysler Imperial</th><td>230</td></tr>\n",
       "\t<tr><th scope=row>Fiat 128</th><td> 66</td></tr>\n",
       "\t<tr><th scope=row>Honda Civic</th><td> 52</td></tr>\n",
       "\t<tr><th scope=row>Toyota Corolla</th><td> 65</td></tr>\n",
       "\t<tr><th scope=row>Toyota Corona</th><td> 97</td></tr>\n",
       "\t<tr><th scope=row>Dodge Challenger</th><td>150</td></tr>\n",
       "\t<tr><th scope=row>AMC Javelin</th><td>150</td></tr>\n",
       "\t<tr><th scope=row>Camaro Z28</th><td>245</td></tr>\n",
       "\t<tr><th scope=row>Pontiac Firebird</th><td>175</td></tr>\n",
       "\t<tr><th scope=row>Fiat X1-9</th><td> 66</td></tr>\n",
       "\t<tr><th scope=row>Porsche 914-2</th><td> 91</td></tr>\n",
       "\t<tr><th scope=row>Lotus Europa</th><td>113</td></tr>\n",
       "\t<tr><th scope=row>Ford Pantera L</th><td>264</td></tr>\n",
       "\t<tr><th scope=row>Ferrari Dino</th><td>175</td></tr>\n",
       "\t<tr><th scope=row>Maserati Bora</th><td>335</td></tr>\n",
       "\t<tr><th scope=row>Volvo 142E</th><td>109</td></tr>\n",
       "</tbody>\n",
       "</table>\n"
      ],
      "text/latex": [
       "\\begin{tabular}{r|l}\n",
       "  & hp\\\\\n",
       "\\hline\n",
       "\tMazda RX4 & 110\\\\\n",
       "\tMazda RX4 Wag & 110\\\\\n",
       "\tDatsun 710 &  93\\\\\n",
       "\tHornet 4 Drive & 110\\\\\n",
       "\tHornet Sportabout & 175\\\\\n",
       "\tValiant & 105\\\\\n",
       "\tDuster 360 & 245\\\\\n",
       "\tMerc 240D &  62\\\\\n",
       "\tMerc 230 &  95\\\\\n",
       "\tMerc 280 & 123\\\\\n",
       "\tMerc 280C & 123\\\\\n",
       "\tMerc 450SE & 180\\\\\n",
       "\tMerc 450SL & 180\\\\\n",
       "\tMerc 450SLC & 180\\\\\n",
       "\tCadillac Fleetwood & 205\\\\\n",
       "\tLincoln Continental & 215\\\\\n",
       "\tChrysler Imperial & 230\\\\\n",
       "\tFiat 128 &  66\\\\\n",
       "\tHonda Civic &  52\\\\\n",
       "\tToyota Corolla &  65\\\\\n",
       "\tToyota Corona &  97\\\\\n",
       "\tDodge Challenger & 150\\\\\n",
       "\tAMC Javelin & 150\\\\\n",
       "\tCamaro Z28 & 245\\\\\n",
       "\tPontiac Firebird & 175\\\\\n",
       "\tFiat X1-9 &  66\\\\\n",
       "\tPorsche 914-2 &  91\\\\\n",
       "\tLotus Europa & 113\\\\\n",
       "\tFord Pantera L & 264\\\\\n",
       "\tFerrari Dino & 175\\\\\n",
       "\tMaserati Bora & 335\\\\\n",
       "\tVolvo 142E & 109\\\\\n",
       "\\end{tabular}\n"
      ],
      "text/markdown": [
       "\n",
       "| <!--/--> | hp | \n",
       "|---|---|---|---|---|---|---|---|---|---|---|---|---|---|---|---|---|---|---|---|---|---|---|---|---|---|---|---|---|---|---|---|\n",
       "| Mazda RX4 | 110 | \n",
       "| Mazda RX4 Wag | 110 | \n",
       "| Datsun 710 |  93 | \n",
       "| Hornet 4 Drive | 110 | \n",
       "| Hornet Sportabout | 175 | \n",
       "| Valiant | 105 | \n",
       "| Duster 360 | 245 | \n",
       "| Merc 240D |  62 | \n",
       "| Merc 230 |  95 | \n",
       "| Merc 280 | 123 | \n",
       "| Merc 280C | 123 | \n",
       "| Merc 450SE | 180 | \n",
       "| Merc 450SL | 180 | \n",
       "| Merc 450SLC | 180 | \n",
       "| Cadillac Fleetwood | 205 | \n",
       "| Lincoln Continental | 215 | \n",
       "| Chrysler Imperial | 230 | \n",
       "| Fiat 128 |  66 | \n",
       "| Honda Civic |  52 | \n",
       "| Toyota Corolla |  65 | \n",
       "| Toyota Corona |  97 | \n",
       "| Dodge Challenger | 150 | \n",
       "| AMC Javelin | 150 | \n",
       "| Camaro Z28 | 245 | \n",
       "| Pontiac Firebird | 175 | \n",
       "| Fiat X1-9 |  66 | \n",
       "| Porsche 914-2 |  91 | \n",
       "| Lotus Europa | 113 | \n",
       "| Ford Pantera L | 264 | \n",
       "| Ferrari Dino | 175 | \n",
       "| Maserati Bora | 335 | \n",
       "| Volvo 142E | 109 | \n",
       "\n",
       "\n"
      ],
      "text/plain": [
       "                    hp \n",
       "Mazda RX4           110\n",
       "Mazda RX4 Wag       110\n",
       "Datsun 710           93\n",
       "Hornet 4 Drive      110\n",
       "Hornet Sportabout   175\n",
       "Valiant             105\n",
       "Duster 360          245\n",
       "Merc 240D            62\n",
       "Merc 230             95\n",
       "Merc 280            123\n",
       "Merc 280C           123\n",
       "Merc 450SE          180\n",
       "Merc 450SL          180\n",
       "Merc 450SLC         180\n",
       "Cadillac Fleetwood  205\n",
       "Lincoln Continental 215\n",
       "Chrysler Imperial   230\n",
       "Fiat 128             66\n",
       "Honda Civic          52\n",
       "Toyota Corolla       65\n",
       "Toyota Corona        97\n",
       "Dodge Challenger    150\n",
       "AMC Javelin         150\n",
       "Camaro Z28          245\n",
       "Pontiac Firebird    175\n",
       "Fiat X1-9            66\n",
       "Porsche 914-2        91\n",
       "Lotus Europa        113\n",
       "Ford Pantera L      264\n",
       "Ferrari Dino        175\n",
       "Maserati Bora       335\n",
       "Volvo 142E          109"
      ]
     },
     "metadata": {},
     "output_type": "display_data"
    }
   ],
   "source": [
    "df[4] # Devuelve un data frame con una columna"
   ]
  },
  {
   "cell_type": "code",
   "execution_count": 22,
   "metadata": {},
   "outputs": [
    {
     "data": {
      "text/html": [
       "<ol class=list-inline>\n",
       "\t<li>110</li>\n",
       "\t<li>110</li>\n",
       "\t<li>93</li>\n",
       "\t<li>110</li>\n",
       "\t<li>175</li>\n",
       "\t<li>105</li>\n",
       "\t<li>245</li>\n",
       "\t<li>62</li>\n",
       "\t<li>95</li>\n",
       "\t<li>123</li>\n",
       "\t<li>123</li>\n",
       "\t<li>180</li>\n",
       "\t<li>180</li>\n",
       "\t<li>180</li>\n",
       "\t<li>205</li>\n",
       "\t<li>215</li>\n",
       "\t<li>230</li>\n",
       "\t<li>66</li>\n",
       "\t<li>52</li>\n",
       "\t<li>65</li>\n",
       "\t<li>97</li>\n",
       "\t<li>150</li>\n",
       "\t<li>150</li>\n",
       "\t<li>245</li>\n",
       "\t<li>175</li>\n",
       "\t<li>66</li>\n",
       "\t<li>91</li>\n",
       "\t<li>113</li>\n",
       "\t<li>264</li>\n",
       "\t<li>175</li>\n",
       "\t<li>335</li>\n",
       "\t<li>109</li>\n",
       "</ol>\n"
      ],
      "text/latex": [
       "\\begin{enumerate*}\n",
       "\\item 110\n",
       "\\item 110\n",
       "\\item 93\n",
       "\\item 110\n",
       "\\item 175\n",
       "\\item 105\n",
       "\\item 245\n",
       "\\item 62\n",
       "\\item 95\n",
       "\\item 123\n",
       "\\item 123\n",
       "\\item 180\n",
       "\\item 180\n",
       "\\item 180\n",
       "\\item 205\n",
       "\\item 215\n",
       "\\item 230\n",
       "\\item 66\n",
       "\\item 52\n",
       "\\item 65\n",
       "\\item 97\n",
       "\\item 150\n",
       "\\item 150\n",
       "\\item 245\n",
       "\\item 175\n",
       "\\item 66\n",
       "\\item 91\n",
       "\\item 113\n",
       "\\item 264\n",
       "\\item 175\n",
       "\\item 335\n",
       "\\item 109\n",
       "\\end{enumerate*}\n"
      ],
      "text/markdown": [
       "1. 110\n",
       "2. 110\n",
       "3. 93\n",
       "4. 110\n",
       "5. 175\n",
       "6. 105\n",
       "7. 245\n",
       "8. 62\n",
       "9. 95\n",
       "10. 123\n",
       "11. 123\n",
       "12. 180\n",
       "13. 180\n",
       "14. 180\n",
       "15. 205\n",
       "16. 215\n",
       "17. 230\n",
       "18. 66\n",
       "19. 52\n",
       "20. 65\n",
       "21. 97\n",
       "22. 150\n",
       "23. 150\n",
       "24. 245\n",
       "25. 175\n",
       "26. 66\n",
       "27. 91\n",
       "28. 113\n",
       "29. 264\n",
       "30. 175\n",
       "31. 335\n",
       "32. 109\n",
       "\n",
       "\n"
      ],
      "text/plain": [
       " [1] 110 110  93 110 175 105 245  62  95 123 123 180 180 180 205 215 230  66  52\n",
       "[20]  65  97 150 150 245 175  66  91 113 264 175 335 109"
      ]
     },
     "metadata": {},
     "output_type": "display_data"
    }
   ],
   "source": [
    "df[[\"hp\"]] # Devuelve un vector_"
   ]
  },
  {
   "cell_type": "code",
   "execution_count": 23,
   "metadata": {},
   "outputs": [
    {
     "data": {
      "text/html": [
       "<table>\n",
       "<thead><tr><th></th><th scope=col>hp</th><th scope=col>wt</th></tr></thead>\n",
       "<tbody>\n",
       "\t<tr><th scope=row>Mazda RX4</th><td>110  </td><td>2.620</td></tr>\n",
       "\t<tr><th scope=row>Mazda RX4 Wag</th><td>110  </td><td>2.875</td></tr>\n",
       "\t<tr><th scope=row>Datsun 710</th><td> 93  </td><td>2.320</td></tr>\n",
       "\t<tr><th scope=row>Hornet 4 Drive</th><td>110  </td><td>3.215</td></tr>\n",
       "\t<tr><th scope=row>Hornet Sportabout</th><td>175  </td><td>3.440</td></tr>\n",
       "\t<tr><th scope=row>Valiant</th><td>105  </td><td>3.460</td></tr>\n",
       "\t<tr><th scope=row>Duster 360</th><td>245  </td><td>3.570</td></tr>\n",
       "\t<tr><th scope=row>Merc 240D</th><td> 62  </td><td>3.190</td></tr>\n",
       "\t<tr><th scope=row>Merc 230</th><td> 95  </td><td>3.150</td></tr>\n",
       "\t<tr><th scope=row>Merc 280</th><td>123  </td><td>3.440</td></tr>\n",
       "\t<tr><th scope=row>Merc 280C</th><td>123  </td><td>3.440</td></tr>\n",
       "\t<tr><th scope=row>Merc 450SE</th><td>180  </td><td>4.070</td></tr>\n",
       "\t<tr><th scope=row>Merc 450SL</th><td>180  </td><td>3.730</td></tr>\n",
       "\t<tr><th scope=row>Merc 450SLC</th><td>180  </td><td>3.780</td></tr>\n",
       "\t<tr><th scope=row>Cadillac Fleetwood</th><td>205  </td><td>5.250</td></tr>\n",
       "\t<tr><th scope=row>Lincoln Continental</th><td>215  </td><td>5.424</td></tr>\n",
       "\t<tr><th scope=row>Chrysler Imperial</th><td>230  </td><td>5.345</td></tr>\n",
       "\t<tr><th scope=row>Fiat 128</th><td> 66  </td><td>2.200</td></tr>\n",
       "\t<tr><th scope=row>Honda Civic</th><td> 52  </td><td>1.615</td></tr>\n",
       "\t<tr><th scope=row>Toyota Corolla</th><td> 65  </td><td>1.835</td></tr>\n",
       "\t<tr><th scope=row>Toyota Corona</th><td> 97  </td><td>2.465</td></tr>\n",
       "\t<tr><th scope=row>Dodge Challenger</th><td>150  </td><td>3.520</td></tr>\n",
       "\t<tr><th scope=row>AMC Javelin</th><td>150  </td><td>3.435</td></tr>\n",
       "\t<tr><th scope=row>Camaro Z28</th><td>245  </td><td>3.840</td></tr>\n",
       "\t<tr><th scope=row>Pontiac Firebird</th><td>175  </td><td>3.845</td></tr>\n",
       "\t<tr><th scope=row>Fiat X1-9</th><td> 66  </td><td>1.935</td></tr>\n",
       "\t<tr><th scope=row>Porsche 914-2</th><td> 91  </td><td>2.140</td></tr>\n",
       "\t<tr><th scope=row>Lotus Europa</th><td>113  </td><td>1.513</td></tr>\n",
       "\t<tr><th scope=row>Ford Pantera L</th><td>264  </td><td>3.170</td></tr>\n",
       "\t<tr><th scope=row>Ferrari Dino</th><td>175  </td><td>2.770</td></tr>\n",
       "\t<tr><th scope=row>Maserati Bora</th><td>335  </td><td>3.570</td></tr>\n",
       "\t<tr><th scope=row>Volvo 142E</th><td>109  </td><td>2.780</td></tr>\n",
       "</tbody>\n",
       "</table>\n"
      ],
      "text/latex": [
       "\\begin{tabular}{r|ll}\n",
       "  & hp & wt\\\\\n",
       "\\hline\n",
       "\tMazda RX4 & 110   & 2.620\\\\\n",
       "\tMazda RX4 Wag & 110   & 2.875\\\\\n",
       "\tDatsun 710 &  93   & 2.320\\\\\n",
       "\tHornet 4 Drive & 110   & 3.215\\\\\n",
       "\tHornet Sportabout & 175   & 3.440\\\\\n",
       "\tValiant & 105   & 3.460\\\\\n",
       "\tDuster 360 & 245   & 3.570\\\\\n",
       "\tMerc 240D &  62   & 3.190\\\\\n",
       "\tMerc 230 &  95   & 3.150\\\\\n",
       "\tMerc 280 & 123   & 3.440\\\\\n",
       "\tMerc 280C & 123   & 3.440\\\\\n",
       "\tMerc 450SE & 180   & 4.070\\\\\n",
       "\tMerc 450SL & 180   & 3.730\\\\\n",
       "\tMerc 450SLC & 180   & 3.780\\\\\n",
       "\tCadillac Fleetwood & 205   & 5.250\\\\\n",
       "\tLincoln Continental & 215   & 5.424\\\\\n",
       "\tChrysler Imperial & 230   & 5.345\\\\\n",
       "\tFiat 128 &  66   & 2.200\\\\\n",
       "\tHonda Civic &  52   & 1.615\\\\\n",
       "\tToyota Corolla &  65   & 1.835\\\\\n",
       "\tToyota Corona &  97   & 2.465\\\\\n",
       "\tDodge Challenger & 150   & 3.520\\\\\n",
       "\tAMC Javelin & 150   & 3.435\\\\\n",
       "\tCamaro Z28 & 245   & 3.840\\\\\n",
       "\tPontiac Firebird & 175   & 3.845\\\\\n",
       "\tFiat X1-9 &  66   & 1.935\\\\\n",
       "\tPorsche 914-2 &  91   & 2.140\\\\\n",
       "\tLotus Europa & 113   & 1.513\\\\\n",
       "\tFord Pantera L & 264   & 3.170\\\\\n",
       "\tFerrari Dino & 175   & 2.770\\\\\n",
       "\tMaserati Bora & 335   & 3.570\\\\\n",
       "\tVolvo 142E & 109   & 2.780\\\\\n",
       "\\end{tabular}\n"
      ],
      "text/markdown": [
       "\n",
       "| <!--/--> | hp | wt | \n",
       "|---|---|---|---|---|---|---|---|---|---|---|---|---|---|---|---|---|---|---|---|---|---|---|---|---|---|---|---|---|---|---|---|\n",
       "| Mazda RX4 | 110   | 2.620 | \n",
       "| Mazda RX4 Wag | 110   | 2.875 | \n",
       "| Datsun 710 |  93   | 2.320 | \n",
       "| Hornet 4 Drive | 110   | 3.215 | \n",
       "| Hornet Sportabout | 175   | 3.440 | \n",
       "| Valiant | 105   | 3.460 | \n",
       "| Duster 360 | 245   | 3.570 | \n",
       "| Merc 240D |  62   | 3.190 | \n",
       "| Merc 230 |  95   | 3.150 | \n",
       "| Merc 280 | 123   | 3.440 | \n",
       "| Merc 280C | 123   | 3.440 | \n",
       "| Merc 450SE | 180   | 4.070 | \n",
       "| Merc 450SL | 180   | 3.730 | \n",
       "| Merc 450SLC | 180   | 3.780 | \n",
       "| Cadillac Fleetwood | 205   | 5.250 | \n",
       "| Lincoln Continental | 215   | 5.424 | \n",
       "| Chrysler Imperial | 230   | 5.345 | \n",
       "| Fiat 128 |  66   | 2.200 | \n",
       "| Honda Civic |  52   | 1.615 | \n",
       "| Toyota Corolla |  65   | 1.835 | \n",
       "| Toyota Corona |  97   | 2.465 | \n",
       "| Dodge Challenger | 150   | 3.520 | \n",
       "| AMC Javelin | 150   | 3.435 | \n",
       "| Camaro Z28 | 245   | 3.840 | \n",
       "| Pontiac Firebird | 175   | 3.845 | \n",
       "| Fiat X1-9 |  66   | 1.935 | \n",
       "| Porsche 914-2 |  91   | 2.140 | \n",
       "| Lotus Europa | 113   | 1.513 | \n",
       "| Ford Pantera L | 264   | 3.170 | \n",
       "| Ferrari Dino | 175   | 2.770 | \n",
       "| Maserati Bora | 335   | 3.570 | \n",
       "| Volvo 142E | 109   | 2.780 | \n",
       "\n",
       "\n"
      ],
      "text/plain": [
       "                    hp  wt   \n",
       "Mazda RX4           110 2.620\n",
       "Mazda RX4 Wag       110 2.875\n",
       "Datsun 710           93 2.320\n",
       "Hornet 4 Drive      110 3.215\n",
       "Hornet Sportabout   175 3.440\n",
       "Valiant             105 3.460\n",
       "Duster 360          245 3.570\n",
       "Merc 240D            62 3.190\n",
       "Merc 230             95 3.150\n",
       "Merc 280            123 3.440\n",
       "Merc 280C           123 3.440\n",
       "Merc 450SE          180 4.070\n",
       "Merc 450SL          180 3.730\n",
       "Merc 450SLC         180 3.780\n",
       "Cadillac Fleetwood  205 5.250\n",
       "Lincoln Continental 215 5.424\n",
       "Chrysler Imperial   230 5.345\n",
       "Fiat 128             66 2.200\n",
       "Honda Civic          52 1.615\n",
       "Toyota Corolla       65 1.835\n",
       "Toyota Corona        97 2.465\n",
       "Dodge Challenger    150 3.520\n",
       "AMC Javelin         150 3.435\n",
       "Camaro Z28          245 3.840\n",
       "Pontiac Firebird    175 3.845\n",
       "Fiat X1-9            66 1.935\n",
       "Porsche 914-2        91 2.140\n",
       "Lotus Europa        113 1.513\n",
       "Ford Pantera L      264 3.170\n",
       "Ferrari Dino        175 2.770\n",
       "Maserati Bora       335 3.570\n",
       "Volvo 142E          109 2.780"
      ]
     },
     "metadata": {},
     "output_type": "display_data"
    }
   ],
   "source": [
    "df[ , c(4, 6)] # Devuelve un data frame"
   ]
  },
  {
   "cell_type": "code",
   "execution_count": 24,
   "metadata": {},
   "outputs": [
    {
     "data": {
      "text/html": [
       "<table>\n",
       "<thead><tr><th></th><th scope=col>hp</th><th scope=col>wt</th></tr></thead>\n",
       "<tbody>\n",
       "\t<tr><th scope=row>Mazda RX4</th><td>110  </td><td>2.620</td></tr>\n",
       "\t<tr><th scope=row>Mazda RX4 Wag</th><td>110  </td><td>2.875</td></tr>\n",
       "\t<tr><th scope=row>Datsun 710</th><td> 93  </td><td>2.320</td></tr>\n",
       "\t<tr><th scope=row>Hornet 4 Drive</th><td>110  </td><td>3.215</td></tr>\n",
       "\t<tr><th scope=row>Hornet Sportabout</th><td>175  </td><td>3.440</td></tr>\n",
       "\t<tr><th scope=row>Valiant</th><td>105  </td><td>3.460</td></tr>\n",
       "\t<tr><th scope=row>Duster 360</th><td>245  </td><td>3.570</td></tr>\n",
       "\t<tr><th scope=row>Merc 240D</th><td> 62  </td><td>3.190</td></tr>\n",
       "\t<tr><th scope=row>Merc 230</th><td> 95  </td><td>3.150</td></tr>\n",
       "\t<tr><th scope=row>Merc 280</th><td>123  </td><td>3.440</td></tr>\n",
       "\t<tr><th scope=row>Merc 280C</th><td>123  </td><td>3.440</td></tr>\n",
       "\t<tr><th scope=row>Merc 450SE</th><td>180  </td><td>4.070</td></tr>\n",
       "\t<tr><th scope=row>Merc 450SL</th><td>180  </td><td>3.730</td></tr>\n",
       "\t<tr><th scope=row>Merc 450SLC</th><td>180  </td><td>3.780</td></tr>\n",
       "\t<tr><th scope=row>Cadillac Fleetwood</th><td>205  </td><td>5.250</td></tr>\n",
       "\t<tr><th scope=row>Lincoln Continental</th><td>215  </td><td>5.424</td></tr>\n",
       "\t<tr><th scope=row>Chrysler Imperial</th><td>230  </td><td>5.345</td></tr>\n",
       "\t<tr><th scope=row>Fiat 128</th><td> 66  </td><td>2.200</td></tr>\n",
       "\t<tr><th scope=row>Honda Civic</th><td> 52  </td><td>1.615</td></tr>\n",
       "\t<tr><th scope=row>Toyota Corolla</th><td> 65  </td><td>1.835</td></tr>\n",
       "\t<tr><th scope=row>Toyota Corona</th><td> 97  </td><td>2.465</td></tr>\n",
       "\t<tr><th scope=row>Dodge Challenger</th><td>150  </td><td>3.520</td></tr>\n",
       "\t<tr><th scope=row>AMC Javelin</th><td>150  </td><td>3.435</td></tr>\n",
       "\t<tr><th scope=row>Camaro Z28</th><td>245  </td><td>3.840</td></tr>\n",
       "\t<tr><th scope=row>Pontiac Firebird</th><td>175  </td><td>3.845</td></tr>\n",
       "\t<tr><th scope=row>Fiat X1-9</th><td> 66  </td><td>1.935</td></tr>\n",
       "\t<tr><th scope=row>Porsche 914-2</th><td> 91  </td><td>2.140</td></tr>\n",
       "\t<tr><th scope=row>Lotus Europa</th><td>113  </td><td>1.513</td></tr>\n",
       "\t<tr><th scope=row>Ford Pantera L</th><td>264  </td><td>3.170</td></tr>\n",
       "\t<tr><th scope=row>Ferrari Dino</th><td>175  </td><td>2.770</td></tr>\n",
       "\t<tr><th scope=row>Maserati Bora</th><td>335  </td><td>3.570</td></tr>\n",
       "\t<tr><th scope=row>Volvo 142E</th><td>109  </td><td>2.780</td></tr>\n",
       "</tbody>\n",
       "</table>\n"
      ],
      "text/latex": [
       "\\begin{tabular}{r|ll}\n",
       "  & hp & wt\\\\\n",
       "\\hline\n",
       "\tMazda RX4 & 110   & 2.620\\\\\n",
       "\tMazda RX4 Wag & 110   & 2.875\\\\\n",
       "\tDatsun 710 &  93   & 2.320\\\\\n",
       "\tHornet 4 Drive & 110   & 3.215\\\\\n",
       "\tHornet Sportabout & 175   & 3.440\\\\\n",
       "\tValiant & 105   & 3.460\\\\\n",
       "\tDuster 360 & 245   & 3.570\\\\\n",
       "\tMerc 240D &  62   & 3.190\\\\\n",
       "\tMerc 230 &  95   & 3.150\\\\\n",
       "\tMerc 280 & 123   & 3.440\\\\\n",
       "\tMerc 280C & 123   & 3.440\\\\\n",
       "\tMerc 450SE & 180   & 4.070\\\\\n",
       "\tMerc 450SL & 180   & 3.730\\\\\n",
       "\tMerc 450SLC & 180   & 3.780\\\\\n",
       "\tCadillac Fleetwood & 205   & 5.250\\\\\n",
       "\tLincoln Continental & 215   & 5.424\\\\\n",
       "\tChrysler Imperial & 230   & 5.345\\\\\n",
       "\tFiat 128 &  66   & 2.200\\\\\n",
       "\tHonda Civic &  52   & 1.615\\\\\n",
       "\tToyota Corolla &  65   & 1.835\\\\\n",
       "\tToyota Corona &  97   & 2.465\\\\\n",
       "\tDodge Challenger & 150   & 3.520\\\\\n",
       "\tAMC Javelin & 150   & 3.435\\\\\n",
       "\tCamaro Z28 & 245   & 3.840\\\\\n",
       "\tPontiac Firebird & 175   & 3.845\\\\\n",
       "\tFiat X1-9 &  66   & 1.935\\\\\n",
       "\tPorsche 914-2 &  91   & 2.140\\\\\n",
       "\tLotus Europa & 113   & 1.513\\\\\n",
       "\tFord Pantera L & 264   & 3.170\\\\\n",
       "\tFerrari Dino & 175   & 2.770\\\\\n",
       "\tMaserati Bora & 335   & 3.570\\\\\n",
       "\tVolvo 142E & 109   & 2.780\\\\\n",
       "\\end{tabular}\n"
      ],
      "text/markdown": [
       "\n",
       "| <!--/--> | hp | wt | \n",
       "|---|---|---|---|---|---|---|---|---|---|---|---|---|---|---|---|---|---|---|---|---|---|---|---|---|---|---|---|---|---|---|---|\n",
       "| Mazda RX4 | 110   | 2.620 | \n",
       "| Mazda RX4 Wag | 110   | 2.875 | \n",
       "| Datsun 710 |  93   | 2.320 | \n",
       "| Hornet 4 Drive | 110   | 3.215 | \n",
       "| Hornet Sportabout | 175   | 3.440 | \n",
       "| Valiant | 105   | 3.460 | \n",
       "| Duster 360 | 245   | 3.570 | \n",
       "| Merc 240D |  62   | 3.190 | \n",
       "| Merc 230 |  95   | 3.150 | \n",
       "| Merc 280 | 123   | 3.440 | \n",
       "| Merc 280C | 123   | 3.440 | \n",
       "| Merc 450SE | 180   | 4.070 | \n",
       "| Merc 450SL | 180   | 3.730 | \n",
       "| Merc 450SLC | 180   | 3.780 | \n",
       "| Cadillac Fleetwood | 205   | 5.250 | \n",
       "| Lincoln Continental | 215   | 5.424 | \n",
       "| Chrysler Imperial | 230   | 5.345 | \n",
       "| Fiat 128 |  66   | 2.200 | \n",
       "| Honda Civic |  52   | 1.615 | \n",
       "| Toyota Corolla |  65   | 1.835 | \n",
       "| Toyota Corona |  97   | 2.465 | \n",
       "| Dodge Challenger | 150   | 3.520 | \n",
       "| AMC Javelin | 150   | 3.435 | \n",
       "| Camaro Z28 | 245   | 3.840 | \n",
       "| Pontiac Firebird | 175   | 3.845 | \n",
       "| Fiat X1-9 |  66   | 1.935 | \n",
       "| Porsche 914-2 |  91   | 2.140 | \n",
       "| Lotus Europa | 113   | 1.513 | \n",
       "| Ford Pantera L | 264   | 3.170 | \n",
       "| Ferrari Dino | 175   | 2.770 | \n",
       "| Maserati Bora | 335   | 3.570 | \n",
       "| Volvo 142E | 109   | 2.780 | \n",
       "\n",
       "\n"
      ],
      "text/plain": [
       "                    hp  wt   \n",
       "Mazda RX4           110 2.620\n",
       "Mazda RX4 Wag       110 2.875\n",
       "Datsun 710           93 2.320\n",
       "Hornet 4 Drive      110 3.215\n",
       "Hornet Sportabout   175 3.440\n",
       "Valiant             105 3.460\n",
       "Duster 360          245 3.570\n",
       "Merc 240D            62 3.190\n",
       "Merc 230             95 3.150\n",
       "Merc 280            123 3.440\n",
       "Merc 280C           123 3.440\n",
       "Merc 450SE          180 4.070\n",
       "Merc 450SL          180 3.730\n",
       "Merc 450SLC         180 3.780\n",
       "Cadillac Fleetwood  205 5.250\n",
       "Lincoln Continental 215 5.424\n",
       "Chrysler Imperial   230 5.345\n",
       "Fiat 128             66 2.200\n",
       "Honda Civic          52 1.615\n",
       "Toyota Corolla       65 1.835\n",
       "Toyota Corona        97 2.465\n",
       "Dodge Challenger    150 3.520\n",
       "AMC Javelin         150 3.435\n",
       "Camaro Z28          245 3.840\n",
       "Pontiac Firebird    175 3.845\n",
       "Fiat X1-9            66 1.935\n",
       "Porsche 914-2        91 2.140\n",
       "Lotus Europa        113 1.513\n",
       "Ford Pantera L      264 3.170\n",
       "Ferrari Dino        175 2.770\n",
       "Maserati Bora       335 3.570\n",
       "Volvo 142E          109 2.780"
      ]
     },
     "metadata": {},
     "output_type": "display_data"
    }
   ],
   "source": [
    "df[ , c(\"hp\", \"wt\")] # Devuelve un data frame"
   ]
  },
  {
   "cell_type": "code",
   "execution_count": null,
   "metadata": {},
   "outputs": [],
   "source": []
  },
  {
   "cell_type": "code",
   "execution_count": 25,
   "metadata": {},
   "outputs": [],
   "source": [
    "###################################\n",
    "# Data frames                     #\n",
    "###################################\n",
    "\n",
    "# Crea a partir de los vectores siguientes un data frame\n",
    "planets <- c(\"Mercury\", \"Venus\", \"Earth\", \"Mars\", \"Jupiter\", \"Saturn\", \"Uranus\", \"Neptune\");\n",
    "type <- c(\"Terrestrial planet\", \"Terrestrial planet\", \"Terrestrial planet\", \"Terrestrial planet\", \"Gas giant\", \"Gas giant\", \"Gas giant\", \"Gas giant\")\n",
    "diameter <- c(0.382, 0.949, 1, 0.532, 11.209, 9.449, 4.007, 3.883); \n",
    "rotation <- c(58.64, -243.02, 1, 1.03, 0.41, 0.43, -0.72, 0.67);\n",
    "rings <- c(FALSE, FALSE, FALSE, FALSE, TRUE, TRUE, TRUE, TRUE);"
   ]
  },
  {
   "cell_type": "code",
   "execution_count": 26,
   "metadata": {},
   "outputs": [],
   "source": [
    "planets_df  <- data.frame(planets = planets, type = type, diameter=diameter, rotation=rotation, rings=rings)"
   ]
  },
  {
   "cell_type": "code",
   "execution_count": 28,
   "metadata": {},
   "outputs": [
    {
     "data": {
      "text/html": [
       "<table>\n",
       "<thead><tr><th scope=col>planets</th><th scope=col>type</th><th scope=col>diameter</th><th scope=col>rotation</th><th scope=col>rings</th></tr></thead>\n",
       "<tbody>\n",
       "\t<tr><td>Mercury           </td><td>Terrestrial planet</td><td> 0.382            </td><td>  58.64           </td><td>FALSE             </td></tr>\n",
       "\t<tr><td>Venus             </td><td>Terrestrial planet</td><td> 0.949            </td><td>-243.02           </td><td>FALSE             </td></tr>\n",
       "\t<tr><td>Earth             </td><td>Terrestrial planet</td><td> 1.000            </td><td>   1.00           </td><td>FALSE             </td></tr>\n",
       "\t<tr><td>Mars              </td><td>Terrestrial planet</td><td> 0.532            </td><td>   1.03           </td><td>FALSE             </td></tr>\n",
       "\t<tr><td>Jupiter           </td><td>Gas giant         </td><td>11.209            </td><td>   0.41           </td><td> TRUE             </td></tr>\n",
       "\t<tr><td>Saturn            </td><td>Gas giant         </td><td> 9.449            </td><td>   0.43           </td><td> TRUE             </td></tr>\n",
       "\t<tr><td>Uranus            </td><td>Gas giant         </td><td> 4.007            </td><td>  -0.72           </td><td> TRUE             </td></tr>\n",
       "\t<tr><td>Neptune           </td><td>Gas giant         </td><td> 3.883            </td><td>   0.67           </td><td> TRUE             </td></tr>\n",
       "</tbody>\n",
       "</table>\n"
      ],
      "text/latex": [
       "\\begin{tabular}{r|lllll}\n",
       " planets & type & diameter & rotation & rings\\\\\n",
       "\\hline\n",
       "\t Mercury            & Terrestrial planet &  0.382             &   58.64            & FALSE             \\\\\n",
       "\t Venus              & Terrestrial planet &  0.949             & -243.02            & FALSE             \\\\\n",
       "\t Earth              & Terrestrial planet &  1.000             &    1.00            & FALSE             \\\\\n",
       "\t Mars               & Terrestrial planet &  0.532             &    1.03            & FALSE             \\\\\n",
       "\t Jupiter            & Gas giant          & 11.209             &    0.41            &  TRUE             \\\\\n",
       "\t Saturn             & Gas giant          &  9.449             &    0.43            &  TRUE             \\\\\n",
       "\t Uranus             & Gas giant          &  4.007             &   -0.72            &  TRUE             \\\\\n",
       "\t Neptune            & Gas giant          &  3.883             &    0.67            &  TRUE             \\\\\n",
       "\\end{tabular}\n"
      ],
      "text/markdown": [
       "\n",
       "planets | type | diameter | rotation | rings | \n",
       "|---|---|---|---|---|---|---|---|\n",
       "| Mercury            | Terrestrial planet |  0.382             |   58.64            | FALSE              | \n",
       "| Venus              | Terrestrial planet |  0.949             | -243.02            | FALSE              | \n",
       "| Earth              | Terrestrial planet |  1.000             |    1.00            | FALSE              | \n",
       "| Mars               | Terrestrial planet |  0.532             |    1.03            | FALSE              | \n",
       "| Jupiter            | Gas giant          | 11.209             |    0.41            |  TRUE              | \n",
       "| Saturn             | Gas giant          |  9.449             |    0.43            |  TRUE              | \n",
       "| Uranus             | Gas giant          |  4.007             |   -0.72            |  TRUE              | \n",
       "| Neptune            | Gas giant          |  3.883             |    0.67            |  TRUE              | \n",
       "\n",
       "\n"
      ],
      "text/plain": [
       "  planets type               diameter rotation rings\n",
       "1 Mercury Terrestrial planet  0.382     58.64  FALSE\n",
       "2 Venus   Terrestrial planet  0.949   -243.02  FALSE\n",
       "3 Earth   Terrestrial planet  1.000      1.00  FALSE\n",
       "4 Mars    Terrestrial planet  0.532      1.03  FALSE\n",
       "5 Jupiter Gas giant          11.209      0.41   TRUE\n",
       "6 Saturn  Gas giant           9.449      0.43   TRUE\n",
       "7 Uranus  Gas giant           4.007     -0.72   TRUE\n",
       "8 Neptune Gas giant           3.883      0.67   TRUE"
      ]
     },
     "metadata": {},
     "output_type": "display_data"
    }
   ],
   "source": [
    "# Comprueba el contenido del data frame\n",
    "planets_df"
   ]
  },
  {
   "cell_type": "code",
   "execution_count": 36,
   "metadata": {},
   "outputs": [
    {
     "data": {
      "text/html": [
       "<table>\n",
       "<thead><tr><th scope=col>planets</th><th scope=col>type</th><th scope=col>diameter</th><th scope=col>rotation</th><th scope=col>rings</th></tr></thead>\n",
       "<tbody>\n",
       "\t<tr><td>Mercury           </td><td>Terrestrial planet</td><td>0.382             </td><td>  58.64           </td><td>FALSE             </td></tr>\n",
       "\t<tr><td>Venus             </td><td>Terrestrial planet</td><td>0.949             </td><td>-243.02           </td><td>FALSE             </td></tr>\n",
       "\t<tr><td>Earth             </td><td>Terrestrial planet</td><td>1.000             </td><td>   1.00           </td><td>FALSE             </td></tr>\n",
       "</tbody>\n",
       "</table>\n"
      ],
      "text/latex": [
       "\\begin{tabular}{r|lllll}\n",
       " planets & type & diameter & rotation & rings\\\\\n",
       "\\hline\n",
       "\t Mercury            & Terrestrial planet & 0.382              &   58.64            & FALSE             \\\\\n",
       "\t Venus              & Terrestrial planet & 0.949              & -243.02            & FALSE             \\\\\n",
       "\t Earth              & Terrestrial planet & 1.000              &    1.00            & FALSE             \\\\\n",
       "\\end{tabular}\n"
      ],
      "text/markdown": [
       "\n",
       "planets | type | diameter | rotation | rings | \n",
       "|---|---|---|\n",
       "| Mercury            | Terrestrial planet | 0.382              |   58.64            | FALSE              | \n",
       "| Venus              | Terrestrial planet | 0.949              | -243.02            | FALSE              | \n",
       "| Earth              | Terrestrial planet | 1.000              |    1.00            | FALSE              | \n",
       "\n",
       "\n"
      ],
      "text/plain": [
       "  planets type               diameter rotation rings\n",
       "1 Mercury Terrestrial planet 0.382      58.64  FALSE\n",
       "2 Venus   Terrestrial planet 0.949    -243.02  FALSE\n",
       "3 Earth   Terrestrial planet 1.000       1.00  FALSE"
      ]
     },
     "metadata": {},
     "output_type": "display_data"
    }
   ],
   "source": [
    "# Selecciona la información de los primeros tres planetas (los más cercanos al sol)\n",
    "closest_planets_df <- head(planets_df, 3)\n",
    "closest_planets_df"
   ]
  },
  {
   "cell_type": "code",
   "execution_count": 38,
   "metadata": {},
   "outputs": [
    {
     "data": {
      "text/html": [
       "<table>\n",
       "<thead><tr><th></th><th scope=col>planets</th><th scope=col>type</th><th scope=col>diameter</th><th scope=col>rotation</th><th scope=col>rings</th></tr></thead>\n",
       "<tbody>\n",
       "\t<tr><th scope=row>6</th><td>Saturn   </td><td>Gas giant</td><td>9.449    </td><td> 0.43    </td><td>TRUE     </td></tr>\n",
       "\t<tr><th scope=row>7</th><td>Uranus   </td><td>Gas giant</td><td>4.007    </td><td>-0.72    </td><td>TRUE     </td></tr>\n",
       "\t<tr><th scope=row>8</th><td>Neptune  </td><td>Gas giant</td><td>3.883    </td><td> 0.67    </td><td>TRUE     </td></tr>\n",
       "</tbody>\n",
       "</table>\n"
      ],
      "text/latex": [
       "\\begin{tabular}{r|lllll}\n",
       "  & planets & type & diameter & rotation & rings\\\\\n",
       "\\hline\n",
       "\t6 & Saturn    & Gas giant & 9.449     &  0.43     & TRUE     \\\\\n",
       "\t7 & Uranus    & Gas giant & 4.007     & -0.72     & TRUE     \\\\\n",
       "\t8 & Neptune   & Gas giant & 3.883     &  0.67     & TRUE     \\\\\n",
       "\\end{tabular}\n"
      ],
      "text/markdown": [
       "\n",
       "| <!--/--> | planets | type | diameter | rotation | rings | \n",
       "|---|---|---|\n",
       "| 6 | Saturn    | Gas giant | 9.449     |  0.43     | TRUE      | \n",
       "| 7 | Uranus    | Gas giant | 4.007     | -0.72     | TRUE      | \n",
       "| 8 | Neptune   | Gas giant | 3.883     |  0.67     | TRUE      | \n",
       "\n",
       "\n"
      ],
      "text/plain": [
       "  planets type      diameter rotation rings\n",
       "6 Saturn  Gas giant 9.449     0.43    TRUE \n",
       "7 Uranus  Gas giant 4.007    -0.72    TRUE \n",
       "8 Neptune Gas giant 3.883     0.67    TRUE "
      ]
     },
     "metadata": {},
     "output_type": "display_data"
    }
   ],
   "source": [
    "# Selecciona la información de los últimos tres planetas (los más lejanos al sol)\n",
    "furthest_planets_df <- tail(planets_df, 3)\n",
    "furthest_planets_df"
   ]
  },
  {
   "cell_type": "code",
   "execution_count": 52,
   "metadata": {},
   "outputs": [
    {
     "data": {
      "text/html": [
       "<ol class=list-inline>\n",
       "\t<li>1</li>\n",
       "\t<li>0.532</li>\n",
       "\t<li>11.209</li>\n",
       "\t<li>9.449</li>\n",
       "\t<li>4.007</li>\n",
       "\t<li>3.883</li>\n",
       "</ol>\n"
      ],
      "text/latex": [
       "\\begin{enumerate*}\n",
       "\\item 1\n",
       "\\item 0.532\n",
       "\\item 11.209\n",
       "\\item 9.449\n",
       "\\item 4.007\n",
       "\\item 3.883\n",
       "\\end{enumerate*}\n"
      ],
      "text/markdown": [
       "1. 1\n",
       "2. 0.532\n",
       "3. 11.209\n",
       "4. 9.449\n",
       "5. 4.007\n",
       "6. 3.883\n",
       "\n",
       "\n"
      ],
      "text/plain": [
       "[1]  1.000  0.532 11.209  9.449  4.007  3.883"
      ]
     },
     "metadata": {},
     "output_type": "display_data"
    }
   ],
   "source": [
    "# Selecciona la columna diameter de los últimos seis planetas (los más lejanos al sol)\n",
    "furthest_planets_diameter <- tail(planets_df, 6)$diameter\n",
    "furthest_planets_diameter"
   ]
  },
  {
   "cell_type": "code",
   "execution_count": 55,
   "metadata": {},
   "outputs": [
    {
     "data": {
      "text/html": [
       "<table>\n",
       "<thead><tr><th></th><th scope=col>planets</th><th scope=col>type</th><th scope=col>diameter</th><th scope=col>rotation</th><th scope=col>rings</th></tr></thead>\n",
       "<tbody>\n",
       "\t<tr><th scope=row>5</th><td>Jupiter  </td><td>Gas giant</td><td>11.209   </td><td> 0.41    </td><td>TRUE     </td></tr>\n",
       "\t<tr><th scope=row>6</th><td>Saturn   </td><td>Gas giant</td><td> 9.449   </td><td> 0.43    </td><td>TRUE     </td></tr>\n",
       "\t<tr><th scope=row>7</th><td>Uranus   </td><td>Gas giant</td><td> 4.007   </td><td>-0.72    </td><td>TRUE     </td></tr>\n",
       "\t<tr><th scope=row>8</th><td>Neptune  </td><td>Gas giant</td><td> 3.883   </td><td> 0.67    </td><td>TRUE     </td></tr>\n",
       "</tbody>\n",
       "</table>\n"
      ],
      "text/latex": [
       "\\begin{tabular}{r|lllll}\n",
       "  & planets & type & diameter & rotation & rings\\\\\n",
       "\\hline\n",
       "\t5 & Jupiter   & Gas giant & 11.209    &  0.41     & TRUE     \\\\\n",
       "\t6 & Saturn    & Gas giant &  9.449    &  0.43     & TRUE     \\\\\n",
       "\t7 & Uranus    & Gas giant &  4.007    & -0.72     & TRUE     \\\\\n",
       "\t8 & Neptune   & Gas giant &  3.883    &  0.67     & TRUE     \\\\\n",
       "\\end{tabular}\n"
      ],
      "text/markdown": [
       "\n",
       "| <!--/--> | planets | type | diameter | rotation | rings | \n",
       "|---|---|---|---|\n",
       "| 5 | Jupiter   | Gas giant | 11.209    |  0.41     | TRUE      | \n",
       "| 6 | Saturn    | Gas giant |  9.449    |  0.43     | TRUE      | \n",
       "| 7 | Uranus    | Gas giant |  4.007    | -0.72     | TRUE      | \n",
       "| 8 | Neptune   | Gas giant |  3.883    |  0.67     | TRUE      | \n",
       "\n",
       "\n"
      ],
      "text/plain": [
       "  planets type      diameter rotation rings\n",
       "5 Jupiter Gas giant 11.209    0.41    TRUE \n",
       "6 Saturn  Gas giant  9.449    0.43    TRUE \n",
       "7 Uranus  Gas giant  4.007   -0.72    TRUE \n",
       "8 Neptune Gas giant  3.883    0.67    TRUE "
      ]
     },
     "metadata": {},
     "output_type": "display_data"
    }
   ],
   "source": [
    "# Selecciona sólo los planetas que tienen anillos\n",
    "planets_with_rings_df <- planets_df[ planets_df$rings == 1 , ]\n",
    "planets_with_rings_df"
   ]
  },
  {
   "cell_type": "code",
   "execution_count": 57,
   "metadata": {},
   "outputs": [
    {
     "data": {
      "text/html": [
       "<table>\n",
       "<thead><tr><th scope=col>planets</th><th scope=col>type</th><th scope=col>rotation</th></tr></thead>\n",
       "<tbody>\n",
       "\t<tr><td>Mercury           </td><td>Terrestrial planet</td><td>  58.64           </td></tr>\n",
       "\t<tr><td>Venus             </td><td>Terrestrial planet</td><td>-243.02           </td></tr>\n",
       "\t<tr><td>Earth             </td><td>Terrestrial planet</td><td>   1.00           </td></tr>\n",
       "\t<tr><td>Mars              </td><td>Terrestrial planet</td><td>   1.03           </td></tr>\n",
       "\t<tr><td>Jupiter           </td><td>Gas giant         </td><td>   0.41           </td></tr>\n",
       "\t<tr><td>Saturn            </td><td>Gas giant         </td><td>   0.43           </td></tr>\n",
       "\t<tr><td>Uranus            </td><td>Gas giant         </td><td>  -0.72           </td></tr>\n",
       "\t<tr><td>Neptune           </td><td>Gas giant         </td><td>   0.67           </td></tr>\n",
       "</tbody>\n",
       "</table>\n"
      ],
      "text/latex": [
       "\\begin{tabular}{r|lll}\n",
       " planets & type & rotation\\\\\n",
       "\\hline\n",
       "\t Mercury            & Terrestrial planet &   58.64           \\\\\n",
       "\t Venus              & Terrestrial planet & -243.02           \\\\\n",
       "\t Earth              & Terrestrial planet &    1.00           \\\\\n",
       "\t Mars               & Terrestrial planet &    1.03           \\\\\n",
       "\t Jupiter            & Gas giant          &    0.41           \\\\\n",
       "\t Saturn             & Gas giant          &    0.43           \\\\\n",
       "\t Uranus             & Gas giant          &   -0.72           \\\\\n",
       "\t Neptune            & Gas giant          &    0.67           \\\\\n",
       "\\end{tabular}\n"
      ],
      "text/markdown": [
       "\n",
       "planets | type | rotation | \n",
       "|---|---|---|---|---|---|---|---|\n",
       "| Mercury            | Terrestrial planet |   58.64            | \n",
       "| Venus              | Terrestrial planet | -243.02            | \n",
       "| Earth              | Terrestrial planet |    1.00            | \n",
       "| Mars               | Terrestrial planet |    1.03            | \n",
       "| Jupiter            | Gas giant          |    0.41            | \n",
       "| Saturn             | Gas giant          |    0.43            | \n",
       "| Uranus             | Gas giant          |   -0.72            | \n",
       "| Neptune            | Gas giant          |    0.67            | \n",
       "\n",
       "\n"
      ],
      "text/plain": [
       "  planets type               rotation\n",
       "1 Mercury Terrestrial planet   58.64 \n",
       "2 Venus   Terrestrial planet -243.02 \n",
       "3 Earth   Terrestrial planet    1.00 \n",
       "4 Mars    Terrestrial planet    1.03 \n",
       "5 Jupiter Gas giant             0.41 \n",
       "6 Saturn  Gas giant             0.43 \n",
       "7 Uranus  Gas giant            -0.72 \n",
       "8 Neptune Gas giant             0.67 "
      ]
     },
     "metadata": {},
     "output_type": "display_data"
    }
   ],
   "source": [
    "# Selecciona los planetas que tienen un diametro inferior al de la tierra (aquellos que tienen diametro < 1, \n",
    "# puesto que la variable es relativa al diametro de la tierra)\n",
    "small_planets_df  <- planets_df[ planets_df$diameter < 1]\n",
    "small_planets_df"
   ]
  },
  {
   "cell_type": "code",
   "execution_count": 58,
   "metadata": {},
   "outputs": [
    {
     "data": {
      "text/html": [
       "<ol class=list-inline>\n",
       "\t<li>3</li>\n",
       "\t<li>1</li>\n",
       "\t<li>2</li>\n",
       "</ol>\n"
      ],
      "text/latex": [
       "\\begin{enumerate*}\n",
       "\\item 3\n",
       "\\item 1\n",
       "\\item 2\n",
       "\\end{enumerate*}\n"
      ],
      "text/markdown": [
       "1. 3\n",
       "2. 1\n",
       "3. 2\n",
       "\n",
       "\n"
      ],
      "text/plain": [
       "[1] 3 1 2"
      ]
     },
     "metadata": {},
     "output_type": "display_data"
    },
    {
     "data": {
      "text/html": [
       "<ol class=list-inline>\n",
       "\t<li>3</li>\n",
       "\t<li>4</li>\n",
       "\t<li>10</li>\n",
       "</ol>\n"
      ],
      "text/latex": [
       "\\begin{enumerate*}\n",
       "\\item 3\n",
       "\\item 4\n",
       "\\item 10\n",
       "\\end{enumerate*}\n"
      ],
      "text/markdown": [
       "1. 3\n",
       "2. 4\n",
       "3. 10\n",
       "\n",
       "\n"
      ],
      "text/plain": [
       "[1]  3  4 10"
      ]
     },
     "metadata": {},
     "output_type": "display_data"
    }
   ],
   "source": [
    "# La función order devuelve las posiciones de un vector ordenado ascendentemente\n",
    "a <- c(4, 10, 3)\n",
    "order(a)\n",
    "a[order(a)]"
   ]
  },
  {
   "cell_type": "code",
   "execution_count": 60,
   "metadata": {},
   "outputs": [
    {
     "data": {
      "text/html": [
       "<ol class=list-inline>\n",
       "\t<li>1</li>\n",
       "\t<li>4</li>\n",
       "\t<li>2</li>\n",
       "\t<li>3</li>\n",
       "\t<li>8</li>\n",
       "\t<li>7</li>\n",
       "\t<li>6</li>\n",
       "\t<li>5</li>\n",
       "</ol>\n"
      ],
      "text/latex": [
       "\\begin{enumerate*}\n",
       "\\item 1\n",
       "\\item 4\n",
       "\\item 2\n",
       "\\item 3\n",
       "\\item 8\n",
       "\\item 7\n",
       "\\item 6\n",
       "\\item 5\n",
       "\\end{enumerate*}\n"
      ],
      "text/markdown": [
       "1. 1\n",
       "2. 4\n",
       "3. 2\n",
       "4. 3\n",
       "5. 8\n",
       "6. 7\n",
       "7. 6\n",
       "8. 5\n",
       "\n",
       "\n"
      ],
      "text/plain": [
       "[1] 1 4 2 3 8 7 6 5"
      ]
     },
     "metadata": {},
     "output_type": "display_data"
    }
   ],
   "source": [
    "# Ordena el data frame según el diametro de los planetas ascendentemente\n",
    "positions <- order(planets_df$diameter)\n",
    "positions"
   ]
  },
  {
   "cell_type": "code",
   "execution_count": null,
   "metadata": {},
   "outputs": [],
   "source": [
    "largest_first_df <- plane\n",
    "largest_first_df"
   ]
  }
 ],
 "metadata": {
  "kernelspec": {
   "display_name": "R",
   "language": "R",
   "name": "ir"
  },
  "language_info": {
   "codemirror_mode": "r",
   "file_extension": ".r",
   "mimetype": "text/x-r-source",
   "name": "R",
   "pygments_lexer": "r",
   "version": "3.5.1"
  }
 },
 "nbformat": 4,
 "nbformat_minor": 2
}
